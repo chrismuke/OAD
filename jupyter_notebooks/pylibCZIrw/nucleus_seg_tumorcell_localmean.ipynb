{
 "cells": [
  {
   "cell_type": "code",
   "id": "cfef297e-c1c4-4fdc-a759-46843905d63d",
   "metadata": {
    "ExecuteTime": {
     "end_time": "2024-06-19T08:05:44.044208Z",
     "start_time": "2024-06-19T08:05:41.945035Z"
    }
   },
   "source": [
    "from pylibCZIrw import czi as pyczi\n",
    "import json\n",
    "from matplotlib import pyplot as plt\n",
    "import matplotlib.cm as cm\n",
    "import numpy as np\n",
    "from numpy import ma\n",
    "import os, sys\n",
    "from tqdm import tqdm\n",
    "from tqdm.contrib import itertools as it\n",
    "from matplotlib.patches import Rectangle\n",
    "from matplotlib.colors import LinearSegmentedColormap\n",
    "from cellpose import utils\n",
    "import cv2\n",
    "from scipy import ndimage\n",
    "from pathlib import Path\n",
    "import pandas as pd\n",
    "from skimage import io, exposure, morphology\n",
    "\n",
    "\n",
    "# show the used python env\n",
    "print(\"Using:\", sys.executable)"
   ],
   "outputs": [
    {
     "name": "stdout",
     "output_type": "stream",
     "text": [
      "Using: /home/chrism/miniconda3/envs/cellpose3/bin/python\n"
     ]
    }
   ],
   "execution_count": 1
  },
  {
   "cell_type": "code",
   "id": "5de14996c767b0dd",
   "metadata": {
    "collapsed": false,
    "jupyter": {
     "outputs_hidden": false
    },
    "ExecuteTime": {
     "end_time": "2024-06-19T08:08:54.600242Z",
     "start_time": "2024-06-19T08:05:44.044878Z"
    }
   },
   "source": [
    "import shutil\n",
    "\n",
    "# nuclei extration\n",
    "debug = False\n",
    "border = 2\n",
    "selem_val = 2\n",
    "selem = morphology.disk(selem_val) \n",
    "\n",
    "data_path = Path('/home/chrism/datasets/dapidl/train/tumorcell')\n",
    "\n",
    "colors_blue = [(0, 0, 0), (0, 0, 1)]\n",
    "cm_blue = LinearSegmentedColormap.from_list(\"Custom\", colors_blue, N=255)\n",
    "\n",
    "colors_red = [(0, 0, 0), (1, 0, 0)]\n",
    "cm_red = LinearSegmentedColormap.from_list(\"Custom\", colors_red, N=255)\n",
    "\n",
    "colors_green = [(0, 0, 0), (0, 1, 0)] \n",
    "cm_green = LinearSegmentedColormap.from_list(\"Custom\", colors_green, N=255)\n",
    "\n",
    "colors_white = [(0, 0, 0), (1, 1, 1)] \n",
    "cm_white = LinearSegmentedColormap.from_list(\"Custom\", colors_white, N=255)\n",
    "\n",
    "# for deepred_threshold in np.arange(900.0, 2000.0, 50.0):\n",
    "for correction_factor in np.arange(0.8, 1.2, 0.02):\n",
    "    area_pixel = 0.512 * 0.512\n",
    "    nuclei_path = data_path / \"nuclei\"\n",
    "    cells_path = data_path / \"cells\"\n",
    "    czi_path = data_path / \"czi\"\n",
    "    exclude_path = data_path / \"exclude\"\n",
    "    debug_path = data_path / \"debug\"\n",
    "    classification_path = data_path / f\"classification_localmean_border{border}_selem{selem_val}_{correction_factor:.2f}\"\n",
    "    nuclei_tumorcells_path = data_path / f\"nuclei_tumorcells_localmean_border{border}_selem{selem_val}_{correction_factor:.2f}\"\n",
    "    results = []\n",
    "    \n",
    "    for nuclei_masks_file in nuclei_path.glob(\"**/*.npy\"):\n",
    "        print(nuclei_masks_file)\n",
    "        slide = nuclei_masks_file.parent.parts[-1]\n",
    "        group = nuclei_masks_file.parent.parts[-2]\n",
    "        \n",
    "        exclude_masks = exclude_path / nuclei_masks_file.name\n",
    "        if not exclude_masks.exists():\n",
    "            print(f\"{exclude_masks} does not exist. Skipping ...\")\n",
    "            continue\n",
    "            \n",
    "        czi_file_name = nuclei_masks_file.name[0:-8] + '.czi'\n",
    "        czi_file = czi_path / czi_file_name\n",
    "        if not czi_file.exists():\n",
    "            print(f\"{czi_file} does not exist. Skipping ...\")\n",
    "            continue\n",
    "            \n",
    "        # cells_masks = cells_path / nuclei_masks_file.name\n",
    "        # if not cells_masks.exists():\n",
    "        #     print(f\"{cells_masks} does not exist. Skipping ...\")\n",
    "        #     continue\n",
    "        \n",
    "\n",
    "        nuclei_seg = np.load(nuclei_masks_file, allow_pickle=True).item()\n",
    "        nuclei_masks = nuclei_seg[\"masks\"]\n",
    "        num_nuclei = nuclei_masks.max()\n",
    "        \n",
    "        exclude_seg = np.load(exclude_masks, allow_pickle=True).item()\n",
    "        exclude_masks = exclude_seg[\"masks\"] > 0\n",
    "\n",
    "        # cells_seg = np.load(cells_masks, allow_pickle=True).item()\n",
    "        # cells_masks = cells_seg[\"masks\"]\n",
    "        # num_cells = cells_masks.max()\n",
    "        \n",
    "        num_pixels = exclude_masks.shape[0] * exclude_masks.shape[1] - np.count_nonzero(exclude_masks)\n",
    "        area = num_pixels * area_pixel\n",
    "        # print(area)\n",
    "        nuclei_per_um2 = num_nuclei / area\n",
    "        # print(cells_per_um2)\n",
    "\n",
    "        with pyczi.open_czi(str(czi_file)) as czidoc:\n",
    "            ch0 = czidoc.read(plane={'C': 0})\n",
    "            dapi = ch0[..., 0]\n",
    "            ch1 = czidoc.read(plane={'C': 1})\n",
    "            mrc1 = ch1[..., 0]\n",
    "\n",
    "        if debug:\n",
    "            # d_slices = utils.find_objects(masks)\n",
    "            # d_mrc1 = mrc1.copy()\n",
    "            # for i,si in enumerate(slices):\n",
    "            #     if si is not None:\n",
    "            #         sr,sc = si\n",
    "            #         mask = (masks[sr, sc] == (i+1)).astype(np.uint8)\n",
    "            #         contours = cv2.findContours(mask, cv2.RETR_EXTERNAL, cv2.CHAIN_APPROX_NONE)\n",
    "            #         ax.contours(\n",
    "            #         d_mrc1 = cv2.drawContours(d_mrc1, contours, -1, (0, 255, 0), 2)\n",
    "                    \n",
    "            plt.ioff()\n",
    "            fig, ax = plt.subplots(figsize=(13, 10))\n",
    "            ax.imshow(mrc1, cmap=cm_red)\n",
    "\n",
    "       \n",
    "        slices = utils.find_objects(nuclei_masks)\n",
    "        nuclei_centers = ndimage.center_of_mass(dapi, nuclei_masks, index=np.arange(1, num_nuclei + 1))\n",
    "\n",
    "        for i, (si, (row, col)) in enumerate(zip(slices, nuclei_centers)): \n",
    "            sr, sc = si\n",
    "            if sr.start - border >= 0:\n",
    "                sr_start = sr.start - border\n",
    "            else:\n",
    "                sr_start = sr.start\n",
    "            if sr.stop + border < 1040:\n",
    "                sr_stop = sr.stop + border\n",
    "            else:\n",
    "                sr_stop = sr.stop\n",
    "            if sc.start - border >= 0:\n",
    "                sc_start = sc.start - border\n",
    "            else:\n",
    "                sc_start = sc.start\n",
    "            if sc.stop + border < 1388:\n",
    "                sc_stop = sc.stop + border\n",
    "            else:\n",
    "                sc_stop = sc.stop\n",
    "            mask = nuclei_masks[sr_start:sr_stop, sc_start:sc_stop] != (i+1)\n",
    "\n",
    "            inner = morphology.dilation(mask, selem)\n",
    "            bigger = morphology.erosion(mask, selem)\n",
    "            outer = np.invert(inner ^ bigger)\n",
    "            \n",
    "            dapi_ma = ma.masked_array(dapi[sr_start:sr_stop, sc_start:sc_stop], mask)\n",
    "            mrc1_ma = ma.masked_array(mrc1[sr_start:sr_stop, sc_start:sc_stop], mask)\n",
    "            mrc1_ma_inner = ma.masked_array(mrc1[sr_start:sr_stop, sc_start:sc_stop], inner)\n",
    "            mrc1_ma_outer = ma.masked_array(mrc1[sr_start:sr_stop, sc_start:sc_stop], outer)\n",
    "            nucleus_mask = np.ones(nuclei_masks.shape, dtype=bool)\n",
    "            nucleus_mask[sr_start:sr_stop, sc_start:sc_stop] = mask\n",
    "            if np.any((nuclei_masks == i+1) & exclude_masks):\n",
    "                # print(f\"Nucleus {i+1} intersecting exclude region. Skipping ...\")\n",
    "                nuclei_masks[np.invert(nucleus_mask)] = 0\n",
    "                continue\n",
    "            if si is None:\n",
    "                print(f\"Nucleus {i+1} no si. Skipping ...\")\n",
    "                nuclei_masks[np.invert(nucleus_mask)] = 0\n",
    "                continue\n",
    "           \n",
    "\n",
    "            mrc1mean = mrc1_ma.mean()\n",
    "            outermean = mrc1_ma_outer.mean()\n",
    "            innermean = mrc1_ma_inner.mean()\n",
    "            \n",
    "            if innermean > correction_factor * outermean:\n",
    "                nucleus_class = \"tumorcell\"\n",
    "                nuclei_masks[np.invert(nucleus_mask)] = 1\n",
    "            else:\n",
    "                nucleus_class = \"other\"\n",
    "                nuclei_masks[np.invert(nucleus_mask)] = 2\n",
    "            \n",
    "            # print(row, col)\n",
    "            row = round(row)\n",
    "            col = round(col)\n",
    "            \n",
    "            # save image\n",
    "\n",
    "            im12 = dapi_ma.filled(0)\n",
    "            # im8 = exposure.rescale_intensity(im12, in_range=(0, 2**12), out_range=np.uint8)\n",
    "            im8 = exposure.rescale_intensity(dapi[sr, sc], in_range=(0, 2**12), out_range=np.uint8)\n",
    "            png_file_name = f\"{czi_file_name}_{i:0>6}.png\"\n",
    "            png_file_path = classification_path / nucleus_class / png_file_name\n",
    "            if not png_file_path.parent.exists():\n",
    "                png_file_path.parent.mkdir(parents=True, exist_ok=True)\n",
    "            io.imsave(png_file_path, im8)\n",
    "            results_row = {'czi': czi_file_name, 'nucleus_no': i, 'class': nucleus_class, 'filename': png_file_name, 'mean(dapi)': dapi_ma.mean(), 'mean(deepred)': mrc1mean, 'area nucleus': mask.sum(), 'pos nucleus': f'{row},{col}'}\n",
    "            results.append(results_row)\n",
    "\n",
    "            if debug:\n",
    "                ax.text(col, row, str(i), color=\"white\")\n",
    "                ax.scatter(col, row, c=\"yellow\", marker=\".\")\n",
    "                # d_mask = (cell_masks[sr, sc] == (i+1)).astype(np.uint8)\n",
    "                # d_contours, _ = cv2.findContours(d_mask, cv2.RETR_EXTERNAL, cv2.CHAIN_APPROX_NONE)\n",
    "                # d_contours, _ = cv2.findContours(d_mask, cv2.RETR_LIST, cv2.CHAIN_APPROX_NONE)\n",
    "                # d_contour = d_contours[0]\n",
    "                \n",
    "                # M = cv2.moments(d_contour)\n",
    "                # x = int(M[\"m10\"] / M[\"m00\"])\n",
    "                # y = int(M[\"m01\"] / M[\"m00\"])\n",
    "                \n",
    "                # xs = [v[0][0] - x for v in d_contour]\n",
    "                # ys = [-(v[0][1] - y) for v in d_contour]\n",
    "                \n",
    "                # ax.plot(xs, ys, color=\"green\")\n",
    "        \n",
    "        nuclei_seg[\"masks\"] = nuclei_masks\n",
    "        if not nuclei_tumorcells_path.exists():\n",
    "            nuclei_tumorcells_path.mkdir(parents=True, exist_ok=True)\n",
    "        np.save(nuclei_tumorcells_path / nuclei_masks_file.name, nuclei_seg)\n",
    "        nuclei_tif_file_name = nuclei_masks_file.name[:-8] + \".tif\"\n",
    "        \n",
    "        shutil.copy(nuclei_path / nuclei_tif_file_name, nuclei_tumorcells_path / nuclei_tif_file_name)\n",
    "        \n",
    "\n",
    "        if debug:\n",
    "            debug_file_name = nuclei_masks_file.name + \".png\"\n",
    "            debug_file = debug_path / debug_file_name\n",
    "            debug_file.parent.mkdir(parents=True, exist_ok=True)\n",
    "            fig.savefig(str(debug_file))\n",
    "            plt.close(fig)\n",
    "            plt.ion()\n",
    "            \n",
    "        \n",
    "    df = pd.DataFrame(results)\n",
    "    out_fn = f\"results_nuclei_localmean_border{border}_selem{selem_val}_{correction_factor:.2f}.xlsx\"\n",
    "    df.to_excel(data_path / out_fn)"
   ],
   "outputs": [
    {
     "name": "stdout",
     "output_type": "stream",
     "text": [
      "/home/chrism/datasets/dapidl/train/tumorcell/nuclei/ext1___Snap-159095_seg.npy\n",
      "/home/chrism/datasets/dapidl/train/tumorcell/nuclei/hs3st1___Snap-159279_seg.npy\n",
      "/home/chrism/datasets/dapidl/train/tumorcell/nuclei/hs6st1___Snap-159326_seg.npy\n",
      "/home/chrism/datasets/dapidl/train/tumorcell/nuclei/hs6st1___Snap-159322_seg.npy\n"
     ]
    },
    {
     "name": "stderr",
     "output_type": "stream",
     "text": [
      "/tmp/ipykernel_42767/246710543.py:163: UserWarning: /home/chrism/datasets/dapidl/train/tumorcell/classification_localmean_border2_selem2_0.80/tumorcell/hs6st1___Snap-159322.czi_001342.png is a low contrast image\n",
      "  io.imsave(png_file_path, im8)\n"
     ]
    },
    {
     "name": "stdout",
     "output_type": "stream",
     "text": [
      "/home/chrism/datasets/dapidl/train/tumorcell/nuclei/hs6st1___Snap-159319_seg.npy\n"
     ]
    },
    {
     "name": "stderr",
     "output_type": "stream",
     "text": [
      "/tmp/ipykernel_42767/246710543.py:163: UserWarning: /home/chrism/datasets/dapidl/train/tumorcell/classification_localmean_border2_selem2_0.80/tumorcell/hs6st1___Snap-159319.czi_001123.png is a low contrast image\n",
      "  io.imsave(png_file_path, im8)\n"
     ]
    },
    {
     "name": "stdout",
     "output_type": "stream",
     "text": [
      "/home/chrism/datasets/dapidl/train/tumorcell/nuclei/ext1___Snap-159093_seg.npy\n"
     ]
    },
    {
     "name": "stderr",
     "output_type": "stream",
     "text": [
      "/tmp/ipykernel_42767/246710543.py:163: UserWarning: /home/chrism/datasets/dapidl/train/tumorcell/classification_localmean_border2_selem2_0.80/tumorcell/ext1___Snap-159093.czi_001191.png is a low contrast image\n",
      "  io.imsave(png_file_path, im8)\n"
     ]
    },
    {
     "name": "stdout",
     "output_type": "stream",
     "text": [
      "/home/chrism/datasets/dapidl/train/tumorcell/nuclei/hs6st1___Snap-159323_seg.npy\n"
     ]
    },
    {
     "name": "stderr",
     "output_type": "stream",
     "text": [
      "/tmp/ipykernel_42767/246710543.py:163: UserWarning: /home/chrism/datasets/dapidl/train/tumorcell/classification_localmean_border2_selem2_0.80/tumorcell/hs6st1___Snap-159323.czi_000560.png is a low contrast image\n",
      "  io.imsave(png_file_path, im8)\n",
      "/tmp/ipykernel_42767/246710543.py:163: UserWarning: /home/chrism/datasets/dapidl/train/tumorcell/classification_localmean_border2_selem2_0.80/tumorcell/hs6st1___Snap-159323.czi_000732.png is a low contrast image\n",
      "  io.imsave(png_file_path, im8)\n"
     ]
    },
    {
     "name": "stdout",
     "output_type": "stream",
     "text": [
      "/home/chrism/datasets/dapidl/train/tumorcell/nuclei/hs3st1___Snap-159095_seg.npy\n",
      "/home/chrism/datasets/dapidl/train/tumorcell/nuclei/hs3st1___Snap-159281_seg.npy\n",
      "/home/chrism/datasets/dapidl/train/tumorcell/nuclei/hs3st1___Snap-159097_seg.npy\n"
     ]
    },
    {
     "name": "stderr",
     "output_type": "stream",
     "text": [
      "/tmp/ipykernel_42767/246710543.py:163: UserWarning: /home/chrism/datasets/dapidl/train/tumorcell/classification_localmean_border2_selem2_0.80/tumorcell/hs3st1___Snap-159097.czi_001195.png is a low contrast image\n",
      "  io.imsave(png_file_path, im8)\n"
     ]
    },
    {
     "name": "stdout",
     "output_type": "stream",
     "text": [
      "/home/chrism/datasets/dapidl/train/tumorcell/nuclei/ext1___Snap-159095_seg.npy\n",
      "/home/chrism/datasets/dapidl/train/tumorcell/nuclei/hs3st1___Snap-159279_seg.npy\n",
      "/home/chrism/datasets/dapidl/train/tumorcell/nuclei/hs6st1___Snap-159326_seg.npy\n",
      "/home/chrism/datasets/dapidl/train/tumorcell/nuclei/hs6st1___Snap-159322_seg.npy\n"
     ]
    },
    {
     "name": "stderr",
     "output_type": "stream",
     "text": [
      "/tmp/ipykernel_42767/246710543.py:163: UserWarning: /home/chrism/datasets/dapidl/train/tumorcell/classification_localmean_border2_selem2_0.82/tumorcell/hs6st1___Snap-159322.czi_001342.png is a low contrast image\n",
      "  io.imsave(png_file_path, im8)\n"
     ]
    },
    {
     "name": "stdout",
     "output_type": "stream",
     "text": [
      "/home/chrism/datasets/dapidl/train/tumorcell/nuclei/hs6st1___Snap-159319_seg.npy\n"
     ]
    },
    {
     "name": "stderr",
     "output_type": "stream",
     "text": [
      "/tmp/ipykernel_42767/246710543.py:163: UserWarning: /home/chrism/datasets/dapidl/train/tumorcell/classification_localmean_border2_selem2_0.82/tumorcell/hs6st1___Snap-159319.czi_001123.png is a low contrast image\n",
      "  io.imsave(png_file_path, im8)\n"
     ]
    },
    {
     "name": "stdout",
     "output_type": "stream",
     "text": [
      "/home/chrism/datasets/dapidl/train/tumorcell/nuclei/ext1___Snap-159093_seg.npy\n"
     ]
    },
    {
     "name": "stderr",
     "output_type": "stream",
     "text": [
      "/tmp/ipykernel_42767/246710543.py:163: UserWarning: /home/chrism/datasets/dapidl/train/tumorcell/classification_localmean_border2_selem2_0.82/tumorcell/ext1___Snap-159093.czi_001191.png is a low contrast image\n",
      "  io.imsave(png_file_path, im8)\n"
     ]
    },
    {
     "name": "stdout",
     "output_type": "stream",
     "text": [
      "/home/chrism/datasets/dapidl/train/tumorcell/nuclei/hs6st1___Snap-159323_seg.npy\n"
     ]
    },
    {
     "name": "stderr",
     "output_type": "stream",
     "text": [
      "/tmp/ipykernel_42767/246710543.py:163: UserWarning: /home/chrism/datasets/dapidl/train/tumorcell/classification_localmean_border2_selem2_0.82/tumorcell/hs6st1___Snap-159323.czi_000560.png is a low contrast image\n",
      "  io.imsave(png_file_path, im8)\n",
      "/tmp/ipykernel_42767/246710543.py:163: UserWarning: /home/chrism/datasets/dapidl/train/tumorcell/classification_localmean_border2_selem2_0.82/tumorcell/hs6st1___Snap-159323.czi_000732.png is a low contrast image\n",
      "  io.imsave(png_file_path, im8)\n"
     ]
    },
    {
     "name": "stdout",
     "output_type": "stream",
     "text": [
      "/home/chrism/datasets/dapidl/train/tumorcell/nuclei/hs3st1___Snap-159095_seg.npy\n",
      "/home/chrism/datasets/dapidl/train/tumorcell/nuclei/hs3st1___Snap-159281_seg.npy\n",
      "/home/chrism/datasets/dapidl/train/tumorcell/nuclei/hs3st1___Snap-159097_seg.npy\n"
     ]
    },
    {
     "name": "stderr",
     "output_type": "stream",
     "text": [
      "/tmp/ipykernel_42767/246710543.py:163: UserWarning: /home/chrism/datasets/dapidl/train/tumorcell/classification_localmean_border2_selem2_0.82/tumorcell/hs3st1___Snap-159097.czi_001195.png is a low contrast image\n",
      "  io.imsave(png_file_path, im8)\n"
     ]
    },
    {
     "name": "stdout",
     "output_type": "stream",
     "text": [
      "/home/chrism/datasets/dapidl/train/tumorcell/nuclei/ext1___Snap-159095_seg.npy\n",
      "/home/chrism/datasets/dapidl/train/tumorcell/nuclei/hs3st1___Snap-159279_seg.npy\n",
      "/home/chrism/datasets/dapidl/train/tumorcell/nuclei/hs6st1___Snap-159326_seg.npy\n",
      "/home/chrism/datasets/dapidl/train/tumorcell/nuclei/hs6st1___Snap-159322_seg.npy\n"
     ]
    },
    {
     "name": "stderr",
     "output_type": "stream",
     "text": [
      "/tmp/ipykernel_42767/246710543.py:163: UserWarning: /home/chrism/datasets/dapidl/train/tumorcell/classification_localmean_border2_selem2_0.84/tumorcell/hs6st1___Snap-159322.czi_001342.png is a low contrast image\n",
      "  io.imsave(png_file_path, im8)\n"
     ]
    },
    {
     "name": "stdout",
     "output_type": "stream",
     "text": [
      "/home/chrism/datasets/dapidl/train/tumorcell/nuclei/hs6st1___Snap-159319_seg.npy\n"
     ]
    },
    {
     "name": "stderr",
     "output_type": "stream",
     "text": [
      "/tmp/ipykernel_42767/246710543.py:163: UserWarning: /home/chrism/datasets/dapidl/train/tumorcell/classification_localmean_border2_selem2_0.84/tumorcell/hs6st1___Snap-159319.czi_001123.png is a low contrast image\n",
      "  io.imsave(png_file_path, im8)\n"
     ]
    },
    {
     "name": "stdout",
     "output_type": "stream",
     "text": [
      "/home/chrism/datasets/dapidl/train/tumorcell/nuclei/ext1___Snap-159093_seg.npy\n"
     ]
    },
    {
     "name": "stderr",
     "output_type": "stream",
     "text": [
      "/tmp/ipykernel_42767/246710543.py:163: UserWarning: /home/chrism/datasets/dapidl/train/tumorcell/classification_localmean_border2_selem2_0.84/tumorcell/ext1___Snap-159093.czi_001191.png is a low contrast image\n",
      "  io.imsave(png_file_path, im8)\n"
     ]
    },
    {
     "name": "stdout",
     "output_type": "stream",
     "text": [
      "/home/chrism/datasets/dapidl/train/tumorcell/nuclei/hs6st1___Snap-159323_seg.npy\n"
     ]
    },
    {
     "name": "stderr",
     "output_type": "stream",
     "text": [
      "/tmp/ipykernel_42767/246710543.py:163: UserWarning: /home/chrism/datasets/dapidl/train/tumorcell/classification_localmean_border2_selem2_0.84/tumorcell/hs6st1___Snap-159323.czi_000560.png is a low contrast image\n",
      "  io.imsave(png_file_path, im8)\n",
      "/tmp/ipykernel_42767/246710543.py:163: UserWarning: /home/chrism/datasets/dapidl/train/tumorcell/classification_localmean_border2_selem2_0.84/tumorcell/hs6st1___Snap-159323.czi_000732.png is a low contrast image\n",
      "  io.imsave(png_file_path, im8)\n"
     ]
    },
    {
     "name": "stdout",
     "output_type": "stream",
     "text": [
      "/home/chrism/datasets/dapidl/train/tumorcell/nuclei/hs3st1___Snap-159095_seg.npy\n",
      "/home/chrism/datasets/dapidl/train/tumorcell/nuclei/hs3st1___Snap-159281_seg.npy\n",
      "/home/chrism/datasets/dapidl/train/tumorcell/nuclei/hs3st1___Snap-159097_seg.npy\n"
     ]
    },
    {
     "name": "stderr",
     "output_type": "stream",
     "text": [
      "/tmp/ipykernel_42767/246710543.py:163: UserWarning: /home/chrism/datasets/dapidl/train/tumorcell/classification_localmean_border2_selem2_0.84/tumorcell/hs3st1___Snap-159097.czi_001195.png is a low contrast image\n",
      "  io.imsave(png_file_path, im8)\n"
     ]
    },
    {
     "name": "stdout",
     "output_type": "stream",
     "text": [
      "/home/chrism/datasets/dapidl/train/tumorcell/nuclei/ext1___Snap-159095_seg.npy\n",
      "/home/chrism/datasets/dapidl/train/tumorcell/nuclei/hs3st1___Snap-159279_seg.npy\n",
      "/home/chrism/datasets/dapidl/train/tumorcell/nuclei/hs6st1___Snap-159326_seg.npy\n",
      "/home/chrism/datasets/dapidl/train/tumorcell/nuclei/hs6st1___Snap-159322_seg.npy\n"
     ]
    },
    {
     "name": "stderr",
     "output_type": "stream",
     "text": [
      "/tmp/ipykernel_42767/246710543.py:163: UserWarning: /home/chrism/datasets/dapidl/train/tumorcell/classification_localmean_border2_selem2_0.86/tumorcell/hs6st1___Snap-159322.czi_001342.png is a low contrast image\n",
      "  io.imsave(png_file_path, im8)\n"
     ]
    },
    {
     "name": "stdout",
     "output_type": "stream",
     "text": [
      "/home/chrism/datasets/dapidl/train/tumorcell/nuclei/hs6st1___Snap-159319_seg.npy\n"
     ]
    },
    {
     "name": "stderr",
     "output_type": "stream",
     "text": [
      "/tmp/ipykernel_42767/246710543.py:163: UserWarning: /home/chrism/datasets/dapidl/train/tumorcell/classification_localmean_border2_selem2_0.86/tumorcell/hs6st1___Snap-159319.czi_001123.png is a low contrast image\n",
      "  io.imsave(png_file_path, im8)\n"
     ]
    },
    {
     "name": "stdout",
     "output_type": "stream",
     "text": [
      "/home/chrism/datasets/dapidl/train/tumorcell/nuclei/ext1___Snap-159093_seg.npy\n"
     ]
    },
    {
     "name": "stderr",
     "output_type": "stream",
     "text": [
      "/tmp/ipykernel_42767/246710543.py:163: UserWarning: /home/chrism/datasets/dapidl/train/tumorcell/classification_localmean_border2_selem2_0.86/tumorcell/ext1___Snap-159093.czi_001191.png is a low contrast image\n",
      "  io.imsave(png_file_path, im8)\n"
     ]
    },
    {
     "name": "stdout",
     "output_type": "stream",
     "text": [
      "/home/chrism/datasets/dapidl/train/tumorcell/nuclei/hs6st1___Snap-159323_seg.npy\n"
     ]
    },
    {
     "name": "stderr",
     "output_type": "stream",
     "text": [
      "/tmp/ipykernel_42767/246710543.py:163: UserWarning: /home/chrism/datasets/dapidl/train/tumorcell/classification_localmean_border2_selem2_0.86/tumorcell/hs6st1___Snap-159323.czi_000560.png is a low contrast image\n",
      "  io.imsave(png_file_path, im8)\n",
      "/tmp/ipykernel_42767/246710543.py:163: UserWarning: /home/chrism/datasets/dapidl/train/tumorcell/classification_localmean_border2_selem2_0.86/tumorcell/hs6st1___Snap-159323.czi_000732.png is a low contrast image\n",
      "  io.imsave(png_file_path, im8)\n"
     ]
    },
    {
     "name": "stdout",
     "output_type": "stream",
     "text": [
      "/home/chrism/datasets/dapidl/train/tumorcell/nuclei/hs3st1___Snap-159095_seg.npy\n",
      "/home/chrism/datasets/dapidl/train/tumorcell/nuclei/hs3st1___Snap-159281_seg.npy\n",
      "/home/chrism/datasets/dapidl/train/tumorcell/nuclei/hs3st1___Snap-159097_seg.npy\n"
     ]
    },
    {
     "name": "stderr",
     "output_type": "stream",
     "text": [
      "/tmp/ipykernel_42767/246710543.py:163: UserWarning: /home/chrism/datasets/dapidl/train/tumorcell/classification_localmean_border2_selem2_0.86/tumorcell/hs3st1___Snap-159097.czi_001195.png is a low contrast image\n",
      "  io.imsave(png_file_path, im8)\n"
     ]
    },
    {
     "name": "stdout",
     "output_type": "stream",
     "text": [
      "/home/chrism/datasets/dapidl/train/tumorcell/nuclei/ext1___Snap-159095_seg.npy\n",
      "/home/chrism/datasets/dapidl/train/tumorcell/nuclei/hs3st1___Snap-159279_seg.npy\n",
      "/home/chrism/datasets/dapidl/train/tumorcell/nuclei/hs6st1___Snap-159326_seg.npy\n",
      "/home/chrism/datasets/dapidl/train/tumorcell/nuclei/hs6st1___Snap-159322_seg.npy\n"
     ]
    },
    {
     "name": "stderr",
     "output_type": "stream",
     "text": [
      "/tmp/ipykernel_42767/246710543.py:163: UserWarning: /home/chrism/datasets/dapidl/train/tumorcell/classification_localmean_border2_selem2_0.88/tumorcell/hs6st1___Snap-159322.czi_001342.png is a low contrast image\n",
      "  io.imsave(png_file_path, im8)\n"
     ]
    },
    {
     "name": "stdout",
     "output_type": "stream",
     "text": [
      "/home/chrism/datasets/dapidl/train/tumorcell/nuclei/hs6st1___Snap-159319_seg.npy\n"
     ]
    },
    {
     "name": "stderr",
     "output_type": "stream",
     "text": [
      "/tmp/ipykernel_42767/246710543.py:163: UserWarning: /home/chrism/datasets/dapidl/train/tumorcell/classification_localmean_border2_selem2_0.88/tumorcell/hs6st1___Snap-159319.czi_001123.png is a low contrast image\n",
      "  io.imsave(png_file_path, im8)\n"
     ]
    },
    {
     "name": "stdout",
     "output_type": "stream",
     "text": [
      "/home/chrism/datasets/dapidl/train/tumorcell/nuclei/ext1___Snap-159093_seg.npy\n"
     ]
    },
    {
     "name": "stderr",
     "output_type": "stream",
     "text": [
      "/tmp/ipykernel_42767/246710543.py:163: UserWarning: /home/chrism/datasets/dapidl/train/tumorcell/classification_localmean_border2_selem2_0.88/tumorcell/ext1___Snap-159093.czi_001191.png is a low contrast image\n",
      "  io.imsave(png_file_path, im8)\n"
     ]
    },
    {
     "name": "stdout",
     "output_type": "stream",
     "text": [
      "/home/chrism/datasets/dapidl/train/tumorcell/nuclei/hs6st1___Snap-159323_seg.npy\n"
     ]
    },
    {
     "name": "stderr",
     "output_type": "stream",
     "text": [
      "/tmp/ipykernel_42767/246710543.py:163: UserWarning: /home/chrism/datasets/dapidl/train/tumorcell/classification_localmean_border2_selem2_0.88/tumorcell/hs6st1___Snap-159323.czi_000560.png is a low contrast image\n",
      "  io.imsave(png_file_path, im8)\n",
      "/tmp/ipykernel_42767/246710543.py:163: UserWarning: /home/chrism/datasets/dapidl/train/tumorcell/classification_localmean_border2_selem2_0.88/tumorcell/hs6st1___Snap-159323.czi_000732.png is a low contrast image\n",
      "  io.imsave(png_file_path, im8)\n"
     ]
    },
    {
     "name": "stdout",
     "output_type": "stream",
     "text": [
      "/home/chrism/datasets/dapidl/train/tumorcell/nuclei/hs3st1___Snap-159095_seg.npy\n",
      "/home/chrism/datasets/dapidl/train/tumorcell/nuclei/hs3st1___Snap-159281_seg.npy\n",
      "/home/chrism/datasets/dapidl/train/tumorcell/nuclei/hs3st1___Snap-159097_seg.npy\n"
     ]
    },
    {
     "name": "stderr",
     "output_type": "stream",
     "text": [
      "/tmp/ipykernel_42767/246710543.py:163: UserWarning: /home/chrism/datasets/dapidl/train/tumorcell/classification_localmean_border2_selem2_0.88/tumorcell/hs3st1___Snap-159097.czi_001195.png is a low contrast image\n",
      "  io.imsave(png_file_path, im8)\n"
     ]
    },
    {
     "name": "stdout",
     "output_type": "stream",
     "text": [
      "/home/chrism/datasets/dapidl/train/tumorcell/nuclei/ext1___Snap-159095_seg.npy\n",
      "/home/chrism/datasets/dapidl/train/tumorcell/nuclei/hs3st1___Snap-159279_seg.npy\n",
      "/home/chrism/datasets/dapidl/train/tumorcell/nuclei/hs6st1___Snap-159326_seg.npy\n",
      "/home/chrism/datasets/dapidl/train/tumorcell/nuclei/hs6st1___Snap-159322_seg.npy\n"
     ]
    },
    {
     "name": "stderr",
     "output_type": "stream",
     "text": [
      "/tmp/ipykernel_42767/246710543.py:163: UserWarning: /home/chrism/datasets/dapidl/train/tumorcell/classification_localmean_border2_selem2_0.90/tumorcell/hs6st1___Snap-159322.czi_001342.png is a low contrast image\n",
      "  io.imsave(png_file_path, im8)\n"
     ]
    },
    {
     "name": "stdout",
     "output_type": "stream",
     "text": [
      "/home/chrism/datasets/dapidl/train/tumorcell/nuclei/hs6st1___Snap-159319_seg.npy\n"
     ]
    },
    {
     "name": "stderr",
     "output_type": "stream",
     "text": [
      "/tmp/ipykernel_42767/246710543.py:163: UserWarning: /home/chrism/datasets/dapidl/train/tumorcell/classification_localmean_border2_selem2_0.90/tumorcell/hs6st1___Snap-159319.czi_001123.png is a low contrast image\n",
      "  io.imsave(png_file_path, im8)\n"
     ]
    },
    {
     "name": "stdout",
     "output_type": "stream",
     "text": [
      "/home/chrism/datasets/dapidl/train/tumorcell/nuclei/ext1___Snap-159093_seg.npy\n"
     ]
    },
    {
     "name": "stderr",
     "output_type": "stream",
     "text": [
      "/tmp/ipykernel_42767/246710543.py:163: UserWarning: /home/chrism/datasets/dapidl/train/tumorcell/classification_localmean_border2_selem2_0.90/tumorcell/ext1___Snap-159093.czi_001191.png is a low contrast image\n",
      "  io.imsave(png_file_path, im8)\n"
     ]
    },
    {
     "name": "stdout",
     "output_type": "stream",
     "text": [
      "/home/chrism/datasets/dapidl/train/tumorcell/nuclei/hs6st1___Snap-159323_seg.npy\n"
     ]
    },
    {
     "name": "stderr",
     "output_type": "stream",
     "text": [
      "/tmp/ipykernel_42767/246710543.py:163: UserWarning: /home/chrism/datasets/dapidl/train/tumorcell/classification_localmean_border2_selem2_0.90/tumorcell/hs6st1___Snap-159323.czi_000560.png is a low contrast image\n",
      "  io.imsave(png_file_path, im8)\n",
      "/tmp/ipykernel_42767/246710543.py:163: UserWarning: /home/chrism/datasets/dapidl/train/tumorcell/classification_localmean_border2_selem2_0.90/tumorcell/hs6st1___Snap-159323.czi_000732.png is a low contrast image\n",
      "  io.imsave(png_file_path, im8)\n"
     ]
    },
    {
     "name": "stdout",
     "output_type": "stream",
     "text": [
      "/home/chrism/datasets/dapidl/train/tumorcell/nuclei/hs3st1___Snap-159095_seg.npy\n",
      "/home/chrism/datasets/dapidl/train/tumorcell/nuclei/hs3st1___Snap-159281_seg.npy\n",
      "/home/chrism/datasets/dapidl/train/tumorcell/nuclei/hs3st1___Snap-159097_seg.npy\n"
     ]
    },
    {
     "name": "stderr",
     "output_type": "stream",
     "text": [
      "/tmp/ipykernel_42767/246710543.py:163: UserWarning: /home/chrism/datasets/dapidl/train/tumorcell/classification_localmean_border2_selem2_0.90/tumorcell/hs3st1___Snap-159097.czi_001195.png is a low contrast image\n",
      "  io.imsave(png_file_path, im8)\n"
     ]
    },
    {
     "name": "stdout",
     "output_type": "stream",
     "text": [
      "/home/chrism/datasets/dapidl/train/tumorcell/nuclei/ext1___Snap-159095_seg.npy\n",
      "/home/chrism/datasets/dapidl/train/tumorcell/nuclei/hs3st1___Snap-159279_seg.npy\n",
      "/home/chrism/datasets/dapidl/train/tumorcell/nuclei/hs6st1___Snap-159326_seg.npy\n",
      "/home/chrism/datasets/dapidl/train/tumorcell/nuclei/hs6st1___Snap-159322_seg.npy\n"
     ]
    },
    {
     "name": "stderr",
     "output_type": "stream",
     "text": [
      "/tmp/ipykernel_42767/246710543.py:163: UserWarning: /home/chrism/datasets/dapidl/train/tumorcell/classification_localmean_border2_selem2_0.92/tumorcell/hs6st1___Snap-159322.czi_001342.png is a low contrast image\n",
      "  io.imsave(png_file_path, im8)\n"
     ]
    },
    {
     "name": "stdout",
     "output_type": "stream",
     "text": [
      "/home/chrism/datasets/dapidl/train/tumorcell/nuclei/hs6st1___Snap-159319_seg.npy\n"
     ]
    },
    {
     "name": "stderr",
     "output_type": "stream",
     "text": [
      "/tmp/ipykernel_42767/246710543.py:163: UserWarning: /home/chrism/datasets/dapidl/train/tumorcell/classification_localmean_border2_selem2_0.92/tumorcell/hs6st1___Snap-159319.czi_001123.png is a low contrast image\n",
      "  io.imsave(png_file_path, im8)\n"
     ]
    },
    {
     "name": "stdout",
     "output_type": "stream",
     "text": [
      "/home/chrism/datasets/dapidl/train/tumorcell/nuclei/ext1___Snap-159093_seg.npy\n"
     ]
    },
    {
     "name": "stderr",
     "output_type": "stream",
     "text": [
      "/tmp/ipykernel_42767/246710543.py:163: UserWarning: /home/chrism/datasets/dapidl/train/tumorcell/classification_localmean_border2_selem2_0.92/tumorcell/ext1___Snap-159093.czi_001191.png is a low contrast image\n",
      "  io.imsave(png_file_path, im8)\n"
     ]
    },
    {
     "name": "stdout",
     "output_type": "stream",
     "text": [
      "/home/chrism/datasets/dapidl/train/tumorcell/nuclei/hs6st1___Snap-159323_seg.npy\n"
     ]
    },
    {
     "name": "stderr",
     "output_type": "stream",
     "text": [
      "/tmp/ipykernel_42767/246710543.py:163: UserWarning: /home/chrism/datasets/dapidl/train/tumorcell/classification_localmean_border2_selem2_0.92/tumorcell/hs6st1___Snap-159323.czi_000560.png is a low contrast image\n",
      "  io.imsave(png_file_path, im8)\n",
      "/tmp/ipykernel_42767/246710543.py:163: UserWarning: /home/chrism/datasets/dapidl/train/tumorcell/classification_localmean_border2_selem2_0.92/tumorcell/hs6st1___Snap-159323.czi_000732.png is a low contrast image\n",
      "  io.imsave(png_file_path, im8)\n"
     ]
    },
    {
     "name": "stdout",
     "output_type": "stream",
     "text": [
      "/home/chrism/datasets/dapidl/train/tumorcell/nuclei/hs3st1___Snap-159095_seg.npy\n",
      "/home/chrism/datasets/dapidl/train/tumorcell/nuclei/hs3st1___Snap-159281_seg.npy\n",
      "/home/chrism/datasets/dapidl/train/tumorcell/nuclei/hs3st1___Snap-159097_seg.npy\n"
     ]
    },
    {
     "name": "stderr",
     "output_type": "stream",
     "text": [
      "/tmp/ipykernel_42767/246710543.py:163: UserWarning: /home/chrism/datasets/dapidl/train/tumorcell/classification_localmean_border2_selem2_0.92/tumorcell/hs3st1___Snap-159097.czi_001195.png is a low contrast image\n",
      "  io.imsave(png_file_path, im8)\n"
     ]
    },
    {
     "name": "stdout",
     "output_type": "stream",
     "text": [
      "/home/chrism/datasets/dapidl/train/tumorcell/nuclei/ext1___Snap-159095_seg.npy\n",
      "/home/chrism/datasets/dapidl/train/tumorcell/nuclei/hs3st1___Snap-159279_seg.npy\n",
      "/home/chrism/datasets/dapidl/train/tumorcell/nuclei/hs6st1___Snap-159326_seg.npy\n",
      "/home/chrism/datasets/dapidl/train/tumorcell/nuclei/hs6st1___Snap-159322_seg.npy\n"
     ]
    },
    {
     "name": "stderr",
     "output_type": "stream",
     "text": [
      "/tmp/ipykernel_42767/246710543.py:163: UserWarning: /home/chrism/datasets/dapidl/train/tumorcell/classification_localmean_border2_selem2_0.94/tumorcell/hs6st1___Snap-159322.czi_001342.png is a low contrast image\n",
      "  io.imsave(png_file_path, im8)\n"
     ]
    },
    {
     "name": "stdout",
     "output_type": "stream",
     "text": [
      "/home/chrism/datasets/dapidl/train/tumorcell/nuclei/hs6st1___Snap-159319_seg.npy\n"
     ]
    },
    {
     "name": "stderr",
     "output_type": "stream",
     "text": [
      "/tmp/ipykernel_42767/246710543.py:163: UserWarning: /home/chrism/datasets/dapidl/train/tumorcell/classification_localmean_border2_selem2_0.94/tumorcell/hs6st1___Snap-159319.czi_001123.png is a low contrast image\n",
      "  io.imsave(png_file_path, im8)\n"
     ]
    },
    {
     "name": "stdout",
     "output_type": "stream",
     "text": [
      "/home/chrism/datasets/dapidl/train/tumorcell/nuclei/ext1___Snap-159093_seg.npy\n"
     ]
    },
    {
     "name": "stderr",
     "output_type": "stream",
     "text": [
      "/tmp/ipykernel_42767/246710543.py:163: UserWarning: /home/chrism/datasets/dapidl/train/tumorcell/classification_localmean_border2_selem2_0.94/tumorcell/ext1___Snap-159093.czi_001191.png is a low contrast image\n",
      "  io.imsave(png_file_path, im8)\n"
     ]
    },
    {
     "name": "stdout",
     "output_type": "stream",
     "text": [
      "/home/chrism/datasets/dapidl/train/tumorcell/nuclei/hs6st1___Snap-159323_seg.npy\n"
     ]
    },
    {
     "name": "stderr",
     "output_type": "stream",
     "text": [
      "/tmp/ipykernel_42767/246710543.py:163: UserWarning: /home/chrism/datasets/dapidl/train/tumorcell/classification_localmean_border2_selem2_0.94/othercell/hs6st1___Snap-159323.czi_000560.png is a low contrast image\n",
      "  io.imsave(png_file_path, im8)\n",
      "/tmp/ipykernel_42767/246710543.py:163: UserWarning: /home/chrism/datasets/dapidl/train/tumorcell/classification_localmean_border2_selem2_0.94/tumorcell/hs6st1___Snap-159323.czi_000732.png is a low contrast image\n",
      "  io.imsave(png_file_path, im8)\n"
     ]
    },
    {
     "name": "stdout",
     "output_type": "stream",
     "text": [
      "/home/chrism/datasets/dapidl/train/tumorcell/nuclei/hs3st1___Snap-159095_seg.npy\n",
      "/home/chrism/datasets/dapidl/train/tumorcell/nuclei/hs3st1___Snap-159281_seg.npy\n",
      "/home/chrism/datasets/dapidl/train/tumorcell/nuclei/hs3st1___Snap-159097_seg.npy\n"
     ]
    },
    {
     "name": "stderr",
     "output_type": "stream",
     "text": [
      "/tmp/ipykernel_42767/246710543.py:163: UserWarning: /home/chrism/datasets/dapidl/train/tumorcell/classification_localmean_border2_selem2_0.94/tumorcell/hs3st1___Snap-159097.czi_001195.png is a low contrast image\n",
      "  io.imsave(png_file_path, im8)\n"
     ]
    },
    {
     "name": "stdout",
     "output_type": "stream",
     "text": [
      "/home/chrism/datasets/dapidl/train/tumorcell/nuclei/ext1___Snap-159095_seg.npy\n",
      "/home/chrism/datasets/dapidl/train/tumorcell/nuclei/hs3st1___Snap-159279_seg.npy\n",
      "/home/chrism/datasets/dapidl/train/tumorcell/nuclei/hs6st1___Snap-159326_seg.npy\n",
      "/home/chrism/datasets/dapidl/train/tumorcell/nuclei/hs6st1___Snap-159322_seg.npy\n"
     ]
    },
    {
     "name": "stderr",
     "output_type": "stream",
     "text": [
      "/tmp/ipykernel_42767/246710543.py:163: UserWarning: /home/chrism/datasets/dapidl/train/tumorcell/classification_localmean_border2_selem2_0.96/tumorcell/hs6st1___Snap-159322.czi_001342.png is a low contrast image\n",
      "  io.imsave(png_file_path, im8)\n"
     ]
    },
    {
     "name": "stdout",
     "output_type": "stream",
     "text": [
      "/home/chrism/datasets/dapidl/train/tumorcell/nuclei/hs6st1___Snap-159319_seg.npy\n"
     ]
    },
    {
     "name": "stderr",
     "output_type": "stream",
     "text": [
      "/tmp/ipykernel_42767/246710543.py:163: UserWarning: /home/chrism/datasets/dapidl/train/tumorcell/classification_localmean_border2_selem2_0.96/othercell/hs6st1___Snap-159319.czi_001123.png is a low contrast image\n",
      "  io.imsave(png_file_path, im8)\n"
     ]
    },
    {
     "name": "stdout",
     "output_type": "stream",
     "text": [
      "/home/chrism/datasets/dapidl/train/tumorcell/nuclei/ext1___Snap-159093_seg.npy\n"
     ]
    },
    {
     "name": "stderr",
     "output_type": "stream",
     "text": [
      "/tmp/ipykernel_42767/246710543.py:163: UserWarning: /home/chrism/datasets/dapidl/train/tumorcell/classification_localmean_border2_selem2_0.96/tumorcell/ext1___Snap-159093.czi_001191.png is a low contrast image\n",
      "  io.imsave(png_file_path, im8)\n"
     ]
    },
    {
     "name": "stdout",
     "output_type": "stream",
     "text": [
      "/home/chrism/datasets/dapidl/train/tumorcell/nuclei/hs6st1___Snap-159323_seg.npy\n"
     ]
    },
    {
     "name": "stderr",
     "output_type": "stream",
     "text": [
      "/tmp/ipykernel_42767/246710543.py:163: UserWarning: /home/chrism/datasets/dapidl/train/tumorcell/classification_localmean_border2_selem2_0.96/othercell/hs6st1___Snap-159323.czi_000560.png is a low contrast image\n",
      "  io.imsave(png_file_path, im8)\n",
      "/tmp/ipykernel_42767/246710543.py:163: UserWarning: /home/chrism/datasets/dapidl/train/tumorcell/classification_localmean_border2_selem2_0.96/tumorcell/hs6st1___Snap-159323.czi_000732.png is a low contrast image\n",
      "  io.imsave(png_file_path, im8)\n"
     ]
    },
    {
     "name": "stdout",
     "output_type": "stream",
     "text": [
      "/home/chrism/datasets/dapidl/train/tumorcell/nuclei/hs3st1___Snap-159095_seg.npy\n",
      "/home/chrism/datasets/dapidl/train/tumorcell/nuclei/hs3st1___Snap-159281_seg.npy\n",
      "/home/chrism/datasets/dapidl/train/tumorcell/nuclei/hs3st1___Snap-159097_seg.npy\n"
     ]
    },
    {
     "name": "stderr",
     "output_type": "stream",
     "text": [
      "/tmp/ipykernel_42767/246710543.py:163: UserWarning: /home/chrism/datasets/dapidl/train/tumorcell/classification_localmean_border2_selem2_0.96/tumorcell/hs3st1___Snap-159097.czi_001195.png is a low contrast image\n",
      "  io.imsave(png_file_path, im8)\n"
     ]
    },
    {
     "name": "stdout",
     "output_type": "stream",
     "text": [
      "/home/chrism/datasets/dapidl/train/tumorcell/nuclei/ext1___Snap-159095_seg.npy\n",
      "/home/chrism/datasets/dapidl/train/tumorcell/nuclei/hs3st1___Snap-159279_seg.npy\n",
      "/home/chrism/datasets/dapidl/train/tumorcell/nuclei/hs6st1___Snap-159326_seg.npy\n",
      "/home/chrism/datasets/dapidl/train/tumorcell/nuclei/hs6st1___Snap-159322_seg.npy\n"
     ]
    },
    {
     "name": "stderr",
     "output_type": "stream",
     "text": [
      "/tmp/ipykernel_42767/246710543.py:163: UserWarning: /home/chrism/datasets/dapidl/train/tumorcell/classification_localmean_border2_selem2_0.98/tumorcell/hs6st1___Snap-159322.czi_001342.png is a low contrast image\n",
      "  io.imsave(png_file_path, im8)\n"
     ]
    },
    {
     "name": "stdout",
     "output_type": "stream",
     "text": [
      "/home/chrism/datasets/dapidl/train/tumorcell/nuclei/hs6st1___Snap-159319_seg.npy\n"
     ]
    },
    {
     "name": "stderr",
     "output_type": "stream",
     "text": [
      "/tmp/ipykernel_42767/246710543.py:163: UserWarning: /home/chrism/datasets/dapidl/train/tumorcell/classification_localmean_border2_selem2_0.98/othercell/hs6st1___Snap-159319.czi_001123.png is a low contrast image\n",
      "  io.imsave(png_file_path, im8)\n"
     ]
    },
    {
     "name": "stdout",
     "output_type": "stream",
     "text": [
      "/home/chrism/datasets/dapidl/train/tumorcell/nuclei/ext1___Snap-159093_seg.npy\n"
     ]
    },
    {
     "name": "stderr",
     "output_type": "stream",
     "text": [
      "/tmp/ipykernel_42767/246710543.py:163: UserWarning: /home/chrism/datasets/dapidl/train/tumorcell/classification_localmean_border2_selem2_0.98/tumorcell/ext1___Snap-159093.czi_001191.png is a low contrast image\n",
      "  io.imsave(png_file_path, im8)\n"
     ]
    },
    {
     "name": "stdout",
     "output_type": "stream",
     "text": [
      "/home/chrism/datasets/dapidl/train/tumorcell/nuclei/hs6st1___Snap-159323_seg.npy\n"
     ]
    },
    {
     "name": "stderr",
     "output_type": "stream",
     "text": [
      "/tmp/ipykernel_42767/246710543.py:163: UserWarning: /home/chrism/datasets/dapidl/train/tumorcell/classification_localmean_border2_selem2_0.98/othercell/hs6st1___Snap-159323.czi_000560.png is a low contrast image\n",
      "  io.imsave(png_file_path, im8)\n",
      "/tmp/ipykernel_42767/246710543.py:163: UserWarning: /home/chrism/datasets/dapidl/train/tumorcell/classification_localmean_border2_selem2_0.98/tumorcell/hs6st1___Snap-159323.czi_000732.png is a low contrast image\n",
      "  io.imsave(png_file_path, im8)\n"
     ]
    },
    {
     "name": "stdout",
     "output_type": "stream",
     "text": [
      "/home/chrism/datasets/dapidl/train/tumorcell/nuclei/hs3st1___Snap-159095_seg.npy\n",
      "/home/chrism/datasets/dapidl/train/tumorcell/nuclei/hs3st1___Snap-159281_seg.npy\n",
      "/home/chrism/datasets/dapidl/train/tumorcell/nuclei/hs3st1___Snap-159097_seg.npy\n"
     ]
    },
    {
     "name": "stderr",
     "output_type": "stream",
     "text": [
      "/tmp/ipykernel_42767/246710543.py:163: UserWarning: /home/chrism/datasets/dapidl/train/tumorcell/classification_localmean_border2_selem2_0.98/tumorcell/hs3st1___Snap-159097.czi_001195.png is a low contrast image\n",
      "  io.imsave(png_file_path, im8)\n"
     ]
    },
    {
     "name": "stdout",
     "output_type": "stream",
     "text": [
      "/home/chrism/datasets/dapidl/train/tumorcell/nuclei/ext1___Snap-159095_seg.npy\n",
      "/home/chrism/datasets/dapidl/train/tumorcell/nuclei/hs3st1___Snap-159279_seg.npy\n",
      "/home/chrism/datasets/dapidl/train/tumorcell/nuclei/hs6st1___Snap-159326_seg.npy\n",
      "/home/chrism/datasets/dapidl/train/tumorcell/nuclei/hs6st1___Snap-159322_seg.npy\n"
     ]
    },
    {
     "name": "stderr",
     "output_type": "stream",
     "text": [
      "/tmp/ipykernel_42767/246710543.py:163: UserWarning: /home/chrism/datasets/dapidl/train/tumorcell/classification_localmean_border2_selem2_1.00/tumorcell/hs6st1___Snap-159322.czi_001342.png is a low contrast image\n",
      "  io.imsave(png_file_path, im8)\n"
     ]
    },
    {
     "name": "stdout",
     "output_type": "stream",
     "text": [
      "/home/chrism/datasets/dapidl/train/tumorcell/nuclei/hs6st1___Snap-159319_seg.npy\n"
     ]
    },
    {
     "name": "stderr",
     "output_type": "stream",
     "text": [
      "/tmp/ipykernel_42767/246710543.py:163: UserWarning: /home/chrism/datasets/dapidl/train/tumorcell/classification_localmean_border2_selem2_1.00/othercell/hs6st1___Snap-159319.czi_001123.png is a low contrast image\n",
      "  io.imsave(png_file_path, im8)\n"
     ]
    },
    {
     "name": "stdout",
     "output_type": "stream",
     "text": [
      "/home/chrism/datasets/dapidl/train/tumorcell/nuclei/ext1___Snap-159093_seg.npy\n"
     ]
    },
    {
     "name": "stderr",
     "output_type": "stream",
     "text": [
      "/tmp/ipykernel_42767/246710543.py:163: UserWarning: /home/chrism/datasets/dapidl/train/tumorcell/classification_localmean_border2_selem2_1.00/tumorcell/ext1___Snap-159093.czi_001191.png is a low contrast image\n",
      "  io.imsave(png_file_path, im8)\n"
     ]
    },
    {
     "name": "stdout",
     "output_type": "stream",
     "text": [
      "/home/chrism/datasets/dapidl/train/tumorcell/nuclei/hs6st1___Snap-159323_seg.npy\n"
     ]
    },
    {
     "name": "stderr",
     "output_type": "stream",
     "text": [
      "/tmp/ipykernel_42767/246710543.py:163: UserWarning: /home/chrism/datasets/dapidl/train/tumorcell/classification_localmean_border2_selem2_1.00/othercell/hs6st1___Snap-159323.czi_000560.png is a low contrast image\n",
      "  io.imsave(png_file_path, im8)\n",
      "/tmp/ipykernel_42767/246710543.py:163: UserWarning: /home/chrism/datasets/dapidl/train/tumorcell/classification_localmean_border2_selem2_1.00/tumorcell/hs6st1___Snap-159323.czi_000732.png is a low contrast image\n",
      "  io.imsave(png_file_path, im8)\n"
     ]
    },
    {
     "name": "stdout",
     "output_type": "stream",
     "text": [
      "/home/chrism/datasets/dapidl/train/tumorcell/nuclei/hs3st1___Snap-159095_seg.npy\n",
      "/home/chrism/datasets/dapidl/train/tumorcell/nuclei/hs3st1___Snap-159281_seg.npy\n",
      "/home/chrism/datasets/dapidl/train/tumorcell/nuclei/hs3st1___Snap-159097_seg.npy\n"
     ]
    },
    {
     "name": "stderr",
     "output_type": "stream",
     "text": [
      "/tmp/ipykernel_42767/246710543.py:163: UserWarning: /home/chrism/datasets/dapidl/train/tumorcell/classification_localmean_border2_selem2_1.00/tumorcell/hs3st1___Snap-159097.czi_001195.png is a low contrast image\n",
      "  io.imsave(png_file_path, im8)\n"
     ]
    },
    {
     "name": "stdout",
     "output_type": "stream",
     "text": [
      "/home/chrism/datasets/dapidl/train/tumorcell/nuclei/ext1___Snap-159095_seg.npy\n",
      "/home/chrism/datasets/dapidl/train/tumorcell/nuclei/hs3st1___Snap-159279_seg.npy\n",
      "/home/chrism/datasets/dapidl/train/tumorcell/nuclei/hs6st1___Snap-159326_seg.npy\n",
      "/home/chrism/datasets/dapidl/train/tumorcell/nuclei/hs6st1___Snap-159322_seg.npy\n"
     ]
    },
    {
     "name": "stderr",
     "output_type": "stream",
     "text": [
      "/tmp/ipykernel_42767/246710543.py:163: UserWarning: /home/chrism/datasets/dapidl/train/tumorcell/classification_localmean_border2_selem2_1.02/tumorcell/hs6st1___Snap-159322.czi_001342.png is a low contrast image\n",
      "  io.imsave(png_file_path, im8)\n"
     ]
    },
    {
     "name": "stdout",
     "output_type": "stream",
     "text": [
      "/home/chrism/datasets/dapidl/train/tumorcell/nuclei/hs6st1___Snap-159319_seg.npy\n"
     ]
    },
    {
     "name": "stderr",
     "output_type": "stream",
     "text": [
      "/tmp/ipykernel_42767/246710543.py:163: UserWarning: /home/chrism/datasets/dapidl/train/tumorcell/classification_localmean_border2_selem2_1.02/othercell/hs6st1___Snap-159319.czi_001123.png is a low contrast image\n",
      "  io.imsave(png_file_path, im8)\n"
     ]
    },
    {
     "name": "stdout",
     "output_type": "stream",
     "text": [
      "/home/chrism/datasets/dapidl/train/tumorcell/nuclei/ext1___Snap-159093_seg.npy\n"
     ]
    },
    {
     "name": "stderr",
     "output_type": "stream",
     "text": [
      "/tmp/ipykernel_42767/246710543.py:163: UserWarning: /home/chrism/datasets/dapidl/train/tumorcell/classification_localmean_border2_selem2_1.02/othercell/ext1___Snap-159093.czi_001191.png is a low contrast image\n",
      "  io.imsave(png_file_path, im8)\n"
     ]
    },
    {
     "name": "stdout",
     "output_type": "stream",
     "text": [
      "/home/chrism/datasets/dapidl/train/tumorcell/nuclei/hs6st1___Snap-159323_seg.npy\n"
     ]
    },
    {
     "name": "stderr",
     "output_type": "stream",
     "text": [
      "/tmp/ipykernel_42767/246710543.py:163: UserWarning: /home/chrism/datasets/dapidl/train/tumorcell/classification_localmean_border2_selem2_1.02/othercell/hs6st1___Snap-159323.czi_000560.png is a low contrast image\n",
      "  io.imsave(png_file_path, im8)\n",
      "/tmp/ipykernel_42767/246710543.py:163: UserWarning: /home/chrism/datasets/dapidl/train/tumorcell/classification_localmean_border2_selem2_1.02/tumorcell/hs6st1___Snap-159323.czi_000732.png is a low contrast image\n",
      "  io.imsave(png_file_path, im8)\n"
     ]
    },
    {
     "name": "stdout",
     "output_type": "stream",
     "text": [
      "/home/chrism/datasets/dapidl/train/tumorcell/nuclei/hs3st1___Snap-159095_seg.npy\n",
      "/home/chrism/datasets/dapidl/train/tumorcell/nuclei/hs3st1___Snap-159281_seg.npy\n",
      "/home/chrism/datasets/dapidl/train/tumorcell/nuclei/hs3st1___Snap-159097_seg.npy\n"
     ]
    },
    {
     "name": "stderr",
     "output_type": "stream",
     "text": [
      "/tmp/ipykernel_42767/246710543.py:163: UserWarning: /home/chrism/datasets/dapidl/train/tumorcell/classification_localmean_border2_selem2_1.02/tumorcell/hs3st1___Snap-159097.czi_001195.png is a low contrast image\n",
      "  io.imsave(png_file_path, im8)\n"
     ]
    },
    {
     "name": "stdout",
     "output_type": "stream",
     "text": [
      "/home/chrism/datasets/dapidl/train/tumorcell/nuclei/ext1___Snap-159095_seg.npy\n",
      "/home/chrism/datasets/dapidl/train/tumorcell/nuclei/hs3st1___Snap-159279_seg.npy\n",
      "/home/chrism/datasets/dapidl/train/tumorcell/nuclei/hs6st1___Snap-159326_seg.npy\n",
      "/home/chrism/datasets/dapidl/train/tumorcell/nuclei/hs6st1___Snap-159322_seg.npy\n"
     ]
    },
    {
     "name": "stderr",
     "output_type": "stream",
     "text": [
      "/tmp/ipykernel_42767/246710543.py:163: UserWarning: /home/chrism/datasets/dapidl/train/tumorcell/classification_localmean_border2_selem2_1.04/tumorcell/hs6st1___Snap-159322.czi_001342.png is a low contrast image\n",
      "  io.imsave(png_file_path, im8)\n"
     ]
    },
    {
     "name": "stdout",
     "output_type": "stream",
     "text": [
      "/home/chrism/datasets/dapidl/train/tumorcell/nuclei/hs6st1___Snap-159319_seg.npy\n"
     ]
    },
    {
     "name": "stderr",
     "output_type": "stream",
     "text": [
      "/tmp/ipykernel_42767/246710543.py:163: UserWarning: /home/chrism/datasets/dapidl/train/tumorcell/classification_localmean_border2_selem2_1.04/othercell/hs6st1___Snap-159319.czi_001123.png is a low contrast image\n",
      "  io.imsave(png_file_path, im8)\n"
     ]
    },
    {
     "name": "stdout",
     "output_type": "stream",
     "text": [
      "/home/chrism/datasets/dapidl/train/tumorcell/nuclei/ext1___Snap-159093_seg.npy\n"
     ]
    },
    {
     "name": "stderr",
     "output_type": "stream",
     "text": [
      "/tmp/ipykernel_42767/246710543.py:163: UserWarning: /home/chrism/datasets/dapidl/train/tumorcell/classification_localmean_border2_selem2_1.04/othercell/ext1___Snap-159093.czi_001191.png is a low contrast image\n",
      "  io.imsave(png_file_path, im8)\n"
     ]
    },
    {
     "name": "stdout",
     "output_type": "stream",
     "text": [
      "/home/chrism/datasets/dapidl/train/tumorcell/nuclei/hs6st1___Snap-159323_seg.npy\n"
     ]
    },
    {
     "name": "stderr",
     "output_type": "stream",
     "text": [
      "/tmp/ipykernel_42767/246710543.py:163: UserWarning: /home/chrism/datasets/dapidl/train/tumorcell/classification_localmean_border2_selem2_1.04/othercell/hs6st1___Snap-159323.czi_000560.png is a low contrast image\n",
      "  io.imsave(png_file_path, im8)\n",
      "/tmp/ipykernel_42767/246710543.py:163: UserWarning: /home/chrism/datasets/dapidl/train/tumorcell/classification_localmean_border2_selem2_1.04/tumorcell/hs6st1___Snap-159323.czi_000732.png is a low contrast image\n",
      "  io.imsave(png_file_path, im8)\n"
     ]
    },
    {
     "name": "stdout",
     "output_type": "stream",
     "text": [
      "/home/chrism/datasets/dapidl/train/tumorcell/nuclei/hs3st1___Snap-159095_seg.npy\n",
      "/home/chrism/datasets/dapidl/train/tumorcell/nuclei/hs3st1___Snap-159281_seg.npy\n",
      "/home/chrism/datasets/dapidl/train/tumorcell/nuclei/hs3st1___Snap-159097_seg.npy\n"
     ]
    },
    {
     "name": "stderr",
     "output_type": "stream",
     "text": [
      "/tmp/ipykernel_42767/246710543.py:163: UserWarning: /home/chrism/datasets/dapidl/train/tumorcell/classification_localmean_border2_selem2_1.04/othercell/hs3st1___Snap-159097.czi_001195.png is a low contrast image\n",
      "  io.imsave(png_file_path, im8)\n"
     ]
    },
    {
     "name": "stdout",
     "output_type": "stream",
     "text": [
      "/home/chrism/datasets/dapidl/train/tumorcell/nuclei/ext1___Snap-159095_seg.npy\n",
      "/home/chrism/datasets/dapidl/train/tumorcell/nuclei/hs3st1___Snap-159279_seg.npy\n",
      "/home/chrism/datasets/dapidl/train/tumorcell/nuclei/hs6st1___Snap-159326_seg.npy\n",
      "/home/chrism/datasets/dapidl/train/tumorcell/nuclei/hs6st1___Snap-159322_seg.npy\n"
     ]
    },
    {
     "name": "stderr",
     "output_type": "stream",
     "text": [
      "/tmp/ipykernel_42767/246710543.py:163: UserWarning: /home/chrism/datasets/dapidl/train/tumorcell/classification_localmean_border2_selem2_1.06/tumorcell/hs6st1___Snap-159322.czi_001342.png is a low contrast image\n",
      "  io.imsave(png_file_path, im8)\n"
     ]
    },
    {
     "name": "stdout",
     "output_type": "stream",
     "text": [
      "/home/chrism/datasets/dapidl/train/tumorcell/nuclei/hs6st1___Snap-159319_seg.npy\n"
     ]
    },
    {
     "name": "stderr",
     "output_type": "stream",
     "text": [
      "/tmp/ipykernel_42767/246710543.py:163: UserWarning: /home/chrism/datasets/dapidl/train/tumorcell/classification_localmean_border2_selem2_1.06/othercell/hs6st1___Snap-159319.czi_001123.png is a low contrast image\n",
      "  io.imsave(png_file_path, im8)\n"
     ]
    },
    {
     "name": "stdout",
     "output_type": "stream",
     "text": [
      "/home/chrism/datasets/dapidl/train/tumorcell/nuclei/ext1___Snap-159093_seg.npy\n"
     ]
    },
    {
     "name": "stderr",
     "output_type": "stream",
     "text": [
      "/tmp/ipykernel_42767/246710543.py:163: UserWarning: /home/chrism/datasets/dapidl/train/tumorcell/classification_localmean_border2_selem2_1.06/othercell/ext1___Snap-159093.czi_001191.png is a low contrast image\n",
      "  io.imsave(png_file_path, im8)\n"
     ]
    },
    {
     "name": "stdout",
     "output_type": "stream",
     "text": [
      "/home/chrism/datasets/dapidl/train/tumorcell/nuclei/hs6st1___Snap-159323_seg.npy\n"
     ]
    },
    {
     "name": "stderr",
     "output_type": "stream",
     "text": [
      "/tmp/ipykernel_42767/246710543.py:163: UserWarning: /home/chrism/datasets/dapidl/train/tumorcell/classification_localmean_border2_selem2_1.06/othercell/hs6st1___Snap-159323.czi_000560.png is a low contrast image\n",
      "  io.imsave(png_file_path, im8)\n",
      "/tmp/ipykernel_42767/246710543.py:163: UserWarning: /home/chrism/datasets/dapidl/train/tumorcell/classification_localmean_border2_selem2_1.06/othercell/hs6st1___Snap-159323.czi_000732.png is a low contrast image\n",
      "  io.imsave(png_file_path, im8)\n"
     ]
    },
    {
     "name": "stdout",
     "output_type": "stream",
     "text": [
      "/home/chrism/datasets/dapidl/train/tumorcell/nuclei/hs3st1___Snap-159095_seg.npy\n",
      "/home/chrism/datasets/dapidl/train/tumorcell/nuclei/hs3st1___Snap-159281_seg.npy\n",
      "/home/chrism/datasets/dapidl/train/tumorcell/nuclei/hs3st1___Snap-159097_seg.npy\n"
     ]
    },
    {
     "name": "stderr",
     "output_type": "stream",
     "text": [
      "/tmp/ipykernel_42767/246710543.py:163: UserWarning: /home/chrism/datasets/dapidl/train/tumorcell/classification_localmean_border2_selem2_1.06/othercell/hs3st1___Snap-159097.czi_001195.png is a low contrast image\n",
      "  io.imsave(png_file_path, im8)\n"
     ]
    },
    {
     "name": "stdout",
     "output_type": "stream",
     "text": [
      "/home/chrism/datasets/dapidl/train/tumorcell/nuclei/ext1___Snap-159095_seg.npy\n",
      "/home/chrism/datasets/dapidl/train/tumorcell/nuclei/hs3st1___Snap-159279_seg.npy\n",
      "/home/chrism/datasets/dapidl/train/tumorcell/nuclei/hs6st1___Snap-159326_seg.npy\n",
      "/home/chrism/datasets/dapidl/train/tumorcell/nuclei/hs6st1___Snap-159322_seg.npy\n"
     ]
    },
    {
     "name": "stderr",
     "output_type": "stream",
     "text": [
      "/tmp/ipykernel_42767/246710543.py:163: UserWarning: /home/chrism/datasets/dapidl/train/tumorcell/classification_localmean_border2_selem2_1.08/othercell/hs6st1___Snap-159322.czi_001342.png is a low contrast image\n",
      "  io.imsave(png_file_path, im8)\n"
     ]
    },
    {
     "name": "stdout",
     "output_type": "stream",
     "text": [
      "/home/chrism/datasets/dapidl/train/tumorcell/nuclei/hs6st1___Snap-159319_seg.npy\n"
     ]
    },
    {
     "name": "stderr",
     "output_type": "stream",
     "text": [
      "/tmp/ipykernel_42767/246710543.py:163: UserWarning: /home/chrism/datasets/dapidl/train/tumorcell/classification_localmean_border2_selem2_1.08/othercell/hs6st1___Snap-159319.czi_001123.png is a low contrast image\n",
      "  io.imsave(png_file_path, im8)\n"
     ]
    },
    {
     "name": "stdout",
     "output_type": "stream",
     "text": [
      "/home/chrism/datasets/dapidl/train/tumorcell/nuclei/ext1___Snap-159093_seg.npy\n"
     ]
    },
    {
     "name": "stderr",
     "output_type": "stream",
     "text": [
      "/tmp/ipykernel_42767/246710543.py:163: UserWarning: /home/chrism/datasets/dapidl/train/tumorcell/classification_localmean_border2_selem2_1.08/othercell/ext1___Snap-159093.czi_001191.png is a low contrast image\n",
      "  io.imsave(png_file_path, im8)\n"
     ]
    },
    {
     "name": "stdout",
     "output_type": "stream",
     "text": [
      "/home/chrism/datasets/dapidl/train/tumorcell/nuclei/hs6st1___Snap-159323_seg.npy\n"
     ]
    },
    {
     "name": "stderr",
     "output_type": "stream",
     "text": [
      "/tmp/ipykernel_42767/246710543.py:163: UserWarning: /home/chrism/datasets/dapidl/train/tumorcell/classification_localmean_border2_selem2_1.08/othercell/hs6st1___Snap-159323.czi_000560.png is a low contrast image\n",
      "  io.imsave(png_file_path, im8)\n",
      "/tmp/ipykernel_42767/246710543.py:163: UserWarning: /home/chrism/datasets/dapidl/train/tumorcell/classification_localmean_border2_selem2_1.08/othercell/hs6st1___Snap-159323.czi_000732.png is a low contrast image\n",
      "  io.imsave(png_file_path, im8)\n"
     ]
    },
    {
     "name": "stdout",
     "output_type": "stream",
     "text": [
      "/home/chrism/datasets/dapidl/train/tumorcell/nuclei/hs3st1___Snap-159095_seg.npy\n",
      "/home/chrism/datasets/dapidl/train/tumorcell/nuclei/hs3st1___Snap-159281_seg.npy\n",
      "/home/chrism/datasets/dapidl/train/tumorcell/nuclei/hs3st1___Snap-159097_seg.npy\n"
     ]
    },
    {
     "name": "stderr",
     "output_type": "stream",
     "text": [
      "/tmp/ipykernel_42767/246710543.py:163: UserWarning: /home/chrism/datasets/dapidl/train/tumorcell/classification_localmean_border2_selem2_1.08/othercell/hs3st1___Snap-159097.czi_001195.png is a low contrast image\n",
      "  io.imsave(png_file_path, im8)\n"
     ]
    },
    {
     "name": "stdout",
     "output_type": "stream",
     "text": [
      "/home/chrism/datasets/dapidl/train/tumorcell/nuclei/ext1___Snap-159095_seg.npy\n",
      "/home/chrism/datasets/dapidl/train/tumorcell/nuclei/hs3st1___Snap-159279_seg.npy\n",
      "/home/chrism/datasets/dapidl/train/tumorcell/nuclei/hs6st1___Snap-159326_seg.npy\n",
      "/home/chrism/datasets/dapidl/train/tumorcell/nuclei/hs6st1___Snap-159322_seg.npy\n"
     ]
    },
    {
     "name": "stderr",
     "output_type": "stream",
     "text": [
      "/tmp/ipykernel_42767/246710543.py:163: UserWarning: /home/chrism/datasets/dapidl/train/tumorcell/classification_localmean_border2_selem2_1.10/othercell/hs6st1___Snap-159322.czi_001342.png is a low contrast image\n",
      "  io.imsave(png_file_path, im8)\n"
     ]
    },
    {
     "name": "stdout",
     "output_type": "stream",
     "text": [
      "/home/chrism/datasets/dapidl/train/tumorcell/nuclei/hs6st1___Snap-159319_seg.npy\n"
     ]
    },
    {
     "name": "stderr",
     "output_type": "stream",
     "text": [
      "/tmp/ipykernel_42767/246710543.py:163: UserWarning: /home/chrism/datasets/dapidl/train/tumorcell/classification_localmean_border2_selem2_1.10/othercell/hs6st1___Snap-159319.czi_001123.png is a low contrast image\n",
      "  io.imsave(png_file_path, im8)\n"
     ]
    },
    {
     "name": "stdout",
     "output_type": "stream",
     "text": [
      "/home/chrism/datasets/dapidl/train/tumorcell/nuclei/ext1___Snap-159093_seg.npy\n"
     ]
    },
    {
     "name": "stderr",
     "output_type": "stream",
     "text": [
      "/tmp/ipykernel_42767/246710543.py:163: UserWarning: /home/chrism/datasets/dapidl/train/tumorcell/classification_localmean_border2_selem2_1.10/othercell/ext1___Snap-159093.czi_001191.png is a low contrast image\n",
      "  io.imsave(png_file_path, im8)\n"
     ]
    },
    {
     "name": "stdout",
     "output_type": "stream",
     "text": [
      "/home/chrism/datasets/dapidl/train/tumorcell/nuclei/hs6st1___Snap-159323_seg.npy\n"
     ]
    },
    {
     "name": "stderr",
     "output_type": "stream",
     "text": [
      "/tmp/ipykernel_42767/246710543.py:163: UserWarning: /home/chrism/datasets/dapidl/train/tumorcell/classification_localmean_border2_selem2_1.10/othercell/hs6st1___Snap-159323.czi_000560.png is a low contrast image\n",
      "  io.imsave(png_file_path, im8)\n",
      "/tmp/ipykernel_42767/246710543.py:163: UserWarning: /home/chrism/datasets/dapidl/train/tumorcell/classification_localmean_border2_selem2_1.10/othercell/hs6st1___Snap-159323.czi_000732.png is a low contrast image\n",
      "  io.imsave(png_file_path, im8)\n"
     ]
    },
    {
     "name": "stdout",
     "output_type": "stream",
     "text": [
      "/home/chrism/datasets/dapidl/train/tumorcell/nuclei/hs3st1___Snap-159095_seg.npy\n",
      "/home/chrism/datasets/dapidl/train/tumorcell/nuclei/hs3st1___Snap-159281_seg.npy\n",
      "/home/chrism/datasets/dapidl/train/tumorcell/nuclei/hs3st1___Snap-159097_seg.npy\n"
     ]
    },
    {
     "name": "stderr",
     "output_type": "stream",
     "text": [
      "/tmp/ipykernel_42767/246710543.py:163: UserWarning: /home/chrism/datasets/dapidl/train/tumorcell/classification_localmean_border2_selem2_1.10/othercell/hs3st1___Snap-159097.czi_001195.png is a low contrast image\n",
      "  io.imsave(png_file_path, im8)\n"
     ]
    },
    {
     "name": "stdout",
     "output_type": "stream",
     "text": [
      "/home/chrism/datasets/dapidl/train/tumorcell/nuclei/ext1___Snap-159095_seg.npy\n",
      "/home/chrism/datasets/dapidl/train/tumorcell/nuclei/hs3st1___Snap-159279_seg.npy\n",
      "/home/chrism/datasets/dapidl/train/tumorcell/nuclei/hs6st1___Snap-159326_seg.npy\n",
      "/home/chrism/datasets/dapidl/train/tumorcell/nuclei/hs6st1___Snap-159322_seg.npy\n"
     ]
    },
    {
     "name": "stderr",
     "output_type": "stream",
     "text": [
      "/tmp/ipykernel_42767/246710543.py:163: UserWarning: /home/chrism/datasets/dapidl/train/tumorcell/classification_localmean_border2_selem2_1.12/othercell/hs6st1___Snap-159322.czi_001342.png is a low contrast image\n",
      "  io.imsave(png_file_path, im8)\n"
     ]
    },
    {
     "name": "stdout",
     "output_type": "stream",
     "text": [
      "/home/chrism/datasets/dapidl/train/tumorcell/nuclei/hs6st1___Snap-159319_seg.npy\n"
     ]
    },
    {
     "name": "stderr",
     "output_type": "stream",
     "text": [
      "/tmp/ipykernel_42767/246710543.py:163: UserWarning: /home/chrism/datasets/dapidl/train/tumorcell/classification_localmean_border2_selem2_1.12/othercell/hs6st1___Snap-159319.czi_001123.png is a low contrast image\n",
      "  io.imsave(png_file_path, im8)\n"
     ]
    },
    {
     "name": "stdout",
     "output_type": "stream",
     "text": [
      "/home/chrism/datasets/dapidl/train/tumorcell/nuclei/ext1___Snap-159093_seg.npy\n"
     ]
    },
    {
     "name": "stderr",
     "output_type": "stream",
     "text": [
      "/tmp/ipykernel_42767/246710543.py:163: UserWarning: /home/chrism/datasets/dapidl/train/tumorcell/classification_localmean_border2_selem2_1.12/othercell/ext1___Snap-159093.czi_001191.png is a low contrast image\n",
      "  io.imsave(png_file_path, im8)\n"
     ]
    },
    {
     "name": "stdout",
     "output_type": "stream",
     "text": [
      "/home/chrism/datasets/dapidl/train/tumorcell/nuclei/hs6st1___Snap-159323_seg.npy\n"
     ]
    },
    {
     "name": "stderr",
     "output_type": "stream",
     "text": [
      "/tmp/ipykernel_42767/246710543.py:163: UserWarning: /home/chrism/datasets/dapidl/train/tumorcell/classification_localmean_border2_selem2_1.12/othercell/hs6st1___Snap-159323.czi_000560.png is a low contrast image\n",
      "  io.imsave(png_file_path, im8)\n",
      "/tmp/ipykernel_42767/246710543.py:163: UserWarning: /home/chrism/datasets/dapidl/train/tumorcell/classification_localmean_border2_selem2_1.12/othercell/hs6st1___Snap-159323.czi_000732.png is a low contrast image\n",
      "  io.imsave(png_file_path, im8)\n"
     ]
    },
    {
     "name": "stdout",
     "output_type": "stream",
     "text": [
      "/home/chrism/datasets/dapidl/train/tumorcell/nuclei/hs3st1___Snap-159095_seg.npy\n",
      "/home/chrism/datasets/dapidl/train/tumorcell/nuclei/hs3st1___Snap-159281_seg.npy\n",
      "/home/chrism/datasets/dapidl/train/tumorcell/nuclei/hs3st1___Snap-159097_seg.npy\n"
     ]
    },
    {
     "name": "stderr",
     "output_type": "stream",
     "text": [
      "/tmp/ipykernel_42767/246710543.py:163: UserWarning: /home/chrism/datasets/dapidl/train/tumorcell/classification_localmean_border2_selem2_1.12/othercell/hs3st1___Snap-159097.czi_001195.png is a low contrast image\n",
      "  io.imsave(png_file_path, im8)\n"
     ]
    },
    {
     "name": "stdout",
     "output_type": "stream",
     "text": [
      "/home/chrism/datasets/dapidl/train/tumorcell/nuclei/ext1___Snap-159095_seg.npy\n",
      "/home/chrism/datasets/dapidl/train/tumorcell/nuclei/hs3st1___Snap-159279_seg.npy\n",
      "/home/chrism/datasets/dapidl/train/tumorcell/nuclei/hs6st1___Snap-159326_seg.npy\n",
      "/home/chrism/datasets/dapidl/train/tumorcell/nuclei/hs6st1___Snap-159322_seg.npy\n"
     ]
    },
    {
     "name": "stderr",
     "output_type": "stream",
     "text": [
      "/tmp/ipykernel_42767/246710543.py:163: UserWarning: /home/chrism/datasets/dapidl/train/tumorcell/classification_localmean_border2_selem2_1.14/othercell/hs6st1___Snap-159322.czi_001342.png is a low contrast image\n",
      "  io.imsave(png_file_path, im8)\n"
     ]
    },
    {
     "name": "stdout",
     "output_type": "stream",
     "text": [
      "/home/chrism/datasets/dapidl/train/tumorcell/nuclei/hs6st1___Snap-159319_seg.npy\n"
     ]
    },
    {
     "name": "stderr",
     "output_type": "stream",
     "text": [
      "/tmp/ipykernel_42767/246710543.py:163: UserWarning: /home/chrism/datasets/dapidl/train/tumorcell/classification_localmean_border2_selem2_1.14/othercell/hs6st1___Snap-159319.czi_001123.png is a low contrast image\n",
      "  io.imsave(png_file_path, im8)\n"
     ]
    },
    {
     "name": "stdout",
     "output_type": "stream",
     "text": [
      "/home/chrism/datasets/dapidl/train/tumorcell/nuclei/ext1___Snap-159093_seg.npy\n"
     ]
    },
    {
     "name": "stderr",
     "output_type": "stream",
     "text": [
      "/tmp/ipykernel_42767/246710543.py:163: UserWarning: /home/chrism/datasets/dapidl/train/tumorcell/classification_localmean_border2_selem2_1.14/othercell/ext1___Snap-159093.czi_001191.png is a low contrast image\n",
      "  io.imsave(png_file_path, im8)\n"
     ]
    },
    {
     "name": "stdout",
     "output_type": "stream",
     "text": [
      "/home/chrism/datasets/dapidl/train/tumorcell/nuclei/hs6st1___Snap-159323_seg.npy\n"
     ]
    },
    {
     "name": "stderr",
     "output_type": "stream",
     "text": [
      "/tmp/ipykernel_42767/246710543.py:163: UserWarning: /home/chrism/datasets/dapidl/train/tumorcell/classification_localmean_border2_selem2_1.14/othercell/hs6st1___Snap-159323.czi_000560.png is a low contrast image\n",
      "  io.imsave(png_file_path, im8)\n",
      "/tmp/ipykernel_42767/246710543.py:163: UserWarning: /home/chrism/datasets/dapidl/train/tumorcell/classification_localmean_border2_selem2_1.14/othercell/hs6st1___Snap-159323.czi_000732.png is a low contrast image\n",
      "  io.imsave(png_file_path, im8)\n"
     ]
    },
    {
     "name": "stdout",
     "output_type": "stream",
     "text": [
      "/home/chrism/datasets/dapidl/train/tumorcell/nuclei/hs3st1___Snap-159095_seg.npy\n",
      "/home/chrism/datasets/dapidl/train/tumorcell/nuclei/hs3st1___Snap-159281_seg.npy\n",
      "/home/chrism/datasets/dapidl/train/tumorcell/nuclei/hs3st1___Snap-159097_seg.npy\n"
     ]
    },
    {
     "name": "stderr",
     "output_type": "stream",
     "text": [
      "/tmp/ipykernel_42767/246710543.py:163: UserWarning: /home/chrism/datasets/dapidl/train/tumorcell/classification_localmean_border2_selem2_1.14/othercell/hs3st1___Snap-159097.czi_001195.png is a low contrast image\n",
      "  io.imsave(png_file_path, im8)\n"
     ]
    },
    {
     "name": "stdout",
     "output_type": "stream",
     "text": [
      "/home/chrism/datasets/dapidl/train/tumorcell/nuclei/ext1___Snap-159095_seg.npy\n",
      "/home/chrism/datasets/dapidl/train/tumorcell/nuclei/hs3st1___Snap-159279_seg.npy\n",
      "/home/chrism/datasets/dapidl/train/tumorcell/nuclei/hs6st1___Snap-159326_seg.npy\n",
      "/home/chrism/datasets/dapidl/train/tumorcell/nuclei/hs6st1___Snap-159322_seg.npy\n"
     ]
    },
    {
     "name": "stderr",
     "output_type": "stream",
     "text": [
      "/tmp/ipykernel_42767/246710543.py:163: UserWarning: /home/chrism/datasets/dapidl/train/tumorcell/classification_localmean_border2_selem2_1.16/othercell/hs6st1___Snap-159322.czi_001342.png is a low contrast image\n",
      "  io.imsave(png_file_path, im8)\n"
     ]
    },
    {
     "name": "stdout",
     "output_type": "stream",
     "text": [
      "/home/chrism/datasets/dapidl/train/tumorcell/nuclei/hs6st1___Snap-159319_seg.npy\n"
     ]
    },
    {
     "name": "stderr",
     "output_type": "stream",
     "text": [
      "/tmp/ipykernel_42767/246710543.py:163: UserWarning: /home/chrism/datasets/dapidl/train/tumorcell/classification_localmean_border2_selem2_1.16/othercell/hs6st1___Snap-159319.czi_001123.png is a low contrast image\n",
      "  io.imsave(png_file_path, im8)\n"
     ]
    },
    {
     "name": "stdout",
     "output_type": "stream",
     "text": [
      "/home/chrism/datasets/dapidl/train/tumorcell/nuclei/ext1___Snap-159093_seg.npy\n"
     ]
    },
    {
     "name": "stderr",
     "output_type": "stream",
     "text": [
      "/tmp/ipykernel_42767/246710543.py:163: UserWarning: /home/chrism/datasets/dapidl/train/tumorcell/classification_localmean_border2_selem2_1.16/othercell/ext1___Snap-159093.czi_001191.png is a low contrast image\n",
      "  io.imsave(png_file_path, im8)\n"
     ]
    },
    {
     "name": "stdout",
     "output_type": "stream",
     "text": [
      "/home/chrism/datasets/dapidl/train/tumorcell/nuclei/hs6st1___Snap-159323_seg.npy\n"
     ]
    },
    {
     "name": "stderr",
     "output_type": "stream",
     "text": [
      "/tmp/ipykernel_42767/246710543.py:163: UserWarning: /home/chrism/datasets/dapidl/train/tumorcell/classification_localmean_border2_selem2_1.16/othercell/hs6st1___Snap-159323.czi_000560.png is a low contrast image\n",
      "  io.imsave(png_file_path, im8)\n",
      "/tmp/ipykernel_42767/246710543.py:163: UserWarning: /home/chrism/datasets/dapidl/train/tumorcell/classification_localmean_border2_selem2_1.16/othercell/hs6st1___Snap-159323.czi_000732.png is a low contrast image\n",
      "  io.imsave(png_file_path, im8)\n"
     ]
    },
    {
     "name": "stdout",
     "output_type": "stream",
     "text": [
      "/home/chrism/datasets/dapidl/train/tumorcell/nuclei/hs3st1___Snap-159095_seg.npy\n",
      "/home/chrism/datasets/dapidl/train/tumorcell/nuclei/hs3st1___Snap-159281_seg.npy\n",
      "/home/chrism/datasets/dapidl/train/tumorcell/nuclei/hs3st1___Snap-159097_seg.npy\n"
     ]
    },
    {
     "name": "stderr",
     "output_type": "stream",
     "text": [
      "/tmp/ipykernel_42767/246710543.py:163: UserWarning: /home/chrism/datasets/dapidl/train/tumorcell/classification_localmean_border2_selem2_1.16/othercell/hs3st1___Snap-159097.czi_001195.png is a low contrast image\n",
      "  io.imsave(png_file_path, im8)\n"
     ]
    },
    {
     "name": "stdout",
     "output_type": "stream",
     "text": [
      "/home/chrism/datasets/dapidl/train/tumorcell/nuclei/ext1___Snap-159095_seg.npy\n",
      "/home/chrism/datasets/dapidl/train/tumorcell/nuclei/hs3st1___Snap-159279_seg.npy\n",
      "/home/chrism/datasets/dapidl/train/tumorcell/nuclei/hs6st1___Snap-159326_seg.npy\n",
      "/home/chrism/datasets/dapidl/train/tumorcell/nuclei/hs6st1___Snap-159322_seg.npy\n"
     ]
    },
    {
     "name": "stderr",
     "output_type": "stream",
     "text": [
      "/tmp/ipykernel_42767/246710543.py:163: UserWarning: /home/chrism/datasets/dapidl/train/tumorcell/classification_localmean_border2_selem2_1.18/othercell/hs6st1___Snap-159322.czi_001342.png is a low contrast image\n",
      "  io.imsave(png_file_path, im8)\n"
     ]
    },
    {
     "name": "stdout",
     "output_type": "stream",
     "text": [
      "/home/chrism/datasets/dapidl/train/tumorcell/nuclei/hs6st1___Snap-159319_seg.npy\n"
     ]
    },
    {
     "name": "stderr",
     "output_type": "stream",
     "text": [
      "/tmp/ipykernel_42767/246710543.py:163: UserWarning: /home/chrism/datasets/dapidl/train/tumorcell/classification_localmean_border2_selem2_1.18/othercell/hs6st1___Snap-159319.czi_001123.png is a low contrast image\n",
      "  io.imsave(png_file_path, im8)\n"
     ]
    },
    {
     "name": "stdout",
     "output_type": "stream",
     "text": [
      "/home/chrism/datasets/dapidl/train/tumorcell/nuclei/ext1___Snap-159093_seg.npy\n"
     ]
    },
    {
     "name": "stderr",
     "output_type": "stream",
     "text": [
      "/tmp/ipykernel_42767/246710543.py:163: UserWarning: /home/chrism/datasets/dapidl/train/tumorcell/classification_localmean_border2_selem2_1.18/othercell/ext1___Snap-159093.czi_001191.png is a low contrast image\n",
      "  io.imsave(png_file_path, im8)\n"
     ]
    },
    {
     "name": "stdout",
     "output_type": "stream",
     "text": [
      "/home/chrism/datasets/dapidl/train/tumorcell/nuclei/hs6st1___Snap-159323_seg.npy\n"
     ]
    },
    {
     "name": "stderr",
     "output_type": "stream",
     "text": [
      "/tmp/ipykernel_42767/246710543.py:163: UserWarning: /home/chrism/datasets/dapidl/train/tumorcell/classification_localmean_border2_selem2_1.18/othercell/hs6st1___Snap-159323.czi_000560.png is a low contrast image\n",
      "  io.imsave(png_file_path, im8)\n",
      "/tmp/ipykernel_42767/246710543.py:163: UserWarning: /home/chrism/datasets/dapidl/train/tumorcell/classification_localmean_border2_selem2_1.18/othercell/hs6st1___Snap-159323.czi_000732.png is a low contrast image\n",
      "  io.imsave(png_file_path, im8)\n"
     ]
    },
    {
     "name": "stdout",
     "output_type": "stream",
     "text": [
      "/home/chrism/datasets/dapidl/train/tumorcell/nuclei/hs3st1___Snap-159095_seg.npy\n",
      "/home/chrism/datasets/dapidl/train/tumorcell/nuclei/hs3st1___Snap-159281_seg.npy\n",
      "/home/chrism/datasets/dapidl/train/tumorcell/nuclei/hs3st1___Snap-159097_seg.npy\n"
     ]
    },
    {
     "name": "stderr",
     "output_type": "stream",
     "text": [
      "/tmp/ipykernel_42767/246710543.py:163: UserWarning: /home/chrism/datasets/dapidl/train/tumorcell/classification_localmean_border2_selem2_1.18/othercell/hs3st1___Snap-159097.czi_001195.png is a low contrast image\n",
      "  io.imsave(png_file_path, im8)\n"
     ]
    }
   ],
   "execution_count": 2
  },
  {
   "cell_type": "code",
   "id": "91ebbffd-3f2e-4c1c-85a1-72e4ee9a8295",
   "metadata": {
    "ExecuteTime": {
     "end_time": "2024-06-19T08:08:54.657919Z",
     "start_time": "2024-06-19T08:08:54.600853Z"
    }
   },
   "source": [
    "plt.imshow(mask)"
   ],
   "outputs": [
    {
     "data": {
      "text/plain": [
       "<matplotlib.image.AxesImage at 0x7f57584ca9d0>"
      ]
     },
     "execution_count": 3,
     "metadata": {},
     "output_type": "execute_result"
    },
    {
     "data": {
      "text/plain": [
       "<Figure size 640x480 with 1 Axes>"
      ],
      "image/png": "[encoded data removed]"
     },
     "metadata": {},
     "output_type": "display_data"
    }
   ],
   "execution_count": 3
  },
  {
   "cell_type": "code",
   "id": "925f1fb811033ff2",
   "metadata": {
    "collapsed": false,
    "jupyter": {
     "outputs_hidden": false
    },
    "ExecuteTime": {
     "end_time": "2024-06-19T08:08:54.660158Z",
     "start_time": "2024-06-19T08:08:54.658410Z"
    }
   },
   "source": [
    "selem = morphology.disk(border)\n",
    "\n"
   ],
   "outputs": [],
   "execution_count": 4
  },
  {
   "cell_type": "code",
   "id": "33418c97-0430-49ca-a603-1affd239acac",
   "metadata": {
    "ExecuteTime": {
     "end_time": "2024-06-19T08:08:54.800828Z",
     "start_time": "2024-06-19T08:08:54.660958Z"
    }
   },
   "source": [
    "inner = morphology.dilation(mask, selem)\n",
    "bigger = morphology.erosion(mask, selem)\n",
    "outer = np.invert(inner ^ bigger)\n",
    "plt.imshow(inner)\n",
    "plt.show()\n",
    "plt.imshow(bigger)\n",
    "plt.show()\n",
    "plt.imshow(outer)\n",
    "plt.show()"
   ],
   "outputs": [
    {
     "data": {
      "text/plain": [
       "<Figure size 640x480 with 1 Axes>"
      ],
      "image/png": "[encoded data removed]"
     },
     "metadata": {},
     "output_type": "display_data"
    },
    {
     "data": {
      "text/plain": [
       "<Figure size 640x480 with 1 Axes>"
      ],
      "image/png": "[encoded data removed]"
     },
     "metadata": {},
     "output_type": "display_data"
    },
    {
     "data": {
      "text/plain": [
       "<Figure size 640x480 with 1 Axes>"
      ],
      "image/png": "[encoded data removed]"
     },
     "metadata": {},
     "output_type": "display_data"
    }
   ],
   "execution_count": 5
  },
  {
   "cell_type": "code",
   "id": "24d6df70-7df9-408b-af9e-6c9a06fc5e85",
   "metadata": {
    "ExecuteTime": {
     "end_time": "2024-06-19T08:08:54.854882Z",
     "start_time": "2024-06-19T08:08:54.801420Z"
    }
   },
   "source": [
    "plt.imshow(morphology.erosion(mask, selem))"
   ],
   "outputs": [
    {
     "data": {
      "text/plain": [
       "<matplotlib.image.AxesImage at 0x7f575846e650>"
      ]
     },
     "execution_count": 6,
     "metadata": {},
     "output_type": "execute_result"
    },
    {
     "data": {
      "text/plain": [
       "<Figure size 640x480 with 1 Axes>"
      ],
      "image/png": "[encoded data removed]"
     },
     "metadata": {},
     "output_type": "display_data"
    }
   ],
   "execution_count": 6
  },
  {
   "cell_type": "code",
   "id": "4a2f73ca9dfaaad2",
   "metadata": {
    "collapsed": false,
    "jupyter": {
     "outputs_hidden": false
    },
    "ExecuteTime": {
     "end_time": "2024-06-19T08:08:54.929924Z",
     "start_time": "2024-06-19T08:08:54.855347Z"
    }
   },
   "source": [
    "dil"
   ],
   "outputs": [
    {
     "ename": "NameError",
     "evalue": "name 'dil' is not defined",
     "output_type": "error",
     "traceback": [
      "\u001B[0;31m---------------------------------------------------------------------------\u001B[0m",
      "\u001B[0;31mNameError\u001B[0m                                 Traceback (most recent call last)",
      "Cell \u001B[0;32mIn[7], line 1\u001B[0m\n\u001B[0;32m----> 1\u001B[0m \u001B[43mdil\u001B[49m\n",
      "\u001B[0;31mNameError\u001B[0m: name 'dil' is not defined"
     ]
    }
   ],
   "execution_count": 7
  },
  {
   "cell_type": "code",
   "id": "48e4c562cf87d824",
   "metadata": {
    "collapsed": false,
    "jupyter": {
     "outputs_hidden": false
    },
    "ExecuteTime": {
     "end_time": "2024-06-19T08:08:54.930534Z",
     "start_time": "2024-06-19T08:08:54.930485Z"
    }
   },
   "source": [],
   "outputs": [],
   "execution_count": null
  }
 ],
 "metadata": {
  "kernelspec": {
   "display_name": "Python 3 (ipykernel)",
   "language": "python",
   "name": "python3"
  },
  "language_info": {
   "codemirror_mode": {
    "name": "ipython",
    "version": 3
   },
   "file_extension": ".py",
   "mimetype": "text/x-python",
   "name": "python",
   "nbconvert_exporter": "python",
   "pygments_lexer": "ipython3",
   "version": "3.11.7"
  }
 },
 "nbformat": 4,
 "nbformat_minor": 5
}
