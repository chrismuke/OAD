{
 "cells": [
  {
   "cell_type": "code",
   "execution_count": 1,
   "id": "cfef297e-c1c4-4fdc-a759-46843905d63d",
   "metadata": {
    "ExecuteTime": {
     "end_time": "2024-04-04T13:08:54.511134Z",
     "start_time": "2024-04-04T13:08:51.998137Z"
    }
   },
   "outputs": [
    {
     "name": "stderr",
     "output_type": "stream",
     "text": [
      "/home/chrism/miniconda3/envs/cellpose3/lib/python3.11/site-packages/tqdm/auto.py:21: TqdmWarning: IProgress not found. Please update jupyter and ipywidgets. See https://ipywidgets.readthedocs.io/en/stable/user_install.html\n",
      "  from .autonotebook import tqdm as notebook_tqdm\n"
     ]
    },
    {
     "name": "stdout",
     "output_type": "stream",
     "text": [
      "Using: /home/chrism/miniconda3/envs/cellpose3/bin/python\n"
     ]
    }
   ],
   "source": [
    "from pylibCZIrw import czi as pyczi\n",
    "import json\n",
    "from matplotlib import pyplot as plt\n",
    "import matplotlib.cm as cm\n",
    "import numpy as np\n",
    "from numpy import ma\n",
    "import os, sys\n",
    "from tqdm import tqdm\n",
    "from tqdm.contrib import itertools as it\n",
    "from matplotlib.patches import Rectangle\n",
    "from matplotlib.colors import LinearSegmentedColormap\n",
    "from cellpose import utils\n",
    "import cv2\n",
    "from scipy import ndimage\n",
    "from pathlib import Path\n",
    "import pandas as pd\n",
    "from skimage import io, exposure\n",
    "\n",
    "\n",
    "# show the used python env\n",
    "print(\"Using:\", sys.executable)"
   ]
  },
  {
   "cell_type": "code",
   "execution_count": null,
   "id": "63f6ab4f6b5c510a",
   "metadata": {
    "collapsed": false
   },
   "outputs": [],
   "source": []
  },
  {
   "cell_type": "code",
   "outputs": [
    {
     "name": "stdout",
     "output_type": "stream",
     "text": [
      "/home/chrism/datasets/tumorcells/nuclei/hs3st1___Snap-159094_seg.npy\n"
     ]
    },
    {
     "name": "stderr",
     "output_type": "stream",
     "text": [
      "/tmp/ipykernel_30464/876349374.py:167: UserWarning: /home/chrism/datasets/tumorcells/classification_t900.0/tumorcell/hs3st1___Snap-159094.czi_001376.png is a low contrast image\n",
      "  io.imsave(png_file_path, im8)\n"
     ]
    },
    {
     "name": "stdout",
     "output_type": "stream",
     "text": [
      "/home/chrism/datasets/tumorcells/nuclei/ext1___Snap-159094_seg.npy\n"
     ]
    },
    {
     "name": "stderr",
     "output_type": "stream",
     "text": [
      "/tmp/ipykernel_30464/876349374.py:167: UserWarning: /home/chrism/datasets/tumorcells/classification_t900.0/tumorcell/ext1___Snap-159094.czi_001376.png is a low contrast image\n",
      "  io.imsave(png_file_path, im8)\n"
     ]
    },
    {
     "name": "stdout",
     "output_type": "stream",
     "text": [
      "/home/chrism/datasets/tumorcells/nuclei/ext1___Snap-159095_seg.npy\n",
      "/home/chrism/datasets/tumorcells/nuclei/hs3st1___Snap-159279_seg.npy\n",
      "/home/chrism/datasets/tumorcells/nuclei/hs6st1___Snap-159326_seg.npy\n",
      "/home/chrism/datasets/tumorcells/nuclei/hs6st1___Snap-159322_seg.npy\n"
     ]
    },
    {
     "name": "stderr",
     "output_type": "stream",
     "text": [
      "/tmp/ipykernel_30464/876349374.py:167: UserWarning: /home/chrism/datasets/tumorcells/classification_t900.0/tumorcell/hs6st1___Snap-159322.czi_001342.png is a low contrast image\n",
      "  io.imsave(png_file_path, im8)\n"
     ]
    },
    {
     "name": "stdout",
     "output_type": "stream",
     "text": [
      "/home/chrism/datasets/tumorcells/nuclei/hs6st1___Snap-159319_seg.npy\n"
     ]
    },
    {
     "name": "stderr",
     "output_type": "stream",
     "text": [
      "/tmp/ipykernel_30464/876349374.py:167: UserWarning: /home/chrism/datasets/tumorcells/classification_t900.0/tumorcell/hs6st1___Snap-159319.czi_001123.png is a low contrast image\n",
      "  io.imsave(png_file_path, im8)\n"
     ]
    },
    {
     "name": "stdout",
     "output_type": "stream",
     "text": [
      "/home/chrism/datasets/tumorcells/nuclei/ext1___Snap-159093_seg.npy\n"
     ]
    },
    {
     "name": "stderr",
     "output_type": "stream",
     "text": [
      "/tmp/ipykernel_30464/876349374.py:167: UserWarning: /home/chrism/datasets/tumorcells/classification_t900.0/tumorcell/ext1___Snap-159093.czi_001191.png is a low contrast image\n",
      "  io.imsave(png_file_path, im8)\n"
     ]
    },
    {
     "name": "stdout",
     "output_type": "stream",
     "text": [
      "/home/chrism/datasets/tumorcells/nuclei/hs6st1___Snap-159323_seg.npy\n"
     ]
    },
    {
     "name": "stderr",
     "output_type": "stream",
     "text": [
      "/tmp/ipykernel_30464/876349374.py:167: UserWarning: /home/chrism/datasets/tumorcells/classification_t900.0/tumorcell/hs6st1___Snap-159323.czi_000560.png is a low contrast image\n",
      "  io.imsave(png_file_path, im8)\n",
      "/tmp/ipykernel_30464/876349374.py:167: UserWarning: /home/chrism/datasets/tumorcells/classification_t900.0/tumorcell/hs6st1___Snap-159323.czi_000732.png is a low contrast image\n",
      "  io.imsave(png_file_path, im8)\n"
     ]
    },
    {
     "name": "stdout",
     "output_type": "stream",
     "text": [
      "/home/chrism/datasets/tumorcells/nuclei/hs3st1___Snap-159095_seg.npy\n",
      "/home/chrism/datasets/tumorcells/nuclei/hs3st1___Snap-159281_seg.npy\n",
      "/home/chrism/datasets/tumorcells/nuclei/hs3st1___Snap-159097_seg.npy\n"
     ]
    },
    {
     "name": "stderr",
     "output_type": "stream",
     "text": [
      "/tmp/ipykernel_30464/876349374.py:167: UserWarning: /home/chrism/datasets/tumorcells/classification_t900.0/tumorcell/hs3st1___Snap-159097.czi_001195.png is a low contrast image\n",
      "  io.imsave(png_file_path, im8)\n"
     ]
    },
    {
     "name": "stdout",
     "output_type": "stream",
     "text": [
      "/home/chrism/datasets/tumorcells/nuclei/hs6st1___Snap-159324_seg.npy\n",
      "/home/chrism/datasets/tumorcells/nuclei/hs3st1___Snap-159094_seg.npy\n"
     ]
    },
    {
     "name": "stderr",
     "output_type": "stream",
     "text": [
      "/tmp/ipykernel_30464/876349374.py:167: UserWarning: /home/chrism/datasets/tumorcells/classification_t950.0/tumorcell/hs3st1___Snap-159094.czi_001376.png is a low contrast image\n",
      "  io.imsave(png_file_path, im8)\n"
     ]
    },
    {
     "name": "stdout",
     "output_type": "stream",
     "text": [
      "/home/chrism/datasets/tumorcells/nuclei/ext1___Snap-159094_seg.npy\n"
     ]
    },
    {
     "name": "stderr",
     "output_type": "stream",
     "text": [
      "/tmp/ipykernel_30464/876349374.py:167: UserWarning: /home/chrism/datasets/tumorcells/classification_t950.0/tumorcell/ext1___Snap-159094.czi_001376.png is a low contrast image\n",
      "  io.imsave(png_file_path, im8)\n"
     ]
    },
    {
     "name": "stdout",
     "output_type": "stream",
     "text": [
      "/home/chrism/datasets/tumorcells/nuclei/ext1___Snap-159095_seg.npy\n",
      "/home/chrism/datasets/tumorcells/nuclei/hs3st1___Snap-159279_seg.npy\n",
      "/home/chrism/datasets/tumorcells/nuclei/hs6st1___Snap-159326_seg.npy\n",
      "/home/chrism/datasets/tumorcells/nuclei/hs6st1___Snap-159322_seg.npy\n"
     ]
    },
    {
     "name": "stderr",
     "output_type": "stream",
     "text": [
      "/tmp/ipykernel_30464/876349374.py:167: UserWarning: /home/chrism/datasets/tumorcells/classification_t950.0/tumorcell/hs6st1___Snap-159322.czi_001342.png is a low contrast image\n",
      "  io.imsave(png_file_path, im8)\n"
     ]
    },
    {
     "name": "stdout",
     "output_type": "stream",
     "text": [
      "/home/chrism/datasets/tumorcells/nuclei/hs6st1___Snap-159319_seg.npy\n"
     ]
    },
    {
     "name": "stderr",
     "output_type": "stream",
     "text": [
      "/tmp/ipykernel_30464/876349374.py:167: UserWarning: /home/chrism/datasets/tumorcells/classification_t950.0/tumorcell/hs6st1___Snap-159319.czi_001123.png is a low contrast image\n",
      "  io.imsave(png_file_path, im8)\n"
     ]
    },
    {
     "name": "stdout",
     "output_type": "stream",
     "text": [
      "/home/chrism/datasets/tumorcells/nuclei/ext1___Snap-159093_seg.npy\n"
     ]
    },
    {
     "name": "stderr",
     "output_type": "stream",
     "text": [
      "/tmp/ipykernel_30464/876349374.py:167: UserWarning: /home/chrism/datasets/tumorcells/classification_t950.0/tumorcell/ext1___Snap-159093.czi_001191.png is a low contrast image\n",
      "  io.imsave(png_file_path, im8)\n"
     ]
    },
    {
     "name": "stdout",
     "output_type": "stream",
     "text": [
      "/home/chrism/datasets/tumorcells/nuclei/hs6st1___Snap-159323_seg.npy\n"
     ]
    },
    {
     "name": "stderr",
     "output_type": "stream",
     "text": [
      "/tmp/ipykernel_30464/876349374.py:167: UserWarning: /home/chrism/datasets/tumorcells/classification_t950.0/tumorcell/hs6st1___Snap-159323.czi_000560.png is a low contrast image\n",
      "  io.imsave(png_file_path, im8)\n",
      "/tmp/ipykernel_30464/876349374.py:167: UserWarning: /home/chrism/datasets/tumorcells/classification_t950.0/tumorcell/hs6st1___Snap-159323.czi_000732.png is a low contrast image\n",
      "  io.imsave(png_file_path, im8)\n"
     ]
    },
    {
     "name": "stdout",
     "output_type": "stream",
     "text": [
      "/home/chrism/datasets/tumorcells/nuclei/hs3st1___Snap-159095_seg.npy\n",
      "/home/chrism/datasets/tumorcells/nuclei/hs3st1___Snap-159281_seg.npy\n",
      "/home/chrism/datasets/tumorcells/nuclei/hs3st1___Snap-159097_seg.npy\n"
     ]
    },
    {
     "name": "stderr",
     "output_type": "stream",
     "text": [
      "/tmp/ipykernel_30464/876349374.py:167: UserWarning: /home/chrism/datasets/tumorcells/classification_t950.0/tumorcell/hs3st1___Snap-159097.czi_001195.png is a low contrast image\n",
      "  io.imsave(png_file_path, im8)\n"
     ]
    },
    {
     "name": "stdout",
     "output_type": "stream",
     "text": [
      "/home/chrism/datasets/tumorcells/nuclei/hs6st1___Snap-159324_seg.npy\n",
      "/home/chrism/datasets/tumorcells/nuclei/hs3st1___Snap-159094_seg.npy\n"
     ]
    },
    {
     "name": "stderr",
     "output_type": "stream",
     "text": [
      "/tmp/ipykernel_30464/876349374.py:167: UserWarning: /home/chrism/datasets/tumorcells/classification_t1000.0/tumorcell/hs3st1___Snap-159094.czi_001376.png is a low contrast image\n",
      "  io.imsave(png_file_path, im8)\n"
     ]
    },
    {
     "name": "stdout",
     "output_type": "stream",
     "text": [
      "/home/chrism/datasets/tumorcells/nuclei/ext1___Snap-159094_seg.npy\n"
     ]
    },
    {
     "name": "stderr",
     "output_type": "stream",
     "text": [
      "/tmp/ipykernel_30464/876349374.py:167: UserWarning: /home/chrism/datasets/tumorcells/classification_t1000.0/tumorcell/ext1___Snap-159094.czi_001376.png is a low contrast image\n",
      "  io.imsave(png_file_path, im8)\n"
     ]
    },
    {
     "name": "stdout",
     "output_type": "stream",
     "text": [
      "/home/chrism/datasets/tumorcells/nuclei/ext1___Snap-159095_seg.npy\n",
      "/home/chrism/datasets/tumorcells/nuclei/hs3st1___Snap-159279_seg.npy\n",
      "/home/chrism/datasets/tumorcells/nuclei/hs6st1___Snap-159326_seg.npy\n",
      "/home/chrism/datasets/tumorcells/nuclei/hs6st1___Snap-159322_seg.npy\n"
     ]
    },
    {
     "name": "stderr",
     "output_type": "stream",
     "text": [
      "/tmp/ipykernel_30464/876349374.py:167: UserWarning: /home/chrism/datasets/tumorcells/classification_t1000.0/tumorcell/hs6st1___Snap-159322.czi_001342.png is a low contrast image\n",
      "  io.imsave(png_file_path, im8)\n"
     ]
    },
    {
     "name": "stdout",
     "output_type": "stream",
     "text": [
      "/home/chrism/datasets/tumorcells/nuclei/hs6st1___Snap-159319_seg.npy\n"
     ]
    },
    {
     "name": "stderr",
     "output_type": "stream",
     "text": [
      "/tmp/ipykernel_30464/876349374.py:167: UserWarning: /home/chrism/datasets/tumorcells/classification_t1000.0/tumorcell/hs6st1___Snap-159319.czi_001123.png is a low contrast image\n",
      "  io.imsave(png_file_path, im8)\n"
     ]
    },
    {
     "name": "stdout",
     "output_type": "stream",
     "text": [
      "/home/chrism/datasets/tumorcells/nuclei/ext1___Snap-159093_seg.npy\n"
     ]
    },
    {
     "name": "stderr",
     "output_type": "stream",
     "text": [
      "/tmp/ipykernel_30464/876349374.py:167: UserWarning: /home/chrism/datasets/tumorcells/classification_t1000.0/tumorcell/ext1___Snap-159093.czi_001191.png is a low contrast image\n",
      "  io.imsave(png_file_path, im8)\n"
     ]
    },
    {
     "name": "stdout",
     "output_type": "stream",
     "text": [
      "/home/chrism/datasets/tumorcells/nuclei/hs6st1___Snap-159323_seg.npy\n"
     ]
    },
    {
     "name": "stderr",
     "output_type": "stream",
     "text": [
      "/tmp/ipykernel_30464/876349374.py:167: UserWarning: /home/chrism/datasets/tumorcells/classification_t1000.0/tumorcell/hs6st1___Snap-159323.czi_000560.png is a low contrast image\n",
      "  io.imsave(png_file_path, im8)\n",
      "/tmp/ipykernel_30464/876349374.py:167: UserWarning: /home/chrism/datasets/tumorcells/classification_t1000.0/tumorcell/hs6st1___Snap-159323.czi_000732.png is a low contrast image\n",
      "  io.imsave(png_file_path, im8)\n"
     ]
    },
    {
     "name": "stdout",
     "output_type": "stream",
     "text": [
      "/home/chrism/datasets/tumorcells/nuclei/hs3st1___Snap-159095_seg.npy\n",
      "/home/chrism/datasets/tumorcells/nuclei/hs3st1___Snap-159281_seg.npy\n",
      "/home/chrism/datasets/tumorcells/nuclei/hs3st1___Snap-159097_seg.npy\n"
     ]
    },
    {
     "name": "stderr",
     "output_type": "stream",
     "text": [
      "/tmp/ipykernel_30464/876349374.py:167: UserWarning: /home/chrism/datasets/tumorcells/classification_t1000.0/tumorcell/hs3st1___Snap-159097.czi_001195.png is a low contrast image\n",
      "  io.imsave(png_file_path, im8)\n"
     ]
    },
    {
     "name": "stdout",
     "output_type": "stream",
     "text": [
      "/home/chrism/datasets/tumorcells/nuclei/hs6st1___Snap-159324_seg.npy\n",
      "/home/chrism/datasets/tumorcells/nuclei/hs3st1___Snap-159094_seg.npy\n"
     ]
    },
    {
     "name": "stderr",
     "output_type": "stream",
     "text": [
      "/tmp/ipykernel_30464/876349374.py:167: UserWarning: /home/chrism/datasets/tumorcells/classification_t1050.0/tumorcell/hs3st1___Snap-159094.czi_001376.png is a low contrast image\n",
      "  io.imsave(png_file_path, im8)\n"
     ]
    },
    {
     "name": "stdout",
     "output_type": "stream",
     "text": [
      "/home/chrism/datasets/tumorcells/nuclei/ext1___Snap-159094_seg.npy\n"
     ]
    },
    {
     "name": "stderr",
     "output_type": "stream",
     "text": [
      "/tmp/ipykernel_30464/876349374.py:167: UserWarning: /home/chrism/datasets/tumorcells/classification_t1050.0/tumorcell/ext1___Snap-159094.czi_001376.png is a low contrast image\n",
      "  io.imsave(png_file_path, im8)\n"
     ]
    },
    {
     "name": "stdout",
     "output_type": "stream",
     "text": [
      "/home/chrism/datasets/tumorcells/nuclei/ext1___Snap-159095_seg.npy\n",
      "/home/chrism/datasets/tumorcells/nuclei/hs3st1___Snap-159279_seg.npy\n",
      "/home/chrism/datasets/tumorcells/nuclei/hs6st1___Snap-159326_seg.npy\n",
      "/home/chrism/datasets/tumorcells/nuclei/hs6st1___Snap-159322_seg.npy\n"
     ]
    },
    {
     "name": "stderr",
     "output_type": "stream",
     "text": [
      "/tmp/ipykernel_30464/876349374.py:167: UserWarning: /home/chrism/datasets/tumorcells/classification_t1050.0/tumorcell/hs6st1___Snap-159322.czi_001342.png is a low contrast image\n",
      "  io.imsave(png_file_path, im8)\n"
     ]
    },
    {
     "name": "stdout",
     "output_type": "stream",
     "text": [
      "/home/chrism/datasets/tumorcells/nuclei/hs6st1___Snap-159319_seg.npy\n"
     ]
    },
    {
     "name": "stderr",
     "output_type": "stream",
     "text": [
      "/tmp/ipykernel_30464/876349374.py:167: UserWarning: /home/chrism/datasets/tumorcells/classification_t1050.0/tumorcell/hs6st1___Snap-159319.czi_001123.png is a low contrast image\n",
      "  io.imsave(png_file_path, im8)\n"
     ]
    },
    {
     "name": "stdout",
     "output_type": "stream",
     "text": [
      "/home/chrism/datasets/tumorcells/nuclei/ext1___Snap-159093_seg.npy\n"
     ]
    },
    {
     "name": "stderr",
     "output_type": "stream",
     "text": [
      "/tmp/ipykernel_30464/876349374.py:167: UserWarning: /home/chrism/datasets/tumorcells/classification_t1050.0/tumorcell/ext1___Snap-159093.czi_001191.png is a low contrast image\n",
      "  io.imsave(png_file_path, im8)\n"
     ]
    },
    {
     "name": "stdout",
     "output_type": "stream",
     "text": [
      "/home/chrism/datasets/tumorcells/nuclei/hs6st1___Snap-159323_seg.npy\n"
     ]
    },
    {
     "name": "stderr",
     "output_type": "stream",
     "text": [
      "/tmp/ipykernel_30464/876349374.py:167: UserWarning: /home/chrism/datasets/tumorcells/classification_t1050.0/tumorcell/hs6st1___Snap-159323.czi_000560.png is a low contrast image\n",
      "  io.imsave(png_file_path, im8)\n",
      "/tmp/ipykernel_30464/876349374.py:167: UserWarning: /home/chrism/datasets/tumorcells/classification_t1050.0/tumorcell/hs6st1___Snap-159323.czi_000732.png is a low contrast image\n",
      "  io.imsave(png_file_path, im8)\n"
     ]
    },
    {
     "name": "stdout",
     "output_type": "stream",
     "text": [
      "/home/chrism/datasets/tumorcells/nuclei/hs3st1___Snap-159095_seg.npy\n",
      "/home/chrism/datasets/tumorcells/nuclei/hs3st1___Snap-159281_seg.npy\n",
      "/home/chrism/datasets/tumorcells/nuclei/hs3st1___Snap-159097_seg.npy\n"
     ]
    },
    {
     "name": "stderr",
     "output_type": "stream",
     "text": [
      "/tmp/ipykernel_30464/876349374.py:167: UserWarning: /home/chrism/datasets/tumorcells/classification_t1050.0/tumorcell/hs3st1___Snap-159097.czi_001195.png is a low contrast image\n",
      "  io.imsave(png_file_path, im8)\n"
     ]
    },
    {
     "name": "stdout",
     "output_type": "stream",
     "text": [
      "/home/chrism/datasets/tumorcells/nuclei/hs6st1___Snap-159324_seg.npy\n",
      "/home/chrism/datasets/tumorcells/nuclei/hs3st1___Snap-159094_seg.npy\n"
     ]
    },
    {
     "name": "stderr",
     "output_type": "stream",
     "text": [
      "/tmp/ipykernel_30464/876349374.py:167: UserWarning: /home/chrism/datasets/tumorcells/classification_t1100.0/tumorcell/hs3st1___Snap-159094.czi_001376.png is a low contrast image\n",
      "  io.imsave(png_file_path, im8)\n"
     ]
    },
    {
     "name": "stdout",
     "output_type": "stream",
     "text": [
      "/home/chrism/datasets/tumorcells/nuclei/ext1___Snap-159094_seg.npy\n"
     ]
    },
    {
     "name": "stderr",
     "output_type": "stream",
     "text": [
      "/tmp/ipykernel_30464/876349374.py:167: UserWarning: /home/chrism/datasets/tumorcells/classification_t1100.0/tumorcell/ext1___Snap-159094.czi_001376.png is a low contrast image\n",
      "  io.imsave(png_file_path, im8)\n"
     ]
    },
    {
     "name": "stdout",
     "output_type": "stream",
     "text": [
      "/home/chrism/datasets/tumorcells/nuclei/ext1___Snap-159095_seg.npy\n",
      "/home/chrism/datasets/tumorcells/nuclei/hs3st1___Snap-159279_seg.npy\n",
      "/home/chrism/datasets/tumorcells/nuclei/hs6st1___Snap-159326_seg.npy\n",
      "/home/chrism/datasets/tumorcells/nuclei/hs6st1___Snap-159322_seg.npy\n"
     ]
    },
    {
     "name": "stderr",
     "output_type": "stream",
     "text": [
      "/tmp/ipykernel_30464/876349374.py:167: UserWarning: /home/chrism/datasets/tumorcells/classification_t1100.0/tumorcell/hs6st1___Snap-159322.czi_001342.png is a low contrast image\n",
      "  io.imsave(png_file_path, im8)\n"
     ]
    },
    {
     "name": "stdout",
     "output_type": "stream",
     "text": [
      "/home/chrism/datasets/tumorcells/nuclei/hs6st1___Snap-159319_seg.npy\n"
     ]
    },
    {
     "name": "stderr",
     "output_type": "stream",
     "text": [
      "/tmp/ipykernel_30464/876349374.py:167: UserWarning: /home/chrism/datasets/tumorcells/classification_t1100.0/tumorcell/hs6st1___Snap-159319.czi_001123.png is a low contrast image\n",
      "  io.imsave(png_file_path, im8)\n"
     ]
    },
    {
     "name": "stdout",
     "output_type": "stream",
     "text": [
      "/home/chrism/datasets/tumorcells/nuclei/ext1___Snap-159093_seg.npy\n"
     ]
    },
    {
     "name": "stderr",
     "output_type": "stream",
     "text": [
      "/tmp/ipykernel_30464/876349374.py:167: UserWarning: /home/chrism/datasets/tumorcells/classification_t1100.0/tumorcell/ext1___Snap-159093.czi_001191.png is a low contrast image\n",
      "  io.imsave(png_file_path, im8)\n"
     ]
    },
    {
     "name": "stdout",
     "output_type": "stream",
     "text": [
      "/home/chrism/datasets/tumorcells/nuclei/hs6st1___Snap-159323_seg.npy\n"
     ]
    },
    {
     "name": "stderr",
     "output_type": "stream",
     "text": [
      "/tmp/ipykernel_30464/876349374.py:167: UserWarning: /home/chrism/datasets/tumorcells/classification_t1100.0/tumorcell/hs6st1___Snap-159323.czi_000560.png is a low contrast image\n",
      "  io.imsave(png_file_path, im8)\n",
      "/tmp/ipykernel_30464/876349374.py:167: UserWarning: /home/chrism/datasets/tumorcells/classification_t1100.0/tumorcell/hs6st1___Snap-159323.czi_000732.png is a low contrast image\n",
      "  io.imsave(png_file_path, im8)\n"
     ]
    },
    {
     "name": "stdout",
     "output_type": "stream",
     "text": [
      "/home/chrism/datasets/tumorcells/nuclei/hs3st1___Snap-159095_seg.npy\n",
      "/home/chrism/datasets/tumorcells/nuclei/hs3st1___Snap-159281_seg.npy\n",
      "/home/chrism/datasets/tumorcells/nuclei/hs3st1___Snap-159097_seg.npy\n"
     ]
    },
    {
     "name": "stderr",
     "output_type": "stream",
     "text": [
      "/tmp/ipykernel_30464/876349374.py:167: UserWarning: /home/chrism/datasets/tumorcells/classification_t1100.0/tumorcell/hs3st1___Snap-159097.czi_001195.png is a low contrast image\n",
      "  io.imsave(png_file_path, im8)\n"
     ]
    },
    {
     "name": "stdout",
     "output_type": "stream",
     "text": [
      "/home/chrism/datasets/tumorcells/nuclei/hs6st1___Snap-159324_seg.npy\n",
      "/home/chrism/datasets/tumorcells/nuclei/hs3st1___Snap-159094_seg.npy\n"
     ]
    },
    {
     "name": "stderr",
     "output_type": "stream",
     "text": [
      "/tmp/ipykernel_30464/876349374.py:167: UserWarning: /home/chrism/datasets/tumorcells/classification_t1150.0/tumorcell/hs3st1___Snap-159094.czi_001376.png is a low contrast image\n",
      "  io.imsave(png_file_path, im8)\n"
     ]
    },
    {
     "name": "stdout",
     "output_type": "stream",
     "text": [
      "/home/chrism/datasets/tumorcells/nuclei/ext1___Snap-159094_seg.npy\n"
     ]
    },
    {
     "name": "stderr",
     "output_type": "stream",
     "text": [
      "/tmp/ipykernel_30464/876349374.py:167: UserWarning: /home/chrism/datasets/tumorcells/classification_t1150.0/tumorcell/ext1___Snap-159094.czi_001376.png is a low contrast image\n",
      "  io.imsave(png_file_path, im8)\n"
     ]
    },
    {
     "name": "stdout",
     "output_type": "stream",
     "text": [
      "/home/chrism/datasets/tumorcells/nuclei/ext1___Snap-159095_seg.npy\n",
      "/home/chrism/datasets/tumorcells/nuclei/hs3st1___Snap-159279_seg.npy\n",
      "/home/chrism/datasets/tumorcells/nuclei/hs6st1___Snap-159326_seg.npy\n",
      "/home/chrism/datasets/tumorcells/nuclei/hs6st1___Snap-159322_seg.npy\n"
     ]
    },
    {
     "name": "stderr",
     "output_type": "stream",
     "text": [
      "/tmp/ipykernel_30464/876349374.py:167: UserWarning: /home/chrism/datasets/tumorcells/classification_t1150.0/tumorcell/hs6st1___Snap-159322.czi_001342.png is a low contrast image\n",
      "  io.imsave(png_file_path, im8)\n"
     ]
    },
    {
     "name": "stdout",
     "output_type": "stream",
     "text": [
      "/home/chrism/datasets/tumorcells/nuclei/hs6st1___Snap-159319_seg.npy\n"
     ]
    },
    {
     "name": "stderr",
     "output_type": "stream",
     "text": [
      "/tmp/ipykernel_30464/876349374.py:167: UserWarning: /home/chrism/datasets/tumorcells/classification_t1150.0/tumorcell/hs6st1___Snap-159319.czi_001123.png is a low contrast image\n",
      "  io.imsave(png_file_path, im8)\n"
     ]
    },
    {
     "name": "stdout",
     "output_type": "stream",
     "text": [
      "/home/chrism/datasets/tumorcells/nuclei/ext1___Snap-159093_seg.npy\n"
     ]
    },
    {
     "name": "stderr",
     "output_type": "stream",
     "text": [
      "/tmp/ipykernel_30464/876349374.py:167: UserWarning: /home/chrism/datasets/tumorcells/classification_t1150.0/tumorcell/ext1___Snap-159093.czi_001191.png is a low contrast image\n",
      "  io.imsave(png_file_path, im8)\n"
     ]
    },
    {
     "name": "stdout",
     "output_type": "stream",
     "text": [
      "/home/chrism/datasets/tumorcells/nuclei/hs6st1___Snap-159323_seg.npy\n"
     ]
    },
    {
     "name": "stderr",
     "output_type": "stream",
     "text": [
      "/tmp/ipykernel_30464/876349374.py:167: UserWarning: /home/chrism/datasets/tumorcells/classification_t1150.0/tumorcell/hs6st1___Snap-159323.czi_000560.png is a low contrast image\n",
      "  io.imsave(png_file_path, im8)\n",
      "/tmp/ipykernel_30464/876349374.py:167: UserWarning: /home/chrism/datasets/tumorcells/classification_t1150.0/tumorcell/hs6st1___Snap-159323.czi_000732.png is a low contrast image\n",
      "  io.imsave(png_file_path, im8)\n"
     ]
    },
    {
     "name": "stdout",
     "output_type": "stream",
     "text": [
      "/home/chrism/datasets/tumorcells/nuclei/hs3st1___Snap-159095_seg.npy\n",
      "/home/chrism/datasets/tumorcells/nuclei/hs3st1___Snap-159281_seg.npy\n",
      "/home/chrism/datasets/tumorcells/nuclei/hs3st1___Snap-159097_seg.npy\n"
     ]
    },
    {
     "name": "stderr",
     "output_type": "stream",
     "text": [
      "/tmp/ipykernel_30464/876349374.py:167: UserWarning: /home/chrism/datasets/tumorcells/classification_t1150.0/tumorcell/hs3st1___Snap-159097.czi_001195.png is a low contrast image\n",
      "  io.imsave(png_file_path, im8)\n"
     ]
    },
    {
     "name": "stdout",
     "output_type": "stream",
     "text": [
      "/home/chrism/datasets/tumorcells/nuclei/hs6st1___Snap-159324_seg.npy\n",
      "/home/chrism/datasets/tumorcells/nuclei/hs3st1___Snap-159094_seg.npy\n"
     ]
    },
    {
     "name": "stderr",
     "output_type": "stream",
     "text": [
      "/tmp/ipykernel_30464/876349374.py:167: UserWarning: /home/chrism/datasets/tumorcells/classification_t1200.0/tumorcell/hs3st1___Snap-159094.czi_001376.png is a low contrast image\n",
      "  io.imsave(png_file_path, im8)\n"
     ]
    },
    {
     "name": "stdout",
     "output_type": "stream",
     "text": [
      "/home/chrism/datasets/tumorcells/nuclei/ext1___Snap-159094_seg.npy\n"
     ]
    },
    {
     "name": "stderr",
     "output_type": "stream",
     "text": [
      "/tmp/ipykernel_30464/876349374.py:167: UserWarning: /home/chrism/datasets/tumorcells/classification_t1200.0/tumorcell/ext1___Snap-159094.czi_001376.png is a low contrast image\n",
      "  io.imsave(png_file_path, im8)\n"
     ]
    },
    {
     "name": "stdout",
     "output_type": "stream",
     "text": [
      "/home/chrism/datasets/tumorcells/nuclei/ext1___Snap-159095_seg.npy\n",
      "/home/chrism/datasets/tumorcells/nuclei/hs3st1___Snap-159279_seg.npy\n",
      "/home/chrism/datasets/tumorcells/nuclei/hs6st1___Snap-159326_seg.npy\n",
      "/home/chrism/datasets/tumorcells/nuclei/hs6st1___Snap-159322_seg.npy\n"
     ]
    },
    {
     "name": "stderr",
     "output_type": "stream",
     "text": [
      "/tmp/ipykernel_30464/876349374.py:167: UserWarning: /home/chrism/datasets/tumorcells/classification_t1200.0/tumorcell/hs6st1___Snap-159322.czi_001342.png is a low contrast image\n",
      "  io.imsave(png_file_path, im8)\n"
     ]
    },
    {
     "name": "stdout",
     "output_type": "stream",
     "text": [
      "/home/chrism/datasets/tumorcells/nuclei/hs6st1___Snap-159319_seg.npy\n"
     ]
    },
    {
     "name": "stderr",
     "output_type": "stream",
     "text": [
      "/tmp/ipykernel_30464/876349374.py:167: UserWarning: /home/chrism/datasets/tumorcells/classification_t1200.0/tumorcell/hs6st1___Snap-159319.czi_001123.png is a low contrast image\n",
      "  io.imsave(png_file_path, im8)\n"
     ]
    },
    {
     "name": "stdout",
     "output_type": "stream",
     "text": [
      "/home/chrism/datasets/tumorcells/nuclei/ext1___Snap-159093_seg.npy\n"
     ]
    },
    {
     "name": "stderr",
     "output_type": "stream",
     "text": [
      "/tmp/ipykernel_30464/876349374.py:167: UserWarning: /home/chrism/datasets/tumorcells/classification_t1200.0/tumorcell/ext1___Snap-159093.czi_001191.png is a low contrast image\n",
      "  io.imsave(png_file_path, im8)\n"
     ]
    },
    {
     "name": "stdout",
     "output_type": "stream",
     "text": [
      "/home/chrism/datasets/tumorcells/nuclei/hs6st1___Snap-159323_seg.npy\n"
     ]
    },
    {
     "name": "stderr",
     "output_type": "stream",
     "text": [
      "/tmp/ipykernel_30464/876349374.py:167: UserWarning: /home/chrism/datasets/tumorcells/classification_t1200.0/tumorcell/hs6st1___Snap-159323.czi_000560.png is a low contrast image\n",
      "  io.imsave(png_file_path, im8)\n",
      "/tmp/ipykernel_30464/876349374.py:167: UserWarning: /home/chrism/datasets/tumorcells/classification_t1200.0/othercell/hs6st1___Snap-159323.czi_000732.png is a low contrast image\n",
      "  io.imsave(png_file_path, im8)\n"
     ]
    },
    {
     "name": "stdout",
     "output_type": "stream",
     "text": [
      "/home/chrism/datasets/tumorcells/nuclei/hs3st1___Snap-159095_seg.npy\n",
      "/home/chrism/datasets/tumorcells/nuclei/hs3st1___Snap-159281_seg.npy\n",
      "/home/chrism/datasets/tumorcells/nuclei/hs3st1___Snap-159097_seg.npy\n"
     ]
    },
    {
     "name": "stderr",
     "output_type": "stream",
     "text": [
      "/tmp/ipykernel_30464/876349374.py:167: UserWarning: /home/chrism/datasets/tumorcells/classification_t1200.0/tumorcell/hs3st1___Snap-159097.czi_001195.png is a low contrast image\n",
      "  io.imsave(png_file_path, im8)\n"
     ]
    },
    {
     "name": "stdout",
     "output_type": "stream",
     "text": [
      "/home/chrism/datasets/tumorcells/nuclei/hs6st1___Snap-159324_seg.npy\n",
      "/home/chrism/datasets/tumorcells/nuclei/hs3st1___Snap-159094_seg.npy\n"
     ]
    },
    {
     "name": "stderr",
     "output_type": "stream",
     "text": [
      "/tmp/ipykernel_30464/876349374.py:167: UserWarning: /home/chrism/datasets/tumorcells/classification_t1250.0/tumorcell/hs3st1___Snap-159094.czi_001376.png is a low contrast image\n",
      "  io.imsave(png_file_path, im8)\n"
     ]
    },
    {
     "name": "stdout",
     "output_type": "stream",
     "text": [
      "/home/chrism/datasets/tumorcells/nuclei/ext1___Snap-159094_seg.npy\n"
     ]
    },
    {
     "name": "stderr",
     "output_type": "stream",
     "text": [
      "/tmp/ipykernel_30464/876349374.py:167: UserWarning: /home/chrism/datasets/tumorcells/classification_t1250.0/tumorcell/ext1___Snap-159094.czi_001376.png is a low contrast image\n",
      "  io.imsave(png_file_path, im8)\n"
     ]
    },
    {
     "name": "stdout",
     "output_type": "stream",
     "text": [
      "/home/chrism/datasets/tumorcells/nuclei/ext1___Snap-159095_seg.npy\n",
      "/home/chrism/datasets/tumorcells/nuclei/hs3st1___Snap-159279_seg.npy\n",
      "/home/chrism/datasets/tumorcells/nuclei/hs6st1___Snap-159326_seg.npy\n",
      "/home/chrism/datasets/tumorcells/nuclei/hs6st1___Snap-159322_seg.npy\n"
     ]
    },
    {
     "name": "stderr",
     "output_type": "stream",
     "text": [
      "/tmp/ipykernel_30464/876349374.py:167: UserWarning: /home/chrism/datasets/tumorcells/classification_t1250.0/tumorcell/hs6st1___Snap-159322.czi_001342.png is a low contrast image\n",
      "  io.imsave(png_file_path, im8)\n"
     ]
    },
    {
     "name": "stdout",
     "output_type": "stream",
     "text": [
      "/home/chrism/datasets/tumorcells/nuclei/hs6st1___Snap-159319_seg.npy\n"
     ]
    },
    {
     "name": "stderr",
     "output_type": "stream",
     "text": [
      "/tmp/ipykernel_30464/876349374.py:167: UserWarning: /home/chrism/datasets/tumorcells/classification_t1250.0/othercell/hs6st1___Snap-159319.czi_001123.png is a low contrast image\n",
      "  io.imsave(png_file_path, im8)\n"
     ]
    },
    {
     "name": "stdout",
     "output_type": "stream",
     "text": [
      "/home/chrism/datasets/tumorcells/nuclei/ext1___Snap-159093_seg.npy\n"
     ]
    },
    {
     "name": "stderr",
     "output_type": "stream",
     "text": [
      "/tmp/ipykernel_30464/876349374.py:167: UserWarning: /home/chrism/datasets/tumorcells/classification_t1250.0/tumorcell/ext1___Snap-159093.czi_001191.png is a low contrast image\n",
      "  io.imsave(png_file_path, im8)\n"
     ]
    },
    {
     "name": "stdout",
     "output_type": "stream",
     "text": [
      "/home/chrism/datasets/tumorcells/nuclei/hs6st1___Snap-159323_seg.npy\n"
     ]
    },
    {
     "name": "stderr",
     "output_type": "stream",
     "text": [
      "/tmp/ipykernel_30464/876349374.py:167: UserWarning: /home/chrism/datasets/tumorcells/classification_t1250.0/tumorcell/hs6st1___Snap-159323.czi_000560.png is a low contrast image\n",
      "  io.imsave(png_file_path, im8)\n",
      "/tmp/ipykernel_30464/876349374.py:167: UserWarning: /home/chrism/datasets/tumorcells/classification_t1250.0/othercell/hs6st1___Snap-159323.czi_000732.png is a low contrast image\n",
      "  io.imsave(png_file_path, im8)\n"
     ]
    },
    {
     "name": "stdout",
     "output_type": "stream",
     "text": [
      "/home/chrism/datasets/tumorcells/nuclei/hs3st1___Snap-159095_seg.npy\n",
      "/home/chrism/datasets/tumorcells/nuclei/hs3st1___Snap-159281_seg.npy\n",
      "/home/chrism/datasets/tumorcells/nuclei/hs3st1___Snap-159097_seg.npy\n"
     ]
    },
    {
     "name": "stderr",
     "output_type": "stream",
     "text": [
      "/tmp/ipykernel_30464/876349374.py:167: UserWarning: /home/chrism/datasets/tumorcells/classification_t1250.0/tumorcell/hs3st1___Snap-159097.czi_001195.png is a low contrast image\n",
      "  io.imsave(png_file_path, im8)\n"
     ]
    },
    {
     "name": "stdout",
     "output_type": "stream",
     "text": [
      "/home/chrism/datasets/tumorcells/nuclei/hs6st1___Snap-159324_seg.npy\n",
      "/home/chrism/datasets/tumorcells/nuclei/hs3st1___Snap-159094_seg.npy\n"
     ]
    },
    {
     "name": "stderr",
     "output_type": "stream",
     "text": [
      "/tmp/ipykernel_30464/876349374.py:167: UserWarning: /home/chrism/datasets/tumorcells/classification_t1300.0/tumorcell/hs3st1___Snap-159094.czi_001376.png is a low contrast image\n",
      "  io.imsave(png_file_path, im8)\n"
     ]
    },
    {
     "name": "stdout",
     "output_type": "stream",
     "text": [
      "/home/chrism/datasets/tumorcells/nuclei/ext1___Snap-159094_seg.npy\n"
     ]
    },
    {
     "name": "stderr",
     "output_type": "stream",
     "text": [
      "/tmp/ipykernel_30464/876349374.py:167: UserWarning: /home/chrism/datasets/tumorcells/classification_t1300.0/tumorcell/ext1___Snap-159094.czi_001376.png is a low contrast image\n",
      "  io.imsave(png_file_path, im8)\n"
     ]
    },
    {
     "name": "stdout",
     "output_type": "stream",
     "text": [
      "/home/chrism/datasets/tumorcells/nuclei/ext1___Snap-159095_seg.npy\n",
      "/home/chrism/datasets/tumorcells/nuclei/hs3st1___Snap-159279_seg.npy\n",
      "/home/chrism/datasets/tumorcells/nuclei/hs6st1___Snap-159326_seg.npy\n",
      "/home/chrism/datasets/tumorcells/nuclei/hs6st1___Snap-159322_seg.npy\n"
     ]
    },
    {
     "name": "stderr",
     "output_type": "stream",
     "text": [
      "/tmp/ipykernel_30464/876349374.py:167: UserWarning: /home/chrism/datasets/tumorcells/classification_t1300.0/tumorcell/hs6st1___Snap-159322.czi_001342.png is a low contrast image\n",
      "  io.imsave(png_file_path, im8)\n"
     ]
    },
    {
     "name": "stdout",
     "output_type": "stream",
     "text": [
      "/home/chrism/datasets/tumorcells/nuclei/hs6st1___Snap-159319_seg.npy\n"
     ]
    },
    {
     "name": "stderr",
     "output_type": "stream",
     "text": [
      "/tmp/ipykernel_30464/876349374.py:167: UserWarning: /home/chrism/datasets/tumorcells/classification_t1300.0/othercell/hs6st1___Snap-159319.czi_001123.png is a low contrast image\n",
      "  io.imsave(png_file_path, im8)\n"
     ]
    },
    {
     "name": "stdout",
     "output_type": "stream",
     "text": [
      "/home/chrism/datasets/tumorcells/nuclei/ext1___Snap-159093_seg.npy\n"
     ]
    },
    {
     "name": "stderr",
     "output_type": "stream",
     "text": [
      "/tmp/ipykernel_30464/876349374.py:167: UserWarning: /home/chrism/datasets/tumorcells/classification_t1300.0/tumorcell/ext1___Snap-159093.czi_001191.png is a low contrast image\n",
      "  io.imsave(png_file_path, im8)\n"
     ]
    },
    {
     "name": "stdout",
     "output_type": "stream",
     "text": [
      "/home/chrism/datasets/tumorcells/nuclei/hs6st1___Snap-159323_seg.npy\n"
     ]
    },
    {
     "name": "stderr",
     "output_type": "stream",
     "text": [
      "/tmp/ipykernel_30464/876349374.py:167: UserWarning: /home/chrism/datasets/tumorcells/classification_t1300.0/othercell/hs6st1___Snap-159323.czi_000560.png is a low contrast image\n",
      "  io.imsave(png_file_path, im8)\n",
      "/tmp/ipykernel_30464/876349374.py:167: UserWarning: /home/chrism/datasets/tumorcells/classification_t1300.0/othercell/hs6st1___Snap-159323.czi_000732.png is a low contrast image\n",
      "  io.imsave(png_file_path, im8)\n"
     ]
    },
    {
     "name": "stdout",
     "output_type": "stream",
     "text": [
      "/home/chrism/datasets/tumorcells/nuclei/hs3st1___Snap-159095_seg.npy\n",
      "/home/chrism/datasets/tumorcells/nuclei/hs3st1___Snap-159281_seg.npy\n",
      "/home/chrism/datasets/tumorcells/nuclei/hs3st1___Snap-159097_seg.npy\n"
     ]
    },
    {
     "name": "stderr",
     "output_type": "stream",
     "text": [
      "/tmp/ipykernel_30464/876349374.py:167: UserWarning: /home/chrism/datasets/tumorcells/classification_t1300.0/tumorcell/hs3st1___Snap-159097.czi_001195.png is a low contrast image\n",
      "  io.imsave(png_file_path, im8)\n"
     ]
    },
    {
     "name": "stdout",
     "output_type": "stream",
     "text": [
      "/home/chrism/datasets/tumorcells/nuclei/hs6st1___Snap-159324_seg.npy\n",
      "/home/chrism/datasets/tumorcells/nuclei/hs3st1___Snap-159094_seg.npy\n"
     ]
    },
    {
     "name": "stderr",
     "output_type": "stream",
     "text": [
      "/tmp/ipykernel_30464/876349374.py:167: UserWarning: /home/chrism/datasets/tumorcells/classification_t1350.0/tumorcell/hs3st1___Snap-159094.czi_001376.png is a low contrast image\n",
      "  io.imsave(png_file_path, im8)\n"
     ]
    },
    {
     "name": "stdout",
     "output_type": "stream",
     "text": [
      "/home/chrism/datasets/tumorcells/nuclei/ext1___Snap-159094_seg.npy\n"
     ]
    },
    {
     "name": "stderr",
     "output_type": "stream",
     "text": [
      "/tmp/ipykernel_30464/876349374.py:167: UserWarning: /home/chrism/datasets/tumorcells/classification_t1350.0/tumorcell/ext1___Snap-159094.czi_001376.png is a low contrast image\n",
      "  io.imsave(png_file_path, im8)\n"
     ]
    },
    {
     "name": "stdout",
     "output_type": "stream",
     "text": [
      "/home/chrism/datasets/tumorcells/nuclei/ext1___Snap-159095_seg.npy\n",
      "/home/chrism/datasets/tumorcells/nuclei/hs3st1___Snap-159279_seg.npy\n",
      "/home/chrism/datasets/tumorcells/nuclei/hs6st1___Snap-159326_seg.npy\n",
      "/home/chrism/datasets/tumorcells/nuclei/hs6st1___Snap-159322_seg.npy\n"
     ]
    },
    {
     "name": "stderr",
     "output_type": "stream",
     "text": [
      "/tmp/ipykernel_30464/876349374.py:167: UserWarning: /home/chrism/datasets/tumorcells/classification_t1350.0/othercell/hs6st1___Snap-159322.czi_001342.png is a low contrast image\n",
      "  io.imsave(png_file_path, im8)\n"
     ]
    },
    {
     "name": "stdout",
     "output_type": "stream",
     "text": [
      "/home/chrism/datasets/tumorcells/nuclei/hs6st1___Snap-159319_seg.npy\n"
     ]
    },
    {
     "name": "stderr",
     "output_type": "stream",
     "text": [
      "/tmp/ipykernel_30464/876349374.py:167: UserWarning: /home/chrism/datasets/tumorcells/classification_t1350.0/othercell/hs6st1___Snap-159319.czi_001123.png is a low contrast image\n",
      "  io.imsave(png_file_path, im8)\n"
     ]
    },
    {
     "name": "stdout",
     "output_type": "stream",
     "text": [
      "/home/chrism/datasets/tumorcells/nuclei/ext1___Snap-159093_seg.npy\n"
     ]
    },
    {
     "name": "stderr",
     "output_type": "stream",
     "text": [
      "/tmp/ipykernel_30464/876349374.py:167: UserWarning: /home/chrism/datasets/tumorcells/classification_t1350.0/tumorcell/ext1___Snap-159093.czi_001191.png is a low contrast image\n",
      "  io.imsave(png_file_path, im8)\n"
     ]
    },
    {
     "name": "stdout",
     "output_type": "stream",
     "text": [
      "/home/chrism/datasets/tumorcells/nuclei/hs6st1___Snap-159323_seg.npy\n"
     ]
    },
    {
     "name": "stderr",
     "output_type": "stream",
     "text": [
      "/tmp/ipykernel_30464/876349374.py:167: UserWarning: /home/chrism/datasets/tumorcells/classification_t1350.0/othercell/hs6st1___Snap-159323.czi_000560.png is a low contrast image\n",
      "  io.imsave(png_file_path, im8)\n",
      "/tmp/ipykernel_30464/876349374.py:167: UserWarning: /home/chrism/datasets/tumorcells/classification_t1350.0/othercell/hs6st1___Snap-159323.czi_000732.png is a low contrast image\n",
      "  io.imsave(png_file_path, im8)\n"
     ]
    },
    {
     "name": "stdout",
     "output_type": "stream",
     "text": [
      "/home/chrism/datasets/tumorcells/nuclei/hs3st1___Snap-159095_seg.npy\n",
      "/home/chrism/datasets/tumorcells/nuclei/hs3st1___Snap-159281_seg.npy\n",
      "/home/chrism/datasets/tumorcells/nuclei/hs3st1___Snap-159097_seg.npy\n"
     ]
    },
    {
     "name": "stderr",
     "output_type": "stream",
     "text": [
      "/tmp/ipykernel_30464/876349374.py:167: UserWarning: /home/chrism/datasets/tumorcells/classification_t1350.0/tumorcell/hs3st1___Snap-159097.czi_001195.png is a low contrast image\n",
      "  io.imsave(png_file_path, im8)\n"
     ]
    },
    {
     "name": "stdout",
     "output_type": "stream",
     "text": [
      "/home/chrism/datasets/tumorcells/nuclei/hs6st1___Snap-159324_seg.npy\n",
      "/home/chrism/datasets/tumorcells/nuclei/hs3st1___Snap-159094_seg.npy\n"
     ]
    },
    {
     "name": "stderr",
     "output_type": "stream",
     "text": [
      "/tmp/ipykernel_30464/876349374.py:167: UserWarning: /home/chrism/datasets/tumorcells/classification_t1400.0/tumorcell/hs3st1___Snap-159094.czi_001376.png is a low contrast image\n",
      "  io.imsave(png_file_path, im8)\n"
     ]
    },
    {
     "name": "stdout",
     "output_type": "stream",
     "text": [
      "/home/chrism/datasets/tumorcells/nuclei/ext1___Snap-159094_seg.npy\n"
     ]
    },
    {
     "name": "stderr",
     "output_type": "stream",
     "text": [
      "/tmp/ipykernel_30464/876349374.py:167: UserWarning: /home/chrism/datasets/tumorcells/classification_t1400.0/tumorcell/ext1___Snap-159094.czi_001376.png is a low contrast image\n",
      "  io.imsave(png_file_path, im8)\n"
     ]
    },
    {
     "name": "stdout",
     "output_type": "stream",
     "text": [
      "/home/chrism/datasets/tumorcells/nuclei/ext1___Snap-159095_seg.npy\n",
      "/home/chrism/datasets/tumorcells/nuclei/hs3st1___Snap-159279_seg.npy\n",
      "/home/chrism/datasets/tumorcells/nuclei/hs6st1___Snap-159326_seg.npy\n",
      "/home/chrism/datasets/tumorcells/nuclei/hs6st1___Snap-159322_seg.npy\n"
     ]
    },
    {
     "name": "stderr",
     "output_type": "stream",
     "text": [
      "/tmp/ipykernel_30464/876349374.py:167: UserWarning: /home/chrism/datasets/tumorcells/classification_t1400.0/othercell/hs6st1___Snap-159322.czi_001342.png is a low contrast image\n",
      "  io.imsave(png_file_path, im8)\n"
     ]
    },
    {
     "name": "stdout",
     "output_type": "stream",
     "text": [
      "/home/chrism/datasets/tumorcells/nuclei/hs6st1___Snap-159319_seg.npy\n"
     ]
    },
    {
     "name": "stderr",
     "output_type": "stream",
     "text": [
      "/tmp/ipykernel_30464/876349374.py:167: UserWarning: /home/chrism/datasets/tumorcells/classification_t1400.0/othercell/hs6st1___Snap-159319.czi_001123.png is a low contrast image\n",
      "  io.imsave(png_file_path, im8)\n"
     ]
    },
    {
     "name": "stdout",
     "output_type": "stream",
     "text": [
      "/home/chrism/datasets/tumorcells/nuclei/ext1___Snap-159093_seg.npy\n"
     ]
    },
    {
     "name": "stderr",
     "output_type": "stream",
     "text": [
      "/tmp/ipykernel_30464/876349374.py:167: UserWarning: /home/chrism/datasets/tumorcells/classification_t1400.0/tumorcell/ext1___Snap-159093.czi_001191.png is a low contrast image\n",
      "  io.imsave(png_file_path, im8)\n"
     ]
    },
    {
     "name": "stdout",
     "output_type": "stream",
     "text": [
      "/home/chrism/datasets/tumorcells/nuclei/hs6st1___Snap-159323_seg.npy\n"
     ]
    },
    {
     "name": "stderr",
     "output_type": "stream",
     "text": [
      "/tmp/ipykernel_30464/876349374.py:167: UserWarning: /home/chrism/datasets/tumorcells/classification_t1400.0/othercell/hs6st1___Snap-159323.czi_000560.png is a low contrast image\n",
      "  io.imsave(png_file_path, im8)\n",
      "/tmp/ipykernel_30464/876349374.py:167: UserWarning: /home/chrism/datasets/tumorcells/classification_t1400.0/othercell/hs6st1___Snap-159323.czi_000732.png is a low contrast image\n",
      "  io.imsave(png_file_path, im8)\n"
     ]
    },
    {
     "name": "stdout",
     "output_type": "stream",
     "text": [
      "/home/chrism/datasets/tumorcells/nuclei/hs3st1___Snap-159095_seg.npy\n",
      "/home/chrism/datasets/tumorcells/nuclei/hs3st1___Snap-159281_seg.npy\n",
      "/home/chrism/datasets/tumorcells/nuclei/hs3st1___Snap-159097_seg.npy\n"
     ]
    },
    {
     "name": "stderr",
     "output_type": "stream",
     "text": [
      "/tmp/ipykernel_30464/876349374.py:167: UserWarning: /home/chrism/datasets/tumorcells/classification_t1400.0/othercell/hs3st1___Snap-159097.czi_001195.png is a low contrast image\n",
      "  io.imsave(png_file_path, im8)\n"
     ]
    },
    {
     "name": "stdout",
     "output_type": "stream",
     "text": [
      "/home/chrism/datasets/tumorcells/nuclei/hs6st1___Snap-159324_seg.npy\n",
      "/home/chrism/datasets/tumorcells/nuclei/hs3st1___Snap-159094_seg.npy\n"
     ]
    },
    {
     "name": "stderr",
     "output_type": "stream",
     "text": [
      "/tmp/ipykernel_30464/876349374.py:167: UserWarning: /home/chrism/datasets/tumorcells/classification_t1450.0/tumorcell/hs3st1___Snap-159094.czi_001376.png is a low contrast image\n",
      "  io.imsave(png_file_path, im8)\n"
     ]
    },
    {
     "name": "stdout",
     "output_type": "stream",
     "text": [
      "/home/chrism/datasets/tumorcells/nuclei/ext1___Snap-159094_seg.npy\n"
     ]
    },
    {
     "name": "stderr",
     "output_type": "stream",
     "text": [
      "/tmp/ipykernel_30464/876349374.py:167: UserWarning: /home/chrism/datasets/tumorcells/classification_t1450.0/tumorcell/ext1___Snap-159094.czi_001376.png is a low contrast image\n",
      "  io.imsave(png_file_path, im8)\n"
     ]
    },
    {
     "name": "stdout",
     "output_type": "stream",
     "text": [
      "/home/chrism/datasets/tumorcells/nuclei/ext1___Snap-159095_seg.npy\n",
      "/home/chrism/datasets/tumorcells/nuclei/hs3st1___Snap-159279_seg.npy\n",
      "/home/chrism/datasets/tumorcells/nuclei/hs6st1___Snap-159326_seg.npy\n",
      "/home/chrism/datasets/tumorcells/nuclei/hs6st1___Snap-159322_seg.npy\n"
     ]
    },
    {
     "name": "stderr",
     "output_type": "stream",
     "text": [
      "/tmp/ipykernel_30464/876349374.py:167: UserWarning: /home/chrism/datasets/tumorcells/classification_t1450.0/othercell/hs6st1___Snap-159322.czi_001342.png is a low contrast image\n",
      "  io.imsave(png_file_path, im8)\n"
     ]
    },
    {
     "name": "stdout",
     "output_type": "stream",
     "text": [
      "/home/chrism/datasets/tumorcells/nuclei/hs6st1___Snap-159319_seg.npy\n"
     ]
    },
    {
     "name": "stderr",
     "output_type": "stream",
     "text": [
      "/tmp/ipykernel_30464/876349374.py:167: UserWarning: /home/chrism/datasets/tumorcells/classification_t1450.0/othercell/hs6st1___Snap-159319.czi_001123.png is a low contrast image\n",
      "  io.imsave(png_file_path, im8)\n"
     ]
    },
    {
     "name": "stdout",
     "output_type": "stream",
     "text": [
      "/home/chrism/datasets/tumorcells/nuclei/ext1___Snap-159093_seg.npy\n"
     ]
    },
    {
     "name": "stderr",
     "output_type": "stream",
     "text": [
      "/tmp/ipykernel_30464/876349374.py:167: UserWarning: /home/chrism/datasets/tumorcells/classification_t1450.0/tumorcell/ext1___Snap-159093.czi_001191.png is a low contrast image\n",
      "  io.imsave(png_file_path, im8)\n"
     ]
    },
    {
     "name": "stdout",
     "output_type": "stream",
     "text": [
      "/home/chrism/datasets/tumorcells/nuclei/hs6st1___Snap-159323_seg.npy\n"
     ]
    },
    {
     "name": "stderr",
     "output_type": "stream",
     "text": [
      "/tmp/ipykernel_30464/876349374.py:167: UserWarning: /home/chrism/datasets/tumorcells/classification_t1450.0/othercell/hs6st1___Snap-159323.czi_000560.png is a low contrast image\n",
      "  io.imsave(png_file_path, im8)\n",
      "/tmp/ipykernel_30464/876349374.py:167: UserWarning: /home/chrism/datasets/tumorcells/classification_t1450.0/othercell/hs6st1___Snap-159323.czi_000732.png is a low contrast image\n",
      "  io.imsave(png_file_path, im8)\n"
     ]
    },
    {
     "name": "stdout",
     "output_type": "stream",
     "text": [
      "/home/chrism/datasets/tumorcells/nuclei/hs3st1___Snap-159095_seg.npy\n",
      "/home/chrism/datasets/tumorcells/nuclei/hs3st1___Snap-159281_seg.npy\n",
      "/home/chrism/datasets/tumorcells/nuclei/hs3st1___Snap-159097_seg.npy\n"
     ]
    },
    {
     "name": "stderr",
     "output_type": "stream",
     "text": [
      "/tmp/ipykernel_30464/876349374.py:167: UserWarning: /home/chrism/datasets/tumorcells/classification_t1450.0/othercell/hs3st1___Snap-159097.czi_001195.png is a low contrast image\n",
      "  io.imsave(png_file_path, im8)\n"
     ]
    },
    {
     "name": "stdout",
     "output_type": "stream",
     "text": [
      "/home/chrism/datasets/tumorcells/nuclei/hs6st1___Snap-159324_seg.npy\n",
      "/home/chrism/datasets/tumorcells/nuclei/hs3st1___Snap-159094_seg.npy\n"
     ]
    },
    {
     "name": "stderr",
     "output_type": "stream",
     "text": [
      "/tmp/ipykernel_30464/876349374.py:167: UserWarning: /home/chrism/datasets/tumorcells/classification_t1500.0/othercell/hs3st1___Snap-159094.czi_001376.png is a low contrast image\n",
      "  io.imsave(png_file_path, im8)\n"
     ]
    },
    {
     "name": "stdout",
     "output_type": "stream",
     "text": [
      "/home/chrism/datasets/tumorcells/nuclei/ext1___Snap-159094_seg.npy\n"
     ]
    },
    {
     "name": "stderr",
     "output_type": "stream",
     "text": [
      "/tmp/ipykernel_30464/876349374.py:167: UserWarning: /home/chrism/datasets/tumorcells/classification_t1500.0/othercell/ext1___Snap-159094.czi_001376.png is a low contrast image\n",
      "  io.imsave(png_file_path, im8)\n"
     ]
    },
    {
     "name": "stdout",
     "output_type": "stream",
     "text": [
      "/home/chrism/datasets/tumorcells/nuclei/ext1___Snap-159095_seg.npy\n",
      "/home/chrism/datasets/tumorcells/nuclei/hs3st1___Snap-159279_seg.npy\n",
      "/home/chrism/datasets/tumorcells/nuclei/hs6st1___Snap-159326_seg.npy\n",
      "/home/chrism/datasets/tumorcells/nuclei/hs6st1___Snap-159322_seg.npy\n"
     ]
    },
    {
     "name": "stderr",
     "output_type": "stream",
     "text": [
      "/tmp/ipykernel_30464/876349374.py:167: UserWarning: /home/chrism/datasets/tumorcells/classification_t1500.0/othercell/hs6st1___Snap-159322.czi_001342.png is a low contrast image\n",
      "  io.imsave(png_file_path, im8)\n"
     ]
    },
    {
     "name": "stdout",
     "output_type": "stream",
     "text": [
      "/home/chrism/datasets/tumorcells/nuclei/hs6st1___Snap-159319_seg.npy\n"
     ]
    },
    {
     "name": "stderr",
     "output_type": "stream",
     "text": [
      "/tmp/ipykernel_30464/876349374.py:167: UserWarning: /home/chrism/datasets/tumorcells/classification_t1500.0/othercell/hs6st1___Snap-159319.czi_001123.png is a low contrast image\n",
      "  io.imsave(png_file_path, im8)\n"
     ]
    },
    {
     "name": "stdout",
     "output_type": "stream",
     "text": [
      "/home/chrism/datasets/tumorcells/nuclei/ext1___Snap-159093_seg.npy\n"
     ]
    },
    {
     "name": "stderr",
     "output_type": "stream",
     "text": [
      "/tmp/ipykernel_30464/876349374.py:167: UserWarning: /home/chrism/datasets/tumorcells/classification_t1500.0/tumorcell/ext1___Snap-159093.czi_001191.png is a low contrast image\n",
      "  io.imsave(png_file_path, im8)\n"
     ]
    },
    {
     "name": "stdout",
     "output_type": "stream",
     "text": [
      "/home/chrism/datasets/tumorcells/nuclei/hs6st1___Snap-159323_seg.npy\n"
     ]
    },
    {
     "name": "stderr",
     "output_type": "stream",
     "text": [
      "/tmp/ipykernel_30464/876349374.py:167: UserWarning: /home/chrism/datasets/tumorcells/classification_t1500.0/othercell/hs6st1___Snap-159323.czi_000560.png is a low contrast image\n",
      "  io.imsave(png_file_path, im8)\n",
      "/tmp/ipykernel_30464/876349374.py:167: UserWarning: /home/chrism/datasets/tumorcells/classification_t1500.0/othercell/hs6st1___Snap-159323.czi_000732.png is a low contrast image\n",
      "  io.imsave(png_file_path, im8)\n"
     ]
    },
    {
     "name": "stdout",
     "output_type": "stream",
     "text": [
      "/home/chrism/datasets/tumorcells/nuclei/hs3st1___Snap-159095_seg.npy\n",
      "/home/chrism/datasets/tumorcells/nuclei/hs3st1___Snap-159281_seg.npy\n",
      "/home/chrism/datasets/tumorcells/nuclei/hs3st1___Snap-159097_seg.npy\n"
     ]
    },
    {
     "name": "stderr",
     "output_type": "stream",
     "text": [
      "/tmp/ipykernel_30464/876349374.py:167: UserWarning: /home/chrism/datasets/tumorcells/classification_t1500.0/othercell/hs3st1___Snap-159097.czi_001195.png is a low contrast image\n",
      "  io.imsave(png_file_path, im8)\n"
     ]
    },
    {
     "name": "stdout",
     "output_type": "stream",
     "text": [
      "/home/chrism/datasets/tumorcells/nuclei/hs6st1___Snap-159324_seg.npy\n",
      "/home/chrism/datasets/tumorcells/nuclei/hs3st1___Snap-159094_seg.npy\n"
     ]
    },
    {
     "name": "stderr",
     "output_type": "stream",
     "text": [
      "/tmp/ipykernel_30464/876349374.py:167: UserWarning: /home/chrism/datasets/tumorcells/classification_t1550.0/othercell/hs3st1___Snap-159094.czi_001376.png is a low contrast image\n",
      "  io.imsave(png_file_path, im8)\n"
     ]
    },
    {
     "name": "stdout",
     "output_type": "stream",
     "text": [
      "/home/chrism/datasets/tumorcells/nuclei/ext1___Snap-159094_seg.npy\n"
     ]
    },
    {
     "name": "stderr",
     "output_type": "stream",
     "text": [
      "/tmp/ipykernel_30464/876349374.py:167: UserWarning: /home/chrism/datasets/tumorcells/classification_t1550.0/othercell/ext1___Snap-159094.czi_001376.png is a low contrast image\n",
      "  io.imsave(png_file_path, im8)\n"
     ]
    },
    {
     "name": "stdout",
     "output_type": "stream",
     "text": [
      "/home/chrism/datasets/tumorcells/nuclei/ext1___Snap-159095_seg.npy\n",
      "/home/chrism/datasets/tumorcells/nuclei/hs3st1___Snap-159279_seg.npy\n",
      "/home/chrism/datasets/tumorcells/nuclei/hs6st1___Snap-159326_seg.npy\n",
      "/home/chrism/datasets/tumorcells/nuclei/hs6st1___Snap-159322_seg.npy\n"
     ]
    },
    {
     "name": "stderr",
     "output_type": "stream",
     "text": [
      "/tmp/ipykernel_30464/876349374.py:167: UserWarning: /home/chrism/datasets/tumorcells/classification_t1550.0/othercell/hs6st1___Snap-159322.czi_001342.png is a low contrast image\n",
      "  io.imsave(png_file_path, im8)\n"
     ]
    },
    {
     "name": "stdout",
     "output_type": "stream",
     "text": [
      "/home/chrism/datasets/tumorcells/nuclei/hs6st1___Snap-159319_seg.npy\n"
     ]
    },
    {
     "name": "stderr",
     "output_type": "stream",
     "text": [
      "/tmp/ipykernel_30464/876349374.py:167: UserWarning: /home/chrism/datasets/tumorcells/classification_t1550.0/othercell/hs6st1___Snap-159319.czi_001123.png is a low contrast image\n",
      "  io.imsave(png_file_path, im8)\n"
     ]
    },
    {
     "name": "stdout",
     "output_type": "stream",
     "text": [
      "/home/chrism/datasets/tumorcells/nuclei/ext1___Snap-159093_seg.npy\n"
     ]
    },
    {
     "name": "stderr",
     "output_type": "stream",
     "text": [
      "/tmp/ipykernel_30464/876349374.py:167: UserWarning: /home/chrism/datasets/tumorcells/classification_t1550.0/tumorcell/ext1___Snap-159093.czi_001191.png is a low contrast image\n",
      "  io.imsave(png_file_path, im8)\n"
     ]
    },
    {
     "name": "stdout",
     "output_type": "stream",
     "text": [
      "/home/chrism/datasets/tumorcells/nuclei/hs6st1___Snap-159323_seg.npy\n"
     ]
    },
    {
     "name": "stderr",
     "output_type": "stream",
     "text": [
      "/tmp/ipykernel_30464/876349374.py:167: UserWarning: /home/chrism/datasets/tumorcells/classification_t1550.0/othercell/hs6st1___Snap-159323.czi_000560.png is a low contrast image\n",
      "  io.imsave(png_file_path, im8)\n",
      "/tmp/ipykernel_30464/876349374.py:167: UserWarning: /home/chrism/datasets/tumorcells/classification_t1550.0/othercell/hs6st1___Snap-159323.czi_000732.png is a low contrast image\n",
      "  io.imsave(png_file_path, im8)\n"
     ]
    },
    {
     "name": "stdout",
     "output_type": "stream",
     "text": [
      "/home/chrism/datasets/tumorcells/nuclei/hs3st1___Snap-159095_seg.npy\n",
      "/home/chrism/datasets/tumorcells/nuclei/hs3st1___Snap-159281_seg.npy\n",
      "/home/chrism/datasets/tumorcells/nuclei/hs3st1___Snap-159097_seg.npy\n"
     ]
    },
    {
     "name": "stderr",
     "output_type": "stream",
     "text": [
      "/tmp/ipykernel_30464/876349374.py:167: UserWarning: /home/chrism/datasets/tumorcells/classification_t1550.0/othercell/hs3st1___Snap-159097.czi_001195.png is a low contrast image\n",
      "  io.imsave(png_file_path, im8)\n"
     ]
    },
    {
     "name": "stdout",
     "output_type": "stream",
     "text": [
      "/home/chrism/datasets/tumorcells/nuclei/hs6st1___Snap-159324_seg.npy\n",
      "/home/chrism/datasets/tumorcells/nuclei/hs3st1___Snap-159094_seg.npy\n"
     ]
    },
    {
     "name": "stderr",
     "output_type": "stream",
     "text": [
      "/tmp/ipykernel_30464/876349374.py:167: UserWarning: /home/chrism/datasets/tumorcells/classification_t1600.0/othercell/hs3st1___Snap-159094.czi_001376.png is a low contrast image\n",
      "  io.imsave(png_file_path, im8)\n"
     ]
    },
    {
     "name": "stdout",
     "output_type": "stream",
     "text": [
      "/home/chrism/datasets/tumorcells/nuclei/ext1___Snap-159094_seg.npy\n"
     ]
    },
    {
     "name": "stderr",
     "output_type": "stream",
     "text": [
      "/tmp/ipykernel_30464/876349374.py:167: UserWarning: /home/chrism/datasets/tumorcells/classification_t1600.0/othercell/ext1___Snap-159094.czi_001376.png is a low contrast image\n",
      "  io.imsave(png_file_path, im8)\n"
     ]
    },
    {
     "name": "stdout",
     "output_type": "stream",
     "text": [
      "/home/chrism/datasets/tumorcells/nuclei/ext1___Snap-159095_seg.npy\n",
      "/home/chrism/datasets/tumorcells/nuclei/hs3st1___Snap-159279_seg.npy\n",
      "/home/chrism/datasets/tumorcells/nuclei/hs6st1___Snap-159326_seg.npy\n",
      "/home/chrism/datasets/tumorcells/nuclei/hs6st1___Snap-159322_seg.npy\n"
     ]
    },
    {
     "name": "stderr",
     "output_type": "stream",
     "text": [
      "/tmp/ipykernel_30464/876349374.py:167: UserWarning: /home/chrism/datasets/tumorcells/classification_t1600.0/othercell/hs6st1___Snap-159322.czi_001342.png is a low contrast image\n",
      "  io.imsave(png_file_path, im8)\n"
     ]
    },
    {
     "name": "stdout",
     "output_type": "stream",
     "text": [
      "/home/chrism/datasets/tumorcells/nuclei/hs6st1___Snap-159319_seg.npy\n"
     ]
    },
    {
     "name": "stderr",
     "output_type": "stream",
     "text": [
      "/tmp/ipykernel_30464/876349374.py:167: UserWarning: /home/chrism/datasets/tumorcells/classification_t1600.0/othercell/hs6st1___Snap-159319.czi_001123.png is a low contrast image\n",
      "  io.imsave(png_file_path, im8)\n"
     ]
    },
    {
     "name": "stdout",
     "output_type": "stream",
     "text": [
      "/home/chrism/datasets/tumorcells/nuclei/ext1___Snap-159093_seg.npy\n"
     ]
    },
    {
     "name": "stderr",
     "output_type": "stream",
     "text": [
      "/tmp/ipykernel_30464/876349374.py:167: UserWarning: /home/chrism/datasets/tumorcells/classification_t1600.0/tumorcell/ext1___Snap-159093.czi_001191.png is a low contrast image\n",
      "  io.imsave(png_file_path, im8)\n"
     ]
    },
    {
     "name": "stdout",
     "output_type": "stream",
     "text": [
      "/home/chrism/datasets/tumorcells/nuclei/hs6st1___Snap-159323_seg.npy\n"
     ]
    },
    {
     "name": "stderr",
     "output_type": "stream",
     "text": [
      "/tmp/ipykernel_30464/876349374.py:167: UserWarning: /home/chrism/datasets/tumorcells/classification_t1600.0/othercell/hs6st1___Snap-159323.czi_000560.png is a low contrast image\n",
      "  io.imsave(png_file_path, im8)\n",
      "/tmp/ipykernel_30464/876349374.py:167: UserWarning: /home/chrism/datasets/tumorcells/classification_t1600.0/othercell/hs6st1___Snap-159323.czi_000732.png is a low contrast image\n",
      "  io.imsave(png_file_path, im8)\n"
     ]
    },
    {
     "name": "stdout",
     "output_type": "stream",
     "text": [
      "/home/chrism/datasets/tumorcells/nuclei/hs3st1___Snap-159095_seg.npy\n",
      "/home/chrism/datasets/tumorcells/nuclei/hs3st1___Snap-159281_seg.npy\n",
      "/home/chrism/datasets/tumorcells/nuclei/hs3st1___Snap-159097_seg.npy\n"
     ]
    },
    {
     "name": "stderr",
     "output_type": "stream",
     "text": [
      "/tmp/ipykernel_30464/876349374.py:167: UserWarning: /home/chrism/datasets/tumorcells/classification_t1600.0/othercell/hs3st1___Snap-159097.czi_001195.png is a low contrast image\n",
      "  io.imsave(png_file_path, im8)\n"
     ]
    },
    {
     "name": "stdout",
     "output_type": "stream",
     "text": [
      "/home/chrism/datasets/tumorcells/nuclei/hs6st1___Snap-159324_seg.npy\n",
      "/home/chrism/datasets/tumorcells/nuclei/hs3st1___Snap-159094_seg.npy\n"
     ]
    },
    {
     "name": "stderr",
     "output_type": "stream",
     "text": [
      "/tmp/ipykernel_30464/876349374.py:167: UserWarning: /home/chrism/datasets/tumorcells/classification_t1650.0/othercell/hs3st1___Snap-159094.czi_001376.png is a low contrast image\n",
      "  io.imsave(png_file_path, im8)\n"
     ]
    },
    {
     "name": "stdout",
     "output_type": "stream",
     "text": [
      "/home/chrism/datasets/tumorcells/nuclei/ext1___Snap-159094_seg.npy\n"
     ]
    },
    {
     "name": "stderr",
     "output_type": "stream",
     "text": [
      "/tmp/ipykernel_30464/876349374.py:167: UserWarning: /home/chrism/datasets/tumorcells/classification_t1650.0/othercell/ext1___Snap-159094.czi_001376.png is a low contrast image\n",
      "  io.imsave(png_file_path, im8)\n"
     ]
    },
    {
     "name": "stdout",
     "output_type": "stream",
     "text": [
      "/home/chrism/datasets/tumorcells/nuclei/ext1___Snap-159095_seg.npy\n",
      "/home/chrism/datasets/tumorcells/nuclei/hs3st1___Snap-159279_seg.npy\n",
      "/home/chrism/datasets/tumorcells/nuclei/hs6st1___Snap-159326_seg.npy\n",
      "/home/chrism/datasets/tumorcells/nuclei/hs6st1___Snap-159322_seg.npy\n"
     ]
    },
    {
     "name": "stderr",
     "output_type": "stream",
     "text": [
      "/tmp/ipykernel_30464/876349374.py:167: UserWarning: /home/chrism/datasets/tumorcells/classification_t1650.0/othercell/hs6st1___Snap-159322.czi_001342.png is a low contrast image\n",
      "  io.imsave(png_file_path, im8)\n"
     ]
    },
    {
     "name": "stdout",
     "output_type": "stream",
     "text": [
      "/home/chrism/datasets/tumorcells/nuclei/hs6st1___Snap-159319_seg.npy\n"
     ]
    },
    {
     "name": "stderr",
     "output_type": "stream",
     "text": [
      "/tmp/ipykernel_30464/876349374.py:167: UserWarning: /home/chrism/datasets/tumorcells/classification_t1650.0/othercell/hs6st1___Snap-159319.czi_001123.png is a low contrast image\n",
      "  io.imsave(png_file_path, im8)\n"
     ]
    },
    {
     "name": "stdout",
     "output_type": "stream",
     "text": [
      "/home/chrism/datasets/tumorcells/nuclei/ext1___Snap-159093_seg.npy\n"
     ]
    },
    {
     "name": "stderr",
     "output_type": "stream",
     "text": [
      "/tmp/ipykernel_30464/876349374.py:167: UserWarning: /home/chrism/datasets/tumorcells/classification_t1650.0/othercell/ext1___Snap-159093.czi_001191.png is a low contrast image\n",
      "  io.imsave(png_file_path, im8)\n"
     ]
    },
    {
     "name": "stdout",
     "output_type": "stream",
     "text": [
      "/home/chrism/datasets/tumorcells/nuclei/hs6st1___Snap-159323_seg.npy\n"
     ]
    },
    {
     "name": "stderr",
     "output_type": "stream",
     "text": [
      "/tmp/ipykernel_30464/876349374.py:167: UserWarning: /home/chrism/datasets/tumorcells/classification_t1650.0/othercell/hs6st1___Snap-159323.czi_000560.png is a low contrast image\n",
      "  io.imsave(png_file_path, im8)\n",
      "/tmp/ipykernel_30464/876349374.py:167: UserWarning: /home/chrism/datasets/tumorcells/classification_t1650.0/othercell/hs6st1___Snap-159323.czi_000732.png is a low contrast image\n",
      "  io.imsave(png_file_path, im8)\n"
     ]
    },
    {
     "name": "stdout",
     "output_type": "stream",
     "text": [
      "/home/chrism/datasets/tumorcells/nuclei/hs3st1___Snap-159095_seg.npy\n",
      "/home/chrism/datasets/tumorcells/nuclei/hs3st1___Snap-159281_seg.npy\n",
      "/home/chrism/datasets/tumorcells/nuclei/hs3st1___Snap-159097_seg.npy\n"
     ]
    },
    {
     "name": "stderr",
     "output_type": "stream",
     "text": [
      "/tmp/ipykernel_30464/876349374.py:167: UserWarning: /home/chrism/datasets/tumorcells/classification_t1650.0/othercell/hs3st1___Snap-159097.czi_001195.png is a low contrast image\n",
      "  io.imsave(png_file_path, im8)\n"
     ]
    },
    {
     "name": "stdout",
     "output_type": "stream",
     "text": [
      "/home/chrism/datasets/tumorcells/nuclei/hs6st1___Snap-159324_seg.npy\n",
      "/home/chrism/datasets/tumorcells/nuclei/hs3st1___Snap-159094_seg.npy\n"
     ]
    },
    {
     "name": "stderr",
     "output_type": "stream",
     "text": [
      "/tmp/ipykernel_30464/876349374.py:167: UserWarning: /home/chrism/datasets/tumorcells/classification_t1700.0/othercell/hs3st1___Snap-159094.czi_001376.png is a low contrast image\n",
      "  io.imsave(png_file_path, im8)\n"
     ]
    },
    {
     "name": "stdout",
     "output_type": "stream",
     "text": [
      "/home/chrism/datasets/tumorcells/nuclei/ext1___Snap-159094_seg.npy\n"
     ]
    },
    {
     "name": "stderr",
     "output_type": "stream",
     "text": [
      "/tmp/ipykernel_30464/876349374.py:167: UserWarning: /home/chrism/datasets/tumorcells/classification_t1700.0/othercell/ext1___Snap-159094.czi_001376.png is a low contrast image\n",
      "  io.imsave(png_file_path, im8)\n"
     ]
    },
    {
     "name": "stdout",
     "output_type": "stream",
     "text": [
      "/home/chrism/datasets/tumorcells/nuclei/ext1___Snap-159095_seg.npy\n",
      "/home/chrism/datasets/tumorcells/nuclei/hs3st1___Snap-159279_seg.npy\n",
      "/home/chrism/datasets/tumorcells/nuclei/hs6st1___Snap-159326_seg.npy\n",
      "/home/chrism/datasets/tumorcells/nuclei/hs6st1___Snap-159322_seg.npy\n"
     ]
    },
    {
     "name": "stderr",
     "output_type": "stream",
     "text": [
      "/tmp/ipykernel_30464/876349374.py:167: UserWarning: /home/chrism/datasets/tumorcells/classification_t1700.0/othercell/hs6st1___Snap-159322.czi_001342.png is a low contrast image\n",
      "  io.imsave(png_file_path, im8)\n"
     ]
    },
    {
     "name": "stdout",
     "output_type": "stream",
     "text": [
      "/home/chrism/datasets/tumorcells/nuclei/hs6st1___Snap-159319_seg.npy\n"
     ]
    },
    {
     "name": "stderr",
     "output_type": "stream",
     "text": [
      "/tmp/ipykernel_30464/876349374.py:167: UserWarning: /home/chrism/datasets/tumorcells/classification_t1700.0/othercell/hs6st1___Snap-159319.czi_001123.png is a low contrast image\n",
      "  io.imsave(png_file_path, im8)\n"
     ]
    },
    {
     "name": "stdout",
     "output_type": "stream",
     "text": [
      "/home/chrism/datasets/tumorcells/nuclei/ext1___Snap-159093_seg.npy\n"
     ]
    },
    {
     "name": "stderr",
     "output_type": "stream",
     "text": [
      "/tmp/ipykernel_30464/876349374.py:167: UserWarning: /home/chrism/datasets/tumorcells/classification_t1700.0/othercell/ext1___Snap-159093.czi_001191.png is a low contrast image\n",
      "  io.imsave(png_file_path, im8)\n"
     ]
    },
    {
     "name": "stdout",
     "output_type": "stream",
     "text": [
      "/home/chrism/datasets/tumorcells/nuclei/hs6st1___Snap-159323_seg.npy\n"
     ]
    },
    {
     "name": "stderr",
     "output_type": "stream",
     "text": [
      "/tmp/ipykernel_30464/876349374.py:167: UserWarning: /home/chrism/datasets/tumorcells/classification_t1700.0/othercell/hs6st1___Snap-159323.czi_000560.png is a low contrast image\n",
      "  io.imsave(png_file_path, im8)\n",
      "/tmp/ipykernel_30464/876349374.py:167: UserWarning: /home/chrism/datasets/tumorcells/classification_t1700.0/othercell/hs6st1___Snap-159323.czi_000732.png is a low contrast image\n",
      "  io.imsave(png_file_path, im8)\n"
     ]
    },
    {
     "name": "stdout",
     "output_type": "stream",
     "text": [
      "/home/chrism/datasets/tumorcells/nuclei/hs3st1___Snap-159095_seg.npy\n",
      "/home/chrism/datasets/tumorcells/nuclei/hs3st1___Snap-159281_seg.npy\n",
      "/home/chrism/datasets/tumorcells/nuclei/hs3st1___Snap-159097_seg.npy\n"
     ]
    },
    {
     "name": "stderr",
     "output_type": "stream",
     "text": [
      "/tmp/ipykernel_30464/876349374.py:167: UserWarning: /home/chrism/datasets/tumorcells/classification_t1700.0/othercell/hs3st1___Snap-159097.czi_001195.png is a low contrast image\n",
      "  io.imsave(png_file_path, im8)\n"
     ]
    },
    {
     "name": "stdout",
     "output_type": "stream",
     "text": [
      "/home/chrism/datasets/tumorcells/nuclei/hs6st1___Snap-159324_seg.npy\n",
      "/home/chrism/datasets/tumorcells/nuclei/hs3st1___Snap-159094_seg.npy\n"
     ]
    },
    {
     "name": "stderr",
     "output_type": "stream",
     "text": [
      "/tmp/ipykernel_30464/876349374.py:167: UserWarning: /home/chrism/datasets/tumorcells/classification_t1750.0/othercell/hs3st1___Snap-159094.czi_001376.png is a low contrast image\n",
      "  io.imsave(png_file_path, im8)\n"
     ]
    },
    {
     "name": "stdout",
     "output_type": "stream",
     "text": [
      "/home/chrism/datasets/tumorcells/nuclei/ext1___Snap-159094_seg.npy\n"
     ]
    },
    {
     "name": "stderr",
     "output_type": "stream",
     "text": [
      "/tmp/ipykernel_30464/876349374.py:167: UserWarning: /home/chrism/datasets/tumorcells/classification_t1750.0/othercell/ext1___Snap-159094.czi_001376.png is a low contrast image\n",
      "  io.imsave(png_file_path, im8)\n"
     ]
    },
    {
     "name": "stdout",
     "output_type": "stream",
     "text": [
      "/home/chrism/datasets/tumorcells/nuclei/ext1___Snap-159095_seg.npy\n",
      "/home/chrism/datasets/tumorcells/nuclei/hs3st1___Snap-159279_seg.npy\n",
      "/home/chrism/datasets/tumorcells/nuclei/hs6st1___Snap-159326_seg.npy\n",
      "/home/chrism/datasets/tumorcells/nuclei/hs6st1___Snap-159322_seg.npy\n"
     ]
    },
    {
     "name": "stderr",
     "output_type": "stream",
     "text": [
      "/tmp/ipykernel_30464/876349374.py:167: UserWarning: /home/chrism/datasets/tumorcells/classification_t1750.0/othercell/hs6st1___Snap-159322.czi_001342.png is a low contrast image\n",
      "  io.imsave(png_file_path, im8)\n"
     ]
    },
    {
     "name": "stdout",
     "output_type": "stream",
     "text": [
      "/home/chrism/datasets/tumorcells/nuclei/hs6st1___Snap-159319_seg.npy\n"
     ]
    },
    {
     "name": "stderr",
     "output_type": "stream",
     "text": [
      "/tmp/ipykernel_30464/876349374.py:167: UserWarning: /home/chrism/datasets/tumorcells/classification_t1750.0/othercell/hs6st1___Snap-159319.czi_001123.png is a low contrast image\n",
      "  io.imsave(png_file_path, im8)\n"
     ]
    },
    {
     "name": "stdout",
     "output_type": "stream",
     "text": [
      "/home/chrism/datasets/tumorcells/nuclei/ext1___Snap-159093_seg.npy\n"
     ]
    },
    {
     "name": "stderr",
     "output_type": "stream",
     "text": [
      "/tmp/ipykernel_30464/876349374.py:167: UserWarning: /home/chrism/datasets/tumorcells/classification_t1750.0/othercell/ext1___Snap-159093.czi_001191.png is a low contrast image\n",
      "  io.imsave(png_file_path, im8)\n"
     ]
    },
    {
     "name": "stdout",
     "output_type": "stream",
     "text": [
      "/home/chrism/datasets/tumorcells/nuclei/hs6st1___Snap-159323_seg.npy\n"
     ]
    },
    {
     "name": "stderr",
     "output_type": "stream",
     "text": [
      "/tmp/ipykernel_30464/876349374.py:167: UserWarning: /home/chrism/datasets/tumorcells/classification_t1750.0/othercell/hs6st1___Snap-159323.czi_000560.png is a low contrast image\n",
      "  io.imsave(png_file_path, im8)\n",
      "/tmp/ipykernel_30464/876349374.py:167: UserWarning: /home/chrism/datasets/tumorcells/classification_t1750.0/othercell/hs6st1___Snap-159323.czi_000732.png is a low contrast image\n",
      "  io.imsave(png_file_path, im8)\n"
     ]
    },
    {
     "name": "stdout",
     "output_type": "stream",
     "text": [
      "/home/chrism/datasets/tumorcells/nuclei/hs3st1___Snap-159095_seg.npy\n",
      "/home/chrism/datasets/tumorcells/nuclei/hs3st1___Snap-159281_seg.npy\n",
      "/home/chrism/datasets/tumorcells/nuclei/hs3st1___Snap-159097_seg.npy\n"
     ]
    },
    {
     "name": "stderr",
     "output_type": "stream",
     "text": [
      "/tmp/ipykernel_30464/876349374.py:167: UserWarning: /home/chrism/datasets/tumorcells/classification_t1750.0/othercell/hs3st1___Snap-159097.czi_001195.png is a low contrast image\n",
      "  io.imsave(png_file_path, im8)\n"
     ]
    },
    {
     "name": "stdout",
     "output_type": "stream",
     "text": [
      "/home/chrism/datasets/tumorcells/nuclei/hs6st1___Snap-159324_seg.npy\n",
      "/home/chrism/datasets/tumorcells/nuclei/hs3st1___Snap-159094_seg.npy\n"
     ]
    },
    {
     "name": "stderr",
     "output_type": "stream",
     "text": [
      "/tmp/ipykernel_30464/876349374.py:167: UserWarning: /home/chrism/datasets/tumorcells/classification_t1800.0/othercell/hs3st1___Snap-159094.czi_001376.png is a low contrast image\n",
      "  io.imsave(png_file_path, im8)\n"
     ]
    },
    {
     "name": "stdout",
     "output_type": "stream",
     "text": [
      "/home/chrism/datasets/tumorcells/nuclei/ext1___Snap-159094_seg.npy\n"
     ]
    },
    {
     "name": "stderr",
     "output_type": "stream",
     "text": [
      "/tmp/ipykernel_30464/876349374.py:167: UserWarning: /home/chrism/datasets/tumorcells/classification_t1800.0/othercell/ext1___Snap-159094.czi_001376.png is a low contrast image\n",
      "  io.imsave(png_file_path, im8)\n"
     ]
    },
    {
     "name": "stdout",
     "output_type": "stream",
     "text": [
      "/home/chrism/datasets/tumorcells/nuclei/ext1___Snap-159095_seg.npy\n",
      "/home/chrism/datasets/tumorcells/nuclei/hs3st1___Snap-159279_seg.npy\n",
      "/home/chrism/datasets/tumorcells/nuclei/hs6st1___Snap-159326_seg.npy\n",
      "/home/chrism/datasets/tumorcells/nuclei/hs6st1___Snap-159322_seg.npy\n"
     ]
    },
    {
     "name": "stderr",
     "output_type": "stream",
     "text": [
      "/tmp/ipykernel_30464/876349374.py:167: UserWarning: /home/chrism/datasets/tumorcells/classification_t1800.0/othercell/hs6st1___Snap-159322.czi_001342.png is a low contrast image\n",
      "  io.imsave(png_file_path, im8)\n"
     ]
    },
    {
     "name": "stdout",
     "output_type": "stream",
     "text": [
      "/home/chrism/datasets/tumorcells/nuclei/hs6st1___Snap-159319_seg.npy\n"
     ]
    },
    {
     "name": "stderr",
     "output_type": "stream",
     "text": [
      "/tmp/ipykernel_30464/876349374.py:167: UserWarning: /home/chrism/datasets/tumorcells/classification_t1800.0/othercell/hs6st1___Snap-159319.czi_001123.png is a low contrast image\n",
      "  io.imsave(png_file_path, im8)\n"
     ]
    },
    {
     "name": "stdout",
     "output_type": "stream",
     "text": [
      "/home/chrism/datasets/tumorcells/nuclei/ext1___Snap-159093_seg.npy\n"
     ]
    },
    {
     "name": "stderr",
     "output_type": "stream",
     "text": [
      "/tmp/ipykernel_30464/876349374.py:167: UserWarning: /home/chrism/datasets/tumorcells/classification_t1800.0/othercell/ext1___Snap-159093.czi_001191.png is a low contrast image\n",
      "  io.imsave(png_file_path, im8)\n"
     ]
    },
    {
     "name": "stdout",
     "output_type": "stream",
     "text": [
      "/home/chrism/datasets/tumorcells/nuclei/hs6st1___Snap-159323_seg.npy\n"
     ]
    },
    {
     "name": "stderr",
     "output_type": "stream",
     "text": [
      "/tmp/ipykernel_30464/876349374.py:167: UserWarning: /home/chrism/datasets/tumorcells/classification_t1800.0/othercell/hs6st1___Snap-159323.czi_000560.png is a low contrast image\n",
      "  io.imsave(png_file_path, im8)\n",
      "/tmp/ipykernel_30464/876349374.py:167: UserWarning: /home/chrism/datasets/tumorcells/classification_t1800.0/othercell/hs6st1___Snap-159323.czi_000732.png is a low contrast image\n",
      "  io.imsave(png_file_path, im8)\n"
     ]
    },
    {
     "name": "stdout",
     "output_type": "stream",
     "text": [
      "/home/chrism/datasets/tumorcells/nuclei/hs3st1___Snap-159095_seg.npy\n",
      "/home/chrism/datasets/tumorcells/nuclei/hs3st1___Snap-159281_seg.npy\n",
      "/home/chrism/datasets/tumorcells/nuclei/hs3st1___Snap-159097_seg.npy\n"
     ]
    },
    {
     "name": "stderr",
     "output_type": "stream",
     "text": [
      "/tmp/ipykernel_30464/876349374.py:167: UserWarning: /home/chrism/datasets/tumorcells/classification_t1800.0/othercell/hs3st1___Snap-159097.czi_001195.png is a low contrast image\n",
      "  io.imsave(png_file_path, im8)\n"
     ]
    },
    {
     "name": "stdout",
     "output_type": "stream",
     "text": [
      "/home/chrism/datasets/tumorcells/nuclei/hs6st1___Snap-159324_seg.npy\n",
      "/home/chrism/datasets/tumorcells/nuclei/hs3st1___Snap-159094_seg.npy\n"
     ]
    },
    {
     "name": "stderr",
     "output_type": "stream",
     "text": [
      "/tmp/ipykernel_30464/876349374.py:167: UserWarning: /home/chrism/datasets/tumorcells/classification_t1850.0/othercell/hs3st1___Snap-159094.czi_001376.png is a low contrast image\n",
      "  io.imsave(png_file_path, im8)\n"
     ]
    },
    {
     "name": "stdout",
     "output_type": "stream",
     "text": [
      "/home/chrism/datasets/tumorcells/nuclei/ext1___Snap-159094_seg.npy\n"
     ]
    },
    {
     "name": "stderr",
     "output_type": "stream",
     "text": [
      "/tmp/ipykernel_30464/876349374.py:167: UserWarning: /home/chrism/datasets/tumorcells/classification_t1850.0/othercell/ext1___Snap-159094.czi_001376.png is a low contrast image\n",
      "  io.imsave(png_file_path, im8)\n"
     ]
    },
    {
     "name": "stdout",
     "output_type": "stream",
     "text": [
      "/home/chrism/datasets/tumorcells/nuclei/ext1___Snap-159095_seg.npy\n",
      "/home/chrism/datasets/tumorcells/nuclei/hs3st1___Snap-159279_seg.npy\n",
      "/home/chrism/datasets/tumorcells/nuclei/hs6st1___Snap-159326_seg.npy\n",
      "/home/chrism/datasets/tumorcells/nuclei/hs6st1___Snap-159322_seg.npy\n"
     ]
    },
    {
     "name": "stderr",
     "output_type": "stream",
     "text": [
      "/tmp/ipykernel_30464/876349374.py:167: UserWarning: /home/chrism/datasets/tumorcells/classification_t1850.0/othercell/hs6st1___Snap-159322.czi_001342.png is a low contrast image\n",
      "  io.imsave(png_file_path, im8)\n"
     ]
    },
    {
     "name": "stdout",
     "output_type": "stream",
     "text": [
      "/home/chrism/datasets/tumorcells/nuclei/hs6st1___Snap-159319_seg.npy\n"
     ]
    },
    {
     "name": "stderr",
     "output_type": "stream",
     "text": [
      "/tmp/ipykernel_30464/876349374.py:167: UserWarning: /home/chrism/datasets/tumorcells/classification_t1850.0/othercell/hs6st1___Snap-159319.czi_001123.png is a low contrast image\n",
      "  io.imsave(png_file_path, im8)\n"
     ]
    },
    {
     "name": "stdout",
     "output_type": "stream",
     "text": [
      "/home/chrism/datasets/tumorcells/nuclei/ext1___Snap-159093_seg.npy\n"
     ]
    },
    {
     "name": "stderr",
     "output_type": "stream",
     "text": [
      "/tmp/ipykernel_30464/876349374.py:167: UserWarning: /home/chrism/datasets/tumorcells/classification_t1850.0/othercell/ext1___Snap-159093.czi_001191.png is a low contrast image\n",
      "  io.imsave(png_file_path, im8)\n"
     ]
    },
    {
     "name": "stdout",
     "output_type": "stream",
     "text": [
      "/home/chrism/datasets/tumorcells/nuclei/hs6st1___Snap-159323_seg.npy\n"
     ]
    },
    {
     "name": "stderr",
     "output_type": "stream",
     "text": [
      "/tmp/ipykernel_30464/876349374.py:167: UserWarning: /home/chrism/datasets/tumorcells/classification_t1850.0/othercell/hs6st1___Snap-159323.czi_000560.png is a low contrast image\n",
      "  io.imsave(png_file_path, im8)\n",
      "/tmp/ipykernel_30464/876349374.py:167: UserWarning: /home/chrism/datasets/tumorcells/classification_t1850.0/othercell/hs6st1___Snap-159323.czi_000732.png is a low contrast image\n",
      "  io.imsave(png_file_path, im8)\n"
     ]
    },
    {
     "name": "stdout",
     "output_type": "stream",
     "text": [
      "/home/chrism/datasets/tumorcells/nuclei/hs3st1___Snap-159095_seg.npy\n",
      "/home/chrism/datasets/tumorcells/nuclei/hs3st1___Snap-159281_seg.npy\n",
      "/home/chrism/datasets/tumorcells/nuclei/hs3st1___Snap-159097_seg.npy\n"
     ]
    },
    {
     "name": "stderr",
     "output_type": "stream",
     "text": [
      "/tmp/ipykernel_30464/876349374.py:167: UserWarning: /home/chrism/datasets/tumorcells/classification_t1850.0/othercell/hs3st1___Snap-159097.czi_001195.png is a low contrast image\n",
      "  io.imsave(png_file_path, im8)\n"
     ]
    },
    {
     "name": "stdout",
     "output_type": "stream",
     "text": [
      "/home/chrism/datasets/tumorcells/nuclei/hs6st1___Snap-159324_seg.npy\n",
      "/home/chrism/datasets/tumorcells/nuclei/hs3st1___Snap-159094_seg.npy\n"
     ]
    },
    {
     "name": "stderr",
     "output_type": "stream",
     "text": [
      "/tmp/ipykernel_30464/876349374.py:167: UserWarning: /home/chrism/datasets/tumorcells/classification_t1900.0/othercell/hs3st1___Snap-159094.czi_001376.png is a low contrast image\n",
      "  io.imsave(png_file_path, im8)\n"
     ]
    },
    {
     "name": "stdout",
     "output_type": "stream",
     "text": [
      "/home/chrism/datasets/tumorcells/nuclei/ext1___Snap-159094_seg.npy\n"
     ]
    },
    {
     "name": "stderr",
     "output_type": "stream",
     "text": [
      "/tmp/ipykernel_30464/876349374.py:167: UserWarning: /home/chrism/datasets/tumorcells/classification_t1900.0/othercell/ext1___Snap-159094.czi_001376.png is a low contrast image\n",
      "  io.imsave(png_file_path, im8)\n"
     ]
    },
    {
     "name": "stdout",
     "output_type": "stream",
     "text": [
      "/home/chrism/datasets/tumorcells/nuclei/ext1___Snap-159095_seg.npy\n",
      "/home/chrism/datasets/tumorcells/nuclei/hs3st1___Snap-159279_seg.npy\n",
      "/home/chrism/datasets/tumorcells/nuclei/hs6st1___Snap-159326_seg.npy\n",
      "/home/chrism/datasets/tumorcells/nuclei/hs6st1___Snap-159322_seg.npy\n"
     ]
    },
    {
     "name": "stderr",
     "output_type": "stream",
     "text": [
      "/tmp/ipykernel_30464/876349374.py:167: UserWarning: /home/chrism/datasets/tumorcells/classification_t1900.0/othercell/hs6st1___Snap-159322.czi_001342.png is a low contrast image\n",
      "  io.imsave(png_file_path, im8)\n"
     ]
    },
    {
     "name": "stdout",
     "output_type": "stream",
     "text": [
      "/home/chrism/datasets/tumorcells/nuclei/hs6st1___Snap-159319_seg.npy\n"
     ]
    },
    {
     "name": "stderr",
     "output_type": "stream",
     "text": [
      "/tmp/ipykernel_30464/876349374.py:167: UserWarning: /home/chrism/datasets/tumorcells/classification_t1900.0/othercell/hs6st1___Snap-159319.czi_001123.png is a low contrast image\n",
      "  io.imsave(png_file_path, im8)\n"
     ]
    },
    {
     "name": "stdout",
     "output_type": "stream",
     "text": [
      "/home/chrism/datasets/tumorcells/nuclei/ext1___Snap-159093_seg.npy\n"
     ]
    },
    {
     "name": "stderr",
     "output_type": "stream",
     "text": [
      "/tmp/ipykernel_30464/876349374.py:167: UserWarning: /home/chrism/datasets/tumorcells/classification_t1900.0/othercell/ext1___Snap-159093.czi_001191.png is a low contrast image\n",
      "  io.imsave(png_file_path, im8)\n"
     ]
    },
    {
     "name": "stdout",
     "output_type": "stream",
     "text": [
      "/home/chrism/datasets/tumorcells/nuclei/hs6st1___Snap-159323_seg.npy\n"
     ]
    },
    {
     "name": "stderr",
     "output_type": "stream",
     "text": [
      "/tmp/ipykernel_30464/876349374.py:167: UserWarning: /home/chrism/datasets/tumorcells/classification_t1900.0/othercell/hs6st1___Snap-159323.czi_000560.png is a low contrast image\n",
      "  io.imsave(png_file_path, im8)\n",
      "/tmp/ipykernel_30464/876349374.py:167: UserWarning: /home/chrism/datasets/tumorcells/classification_t1900.0/othercell/hs6st1___Snap-159323.czi_000732.png is a low contrast image\n",
      "  io.imsave(png_file_path, im8)\n"
     ]
    },
    {
     "name": "stdout",
     "output_type": "stream",
     "text": [
      "/home/chrism/datasets/tumorcells/nuclei/hs3st1___Snap-159095_seg.npy\n",
      "/home/chrism/datasets/tumorcells/nuclei/hs3st1___Snap-159281_seg.npy\n",
      "/home/chrism/datasets/tumorcells/nuclei/hs3st1___Snap-159097_seg.npy\n"
     ]
    },
    {
     "name": "stderr",
     "output_type": "stream",
     "text": [
      "/tmp/ipykernel_30464/876349374.py:167: UserWarning: /home/chrism/datasets/tumorcells/classification_t1900.0/othercell/hs3st1___Snap-159097.czi_001195.png is a low contrast image\n",
      "  io.imsave(png_file_path, im8)\n"
     ]
    },
    {
     "name": "stdout",
     "output_type": "stream",
     "text": [
      "/home/chrism/datasets/tumorcells/nuclei/hs6st1___Snap-159324_seg.npy\n",
      "/home/chrism/datasets/tumorcells/nuclei/hs3st1___Snap-159094_seg.npy\n"
     ]
    },
    {
     "name": "stderr",
     "output_type": "stream",
     "text": [
      "/tmp/ipykernel_30464/876349374.py:167: UserWarning: /home/chrism/datasets/tumorcells/classification_t1950.0/othercell/hs3st1___Snap-159094.czi_001376.png is a low contrast image\n",
      "  io.imsave(png_file_path, im8)\n"
     ]
    },
    {
     "name": "stdout",
     "output_type": "stream",
     "text": [
      "/home/chrism/datasets/tumorcells/nuclei/ext1___Snap-159094_seg.npy\n"
     ]
    },
    {
     "name": "stderr",
     "output_type": "stream",
     "text": [
      "/tmp/ipykernel_30464/876349374.py:167: UserWarning: /home/chrism/datasets/tumorcells/classification_t1950.0/othercell/ext1___Snap-159094.czi_001376.png is a low contrast image\n",
      "  io.imsave(png_file_path, im8)\n"
     ]
    },
    {
     "name": "stdout",
     "output_type": "stream",
     "text": [
      "/home/chrism/datasets/tumorcells/nuclei/ext1___Snap-159095_seg.npy\n",
      "/home/chrism/datasets/tumorcells/nuclei/hs3st1___Snap-159279_seg.npy\n",
      "/home/chrism/datasets/tumorcells/nuclei/hs6st1___Snap-159326_seg.npy\n",
      "/home/chrism/datasets/tumorcells/nuclei/hs6st1___Snap-159322_seg.npy\n"
     ]
    },
    {
     "name": "stderr",
     "output_type": "stream",
     "text": [
      "/tmp/ipykernel_30464/876349374.py:167: UserWarning: /home/chrism/datasets/tumorcells/classification_t1950.0/othercell/hs6st1___Snap-159322.czi_001342.png is a low contrast image\n",
      "  io.imsave(png_file_path, im8)\n"
     ]
    },
    {
     "name": "stdout",
     "output_type": "stream",
     "text": [
      "/home/chrism/datasets/tumorcells/nuclei/hs6st1___Snap-159319_seg.npy\n"
     ]
    },
    {
     "name": "stderr",
     "output_type": "stream",
     "text": [
      "/tmp/ipykernel_30464/876349374.py:167: UserWarning: /home/chrism/datasets/tumorcells/classification_t1950.0/othercell/hs6st1___Snap-159319.czi_001123.png is a low contrast image\n",
      "  io.imsave(png_file_path, im8)\n"
     ]
    },
    {
     "name": "stdout",
     "output_type": "stream",
     "text": [
      "/home/chrism/datasets/tumorcells/nuclei/ext1___Snap-159093_seg.npy\n"
     ]
    },
    {
     "name": "stderr",
     "output_type": "stream",
     "text": [
      "/tmp/ipykernel_30464/876349374.py:167: UserWarning: /home/chrism/datasets/tumorcells/classification_t1950.0/othercell/ext1___Snap-159093.czi_001191.png is a low contrast image\n",
      "  io.imsave(png_file_path, im8)\n"
     ]
    },
    {
     "name": "stdout",
     "output_type": "stream",
     "text": [
      "/home/chrism/datasets/tumorcells/nuclei/hs6st1___Snap-159323_seg.npy\n"
     ]
    },
    {
     "name": "stderr",
     "output_type": "stream",
     "text": [
      "/tmp/ipykernel_30464/876349374.py:167: UserWarning: /home/chrism/datasets/tumorcells/classification_t1950.0/othercell/hs6st1___Snap-159323.czi_000560.png is a low contrast image\n",
      "  io.imsave(png_file_path, im8)\n",
      "/tmp/ipykernel_30464/876349374.py:167: UserWarning: /home/chrism/datasets/tumorcells/classification_t1950.0/othercell/hs6st1___Snap-159323.czi_000732.png is a low contrast image\n",
      "  io.imsave(png_file_path, im8)\n"
     ]
    },
    {
     "name": "stdout",
     "output_type": "stream",
     "text": [
      "/home/chrism/datasets/tumorcells/nuclei/hs3st1___Snap-159095_seg.npy\n",
      "/home/chrism/datasets/tumorcells/nuclei/hs3st1___Snap-159281_seg.npy\n",
      "/home/chrism/datasets/tumorcells/nuclei/hs3st1___Snap-159097_seg.npy\n"
     ]
    },
    {
     "name": "stderr",
     "output_type": "stream",
     "text": [
      "/tmp/ipykernel_30464/876349374.py:167: UserWarning: /home/chrism/datasets/tumorcells/classification_t1950.0/othercell/hs3st1___Snap-159097.czi_001195.png is a low contrast image\n",
      "  io.imsave(png_file_path, im8)\n"
     ]
    },
    {
     "name": "stdout",
     "output_type": "stream",
     "text": [
      "/home/chrism/datasets/tumorcells/nuclei/hs6st1___Snap-159324_seg.npy\n"
     ]
    }
   ],
   "source": [
    "import shutil\n",
    "\n",
    "# nuclei extration\n",
    "debug = False\n",
    "border = 0\n",
    "\n",
    "data_path = Path('/home/chrism/datasets/tumorcells')\n",
    "\n",
    "colors_blue = [(0, 0, 0), (0, 0, 1)]\n",
    "cm_blue = LinearSegmentedColormap.from_list(\"Custom\", colors_blue, N=255)\n",
    "\n",
    "colors_red = [(0, 0, 0), (1, 0, 0)]\n",
    "cm_red = LinearSegmentedColormap.from_list(\"Custom\", colors_red, N=255)\n",
    "\n",
    "colors_green = [(0, 0, 0), (0, 1, 0)] \n",
    "cm_green = LinearSegmentedColormap.from_list(\"Custom\", colors_green, N=255)\n",
    "\n",
    "colors_white = [(0, 0, 0), (1, 1, 1)] \n",
    "cm_white = LinearSegmentedColormap.from_list(\"Custom\", colors_white, N=255)\n",
    "\n",
    "for deepred_threshold in np.arange(900.0, 2000.0, 50.0):\n",
    "    area_pixel = 0.512 * 0.512\n",
    "    nuclei_path = data_path / \"nuclei\"\n",
    "    cells_path = data_path / \"cells\"\n",
    "    czi_path = data_path / \"czi\"\n",
    "    exclude_path = data_path / \"exclude\"\n",
    "    debug_path = data_path / \"debug\"\n",
    "    classification_path = data_path / f\"classification_t{deepred_threshold}\"\n",
    "    nuclei_tumorcells_path = data_path / f\"nuclei_tumorcells_t{deepred_threshold}\"\n",
    "    results = []\n",
    "    \n",
    "    for nuclei_masks_file in nuclei_path.glob(\"**/*.npy\"):\n",
    "        print(nuclei_masks_file)\n",
    "        slide = nuclei_masks_file.parent.parts[-1]\n",
    "        group = nuclei_masks_file.parent.parts[-2]\n",
    "        \n",
    "        exclude_masks = exclude_path / nuclei_masks_file.name\n",
    "        if not exclude_masks.exists():\n",
    "            print(f\"{exclude_masks} does not exist. Skipping ...\")\n",
    "            continue\n",
    "            \n",
    "        czi_file_name = nuclei_masks_file.name[0:-8] + '.czi'\n",
    "        czi_file = czi_path / czi_file_name\n",
    "        if not czi_file.exists():\n",
    "            print(f\"{czi_file} does not exist. Skipping ...\")\n",
    "            continue\n",
    "            \n",
    "        # cells_masks = cells_path / nuclei_masks_file.name\n",
    "        # if not cells_masks.exists():\n",
    "        #     print(f\"{cells_masks} does not exist. Skipping ...\")\n",
    "        #     continue\n",
    "        \n",
    "\n",
    "        nuclei_seg = np.load(nuclei_masks_file, allow_pickle=True).item()\n",
    "        nuclei_masks = nuclei_seg[\"masks\"]\n",
    "        num_nuclei = nuclei_masks.max()\n",
    "        \n",
    "        exclude_seg = np.load(exclude_masks, allow_pickle=True).item()\n",
    "        exclude_masks = exclude_seg[\"masks\"] > 0\n",
    "\n",
    "        # cells_seg = np.load(cells_masks, allow_pickle=True).item()\n",
    "        # cells_masks = cells_seg[\"masks\"]\n",
    "        # num_cells = cells_masks.max()\n",
    "        \n",
    "        num_pixels = exclude_masks.shape[0] * exclude_masks.shape[1] - np.count_nonzero(exclude_masks)\n",
    "        area = num_pixels * area_pixel\n",
    "        # print(area)\n",
    "        nuclei_per_um2 = num_nuclei / area\n",
    "        # print(cells_per_um2)\n",
    "\n",
    "        with pyczi.open_czi(str(czi_file)) as czidoc:\n",
    "            ch0 = czidoc.read(plane={'C': 0})\n",
    "            dapi = ch0[..., 0]\n",
    "            ch1 = czidoc.read(plane={'C': 1})\n",
    "            mrc1 = ch1[..., 0]\n",
    "            # ch2 = czidoc.read(plane={'C': 2})\n",
    "            # vwf = ch2[..., 0]\n",
    "            # ch3 = czidoc.read(plane={'C': 3})\n",
    "            # f480 = ch3[..., 0]\n",
    "\n",
    "        if debug:\n",
    "            # d_slices = utils.find_objects(masks)\n",
    "            # d_mrc1 = mrc1.copy()\n",
    "            # for i,si in enumerate(slices):\n",
    "            #     if si is not None:\n",
    "            #         sr,sc = si\n",
    "            #         mask = (masks[sr, sc] == (i+1)).astype(np.uint8)\n",
    "            #         contours = cv2.findContours(mask, cv2.RETR_EXTERNAL, cv2.CHAIN_APPROX_NONE)\n",
    "            #         ax.contours(\n",
    "            #         d_mrc1 = cv2.drawContours(d_mrc1, contours, -1, (0, 255, 0), 2)\n",
    "                    \n",
    "            plt.ioff()\n",
    "            fig, ax = plt.subplots(figsize=(13, 10))\n",
    "            ax.imshow(mrc1, cmap=cm_red)\n",
    "\n",
    "        # cells_slices = utils.find_objects(cells_masks)\n",
    "        # cells_centers = ndimage.center_of_mass(mrc1, cells_masks, index=np.arange(1, num_cells + 1))\n",
    "\n",
    "        # for i, (si, (row, col)) in enumerate(zip(cells_slices, cells_centers)): \n",
    "        #     if np.any((cells_masks == i+1) & exclude_masks):\n",
    "        #         print(f\"Cell {i+1} intersecting exclude region. Skipping ...\")\n",
    "        #         continue\n",
    "        #     if si is not None:\n",
    "        #         sr, sc = si\n",
    "        #         cell_mask = cells_masks[sr, sc] != (i+1)\n",
    "        #         dapi_ma = ma.masked_array(dapi[sr, sc], mask)\n",
    "\n",
    "        \n",
    "        slices = utils.find_objects(nuclei_masks)\n",
    "        nuclei_centers = ndimage.center_of_mass(dapi, nuclei_masks, index=np.arange(1, num_nuclei + 1))\n",
    "\n",
    "        for i, (si, (row, col)) in enumerate(zip(slices, nuclei_centers)): \n",
    "            if np.any((nuclei_masks == i+1) & exclude_masks):\n",
    "                # print(f\"Nucleus {i+1} intersecting exclude region. Skipping ...\")\n",
    "                nuclei_masks[si] = 0\n",
    "                continue\n",
    "            if si is None:\n",
    "                nuclei_masks[si] = 0\n",
    "                continue\n",
    "            sr, sc = si\n",
    "            if sr.start - border >= 0:\n",
    "                sr_start = sr.start - border\n",
    "            else:\n",
    "                sr_start = sr.start\n",
    "            if sr.stop + border > 1040:\n",
    "                sr_stop = sr.stop + border\n",
    "            else:\n",
    "                sr_stop = sr.stop\n",
    "            if sc.start - border >= 0:\n",
    "                sc_start = sc.start - border\n",
    "            else:\n",
    "                sc_start = sc.start\n",
    "            if sc.stop + border > 1388:\n",
    "                sc_stop = sc.stop + border\n",
    "            else:\n",
    "                sc_stop = sc.stop\n",
    "            mask = nuclei_masks[sr_start:sr_stop, sc_start:sc_stop] != (i+1)\n",
    "            dapi_ma = ma.masked_array(dapi[sr_start:sr_stop, sc_start:sc_stop], mask)\n",
    "            mrc1_ma = ma.masked_array(mrc1[sr_start:sr_stop, sc_start:sc_stop], mask)\n",
    "            # mrc1_ma = ma.masked_array(mrc1[sr, sc], mask)\n",
    "            # vwf_ma = ma.masked_array(vwf[sr, sc], mask)\n",
    "            # f480_ma = ma.masked_array(f480[sr, sc], mask)\n",
    "            # mrc1_f480_ratio = mrc1_ma.sum() / f480_ma.sum()\n",
    "            # f480_mrc1_ratio = f480_ma.sum() / mrc1_ma.sum()\n",
    "            # print(f\"MRC1 F4/80 ratio = {mrc1_f480_ratio}\")\n",
    "            mrc1mean = mrc1_ma.mean()\n",
    "            \n",
    "            if mrc1mean > deepred_threshold:\n",
    "                nucleus_class = \"tumorcell\"\n",
    "            else:\n",
    "                nucleus_class = \"othercell\"\n",
    "                nuclei_masks[si] = 0\n",
    "            \n",
    "            # print(row, col)\n",
    "            row = round(row)\n",
    "            col = round(col)\n",
    "            \n",
    "            # save image\n",
    "\n",
    "            im12 = dapi_ma.filled(0)\n",
    "            # im8 = exposure.rescale_intensity(im12, in_range=(0, 2**12), out_range=np.uint8)\n",
    "            im8 = exposure.rescale_intensity(dapi[sr, sc], in_range=(0, 2**12), out_range=np.uint8)\n",
    "            png_file_name = f\"{czi_file_name}_{i:0>6}.png\"\n",
    "            png_file_path = classification_path / nucleus_class / png_file_name\n",
    "            if not png_file_path.parent.exists():\n",
    "                png_file_path.parent.mkdir(parents=True, exist_ok=True)\n",
    "            io.imsave(png_file_path, im8)\n",
    "            results_row = {'czi': czi_file_name, 'nucleus_no': i, 'class': nucleus_class, 'filename': png_file_name, 'mean(dapi)': dapi_ma.mean(), 'mean(deepred)': mrc1mean, 'area nucleus': mask.sum(), 'pos nucleus': f'{row},{col}'}\n",
    "            results.append(results_row)\n",
    "\n",
    "            if debug:\n",
    "                ax.text(col, row, str(i), color=\"white\")\n",
    "                ax.scatter(col, row, c=\"yellow\", marker=\".\")\n",
    "                # d_mask = (cell_masks[sr, sc] == (i+1)).astype(np.uint8)\n",
    "                # d_contours, _ = cv2.findContours(d_mask, cv2.RETR_EXTERNAL, cv2.CHAIN_APPROX_NONE)\n",
    "                # d_contours, _ = cv2.findContours(d_mask, cv2.RETR_LIST, cv2.CHAIN_APPROX_NONE)\n",
    "                # d_contour = d_contours[0]\n",
    "                \n",
    "                # M = cv2.moments(d_contour)\n",
    "                # x = int(M[\"m10\"] / M[\"m00\"])\n",
    "                # y = int(M[\"m01\"] / M[\"m00\"])\n",
    "                \n",
    "                # xs = [v[0][0] - x for v in d_contour]\n",
    "                # ys = [-(v[0][1] - y) for v in d_contour]\n",
    "                \n",
    "                # ax.plot(xs, ys, color=\"green\")\n",
    "        \n",
    "        nuclei_seg[\"masks\"] = nuclei_masks\n",
    "        if not nuclei_tumorcells_path.exists():\n",
    "            nuclei_tumorcells_path.mkdir(parents=True, exist_ok=True)\n",
    "        np.save(nuclei_tumorcells_path / nuclei_masks_file.name, nuclei_seg)\n",
    "        nuclei_tif_file_name = nuclei_masks_file.name[:-8] + \".tif\"\n",
    "        \n",
    "        shutil.copy(nuclei_path / nuclei_tif_file_name, nuclei_tumorcells_path / nuclei_tif_file_name)\n",
    "        \n",
    "\n",
    "        if debug:\n",
    "            debug_file_name = nuclei_masks_file.name + \".png\"\n",
    "            debug_file = debug_path / debug_file_name\n",
    "            debug_file.parent.mkdir(parents=True, exist_ok=True)\n",
    "            fig.savefig(str(debug_file))\n",
    "            plt.close(fig)\n",
    "            plt.ion()\n",
    "            \n",
    "        \n",
    "    df = pd.DataFrame(results)\n",
    "    out_fn = f\"results_nuclei_t{deepred_threshold}.xlsx\"\n",
    "    df.to_excel(data_path / out_fn)"
   ],
   "metadata": {
    "collapsed": false,
    "ExecuteTime": {
     "end_time": "2024-04-04T14:46:54.009900Z",
     "start_time": "2024-04-04T14:43:35.881892Z"
    }
   },
   "id": "5de14996c767b0dd",
   "execution_count": 41
  },
  {
   "cell_type": "code",
   "execution_count": 3,
   "id": "91ebbffd-3f2e-4c1c-85a1-72e4ee9a8295",
   "metadata": {
    "ExecuteTime": {
     "end_time": "2024-04-04T14:06:47.408809Z",
     "start_time": "2024-04-04T14:06:47.402679Z"
    }
   },
   "outputs": [
    {
     "data": {
      "text/plain": [
       "<Axes: >"
      ]
     },
     "execution_count": 3,
     "metadata": {},
     "output_type": "execute_result"
    },
    {
     "data": {
      "image/png": "[encoded data removed]",
      "text/plain": [
       "<Figure size 640x480 with 1 Axes>"
      ]
     },
     "metadata": {},
     "output_type": "display_data"
    }
   ],
   "source": [
    "df['mean(deepred)'].hist()"
   ]
  },
  {
   "cell_type": "code",
   "execution_count": 13,
   "id": "925f1fb811033ff2",
   "metadata": {
    "ExecuteTime": {
     "end_time": "2024-04-04T14:06:41.127169Z",
     "start_time": "2024-04-04T14:06:41.102117Z"
    },
    "collapsed": false
   },
   "outputs": [],
   "source": [
    "nuclei_seg[\"masks\"] = nuclei_masks"
   ]
  },
  {
   "cell_type": "code",
   "execution_count": 16,
   "id": "33418c97-0430-49ca-a603-1affd239acac",
   "metadata": {
    "scrolled": true
   },
   "outputs": [],
   "source": [
    "np.save(\"test.npy\", nuclei_seg, allow_pickle=True)"
   ]
  },
  {
   "cell_type": "code",
   "execution_count": 12,
   "id": "24d6df70-7df9-408b-af9e-6c9a06fc5e85",
   "metadata": {},
   "outputs": [
    {
     "data": {
      "text/plain": [
       "array([[0, 0, 0, 0, 0, 0, 0, 0, 0, 0, 0, 0, 0, 0, 0, 0, 0, 0],\n",
       "       [0, 0, 0, 0, 0, 0, 0, 0, 0, 0, 0, 0, 0, 0, 0, 0, 0, 0],\n",
       "       [0, 0, 0, 0, 0, 0, 0, 0, 0, 0, 0, 0, 0, 0, 0, 0, 0, 0],\n",
       "       [0, 0, 0, 0, 0, 0, 0, 0, 0, 0, 0, 0, 0, 0, 0, 0, 0, 0],\n",
       "       [0, 0, 0, 0, 0, 0, 0, 0, 0, 0, 0, 0, 0, 0, 0, 0, 0, 0],\n",
       "       [0, 0, 0, 0, 0, 0, 0, 0, 0, 0, 0, 0, 0, 0, 0, 0, 0, 0],\n",
       "       [0, 0, 0, 0, 0, 0, 0, 0, 0, 0, 0, 0, 0, 0, 0, 0, 0, 0]],\n",
       "      dtype=uint16)"
      ]
     },
     "execution_count": 12,
     "metadata": {},
     "output_type": "execute_result"
    }
   ],
   "source": [
    "nuclei_masks[si]"
   ]
  },
  {
   "cell_type": "code",
   "execution_count": 34,
   "id": "4a2f73ca9dfaaad2",
   "metadata": {
    "ExecuteTime": {
     "end_time": "2024-04-04T14:06:42.267107Z",
     "start_time": "2024-04-04T14:06:42.265210Z"
    },
    "collapsed": false
   },
   "outputs": [],
   "source": [
    "import matplotlib.pyplot as plt\n",
    "plt.show()"
   ]
  },
  {
   "cell_type": "code",
   "execution_count": null,
   "id": "48e4c562cf87d824",
   "metadata": {
    "collapsed": false
   },
   "outputs": [],
   "source": []
  }
 ],
 "metadata": {
  "kernelspec": {
   "display_name": "Python 3 (ipykernel)",
   "language": "python",
   "name": "python3"
  },
  "language_info": {
   "codemirror_mode": {
    "name": "ipython",
    "version": 3
   },
   "file_extension": ".py",
   "mimetype": "text/x-python",
   "name": "python",
   "nbconvert_exporter": "python",
   "pygments_lexer": "ipython3",
   "version": "3.11.7"
  }
 },
 "nbformat": 4,
 "nbformat_minor": 5
}
