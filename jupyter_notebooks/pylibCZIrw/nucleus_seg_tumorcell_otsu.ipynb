{
 "cells": [
  {
   "cell_type": "code",
   "execution_count": 2,
   "id": "cfef297e-c1c4-4fdc-a759-46843905d63d",
   "metadata": {
    "ExecuteTime": {
     "end_time": "2024-04-05T06:14:01.418067Z",
     "start_time": "2024-04-05T06:13:59.386211Z"
    }
   },
   "outputs": [
    {
     "name": "stdout",
     "output_type": "stream",
     "text": [
      "Using: /home/chrism/miniconda3/envs/cellpose3/bin/python\n"
     ]
    }
   ],
   "source": [
    "from pylibCZIrw import czi as pyczi\n",
    "import json\n",
    "from matplotlib import pyplot as plt\n",
    "import matplotlib.cm as cm\n",
    "import numpy as np\n",
    "from numpy import ma\n",
    "import os, sys\n",
    "from tqdm import tqdm\n",
    "from tqdm.contrib import itertools as it\n",
    "from matplotlib.patches import Rectangle\n",
    "from matplotlib.colors import LinearSegmentedColormap\n",
    "from cellpose import utils\n",
    "import cv2\n",
    "from scipy import ndimage\n",
    "from pathlib import Path\n",
    "import pandas as pd\n",
    "from skimage import io, exposure\n",
    "\n",
    "\n",
    "# show the used python env\n",
    "print(\"Using:\", sys.executable)"
   ]
  },
  {
   "cell_type": "code",
   "execution_count": 8,
   "id": "5de14996c767b0dd",
   "metadata": {
    "collapsed": false,
    "scrolled": true,
    "ExecuteTime": {
     "end_time": "2024-04-05T06:42:09.201432Z",
     "start_time": "2024-04-05T06:33:44.763912Z"
    }
   },
   "outputs": [
    {
     "name": "stdout",
     "output_type": "stream",
     "text": [
      "Otsu correction: 0.7\n",
      "/home/chrism/datasets/tumorcells/nuclei/hs3st1___Snap-159094_seg.npy\n",
      "Otsu's threshold: 1007.1013937684911\n"
     ]
    },
    {
     "name": "stderr",
     "output_type": "stream",
     "text": [
      "/tmp/ipykernel_232059/1831746247.py:219: UserWarning: /home/chrism/datasets/tumorcells/classification_otsu_0.70/tumorcell/hs3st1___Snap-159094.czi_001376.png is a low contrast image\n",
      "  io.imsave(png_file_path, im8)\n"
     ]
    },
    {
     "name": "stdout",
     "output_type": "stream",
     "text": [
      "/home/chrism/datasets/tumorcells/nuclei/ext1___Snap-159094_seg.npy\n",
      "Otsu's threshold: 962.8920875323595\n"
     ]
    },
    {
     "name": "stderr",
     "output_type": "stream",
     "text": [
      "/tmp/ipykernel_232059/1831746247.py:219: UserWarning: /home/chrism/datasets/tumorcells/classification_otsu_0.70/tumorcell/ext1___Snap-159094.czi_001376.png is a low contrast image\n",
      "  io.imsave(png_file_path, im8)\n"
     ]
    },
    {
     "name": "stdout",
     "output_type": "stream",
     "text": [
      "/home/chrism/datasets/tumorcells/nuclei/ext1___Snap-159095_seg.npy\n",
      "Otsu's threshold: 1197.4512413506036\n",
      "/home/chrism/datasets/tumorcells/nuclei/hs3st1___Snap-159279_seg.npy\n",
      "Otsu's threshold: 932.6888477138369\n",
      "/home/chrism/datasets/tumorcells/nuclei/hs6st1___Snap-159326_seg.npy\n",
      "Otsu's threshold: 967.3987748579543\n",
      "/home/chrism/datasets/tumorcells/nuclei/hs6st1___Snap-159322_seg.npy\n",
      "Otsu's threshold: 1058.9626511922534\n"
     ]
    },
    {
     "name": "stderr",
     "output_type": "stream",
     "text": [
      "/tmp/ipykernel_232059/1831746247.py:219: UserWarning: /home/chrism/datasets/tumorcells/classification_otsu_0.70/tumorcell/hs6st1___Snap-159322.czi_001342.png is a low contrast image\n",
      "  io.imsave(png_file_path, im8)\n"
     ]
    },
    {
     "name": "stdout",
     "output_type": "stream",
     "text": [
      "/home/chrism/datasets/tumorcells/nuclei/hs6st1___Snap-159319_seg.npy\n",
      "Otsu's threshold: 814.8395805104133\n"
     ]
    },
    {
     "name": "stderr",
     "output_type": "stream",
     "text": [
      "/tmp/ipykernel_232059/1831746247.py:219: UserWarning: /home/chrism/datasets/tumorcells/classification_otsu_0.70/tumorcell/hs6st1___Snap-159319.czi_001123.png is a low contrast image\n",
      "  io.imsave(png_file_path, im8)\n"
     ]
    },
    {
     "name": "stdout",
     "output_type": "stream",
     "text": [
      "/home/chrism/datasets/tumorcells/nuclei/ext1___Snap-159093_seg.npy\n",
      "Otsu's threshold: 1148.5178648358344\n"
     ]
    },
    {
     "name": "stderr",
     "output_type": "stream",
     "text": [
      "/tmp/ipykernel_232059/1831746247.py:219: UserWarning: /home/chrism/datasets/tumorcells/classification_otsu_0.70/tumorcell/ext1___Snap-159093.czi_001191.png is a low contrast image\n",
      "  io.imsave(png_file_path, im8)\n"
     ]
    },
    {
     "name": "stdout",
     "output_type": "stream",
     "text": [
      "/home/chrism/datasets/tumorcells/nuclei/hs6st1___Snap-159323_seg.npy\n",
      "Otsu's threshold: 927.4115742017964\n"
     ]
    },
    {
     "name": "stderr",
     "output_type": "stream",
     "text": [
      "/tmp/ipykernel_232059/1831746247.py:219: UserWarning: /home/chrism/datasets/tumorcells/classification_otsu_0.70/tumorcell/hs6st1___Snap-159323.czi_000560.png is a low contrast image\n",
      "  io.imsave(png_file_path, im8)\n",
      "/tmp/ipykernel_232059/1831746247.py:219: UserWarning: /home/chrism/datasets/tumorcells/classification_otsu_0.70/tumorcell/hs6st1___Snap-159323.czi_000732.png is a low contrast image\n",
      "  io.imsave(png_file_path, im8)\n"
     ]
    },
    {
     "name": "stdout",
     "output_type": "stream",
     "text": [
      "/home/chrism/datasets/tumorcells/nuclei/hs3st1___Snap-159095_seg.npy\n",
      "Otsu's threshold: 1221.9599176742531\n",
      "/home/chrism/datasets/tumorcells/nuclei/hs3st1___Snap-159281_seg.npy\n",
      "Otsu's threshold: 1057.4412386363638\n",
      "/home/chrism/datasets/tumorcells/nuclei/hs3st1___Snap-159097_seg.npy\n",
      "Otsu's threshold: 941.071631184608\n"
     ]
    },
    {
     "name": "stderr",
     "output_type": "stream",
     "text": [
      "/tmp/ipykernel_232059/1831746247.py:219: UserWarning: /home/chrism/datasets/tumorcells/classification_otsu_0.70/tumorcell/hs3st1___Snap-159097.czi_001195.png is a low contrast image\n",
      "  io.imsave(png_file_path, im8)\n"
     ]
    },
    {
     "name": "stdout",
     "output_type": "stream",
     "text": [
      "/home/chrism/datasets/tumorcells/nuclei/hs6st1___Snap-159324_seg.npy\n",
      "Otsu's threshold: 967.5451918857578\n",
      "Otsu correction: 0.72\n",
      "/home/chrism/datasets/tumorcells/nuclei/hs3st1___Snap-159094_seg.npy\n",
      "Otsu's threshold: 1035.8757193047338\n"
     ]
    },
    {
     "name": "stderr",
     "output_type": "stream",
     "text": [
      "/tmp/ipykernel_232059/1831746247.py:219: UserWarning: /home/chrism/datasets/tumorcells/classification_otsu_0.72/tumorcell/hs3st1___Snap-159094.czi_001376.png is a low contrast image\n",
      "  io.imsave(png_file_path, im8)\n"
     ]
    },
    {
     "name": "stdout",
     "output_type": "stream",
     "text": [
      "/home/chrism/datasets/tumorcells/nuclei/ext1___Snap-159094_seg.npy\n",
      "Otsu's threshold: 990.4032900332841\n"
     ]
    },
    {
     "name": "stderr",
     "output_type": "stream",
     "text": [
      "/tmp/ipykernel_232059/1831746247.py:219: UserWarning: /home/chrism/datasets/tumorcells/classification_otsu_0.72/tumorcell/ext1___Snap-159094.czi_001376.png is a low contrast image\n",
      "  io.imsave(png_file_path, im8)\n"
     ]
    },
    {
     "name": "stdout",
     "output_type": "stream",
     "text": [
      "/home/chrism/datasets/tumorcells/nuclei/ext1___Snap-159095_seg.npy\n",
      "Otsu's threshold: 1231.6641339606208\n",
      "/home/chrism/datasets/tumorcells/nuclei/hs3st1___Snap-159279_seg.npy\n",
      "Otsu's threshold: 959.3371005056609\n",
      "/home/chrism/datasets/tumorcells/nuclei/hs6st1___Snap-159326_seg.npy\n",
      "Otsu's threshold: 995.0387398538959\n",
      "/home/chrism/datasets/tumorcells/nuclei/hs6st1___Snap-159322_seg.npy\n",
      "Otsu's threshold: 1089.2187269406033\n"
     ]
    },
    {
     "name": "stderr",
     "output_type": "stream",
     "text": [
      "/tmp/ipykernel_232059/1831746247.py:219: UserWarning: /home/chrism/datasets/tumorcells/classification_otsu_0.72/tumorcell/hs6st1___Snap-159322.czi_001342.png is a low contrast image\n",
      "  io.imsave(png_file_path, im8)\n"
     ]
    },
    {
     "name": "stdout",
     "output_type": "stream",
     "text": [
      "/home/chrism/datasets/tumorcells/nuclei/hs6st1___Snap-159319_seg.npy\n",
      "Otsu's threshold: 838.1207113821393\n"
     ]
    },
    {
     "name": "stderr",
     "output_type": "stream",
     "text": [
      "/tmp/ipykernel_232059/1831746247.py:219: UserWarning: /home/chrism/datasets/tumorcells/classification_otsu_0.72/tumorcell/hs6st1___Snap-159319.czi_001123.png is a low contrast image\n",
      "  io.imsave(png_file_path, im8)\n"
     ]
    },
    {
     "name": "stdout",
     "output_type": "stream",
     "text": [
      "/home/chrism/datasets/tumorcells/nuclei/ext1___Snap-159093_seg.npy\n",
      "Otsu's threshold: 1181.3326609740013\n"
     ]
    },
    {
     "name": "stderr",
     "output_type": "stream",
     "text": [
      "/tmp/ipykernel_232059/1831746247.py:219: UserWarning: /home/chrism/datasets/tumorcells/classification_otsu_0.72/tumorcell/ext1___Snap-159093.czi_001191.png is a low contrast image\n",
      "  io.imsave(png_file_path, im8)\n"
     ]
    },
    {
     "name": "stdout",
     "output_type": "stream",
     "text": [
      "/home/chrism/datasets/tumorcells/nuclei/hs6st1___Snap-159323_seg.npy\n",
      "Otsu's threshold: 953.9090477504192\n"
     ]
    },
    {
     "name": "stderr",
     "output_type": "stream",
     "text": [
      "/tmp/ipykernel_232059/1831746247.py:219: UserWarning: /home/chrism/datasets/tumorcells/classification_otsu_0.72/tumorcell/hs6st1___Snap-159323.czi_000560.png is a low contrast image\n",
      "  io.imsave(png_file_path, im8)\n",
      "/tmp/ipykernel_232059/1831746247.py:219: UserWarning: /home/chrism/datasets/tumorcells/classification_otsu_0.72/tumorcell/hs6st1___Snap-159323.czi_000732.png is a low contrast image\n",
      "  io.imsave(png_file_path, im8)\n"
     ]
    },
    {
     "name": "stdout",
     "output_type": "stream",
     "text": [
      "/home/chrism/datasets/tumorcells/nuclei/hs3st1___Snap-159095_seg.npy\n",
      "Otsu's threshold: 1256.873058179232\n",
      "/home/chrism/datasets/tumorcells/nuclei/hs3st1___Snap-159281_seg.npy\n",
      "Otsu's threshold: 1087.6538454545455\n",
      "/home/chrism/datasets/tumorcells/nuclei/hs3st1___Snap-159097_seg.npy\n",
      "Otsu's threshold: 967.9593920755968\n"
     ]
    },
    {
     "name": "stderr",
     "output_type": "stream",
     "text": [
      "/tmp/ipykernel_232059/1831746247.py:219: UserWarning: /home/chrism/datasets/tumorcells/classification_otsu_0.72/tumorcell/hs3st1___Snap-159097.czi_001195.png is a low contrast image\n",
      "  io.imsave(png_file_path, im8)\n"
     ]
    },
    {
     "name": "stdout",
     "output_type": "stream",
     "text": [
      "/home/chrism/datasets/tumorcells/nuclei/hs6st1___Snap-159324_seg.npy\n",
      "Otsu's threshold: 995.189340225351\n",
      "Otsu correction: 0.74\n",
      "/home/chrism/datasets/tumorcells/nuclei/hs3st1___Snap-159094_seg.npy\n",
      "Otsu's threshold: 1064.6500448409763\n"
     ]
    },
    {
     "name": "stderr",
     "output_type": "stream",
     "text": [
      "/tmp/ipykernel_232059/1831746247.py:219: UserWarning: /home/chrism/datasets/tumorcells/classification_otsu_0.74/tumorcell/hs3st1___Snap-159094.czi_001376.png is a low contrast image\n",
      "  io.imsave(png_file_path, im8)\n"
     ]
    },
    {
     "name": "stdout",
     "output_type": "stream",
     "text": [
      "/home/chrism/datasets/tumorcells/nuclei/ext1___Snap-159094_seg.npy\n",
      "Otsu's threshold: 1017.9144925342086\n"
     ]
    },
    {
     "name": "stderr",
     "output_type": "stream",
     "text": [
      "/tmp/ipykernel_232059/1831746247.py:219: UserWarning: /home/chrism/datasets/tumorcells/classification_otsu_0.74/tumorcell/ext1___Snap-159094.czi_001376.png is a low contrast image\n",
      "  io.imsave(png_file_path, im8)\n"
     ]
    },
    {
     "name": "stdout",
     "output_type": "stream",
     "text": [
      "/home/chrism/datasets/tumorcells/nuclei/ext1___Snap-159095_seg.npy\n",
      "Otsu's threshold: 1265.8770265706382\n",
      "/home/chrism/datasets/tumorcells/nuclei/hs3st1___Snap-159279_seg.npy\n",
      "Otsu's threshold: 985.9853532974848\n",
      "/home/chrism/datasets/tumorcells/nuclei/hs6st1___Snap-159326_seg.npy\n",
      "Otsu's threshold: 1022.6787048498375\n",
      "/home/chrism/datasets/tumorcells/nuclei/hs6st1___Snap-159322_seg.npy\n",
      "Otsu's threshold: 1119.4748026889536\n"
     ]
    },
    {
     "name": "stderr",
     "output_type": "stream",
     "text": [
      "/tmp/ipykernel_232059/1831746247.py:219: UserWarning: /home/chrism/datasets/tumorcells/classification_otsu_0.74/tumorcell/hs6st1___Snap-159322.czi_001342.png is a low contrast image\n",
      "  io.imsave(png_file_path, im8)\n"
     ]
    },
    {
     "name": "stdout",
     "output_type": "stream",
     "text": [
      "/home/chrism/datasets/tumorcells/nuclei/hs6st1___Snap-159319_seg.npy\n",
      "Otsu's threshold: 861.4018422538655\n"
     ]
    },
    {
     "name": "stderr",
     "output_type": "stream",
     "text": [
      "/tmp/ipykernel_232059/1831746247.py:219: UserWarning: /home/chrism/datasets/tumorcells/classification_otsu_0.74/tumorcell/hs6st1___Snap-159319.czi_001123.png is a low contrast image\n",
      "  io.imsave(png_file_path, im8)\n"
     ]
    },
    {
     "name": "stdout",
     "output_type": "stream",
     "text": [
      "/home/chrism/datasets/tumorcells/nuclei/ext1___Snap-159093_seg.npy\n",
      "Otsu's threshold: 1214.147457112168\n"
     ]
    },
    {
     "name": "stderr",
     "output_type": "stream",
     "text": [
      "/tmp/ipykernel_232059/1831746247.py:219: UserWarning: /home/chrism/datasets/tumorcells/classification_otsu_0.74/tumorcell/ext1___Snap-159093.czi_001191.png is a low contrast image\n",
      "  io.imsave(png_file_path, im8)\n"
     ]
    },
    {
     "name": "stdout",
     "output_type": "stream",
     "text": [
      "/home/chrism/datasets/tumorcells/nuclei/hs6st1___Snap-159323_seg.npy\n",
      "Otsu's threshold: 980.406521299042\n"
     ]
    },
    {
     "name": "stderr",
     "output_type": "stream",
     "text": [
      "/tmp/ipykernel_232059/1831746247.py:219: UserWarning: /home/chrism/datasets/tumorcells/classification_otsu_0.74/tumorcell/hs6st1___Snap-159323.czi_000560.png is a low contrast image\n",
      "  io.imsave(png_file_path, im8)\n",
      "/tmp/ipykernel_232059/1831746247.py:219: UserWarning: /home/chrism/datasets/tumorcells/classification_otsu_0.74/tumorcell/hs6st1___Snap-159323.czi_000732.png is a low contrast image\n",
      "  io.imsave(png_file_path, im8)\n"
     ]
    },
    {
     "name": "stdout",
     "output_type": "stream",
     "text": [
      "/home/chrism/datasets/tumorcells/nuclei/hs3st1___Snap-159095_seg.npy\n",
      "Otsu's threshold: 1291.7861986842106\n",
      "/home/chrism/datasets/tumorcells/nuclei/hs3st1___Snap-159281_seg.npy\n",
      "Otsu's threshold: 1117.8664522727274\n",
      "/home/chrism/datasets/tumorcells/nuclei/hs3st1___Snap-159097_seg.npy\n",
      "Otsu's threshold: 994.8471529665857\n"
     ]
    },
    {
     "name": "stderr",
     "output_type": "stream",
     "text": [
      "/tmp/ipykernel_232059/1831746247.py:219: UserWarning: /home/chrism/datasets/tumorcells/classification_otsu_0.74/tumorcell/hs3st1___Snap-159097.czi_001195.png is a low contrast image\n",
      "  io.imsave(png_file_path, im8)\n"
     ]
    },
    {
     "name": "stdout",
     "output_type": "stream",
     "text": [
      "/home/chrism/datasets/tumorcells/nuclei/hs6st1___Snap-159324_seg.npy\n",
      "Otsu's threshold: 1022.8334885649441\n",
      "Otsu correction: 0.76\n",
      "/home/chrism/datasets/tumorcells/nuclei/hs3st1___Snap-159094_seg.npy\n",
      "Otsu's threshold: 1093.424370377219\n"
     ]
    },
    {
     "name": "stderr",
     "output_type": "stream",
     "text": [
      "/tmp/ipykernel_232059/1831746247.py:219: UserWarning: /home/chrism/datasets/tumorcells/classification_otsu_0.76/tumorcell/hs3st1___Snap-159094.czi_001376.png is a low contrast image\n",
      "  io.imsave(png_file_path, im8)\n"
     ]
    },
    {
     "name": "stdout",
     "output_type": "stream",
     "text": [
      "/home/chrism/datasets/tumorcells/nuclei/ext1___Snap-159094_seg.npy\n",
      "Otsu's threshold: 1045.4256950351332\n"
     ]
    },
    {
     "name": "stderr",
     "output_type": "stream",
     "text": [
      "/tmp/ipykernel_232059/1831746247.py:219: UserWarning: /home/chrism/datasets/tumorcells/classification_otsu_0.76/tumorcell/ext1___Snap-159094.czi_001376.png is a low contrast image\n",
      "  io.imsave(png_file_path, im8)\n"
     ]
    },
    {
     "name": "stdout",
     "output_type": "stream",
     "text": [
      "/home/chrism/datasets/tumorcells/nuclei/ext1___Snap-159095_seg.npy\n",
      "Otsu's threshold: 1300.0899191806554\n",
      "/home/chrism/datasets/tumorcells/nuclei/hs3st1___Snap-159279_seg.npy\n",
      "Otsu's threshold: 1012.6336060893088\n",
      "/home/chrism/datasets/tumorcells/nuclei/hs6st1___Snap-159326_seg.npy\n",
      "Otsu's threshold: 1050.3186698457791\n",
      "/home/chrism/datasets/tumorcells/nuclei/hs6st1___Snap-159322_seg.npy\n",
      "Otsu's threshold: 1149.7308784373035\n"
     ]
    },
    {
     "name": "stderr",
     "output_type": "stream",
     "text": [
      "/tmp/ipykernel_232059/1831746247.py:219: UserWarning: /home/chrism/datasets/tumorcells/classification_otsu_0.76/tumorcell/hs6st1___Snap-159322.czi_001342.png is a low contrast image\n",
      "  io.imsave(png_file_path, im8)\n"
     ]
    },
    {
     "name": "stdout",
     "output_type": "stream",
     "text": [
      "/home/chrism/datasets/tumorcells/nuclei/hs6st1___Snap-159319_seg.npy\n",
      "Otsu's threshold: 884.6829731255916\n"
     ]
    },
    {
     "name": "stderr",
     "output_type": "stream",
     "text": [
      "/tmp/ipykernel_232059/1831746247.py:219: UserWarning: /home/chrism/datasets/tumorcells/classification_otsu_0.76/tumorcell/hs6st1___Snap-159319.czi_001123.png is a low contrast image\n",
      "  io.imsave(png_file_path, im8)\n"
     ]
    },
    {
     "name": "stdout",
     "output_type": "stream",
     "text": [
      "/home/chrism/datasets/tumorcells/nuclei/ext1___Snap-159093_seg.npy\n",
      "Otsu's threshold: 1246.9622532503347\n"
     ]
    },
    {
     "name": "stderr",
     "output_type": "stream",
     "text": [
      "/tmp/ipykernel_232059/1831746247.py:219: UserWarning: /home/chrism/datasets/tumorcells/classification_otsu_0.76/tumorcell/ext1___Snap-159093.czi_001191.png is a low contrast image\n",
      "  io.imsave(png_file_path, im8)\n"
     ]
    },
    {
     "name": "stdout",
     "output_type": "stream",
     "text": [
      "/home/chrism/datasets/tumorcells/nuclei/hs6st1___Snap-159323_seg.npy\n",
      "Otsu's threshold: 1006.9039948476648\n"
     ]
    },
    {
     "name": "stderr",
     "output_type": "stream",
     "text": [
      "/tmp/ipykernel_232059/1831746247.py:219: UserWarning: /home/chrism/datasets/tumorcells/classification_otsu_0.76/tumorcell/hs6st1___Snap-159323.czi_000560.png is a low contrast image\n",
      "  io.imsave(png_file_path, im8)\n",
      "/tmp/ipykernel_232059/1831746247.py:219: UserWarning: /home/chrism/datasets/tumorcells/classification_otsu_0.76/tumorcell/hs6st1___Snap-159323.czi_000732.png is a low contrast image\n",
      "  io.imsave(png_file_path, im8)\n"
     ]
    },
    {
     "name": "stdout",
     "output_type": "stream",
     "text": [
      "/home/chrism/datasets/tumorcells/nuclei/hs3st1___Snap-159095_seg.npy\n",
      "Otsu's threshold: 1326.6993391891892\n",
      "/home/chrism/datasets/tumorcells/nuclei/hs3st1___Snap-159281_seg.npy\n",
      "Otsu's threshold: 1148.0790590909091\n",
      "/home/chrism/datasets/tumorcells/nuclei/hs3st1___Snap-159097_seg.npy\n",
      "Otsu's threshold: 1021.7349138575745\n"
     ]
    },
    {
     "name": "stderr",
     "output_type": "stream",
     "text": [
      "/tmp/ipykernel_232059/1831746247.py:219: UserWarning: /home/chrism/datasets/tumorcells/classification_otsu_0.76/tumorcell/hs3st1___Snap-159097.czi_001195.png is a low contrast image\n",
      "  io.imsave(png_file_path, im8)\n"
     ]
    },
    {
     "name": "stdout",
     "output_type": "stream",
     "text": [
      "/home/chrism/datasets/tumorcells/nuclei/hs6st1___Snap-159324_seg.npy\n",
      "Otsu's threshold: 1050.4776369045371\n",
      "Otsu correction: 0.78\n",
      "/home/chrism/datasets/tumorcells/nuclei/hs3st1___Snap-159094_seg.npy\n",
      "Otsu's threshold: 1122.1986959134615\n"
     ]
    },
    {
     "name": "stderr",
     "output_type": "stream",
     "text": [
      "/tmp/ipykernel_232059/1831746247.py:219: UserWarning: /home/chrism/datasets/tumorcells/classification_otsu_0.78/tumorcell/hs3st1___Snap-159094.czi_001376.png is a low contrast image\n",
      "  io.imsave(png_file_path, im8)\n"
     ]
    },
    {
     "name": "stdout",
     "output_type": "stream",
     "text": [
      "/home/chrism/datasets/tumorcells/nuclei/ext1___Snap-159094_seg.npy\n",
      "Otsu's threshold: 1072.9368975360578\n"
     ]
    },
    {
     "name": "stderr",
     "output_type": "stream",
     "text": [
      "/tmp/ipykernel_232059/1831746247.py:219: UserWarning: /home/chrism/datasets/tumorcells/classification_otsu_0.78/tumorcell/ext1___Snap-159094.czi_001376.png is a low contrast image\n",
      "  io.imsave(png_file_path, im8)\n"
     ]
    },
    {
     "name": "stdout",
     "output_type": "stream",
     "text": [
      "/home/chrism/datasets/tumorcells/nuclei/ext1___Snap-159095_seg.npy\n",
      "Otsu's threshold: 1334.3028117906726\n",
      "/home/chrism/datasets/tumorcells/nuclei/hs3st1___Snap-159279_seg.npy\n",
      "Otsu's threshold: 1039.2818588811328\n",
      "/home/chrism/datasets/tumorcells/nuclei/hs6st1___Snap-159326_seg.npy\n",
      "Otsu's threshold: 1077.9586348417206\n",
      "/home/chrism/datasets/tumorcells/nuclei/hs6st1___Snap-159322_seg.npy\n",
      "Otsu's threshold: 1179.9869541856538\n"
     ]
    },
    {
     "name": "stderr",
     "output_type": "stream",
     "text": [
      "/tmp/ipykernel_232059/1831746247.py:219: UserWarning: /home/chrism/datasets/tumorcells/classification_otsu_0.78/tumorcell/hs6st1___Snap-159322.czi_001342.png is a low contrast image\n",
      "  io.imsave(png_file_path, im8)\n"
     ]
    },
    {
     "name": "stdout",
     "output_type": "stream",
     "text": [
      "/home/chrism/datasets/tumorcells/nuclei/hs6st1___Snap-159319_seg.npy\n",
      "Otsu's threshold: 907.9641039973178\n"
     ]
    },
    {
     "name": "stderr",
     "output_type": "stream",
     "text": [
      "/tmp/ipykernel_232059/1831746247.py:219: UserWarning: /home/chrism/datasets/tumorcells/classification_otsu_0.78/tumorcell/hs6st1___Snap-159319.czi_001123.png is a low contrast image\n",
      "  io.imsave(png_file_path, im8)\n"
     ]
    },
    {
     "name": "stdout",
     "output_type": "stream",
     "text": [
      "/home/chrism/datasets/tumorcells/nuclei/ext1___Snap-159093_seg.npy\n",
      "Otsu's threshold: 1279.7770493885014\n"
     ]
    },
    {
     "name": "stderr",
     "output_type": "stream",
     "text": [
      "/tmp/ipykernel_232059/1831746247.py:219: UserWarning: /home/chrism/datasets/tumorcells/classification_otsu_0.78/tumorcell/ext1___Snap-159093.czi_001191.png is a low contrast image\n",
      "  io.imsave(png_file_path, im8)\n"
     ]
    },
    {
     "name": "stdout",
     "output_type": "stream",
     "text": [
      "/home/chrism/datasets/tumorcells/nuclei/hs6st1___Snap-159323_seg.npy\n",
      "Otsu's threshold: 1033.4014683962876\n"
     ]
    },
    {
     "name": "stderr",
     "output_type": "stream",
     "text": [
      "/tmp/ipykernel_232059/1831746247.py:219: UserWarning: /home/chrism/datasets/tumorcells/classification_otsu_0.78/tumorcell/hs6st1___Snap-159323.czi_000560.png is a low contrast image\n",
      "  io.imsave(png_file_path, im8)\n",
      "/tmp/ipykernel_232059/1831746247.py:219: UserWarning: /home/chrism/datasets/tumorcells/classification_otsu_0.78/tumorcell/hs6st1___Snap-159323.czi_000732.png is a low contrast image\n",
      "  io.imsave(png_file_path, im8)\n"
     ]
    },
    {
     "name": "stdout",
     "output_type": "stream",
     "text": [
      "/home/chrism/datasets/tumorcells/nuclei/hs3st1___Snap-159095_seg.npy\n",
      "Otsu's threshold: 1361.6124796941679\n",
      "/home/chrism/datasets/tumorcells/nuclei/hs3st1___Snap-159281_seg.npy\n",
      "Otsu's threshold: 1178.291665909091\n",
      "/home/chrism/datasets/tumorcells/nuclei/hs3st1___Snap-159097_seg.npy\n",
      "Otsu's threshold: 1048.6226747485632\n"
     ]
    },
    {
     "name": "stderr",
     "output_type": "stream",
     "text": [
      "/tmp/ipykernel_232059/1831746247.py:219: UserWarning: /home/chrism/datasets/tumorcells/classification_otsu_0.78/tumorcell/hs3st1___Snap-159097.czi_001195.png is a low contrast image\n",
      "  io.imsave(png_file_path, im8)\n"
     ]
    },
    {
     "name": "stdout",
     "output_type": "stream",
     "text": [
      "/home/chrism/datasets/tumorcells/nuclei/hs6st1___Snap-159324_seg.npy\n",
      "Otsu's threshold: 1078.1217852441303\n",
      "Otsu correction: 0.8\n",
      "/home/chrism/datasets/tumorcells/nuclei/hs3st1___Snap-159094_seg.npy\n",
      "Otsu's threshold: 1150.9730214497042\n"
     ]
    },
    {
     "name": "stderr",
     "output_type": "stream",
     "text": [
      "/tmp/ipykernel_232059/1831746247.py:219: UserWarning: /home/chrism/datasets/tumorcells/classification_otsu_0.80/tumorcell/hs3st1___Snap-159094.czi_001376.png is a low contrast image\n",
      "  io.imsave(png_file_path, im8)\n"
     ]
    },
    {
     "name": "stdout",
     "output_type": "stream",
     "text": [
      "/home/chrism/datasets/tumorcells/nuclei/ext1___Snap-159094_seg.npy\n",
      "Otsu's threshold: 1100.4481000369824\n"
     ]
    },
    {
     "name": "stderr",
     "output_type": "stream",
     "text": [
      "/tmp/ipykernel_232059/1831746247.py:219: UserWarning: /home/chrism/datasets/tumorcells/classification_otsu_0.80/tumorcell/ext1___Snap-159094.czi_001376.png is a low contrast image\n",
      "  io.imsave(png_file_path, im8)\n"
     ]
    },
    {
     "name": "stdout",
     "output_type": "stream",
     "text": [
      "/home/chrism/datasets/tumorcells/nuclei/ext1___Snap-159095_seg.npy\n",
      "Otsu's threshold: 1368.51570440069\n",
      "/home/chrism/datasets/tumorcells/nuclei/hs3st1___Snap-159279_seg.npy\n",
      "Otsu's threshold: 1065.9301116729566\n",
      "/home/chrism/datasets/tumorcells/nuclei/hs6st1___Snap-159326_seg.npy\n",
      "Otsu's threshold: 1105.5985998376623\n",
      "/home/chrism/datasets/tumorcells/nuclei/hs6st1___Snap-159322_seg.npy\n",
      "Otsu's threshold: 1210.2430299340037\n"
     ]
    },
    {
     "name": "stderr",
     "output_type": "stream",
     "text": [
      "/tmp/ipykernel_232059/1831746247.py:219: UserWarning: /home/chrism/datasets/tumorcells/classification_otsu_0.80/tumorcell/hs6st1___Snap-159322.czi_001342.png is a low contrast image\n",
      "  io.imsave(png_file_path, im8)\n"
     ]
    },
    {
     "name": "stdout",
     "output_type": "stream",
     "text": [
      "/home/chrism/datasets/tumorcells/nuclei/hs6st1___Snap-159319_seg.npy\n",
      "Otsu's threshold: 931.2452348690439\n"
     ]
    },
    {
     "name": "stderr",
     "output_type": "stream",
     "text": [
      "/tmp/ipykernel_232059/1831746247.py:219: UserWarning: /home/chrism/datasets/tumorcells/classification_otsu_0.80/tumorcell/hs6st1___Snap-159319.czi_001123.png is a low contrast image\n",
      "  io.imsave(png_file_path, im8)\n"
     ]
    },
    {
     "name": "stdout",
     "output_type": "stream",
     "text": [
      "/home/chrism/datasets/tumorcells/nuclei/ext1___Snap-159093_seg.npy\n",
      "Otsu's threshold: 1312.5918455266683\n"
     ]
    },
    {
     "name": "stderr",
     "output_type": "stream",
     "text": [
      "/tmp/ipykernel_232059/1831746247.py:219: UserWarning: /home/chrism/datasets/tumorcells/classification_otsu_0.80/tumorcell/ext1___Snap-159093.czi_001191.png is a low contrast image\n",
      "  io.imsave(png_file_path, im8)\n"
     ]
    },
    {
     "name": "stdout",
     "output_type": "stream",
     "text": [
      "/home/chrism/datasets/tumorcells/nuclei/hs6st1___Snap-159323_seg.npy\n",
      "Otsu's threshold: 1059.8989419449103\n"
     ]
    },
    {
     "name": "stderr",
     "output_type": "stream",
     "text": [
      "/tmp/ipykernel_232059/1831746247.py:219: UserWarning: /home/chrism/datasets/tumorcells/classification_otsu_0.80/tumorcell/hs6st1___Snap-159323.czi_000560.png is a low contrast image\n",
      "  io.imsave(png_file_path, im8)\n",
      "/tmp/ipykernel_232059/1831746247.py:219: UserWarning: /home/chrism/datasets/tumorcells/classification_otsu_0.80/tumorcell/hs6st1___Snap-159323.czi_000732.png is a low contrast image\n",
      "  io.imsave(png_file_path, im8)\n"
     ]
    },
    {
     "name": "stdout",
     "output_type": "stream",
     "text": [
      "/home/chrism/datasets/tumorcells/nuclei/hs3st1___Snap-159095_seg.npy\n",
      "Otsu's threshold: 1396.5256201991467\n",
      "/home/chrism/datasets/tumorcells/nuclei/hs3st1___Snap-159281_seg.npy\n",
      "Otsu's threshold: 1208.5042727272728\n",
      "/home/chrism/datasets/tumorcells/nuclei/hs3st1___Snap-159097_seg.npy\n",
      "Otsu's threshold: 1075.510435639552\n"
     ]
    },
    {
     "name": "stderr",
     "output_type": "stream",
     "text": [
      "/tmp/ipykernel_232059/1831746247.py:219: UserWarning: /home/chrism/datasets/tumorcells/classification_otsu_0.80/tumorcell/hs3st1___Snap-159097.czi_001195.png is a low contrast image\n",
      "  io.imsave(png_file_path, im8)\n"
     ]
    },
    {
     "name": "stdout",
     "output_type": "stream",
     "text": [
      "/home/chrism/datasets/tumorcells/nuclei/hs6st1___Snap-159324_seg.npy\n",
      "Otsu's threshold: 1105.7659335837234\n",
      "Otsu correction: 0.8200000000000001\n",
      "/home/chrism/datasets/tumorcells/nuclei/hs3st1___Snap-159094_seg.npy\n",
      "Otsu's threshold: 1179.747346985947\n"
     ]
    },
    {
     "name": "stderr",
     "output_type": "stream",
     "text": [
      "/tmp/ipykernel_232059/1831746247.py:219: UserWarning: /home/chrism/datasets/tumorcells/classification_otsu_0.82/tumorcell/hs3st1___Snap-159094.czi_001376.png is a low contrast image\n",
      "  io.imsave(png_file_path, im8)\n"
     ]
    },
    {
     "name": "stdout",
     "output_type": "stream",
     "text": [
      "/home/chrism/datasets/tumorcells/nuclei/ext1___Snap-159094_seg.npy\n",
      "Otsu's threshold: 1127.959302537907\n"
     ]
    },
    {
     "name": "stderr",
     "output_type": "stream",
     "text": [
      "/tmp/ipykernel_232059/1831746247.py:219: UserWarning: /home/chrism/datasets/tumorcells/classification_otsu_0.82/tumorcell/ext1___Snap-159094.czi_001376.png is a low contrast image\n",
      "  io.imsave(png_file_path, im8)\n"
     ]
    },
    {
     "name": "stdout",
     "output_type": "stream",
     "text": [
      "/home/chrism/datasets/tumorcells/nuclei/ext1___Snap-159095_seg.npy\n",
      "Otsu's threshold: 1402.7285970107073\n",
      "/home/chrism/datasets/tumorcells/nuclei/hs3st1___Snap-159279_seg.npy\n",
      "Otsu's threshold: 1092.5783644647806\n",
      "/home/chrism/datasets/tumorcells/nuclei/hs6st1___Snap-159326_seg.npy\n",
      "Otsu's threshold: 1133.2385648336037\n",
      "/home/chrism/datasets/tumorcells/nuclei/hs6st1___Snap-159322_seg.npy\n",
      "Otsu's threshold: 1240.499105682354\n"
     ]
    },
    {
     "name": "stderr",
     "output_type": "stream",
     "text": [
      "/tmp/ipykernel_232059/1831746247.py:219: UserWarning: /home/chrism/datasets/tumorcells/classification_otsu_0.82/tumorcell/hs6st1___Snap-159322.czi_001342.png is a low contrast image\n",
      "  io.imsave(png_file_path, im8)\n"
     ]
    },
    {
     "name": "stdout",
     "output_type": "stream",
     "text": [
      "/home/chrism/datasets/tumorcells/nuclei/hs6st1___Snap-159319_seg.npy\n",
      "Otsu's threshold: 954.52636574077\n"
     ]
    },
    {
     "name": "stderr",
     "output_type": "stream",
     "text": [
      "/tmp/ipykernel_232059/1831746247.py:219: UserWarning: /home/chrism/datasets/tumorcells/classification_otsu_0.82/tumorcell/hs6st1___Snap-159319.czi_001123.png is a low contrast image\n",
      "  io.imsave(png_file_path, im8)\n"
     ]
    },
    {
     "name": "stdout",
     "output_type": "stream",
     "text": [
      "/home/chrism/datasets/tumorcells/nuclei/ext1___Snap-159093_seg.npy\n",
      "Otsu's threshold: 1345.406641664835\n"
     ]
    },
    {
     "name": "stderr",
     "output_type": "stream",
     "text": [
      "/tmp/ipykernel_232059/1831746247.py:219: UserWarning: /home/chrism/datasets/tumorcells/classification_otsu_0.82/tumorcell/ext1___Snap-159093.czi_001191.png is a low contrast image\n",
      "  io.imsave(png_file_path, im8)\n"
     ]
    },
    {
     "name": "stdout",
     "output_type": "stream",
     "text": [
      "/home/chrism/datasets/tumorcells/nuclei/hs6st1___Snap-159323_seg.npy\n",
      "Otsu's threshold: 1086.3964154935331\n"
     ]
    },
    {
     "name": "stderr",
     "output_type": "stream",
     "text": [
      "/tmp/ipykernel_232059/1831746247.py:219: UserWarning: /home/chrism/datasets/tumorcells/classification_otsu_0.82/tumorcell/hs6st1___Snap-159323.czi_000560.png is a low contrast image\n",
      "  io.imsave(png_file_path, im8)\n",
      "/tmp/ipykernel_232059/1831746247.py:219: UserWarning: /home/chrism/datasets/tumorcells/classification_otsu_0.82/tumorcell/hs6st1___Snap-159323.czi_000732.png is a low contrast image\n",
      "  io.imsave(png_file_path, im8)\n"
     ]
    },
    {
     "name": "stdout",
     "output_type": "stream",
     "text": [
      "/home/chrism/datasets/tumorcells/nuclei/hs3st1___Snap-159095_seg.npy\n",
      "Otsu's threshold: 1431.4387607041253\n",
      "/home/chrism/datasets/tumorcells/nuclei/hs3st1___Snap-159281_seg.npy\n",
      "Otsu's threshold: 1238.7168795454547\n",
      "/home/chrism/datasets/tumorcells/nuclei/hs3st1___Snap-159097_seg.npy\n",
      "Otsu's threshold: 1102.3981965305409\n"
     ]
    },
    {
     "name": "stderr",
     "output_type": "stream",
     "text": [
      "/tmp/ipykernel_232059/1831746247.py:219: UserWarning: /home/chrism/datasets/tumorcells/classification_otsu_0.82/tumorcell/hs3st1___Snap-159097.czi_001195.png is a low contrast image\n",
      "  io.imsave(png_file_path, im8)\n"
     ]
    },
    {
     "name": "stdout",
     "output_type": "stream",
     "text": [
      "/home/chrism/datasets/tumorcells/nuclei/hs6st1___Snap-159324_seg.npy\n",
      "Otsu's threshold: 1133.4100819233165\n",
      "Otsu correction: 0.8400000000000001\n",
      "/home/chrism/datasets/tumorcells/nuclei/hs3st1___Snap-159094_seg.npy\n",
      "Otsu's threshold: 1208.5216725221894\n"
     ]
    },
    {
     "name": "stderr",
     "output_type": "stream",
     "text": [
      "/tmp/ipykernel_232059/1831746247.py:219: UserWarning: /home/chrism/datasets/tumorcells/classification_otsu_0.84/tumorcell/hs3st1___Snap-159094.czi_001376.png is a low contrast image\n",
      "  io.imsave(png_file_path, im8)\n"
     ]
    },
    {
     "name": "stdout",
     "output_type": "stream",
     "text": [
      "/home/chrism/datasets/tumorcells/nuclei/ext1___Snap-159094_seg.npy\n",
      "Otsu's threshold: 1155.4705050388316\n"
     ]
    },
    {
     "name": "stderr",
     "output_type": "stream",
     "text": [
      "/tmp/ipykernel_232059/1831746247.py:219: UserWarning: /home/chrism/datasets/tumorcells/classification_otsu_0.84/tumorcell/ext1___Snap-159094.czi_001376.png is a low contrast image\n",
      "  io.imsave(png_file_path, im8)\n"
     ]
    },
    {
     "name": "stdout",
     "output_type": "stream",
     "text": [
      "/home/chrism/datasets/tumorcells/nuclei/ext1___Snap-159095_seg.npy\n",
      "Otsu's threshold: 1436.9414896207245\n",
      "/home/chrism/datasets/tumorcells/nuclei/hs3st1___Snap-159279_seg.npy\n",
      "Otsu's threshold: 1119.2266172566046\n",
      "/home/chrism/datasets/tumorcells/nuclei/hs6st1___Snap-159326_seg.npy\n",
      "Otsu's threshold: 1160.8785298295454\n",
      "/home/chrism/datasets/tumorcells/nuclei/hs6st1___Snap-159322_seg.npy\n",
      "Otsu's threshold: 1270.7551814307042\n"
     ]
    },
    {
     "name": "stderr",
     "output_type": "stream",
     "text": [
      "/tmp/ipykernel_232059/1831746247.py:219: UserWarning: /home/chrism/datasets/tumorcells/classification_otsu_0.84/tumorcell/hs6st1___Snap-159322.czi_001342.png is a low contrast image\n",
      "  io.imsave(png_file_path, im8)\n"
     ]
    },
    {
     "name": "stdout",
     "output_type": "stream",
     "text": [
      "/home/chrism/datasets/tumorcells/nuclei/hs6st1___Snap-159319_seg.npy\n",
      "Otsu's threshold: 977.8074966124962\n"
     ]
    },
    {
     "name": "stderr",
     "output_type": "stream",
     "text": [
      "/tmp/ipykernel_232059/1831746247.py:219: UserWarning: /home/chrism/datasets/tumorcells/classification_otsu_0.84/tumorcell/hs6st1___Snap-159319.czi_001123.png is a low contrast image\n",
      "  io.imsave(png_file_path, im8)\n"
     ]
    },
    {
     "name": "stdout",
     "output_type": "stream",
     "text": [
      "/home/chrism/datasets/tumorcells/nuclei/ext1___Snap-159093_seg.npy\n",
      "Otsu's threshold: 1378.2214378030017\n"
     ]
    },
    {
     "name": "stderr",
     "output_type": "stream",
     "text": [
      "/tmp/ipykernel_232059/1831746247.py:219: UserWarning: /home/chrism/datasets/tumorcells/classification_otsu_0.84/tumorcell/ext1___Snap-159093.czi_001191.png is a low contrast image\n",
      "  io.imsave(png_file_path, im8)\n"
     ]
    },
    {
     "name": "stdout",
     "output_type": "stream",
     "text": [
      "/home/chrism/datasets/tumorcells/nuclei/hs6st1___Snap-159323_seg.npy\n",
      "Otsu's threshold: 1112.893889042156\n"
     ]
    },
    {
     "name": "stderr",
     "output_type": "stream",
     "text": [
      "/tmp/ipykernel_232059/1831746247.py:219: UserWarning: /home/chrism/datasets/tumorcells/classification_otsu_0.84/tumorcell/hs6st1___Snap-159323.czi_000560.png is a low contrast image\n",
      "  io.imsave(png_file_path, im8)\n",
      "/tmp/ipykernel_232059/1831746247.py:219: UserWarning: /home/chrism/datasets/tumorcells/classification_otsu_0.84/tumorcell/hs6st1___Snap-159323.czi_000732.png is a low contrast image\n",
      "  io.imsave(png_file_path, im8)\n"
     ]
    },
    {
     "name": "stdout",
     "output_type": "stream",
     "text": [
      "/home/chrism/datasets/tumorcells/nuclei/hs3st1___Snap-159095_seg.npy\n",
      "Otsu's threshold: 1466.351901209104\n",
      "/home/chrism/datasets/tumorcells/nuclei/hs3st1___Snap-159281_seg.npy\n",
      "Otsu's threshold: 1268.9294863636367\n",
      "/home/chrism/datasets/tumorcells/nuclei/hs3st1___Snap-159097_seg.npy\n",
      "Otsu's threshold: 1129.2859574215297\n"
     ]
    },
    {
     "name": "stderr",
     "output_type": "stream",
     "text": [
      "/tmp/ipykernel_232059/1831746247.py:219: UserWarning: /home/chrism/datasets/tumorcells/classification_otsu_0.84/tumorcell/hs3st1___Snap-159097.czi_001195.png is a low contrast image\n",
      "  io.imsave(png_file_path, im8)\n"
     ]
    },
    {
     "name": "stdout",
     "output_type": "stream",
     "text": [
      "/home/chrism/datasets/tumorcells/nuclei/hs6st1___Snap-159324_seg.npy\n",
      "Otsu's threshold: 1161.0542302629096\n",
      "Otsu correction: 0.8600000000000001\n",
      "/home/chrism/datasets/tumorcells/nuclei/hs3st1___Snap-159094_seg.npy\n",
      "Otsu's threshold: 1237.2959980584321\n"
     ]
    },
    {
     "name": "stderr",
     "output_type": "stream",
     "text": [
      "/tmp/ipykernel_232059/1831746247.py:219: UserWarning: /home/chrism/datasets/tumorcells/classification_otsu_0.86/tumorcell/hs3st1___Snap-159094.czi_001376.png is a low contrast image\n",
      "  io.imsave(png_file_path, im8)\n"
     ]
    },
    {
     "name": "stdout",
     "output_type": "stream",
     "text": [
      "/home/chrism/datasets/tumorcells/nuclei/ext1___Snap-159094_seg.npy\n",
      "Otsu's threshold: 1182.9817075397561\n"
     ]
    },
    {
     "name": "stderr",
     "output_type": "stream",
     "text": [
      "/tmp/ipykernel_232059/1831746247.py:219: UserWarning: /home/chrism/datasets/tumorcells/classification_otsu_0.86/tumorcell/ext1___Snap-159094.czi_001376.png is a low contrast image\n",
      "  io.imsave(png_file_path, im8)\n"
     ]
    },
    {
     "name": "stdout",
     "output_type": "stream",
     "text": [
      "/home/chrism/datasets/tumorcells/nuclei/ext1___Snap-159095_seg.npy\n",
      "Otsu's threshold: 1471.1543822307417\n",
      "/home/chrism/datasets/tumorcells/nuclei/hs3st1___Snap-159279_seg.npy\n",
      "Otsu's threshold: 1145.8748700484284\n",
      "/home/chrism/datasets/tumorcells/nuclei/hs6st1___Snap-159326_seg.npy\n",
      "Otsu's threshold: 1188.518494825487\n",
      "/home/chrism/datasets/tumorcells/nuclei/hs6st1___Snap-159322_seg.npy\n",
      "Otsu's threshold: 1301.0112571790542\n"
     ]
    },
    {
     "name": "stderr",
     "output_type": "stream",
     "text": [
      "/tmp/ipykernel_232059/1831746247.py:219: UserWarning: /home/chrism/datasets/tumorcells/classification_otsu_0.86/tumorcell/hs6st1___Snap-159322.czi_001342.png is a low contrast image\n",
      "  io.imsave(png_file_path, im8)\n"
     ]
    },
    {
     "name": "stdout",
     "output_type": "stream",
     "text": [
      "/home/chrism/datasets/tumorcells/nuclei/hs6st1___Snap-159319_seg.npy\n",
      "Otsu's threshold: 1001.0886274842222\n"
     ]
    },
    {
     "name": "stderr",
     "output_type": "stream",
     "text": [
      "/tmp/ipykernel_232059/1831746247.py:219: UserWarning: /home/chrism/datasets/tumorcells/classification_otsu_0.86/tumorcell/hs6st1___Snap-159319.czi_001123.png is a low contrast image\n",
      "  io.imsave(png_file_path, im8)\n"
     ]
    },
    {
     "name": "stdout",
     "output_type": "stream",
     "text": [
      "/home/chrism/datasets/tumorcells/nuclei/ext1___Snap-159093_seg.npy\n",
      "Otsu's threshold: 1411.0362339411683\n"
     ]
    },
    {
     "name": "stderr",
     "output_type": "stream",
     "text": [
      "/tmp/ipykernel_232059/1831746247.py:219: UserWarning: /home/chrism/datasets/tumorcells/classification_otsu_0.86/tumorcell/ext1___Snap-159093.czi_001191.png is a low contrast image\n",
      "  io.imsave(png_file_path, im8)\n"
     ]
    },
    {
     "name": "stdout",
     "output_type": "stream",
     "text": [
      "/home/chrism/datasets/tumorcells/nuclei/hs6st1___Snap-159323_seg.npy\n",
      "Otsu's threshold: 1139.3913625907787\n"
     ]
    },
    {
     "name": "stderr",
     "output_type": "stream",
     "text": [
      "/tmp/ipykernel_232059/1831746247.py:219: UserWarning: /home/chrism/datasets/tumorcells/classification_otsu_0.86/tumorcell/hs6st1___Snap-159323.czi_000560.png is a low contrast image\n",
      "  io.imsave(png_file_path, im8)\n",
      "/tmp/ipykernel_232059/1831746247.py:219: UserWarning: /home/chrism/datasets/tumorcells/classification_otsu_0.86/tumorcell/hs6st1___Snap-159323.czi_000732.png is a low contrast image\n",
      "  io.imsave(png_file_path, im8)\n"
     ]
    },
    {
     "name": "stdout",
     "output_type": "stream",
     "text": [
      "/home/chrism/datasets/tumorcells/nuclei/hs3st1___Snap-159095_seg.npy\n",
      "Otsu's threshold: 1501.2650417140828\n",
      "/home/chrism/datasets/tumorcells/nuclei/hs3st1___Snap-159281_seg.npy\n",
      "Otsu's threshold: 1299.1420931818184\n",
      "/home/chrism/datasets/tumorcells/nuclei/hs3st1___Snap-159097_seg.npy\n",
      "Otsu's threshold: 1156.1737183125185\n"
     ]
    },
    {
     "name": "stderr",
     "output_type": "stream",
     "text": [
      "/tmp/ipykernel_232059/1831746247.py:219: UserWarning: /home/chrism/datasets/tumorcells/classification_otsu_0.86/tumorcell/hs3st1___Snap-159097.czi_001195.png is a low contrast image\n",
      "  io.imsave(png_file_path, im8)\n"
     ]
    },
    {
     "name": "stdout",
     "output_type": "stream",
     "text": [
      "/home/chrism/datasets/tumorcells/nuclei/hs6st1___Snap-159324_seg.npy\n",
      "Otsu's threshold: 1188.6983786025028\n",
      "Otsu correction: 0.8800000000000001\n",
      "/home/chrism/datasets/tumorcells/nuclei/hs3st1___Snap-159094_seg.npy\n",
      "Otsu's threshold: 1266.0703235946748\n"
     ]
    },
    {
     "name": "stderr",
     "output_type": "stream",
     "text": [
      "/tmp/ipykernel_232059/1831746247.py:219: UserWarning: /home/chrism/datasets/tumorcells/classification_otsu_0.88/tumorcell/hs3st1___Snap-159094.czi_001376.png is a low contrast image\n",
      "  io.imsave(png_file_path, im8)\n"
     ]
    },
    {
     "name": "stdout",
     "output_type": "stream",
     "text": [
      "/home/chrism/datasets/tumorcells/nuclei/ext1___Snap-159094_seg.npy\n",
      "Otsu's threshold: 1210.4929100406807\n"
     ]
    },
    {
     "name": "stderr",
     "output_type": "stream",
     "text": [
      "/tmp/ipykernel_232059/1831746247.py:219: UserWarning: /home/chrism/datasets/tumorcells/classification_otsu_0.88/tumorcell/ext1___Snap-159094.czi_001376.png is a low contrast image\n",
      "  io.imsave(png_file_path, im8)\n"
     ]
    },
    {
     "name": "stdout",
     "output_type": "stream",
     "text": [
      "/home/chrism/datasets/tumorcells/nuclei/ext1___Snap-159095_seg.npy\n",
      "Otsu's threshold: 1505.3672748407591\n",
      "/home/chrism/datasets/tumorcells/nuclei/hs3st1___Snap-159279_seg.npy\n",
      "Otsu's threshold: 1172.5231228402524\n",
      "/home/chrism/datasets/tumorcells/nuclei/hs6st1___Snap-159326_seg.npy\n",
      "Otsu's threshold: 1216.1584598214286\n",
      "/home/chrism/datasets/tumorcells/nuclei/hs6st1___Snap-159322_seg.npy\n",
      "Otsu's threshold: 1331.2673329274044\n"
     ]
    },
    {
     "name": "stderr",
     "output_type": "stream",
     "text": [
      "/tmp/ipykernel_232059/1831746247.py:219: UserWarning: /home/chrism/datasets/tumorcells/classification_otsu_0.88/othercell/hs6st1___Snap-159322.czi_001342.png is a low contrast image\n",
      "  io.imsave(png_file_path, im8)\n"
     ]
    },
    {
     "name": "stdout",
     "output_type": "stream",
     "text": [
      "/home/chrism/datasets/tumorcells/nuclei/hs6st1___Snap-159319_seg.npy\n",
      "Otsu's threshold: 1024.3697583559483\n"
     ]
    },
    {
     "name": "stderr",
     "output_type": "stream",
     "text": [
      "/tmp/ipykernel_232059/1831746247.py:219: UserWarning: /home/chrism/datasets/tumorcells/classification_otsu_0.88/tumorcell/hs6st1___Snap-159319.czi_001123.png is a low contrast image\n",
      "  io.imsave(png_file_path, im8)\n"
     ]
    },
    {
     "name": "stdout",
     "output_type": "stream",
     "text": [
      "/home/chrism/datasets/tumorcells/nuclei/ext1___Snap-159093_seg.npy\n",
      "Otsu's threshold: 1443.851030079335\n"
     ]
    },
    {
     "name": "stderr",
     "output_type": "stream",
     "text": [
      "/tmp/ipykernel_232059/1831746247.py:219: UserWarning: /home/chrism/datasets/tumorcells/classification_otsu_0.88/tumorcell/ext1___Snap-159093.czi_001191.png is a low contrast image\n",
      "  io.imsave(png_file_path, im8)\n"
     ]
    },
    {
     "name": "stdout",
     "output_type": "stream",
     "text": [
      "/home/chrism/datasets/tumorcells/nuclei/hs6st1___Snap-159323_seg.npy\n",
      "Otsu's threshold: 1165.8888361394015\n"
     ]
    },
    {
     "name": "stderr",
     "output_type": "stream",
     "text": [
      "/tmp/ipykernel_232059/1831746247.py:219: UserWarning: /home/chrism/datasets/tumorcells/classification_otsu_0.88/tumorcell/hs6st1___Snap-159323.czi_000560.png is a low contrast image\n",
      "  io.imsave(png_file_path, im8)\n",
      "/tmp/ipykernel_232059/1831746247.py:219: UserWarning: /home/chrism/datasets/tumorcells/classification_otsu_0.88/tumorcell/hs6st1___Snap-159323.czi_000732.png is a low contrast image\n",
      "  io.imsave(png_file_path, im8)\n"
     ]
    },
    {
     "name": "stdout",
     "output_type": "stream",
     "text": [
      "/home/chrism/datasets/tumorcells/nuclei/hs3st1___Snap-159095_seg.npy\n",
      "Otsu's threshold: 1536.1781822190615\n",
      "/home/chrism/datasets/tumorcells/nuclei/hs3st1___Snap-159281_seg.npy\n",
      "Otsu's threshold: 1329.3547000000003\n",
      "/home/chrism/datasets/tumorcells/nuclei/hs3st1___Snap-159097_seg.npy\n",
      "Otsu's threshold: 1183.0614792035074\n"
     ]
    },
    {
     "name": "stderr",
     "output_type": "stream",
     "text": [
      "/tmp/ipykernel_232059/1831746247.py:219: UserWarning: /home/chrism/datasets/tumorcells/classification_otsu_0.88/tumorcell/hs3st1___Snap-159097.czi_001195.png is a low contrast image\n",
      "  io.imsave(png_file_path, im8)\n"
     ]
    },
    {
     "name": "stdout",
     "output_type": "stream",
     "text": [
      "/home/chrism/datasets/tumorcells/nuclei/hs6st1___Snap-159324_seg.npy\n",
      "Otsu's threshold: 1216.342526942096\n",
      "Otsu correction: 0.9000000000000001\n",
      "/home/chrism/datasets/tumorcells/nuclei/hs3st1___Snap-159094_seg.npy\n",
      "Otsu's threshold: 1294.8446491309173\n"
     ]
    },
    {
     "name": "stderr",
     "output_type": "stream",
     "text": [
      "/tmp/ipykernel_232059/1831746247.py:219: UserWarning: /home/chrism/datasets/tumorcells/classification_otsu_0.90/tumorcell/hs3st1___Snap-159094.czi_001376.png is a low contrast image\n",
      "  io.imsave(png_file_path, im8)\n"
     ]
    },
    {
     "name": "stdout",
     "output_type": "stream",
     "text": [
      "/home/chrism/datasets/tumorcells/nuclei/ext1___Snap-159094_seg.npy\n",
      "Otsu's threshold: 1238.0041125416053\n"
     ]
    },
    {
     "name": "stderr",
     "output_type": "stream",
     "text": [
      "/tmp/ipykernel_232059/1831746247.py:219: UserWarning: /home/chrism/datasets/tumorcells/classification_otsu_0.90/tumorcell/ext1___Snap-159094.czi_001376.png is a low contrast image\n",
      "  io.imsave(png_file_path, im8)\n"
     ]
    },
    {
     "name": "stdout",
     "output_type": "stream",
     "text": [
      "/home/chrism/datasets/tumorcells/nuclei/ext1___Snap-159095_seg.npy\n",
      "Otsu's threshold: 1539.5801674507763\n",
      "/home/chrism/datasets/tumorcells/nuclei/hs3st1___Snap-159279_seg.npy\n",
      "Otsu's threshold: 1199.1713756320764\n",
      "/home/chrism/datasets/tumorcells/nuclei/hs6st1___Snap-159326_seg.npy\n",
      "Otsu's threshold: 1243.7984248173702\n",
      "/home/chrism/datasets/tumorcells/nuclei/hs6st1___Snap-159322_seg.npy\n",
      "Otsu's threshold: 1361.5234086757544\n"
     ]
    },
    {
     "name": "stderr",
     "output_type": "stream",
     "text": [
      "/tmp/ipykernel_232059/1831746247.py:219: UserWarning: /home/chrism/datasets/tumorcells/classification_otsu_0.90/othercell/hs6st1___Snap-159322.czi_001342.png is a low contrast image\n",
      "  io.imsave(png_file_path, im8)\n"
     ]
    },
    {
     "name": "stdout",
     "output_type": "stream",
     "text": [
      "/home/chrism/datasets/tumorcells/nuclei/hs6st1___Snap-159319_seg.npy\n",
      "Otsu's threshold: 1047.6508892276745\n"
     ]
    },
    {
     "name": "stderr",
     "output_type": "stream",
     "text": [
      "/tmp/ipykernel_232059/1831746247.py:219: UserWarning: /home/chrism/datasets/tumorcells/classification_otsu_0.90/tumorcell/hs6st1___Snap-159319.czi_001123.png is a low contrast image\n",
      "  io.imsave(png_file_path, im8)\n"
     ]
    },
    {
     "name": "stdout",
     "output_type": "stream",
     "text": [
      "/home/chrism/datasets/tumorcells/nuclei/ext1___Snap-159093_seg.npy\n",
      "Otsu's threshold: 1476.665826217502\n"
     ]
    },
    {
     "name": "stderr",
     "output_type": "stream",
     "text": [
      "/tmp/ipykernel_232059/1831746247.py:219: UserWarning: /home/chrism/datasets/tumorcells/classification_otsu_0.90/tumorcell/ext1___Snap-159093.czi_001191.png is a low contrast image\n",
      "  io.imsave(png_file_path, im8)\n"
     ]
    },
    {
     "name": "stdout",
     "output_type": "stream",
     "text": [
      "/home/chrism/datasets/tumorcells/nuclei/hs6st1___Snap-159323_seg.npy\n",
      "Otsu's threshold: 1192.3863096880243\n"
     ]
    },
    {
     "name": "stderr",
     "output_type": "stream",
     "text": [
      "/tmp/ipykernel_232059/1831746247.py:219: UserWarning: /home/chrism/datasets/tumorcells/classification_otsu_0.90/tumorcell/hs6st1___Snap-159323.czi_000560.png is a low contrast image\n",
      "  io.imsave(png_file_path, im8)\n",
      "/tmp/ipykernel_232059/1831746247.py:219: UserWarning: /home/chrism/datasets/tumorcells/classification_otsu_0.90/othercell/hs6st1___Snap-159323.czi_000732.png is a low contrast image\n",
      "  io.imsave(png_file_path, im8)\n"
     ]
    },
    {
     "name": "stdout",
     "output_type": "stream",
     "text": [
      "/home/chrism/datasets/tumorcells/nuclei/hs3st1___Snap-159095_seg.npy\n",
      "Otsu's threshold: 1571.09132272404\n",
      "/home/chrism/datasets/tumorcells/nuclei/hs3st1___Snap-159281_seg.npy\n",
      "Otsu's threshold: 1359.567306818182\n",
      "/home/chrism/datasets/tumorcells/nuclei/hs3st1___Snap-159097_seg.npy\n",
      "Otsu's threshold: 1209.9492400944962\n"
     ]
    },
    {
     "name": "stderr",
     "output_type": "stream",
     "text": [
      "/tmp/ipykernel_232059/1831746247.py:219: UserWarning: /home/chrism/datasets/tumorcells/classification_otsu_0.90/tumorcell/hs3st1___Snap-159097.czi_001195.png is a low contrast image\n",
      "  io.imsave(png_file_path, im8)\n"
     ]
    },
    {
     "name": "stdout",
     "output_type": "stream",
     "text": [
      "/home/chrism/datasets/tumorcells/nuclei/hs6st1___Snap-159324_seg.npy\n",
      "Otsu's threshold: 1243.986675281689\n",
      "Otsu correction: 0.9200000000000002\n",
      "/home/chrism/datasets/tumorcells/nuclei/hs3st1___Snap-159094_seg.npy\n",
      "Otsu's threshold: 1323.61897466716\n"
     ]
    },
    {
     "name": "stderr",
     "output_type": "stream",
     "text": [
      "/tmp/ipykernel_232059/1831746247.py:219: UserWarning: /home/chrism/datasets/tumorcells/classification_otsu_0.92/tumorcell/hs3st1___Snap-159094.czi_001376.png is a low contrast image\n",
      "  io.imsave(png_file_path, im8)\n"
     ]
    },
    {
     "name": "stdout",
     "output_type": "stream",
     "text": [
      "/home/chrism/datasets/tumorcells/nuclei/ext1___Snap-159094_seg.npy\n",
      "Otsu's threshold: 1265.51531504253\n"
     ]
    },
    {
     "name": "stderr",
     "output_type": "stream",
     "text": [
      "/tmp/ipykernel_232059/1831746247.py:219: UserWarning: /home/chrism/datasets/tumorcells/classification_otsu_0.92/tumorcell/ext1___Snap-159094.czi_001376.png is a low contrast image\n",
      "  io.imsave(png_file_path, im8)\n"
     ]
    },
    {
     "name": "stdout",
     "output_type": "stream",
     "text": [
      "/home/chrism/datasets/tumorcells/nuclei/ext1___Snap-159095_seg.npy\n",
      "Otsu's threshold: 1573.7930600607936\n",
      "/home/chrism/datasets/tumorcells/nuclei/hs3st1___Snap-159279_seg.npy\n",
      "Otsu's threshold: 1225.8196284239002\n",
      "/home/chrism/datasets/tumorcells/nuclei/hs6st1___Snap-159326_seg.npy\n",
      "Otsu's threshold: 1271.4383898133117\n",
      "/home/chrism/datasets/tumorcells/nuclei/hs6st1___Snap-159322_seg.npy\n",
      "Otsu's threshold: 1391.7794844241046\n"
     ]
    },
    {
     "name": "stderr",
     "output_type": "stream",
     "text": [
      "/tmp/ipykernel_232059/1831746247.py:219: UserWarning: /home/chrism/datasets/tumorcells/classification_otsu_0.92/othercell/hs6st1___Snap-159322.czi_001342.png is a low contrast image\n",
      "  io.imsave(png_file_path, im8)\n"
     ]
    },
    {
     "name": "stdout",
     "output_type": "stream",
     "text": [
      "/home/chrism/datasets/tumorcells/nuclei/hs6st1___Snap-159319_seg.npy\n",
      "Otsu's threshold: 1070.9320200994005\n"
     ]
    },
    {
     "name": "stderr",
     "output_type": "stream",
     "text": [
      "/tmp/ipykernel_232059/1831746247.py:219: UserWarning: /home/chrism/datasets/tumorcells/classification_otsu_0.92/tumorcell/hs6st1___Snap-159319.czi_001123.png is a low contrast image\n",
      "  io.imsave(png_file_path, im8)\n"
     ]
    },
    {
     "name": "stdout",
     "output_type": "stream",
     "text": [
      "/home/chrism/datasets/tumorcells/nuclei/ext1___Snap-159093_seg.npy\n",
      "Otsu's threshold: 1509.4806223556686\n"
     ]
    },
    {
     "name": "stderr",
     "output_type": "stream",
     "text": [
      "/tmp/ipykernel_232059/1831746247.py:219: UserWarning: /home/chrism/datasets/tumorcells/classification_otsu_0.92/tumorcell/ext1___Snap-159093.czi_001191.png is a low contrast image\n",
      "  io.imsave(png_file_path, im8)\n"
     ]
    },
    {
     "name": "stdout",
     "output_type": "stream",
     "text": [
      "/home/chrism/datasets/tumorcells/nuclei/hs6st1___Snap-159323_seg.npy\n",
      "Otsu's threshold: 1218.883783236647\n"
     ]
    },
    {
     "name": "stderr",
     "output_type": "stream",
     "text": [
      "/tmp/ipykernel_232059/1831746247.py:219: UserWarning: /home/chrism/datasets/tumorcells/classification_otsu_0.92/tumorcell/hs6st1___Snap-159323.czi_000560.png is a low contrast image\n",
      "  io.imsave(png_file_path, im8)\n",
      "/tmp/ipykernel_232059/1831746247.py:219: UserWarning: /home/chrism/datasets/tumorcells/classification_otsu_0.92/othercell/hs6st1___Snap-159323.czi_000732.png is a low contrast image\n",
      "  io.imsave(png_file_path, im8)\n"
     ]
    },
    {
     "name": "stdout",
     "output_type": "stream",
     "text": [
      "/home/chrism/datasets/tumorcells/nuclei/hs3st1___Snap-159095_seg.npy\n",
      "Otsu's threshold: 1606.004463229019\n",
      "/home/chrism/datasets/tumorcells/nuclei/hs3st1___Snap-159281_seg.npy\n",
      "Otsu's threshold: 1389.779913636364\n",
      "/home/chrism/datasets/tumorcells/nuclei/hs3st1___Snap-159097_seg.npy\n",
      "Otsu's threshold: 1236.837000985485\n"
     ]
    },
    {
     "name": "stderr",
     "output_type": "stream",
     "text": [
      "/tmp/ipykernel_232059/1831746247.py:219: UserWarning: /home/chrism/datasets/tumorcells/classification_otsu_0.92/tumorcell/hs3st1___Snap-159097.czi_001195.png is a low contrast image\n",
      "  io.imsave(png_file_path, im8)\n"
     ]
    },
    {
     "name": "stdout",
     "output_type": "stream",
     "text": [
      "/home/chrism/datasets/tumorcells/nuclei/hs6st1___Snap-159324_seg.npy\n",
      "Otsu's threshold: 1271.6308236212822\n",
      "Otsu correction: 0.9400000000000002\n",
      "/home/chrism/datasets/tumorcells/nuclei/hs3st1___Snap-159094_seg.npy\n",
      "Otsu's threshold: 1352.3933002034028\n"
     ]
    },
    {
     "name": "stderr",
     "output_type": "stream",
     "text": [
      "/tmp/ipykernel_232059/1831746247.py:219: UserWarning: /home/chrism/datasets/tumorcells/classification_otsu_0.94/tumorcell/hs3st1___Snap-159094.czi_001376.png is a low contrast image\n",
      "  io.imsave(png_file_path, im8)\n"
     ]
    },
    {
     "name": "stdout",
     "output_type": "stream",
     "text": [
      "/home/chrism/datasets/tumorcells/nuclei/ext1___Snap-159094_seg.npy\n",
      "Otsu's threshold: 1293.0265175434545\n"
     ]
    },
    {
     "name": "stderr",
     "output_type": "stream",
     "text": [
      "/tmp/ipykernel_232059/1831746247.py:219: UserWarning: /home/chrism/datasets/tumorcells/classification_otsu_0.94/tumorcell/ext1___Snap-159094.czi_001376.png is a low contrast image\n",
      "  io.imsave(png_file_path, im8)\n"
     ]
    },
    {
     "name": "stdout",
     "output_type": "stream",
     "text": [
      "/home/chrism/datasets/tumorcells/nuclei/ext1___Snap-159095_seg.npy\n",
      "Otsu's threshold: 1608.005952670811\n",
      "/home/chrism/datasets/tumorcells/nuclei/hs3st1___Snap-159279_seg.npy\n",
      "Otsu's threshold: 1252.4678812157242\n",
      "/home/chrism/datasets/tumorcells/nuclei/hs6st1___Snap-159326_seg.npy\n",
      "Otsu's threshold: 1299.0783548092534\n",
      "/home/chrism/datasets/tumorcells/nuclei/hs6st1___Snap-159322_seg.npy\n",
      "Otsu's threshold: 1422.0355601724548\n"
     ]
    },
    {
     "name": "stderr",
     "output_type": "stream",
     "text": [
      "/tmp/ipykernel_232059/1831746247.py:219: UserWarning: /home/chrism/datasets/tumorcells/classification_otsu_0.94/othercell/hs6st1___Snap-159322.czi_001342.png is a low contrast image\n",
      "  io.imsave(png_file_path, im8)\n"
     ]
    },
    {
     "name": "stdout",
     "output_type": "stream",
     "text": [
      "/home/chrism/datasets/tumorcells/nuclei/hs6st1___Snap-159319_seg.npy\n",
      "Otsu's threshold: 1094.2131509711267\n"
     ]
    },
    {
     "name": "stderr",
     "output_type": "stream",
     "text": [
      "/tmp/ipykernel_232059/1831746247.py:219: UserWarning: /home/chrism/datasets/tumorcells/classification_otsu_0.94/tumorcell/hs6st1___Snap-159319.czi_001123.png is a low contrast image\n",
      "  io.imsave(png_file_path, im8)\n"
     ]
    },
    {
     "name": "stdout",
     "output_type": "stream",
     "text": [
      "/home/chrism/datasets/tumorcells/nuclei/ext1___Snap-159093_seg.npy\n",
      "Otsu's threshold: 1542.2954184938353\n"
     ]
    },
    {
     "name": "stderr",
     "output_type": "stream",
     "text": [
      "/tmp/ipykernel_232059/1831746247.py:219: UserWarning: /home/chrism/datasets/tumorcells/classification_otsu_0.94/tumorcell/ext1___Snap-159093.czi_001191.png is a low contrast image\n",
      "  io.imsave(png_file_path, im8)\n"
     ]
    },
    {
     "name": "stdout",
     "output_type": "stream",
     "text": [
      "/home/chrism/datasets/tumorcells/nuclei/hs6st1___Snap-159323_seg.npy\n",
      "Otsu's threshold: 1245.3812567852697\n"
     ]
    },
    {
     "name": "stderr",
     "output_type": "stream",
     "text": [
      "/tmp/ipykernel_232059/1831746247.py:219: UserWarning: /home/chrism/datasets/tumorcells/classification_otsu_0.94/tumorcell/hs6st1___Snap-159323.czi_000560.png is a low contrast image\n",
      "  io.imsave(png_file_path, im8)\n",
      "/tmp/ipykernel_232059/1831746247.py:219: UserWarning: /home/chrism/datasets/tumorcells/classification_otsu_0.94/othercell/hs6st1___Snap-159323.czi_000732.png is a low contrast image\n",
      "  io.imsave(png_file_path, im8)\n"
     ]
    },
    {
     "name": "stdout",
     "output_type": "stream",
     "text": [
      "/home/chrism/datasets/tumorcells/nuclei/hs3st1___Snap-159095_seg.npy\n",
      "Otsu's threshold: 1640.9176037339976\n",
      "/home/chrism/datasets/tumorcells/nuclei/hs3st1___Snap-159281_seg.npy\n",
      "Otsu's threshold: 1419.992520454546\n",
      "/home/chrism/datasets/tumorcells/nuclei/hs3st1___Snap-159097_seg.npy\n",
      "Otsu's threshold: 1263.7247618764738\n"
     ]
    },
    {
     "name": "stderr",
     "output_type": "stream",
     "text": [
      "/tmp/ipykernel_232059/1831746247.py:219: UserWarning: /home/chrism/datasets/tumorcells/classification_otsu_0.94/tumorcell/hs3st1___Snap-159097.czi_001195.png is a low contrast image\n",
      "  io.imsave(png_file_path, im8)\n"
     ]
    },
    {
     "name": "stdout",
     "output_type": "stream",
     "text": [
      "/home/chrism/datasets/tumorcells/nuclei/hs6st1___Snap-159324_seg.npy\n",
      "Otsu's threshold: 1299.2749719608753\n",
      "Otsu correction: 0.9600000000000002\n",
      "/home/chrism/datasets/tumorcells/nuclei/hs3st1___Snap-159094_seg.npy\n",
      "Otsu's threshold: 1381.1676257396452\n"
     ]
    },
    {
     "name": "stderr",
     "output_type": "stream",
     "text": [
      "/tmp/ipykernel_232059/1831746247.py:219: UserWarning: /home/chrism/datasets/tumorcells/classification_otsu_0.96/tumorcell/hs3st1___Snap-159094.czi_001376.png is a low contrast image\n",
      "  io.imsave(png_file_path, im8)\n"
     ]
    },
    {
     "name": "stdout",
     "output_type": "stream",
     "text": [
      "/home/chrism/datasets/tumorcells/nuclei/ext1___Snap-159094_seg.npy\n",
      "Otsu's threshold: 1320.537720044379\n"
     ]
    },
    {
     "name": "stderr",
     "output_type": "stream",
     "text": [
      "/tmp/ipykernel_232059/1831746247.py:219: UserWarning: /home/chrism/datasets/tumorcells/classification_otsu_0.96/tumorcell/ext1___Snap-159094.czi_001376.png is a low contrast image\n",
      "  io.imsave(png_file_path, im8)\n"
     ]
    },
    {
     "name": "stdout",
     "output_type": "stream",
     "text": [
      "/home/chrism/datasets/tumorcells/nuclei/ext1___Snap-159095_seg.npy\n",
      "Otsu's threshold: 1642.2188452808282\n",
      "/home/chrism/datasets/tumorcells/nuclei/hs3st1___Snap-159279_seg.npy\n",
      "Otsu's threshold: 1279.1161340075482\n",
      "/home/chrism/datasets/tumorcells/nuclei/hs6st1___Snap-159326_seg.npy\n",
      "Otsu's threshold: 1326.7183198051948\n",
      "/home/chrism/datasets/tumorcells/nuclei/hs6st1___Snap-159322_seg.npy\n",
      "Otsu's threshold: 1452.2916359208048\n"
     ]
    },
    {
     "name": "stderr",
     "output_type": "stream",
     "text": [
      "/tmp/ipykernel_232059/1831746247.py:219: UserWarning: /home/chrism/datasets/tumorcells/classification_otsu_0.96/othercell/hs6st1___Snap-159322.czi_001342.png is a low contrast image\n",
      "  io.imsave(png_file_path, im8)\n"
     ]
    },
    {
     "name": "stdout",
     "output_type": "stream",
     "text": [
      "/home/chrism/datasets/tumorcells/nuclei/hs6st1___Snap-159319_seg.npy\n",
      "Otsu's threshold: 1117.4942818428528\n"
     ]
    },
    {
     "name": "stderr",
     "output_type": "stream",
     "text": [
      "/tmp/ipykernel_232059/1831746247.py:219: UserWarning: /home/chrism/datasets/tumorcells/classification_otsu_0.96/tumorcell/hs6st1___Snap-159319.czi_001123.png is a low contrast image\n",
      "  io.imsave(png_file_path, im8)\n"
     ]
    },
    {
     "name": "stdout",
     "output_type": "stream",
     "text": [
      "/home/chrism/datasets/tumorcells/nuclei/ext1___Snap-159093_seg.npy\n",
      "Otsu's threshold: 1575.110214632002\n"
     ]
    },
    {
     "name": "stderr",
     "output_type": "stream",
     "text": [
      "/tmp/ipykernel_232059/1831746247.py:219: UserWarning: /home/chrism/datasets/tumorcells/classification_otsu_0.96/tumorcell/ext1___Snap-159093.czi_001191.png is a low contrast image\n",
      "  io.imsave(png_file_path, im8)\n"
     ]
    },
    {
     "name": "stdout",
     "output_type": "stream",
     "text": [
      "/home/chrism/datasets/tumorcells/nuclei/hs6st1___Snap-159323_seg.npy\n",
      "Otsu's threshold: 1271.8787303338925\n"
     ]
    },
    {
     "name": "stderr",
     "output_type": "stream",
     "text": [
      "/tmp/ipykernel_232059/1831746247.py:219: UserWarning: /home/chrism/datasets/tumorcells/classification_otsu_0.96/othercell/hs6st1___Snap-159323.czi_000560.png is a low contrast image\n",
      "  io.imsave(png_file_path, im8)\n",
      "/tmp/ipykernel_232059/1831746247.py:219: UserWarning: /home/chrism/datasets/tumorcells/classification_otsu_0.96/othercell/hs6st1___Snap-159323.czi_000732.png is a low contrast image\n",
      "  io.imsave(png_file_path, im8)\n"
     ]
    },
    {
     "name": "stdout",
     "output_type": "stream",
     "text": [
      "/home/chrism/datasets/tumorcells/nuclei/hs3st1___Snap-159095_seg.npy\n",
      "Otsu's threshold: 1675.8307442389762\n",
      "/home/chrism/datasets/tumorcells/nuclei/hs3st1___Snap-159281_seg.npy\n",
      "Otsu's threshold: 1450.2051272727276\n",
      "/home/chrism/datasets/tumorcells/nuclei/hs3st1___Snap-159097_seg.npy\n",
      "Otsu's threshold: 1290.6125227674627\n"
     ]
    },
    {
     "name": "stderr",
     "output_type": "stream",
     "text": [
      "/tmp/ipykernel_232059/1831746247.py:219: UserWarning: /home/chrism/datasets/tumorcells/classification_otsu_0.96/tumorcell/hs3st1___Snap-159097.czi_001195.png is a low contrast image\n",
      "  io.imsave(png_file_path, im8)\n"
     ]
    },
    {
     "name": "stdout",
     "output_type": "stream",
     "text": [
      "/home/chrism/datasets/tumorcells/nuclei/hs6st1___Snap-159324_seg.npy\n",
      "Otsu's threshold: 1326.9191203004684\n",
      "Otsu correction: 0.9800000000000002\n",
      "/home/chrism/datasets/tumorcells/nuclei/hs3st1___Snap-159094_seg.npy\n",
      "Otsu's threshold: 1409.941951275888\n"
     ]
    },
    {
     "name": "stderr",
     "output_type": "stream",
     "text": [
      "/tmp/ipykernel_232059/1831746247.py:219: UserWarning: /home/chrism/datasets/tumorcells/classification_otsu_0.98/tumorcell/hs3st1___Snap-159094.czi_001376.png is a low contrast image\n",
      "  io.imsave(png_file_path, im8)\n"
     ]
    },
    {
     "name": "stdout",
     "output_type": "stream",
     "text": [
      "/home/chrism/datasets/tumorcells/nuclei/ext1___Snap-159094_seg.npy\n",
      "Otsu's threshold: 1348.0489225453036\n"
     ]
    },
    {
     "name": "stderr",
     "output_type": "stream",
     "text": [
      "/tmp/ipykernel_232059/1831746247.py:219: UserWarning: /home/chrism/datasets/tumorcells/classification_otsu_0.98/tumorcell/ext1___Snap-159094.czi_001376.png is a low contrast image\n",
      "  io.imsave(png_file_path, im8)\n"
     ]
    },
    {
     "name": "stdout",
     "output_type": "stream",
     "text": [
      "/home/chrism/datasets/tumorcells/nuclei/ext1___Snap-159095_seg.npy\n",
      "Otsu's threshold: 1676.4317378908454\n",
      "/home/chrism/datasets/tumorcells/nuclei/hs3st1___Snap-159279_seg.npy\n",
      "Otsu's threshold: 1305.7643867993722\n",
      "/home/chrism/datasets/tumorcells/nuclei/hs6st1___Snap-159326_seg.npy\n",
      "Otsu's threshold: 1354.3582848011365\n",
      "/home/chrism/datasets/tumorcells/nuclei/hs6st1___Snap-159322_seg.npy\n",
      "Otsu's threshold: 1482.547711669155\n"
     ]
    },
    {
     "name": "stderr",
     "output_type": "stream",
     "text": [
      "/tmp/ipykernel_232059/1831746247.py:219: UserWarning: /home/chrism/datasets/tumorcells/classification_otsu_0.98/othercell/hs6st1___Snap-159322.czi_001342.png is a low contrast image\n",
      "  io.imsave(png_file_path, im8)\n"
     ]
    },
    {
     "name": "stdout",
     "output_type": "stream",
     "text": [
      "/home/chrism/datasets/tumorcells/nuclei/hs6st1___Snap-159319_seg.npy\n",
      "Otsu's threshold: 1140.7754127145788\n"
     ]
    },
    {
     "name": "stderr",
     "output_type": "stream",
     "text": [
      "/tmp/ipykernel_232059/1831746247.py:219: UserWarning: /home/chrism/datasets/tumorcells/classification_otsu_0.98/tumorcell/hs6st1___Snap-159319.czi_001123.png is a low contrast image\n",
      "  io.imsave(png_file_path, im8)\n"
     ]
    },
    {
     "name": "stdout",
     "output_type": "stream",
     "text": [
      "/home/chrism/datasets/tumorcells/nuclei/ext1___Snap-159093_seg.npy\n",
      "Otsu's threshold: 1607.9250107701687\n"
     ]
    },
    {
     "name": "stderr",
     "output_type": "stream",
     "text": [
      "/tmp/ipykernel_232059/1831746247.py:219: UserWarning: /home/chrism/datasets/tumorcells/classification_otsu_0.98/othercell/ext1___Snap-159093.czi_001191.png is a low contrast image\n",
      "  io.imsave(png_file_path, im8)\n"
     ]
    },
    {
     "name": "stdout",
     "output_type": "stream",
     "text": [
      "/home/chrism/datasets/tumorcells/nuclei/hs6st1___Snap-159323_seg.npy\n",
      "Otsu's threshold: 1298.3762038825153\n"
     ]
    },
    {
     "name": "stderr",
     "output_type": "stream",
     "text": [
      "/tmp/ipykernel_232059/1831746247.py:219: UserWarning: /home/chrism/datasets/tumorcells/classification_otsu_0.98/othercell/hs6st1___Snap-159323.czi_000560.png is a low contrast image\n",
      "  io.imsave(png_file_path, im8)\n",
      "/tmp/ipykernel_232059/1831746247.py:219: UserWarning: /home/chrism/datasets/tumorcells/classification_otsu_0.98/othercell/hs6st1___Snap-159323.czi_000732.png is a low contrast image\n",
      "  io.imsave(png_file_path, im8)\n"
     ]
    },
    {
     "name": "stdout",
     "output_type": "stream",
     "text": [
      "/home/chrism/datasets/tumorcells/nuclei/hs3st1___Snap-159095_seg.npy\n",
      "Otsu's threshold: 1710.7438847439548\n",
      "/home/chrism/datasets/tumorcells/nuclei/hs3st1___Snap-159281_seg.npy\n",
      "Otsu's threshold: 1480.4177340909096\n",
      "/home/chrism/datasets/tumorcells/nuclei/hs3st1___Snap-159097_seg.npy\n",
      "Otsu's threshold: 1317.5002836584515\n"
     ]
    },
    {
     "name": "stderr",
     "output_type": "stream",
     "text": [
      "/tmp/ipykernel_232059/1831746247.py:219: UserWarning: /home/chrism/datasets/tumorcells/classification_otsu_0.98/tumorcell/hs3st1___Snap-159097.czi_001195.png is a low contrast image\n",
      "  io.imsave(png_file_path, im8)\n"
     ]
    },
    {
     "name": "stdout",
     "output_type": "stream",
     "text": [
      "/home/chrism/datasets/tumorcells/nuclei/hs6st1___Snap-159324_seg.npy\n",
      "Otsu's threshold: 1354.5632686400613\n",
      "Otsu correction: 1.0000000000000002\n",
      "/home/chrism/datasets/tumorcells/nuclei/hs3st1___Snap-159094_seg.npy\n",
      "Otsu's threshold: 1438.7162768121304\n"
     ]
    },
    {
     "name": "stderr",
     "output_type": "stream",
     "text": [
      "/tmp/ipykernel_232059/1831746247.py:219: UserWarning: /home/chrism/datasets/tumorcells/classification_otsu_1.00/tumorcell/hs3st1___Snap-159094.czi_001376.png is a low contrast image\n",
      "  io.imsave(png_file_path, im8)\n"
     ]
    },
    {
     "name": "stdout",
     "output_type": "stream",
     "text": [
      "/home/chrism/datasets/tumorcells/nuclei/ext1___Snap-159094_seg.npy\n",
      "Otsu's threshold: 1375.5601250462282\n"
     ]
    },
    {
     "name": "stderr",
     "output_type": "stream",
     "text": [
      "/tmp/ipykernel_232059/1831746247.py:219: UserWarning: /home/chrism/datasets/tumorcells/classification_otsu_1.00/tumorcell/ext1___Snap-159094.czi_001376.png is a low contrast image\n",
      "  io.imsave(png_file_path, im8)\n"
     ]
    },
    {
     "name": "stdout",
     "output_type": "stream",
     "text": [
      "/home/chrism/datasets/tumorcells/nuclei/ext1___Snap-159095_seg.npy\n",
      "Otsu's threshold: 1710.6446305008628\n",
      "/home/chrism/datasets/tumorcells/nuclei/hs3st1___Snap-159279_seg.npy\n",
      "Otsu's threshold: 1332.412639591196\n",
      "/home/chrism/datasets/tumorcells/nuclei/hs6st1___Snap-159326_seg.npy\n",
      "Otsu's threshold: 1381.998249797078\n",
      "/home/chrism/datasets/tumorcells/nuclei/hs6st1___Snap-159322_seg.npy\n",
      "Otsu's threshold: 1512.803787417505\n"
     ]
    },
    {
     "name": "stderr",
     "output_type": "stream",
     "text": [
      "/tmp/ipykernel_232059/1831746247.py:219: UserWarning: /home/chrism/datasets/tumorcells/classification_otsu_1.00/othercell/hs6st1___Snap-159322.czi_001342.png is a low contrast image\n",
      "  io.imsave(png_file_path, im8)\n"
     ]
    },
    {
     "name": "stdout",
     "output_type": "stream",
     "text": [
      "/home/chrism/datasets/tumorcells/nuclei/hs6st1___Snap-159319_seg.npy\n",
      "Otsu's threshold: 1164.056543586305\n"
     ]
    },
    {
     "name": "stderr",
     "output_type": "stream",
     "text": [
      "/tmp/ipykernel_232059/1831746247.py:219: UserWarning: /home/chrism/datasets/tumorcells/classification_otsu_1.00/tumorcell/hs6st1___Snap-159319.czi_001123.png is a low contrast image\n",
      "  io.imsave(png_file_path, im8)\n"
     ]
    },
    {
     "name": "stdout",
     "output_type": "stream",
     "text": [
      "/home/chrism/datasets/tumorcells/nuclei/ext1___Snap-159093_seg.npy\n",
      "Otsu's threshold: 1640.7398069083356\n"
     ]
    },
    {
     "name": "stderr",
     "output_type": "stream",
     "text": [
      "/tmp/ipykernel_232059/1831746247.py:219: UserWarning: /home/chrism/datasets/tumorcells/classification_otsu_1.00/othercell/ext1___Snap-159093.czi_001191.png is a low contrast image\n",
      "  io.imsave(png_file_path, im8)\n"
     ]
    },
    {
     "name": "stdout",
     "output_type": "stream",
     "text": [
      "/home/chrism/datasets/tumorcells/nuclei/hs6st1___Snap-159323_seg.npy\n",
      "Otsu's threshold: 1324.873677431138\n"
     ]
    },
    {
     "name": "stderr",
     "output_type": "stream",
     "text": [
      "/tmp/ipykernel_232059/1831746247.py:219: UserWarning: /home/chrism/datasets/tumorcells/classification_otsu_1.00/othercell/hs6st1___Snap-159323.czi_000560.png is a low contrast image\n",
      "  io.imsave(png_file_path, im8)\n",
      "/tmp/ipykernel_232059/1831746247.py:219: UserWarning: /home/chrism/datasets/tumorcells/classification_otsu_1.00/othercell/hs6st1___Snap-159323.czi_000732.png is a low contrast image\n",
      "  io.imsave(png_file_path, im8)\n"
     ]
    },
    {
     "name": "stdout",
     "output_type": "stream",
     "text": [
      "/home/chrism/datasets/tumorcells/nuclei/hs3st1___Snap-159095_seg.npy\n",
      "Otsu's threshold: 1745.6570252489337\n",
      "/home/chrism/datasets/tumorcells/nuclei/hs3st1___Snap-159281_seg.npy\n",
      "Otsu's threshold: 1510.6303409090913\n",
      "/home/chrism/datasets/tumorcells/nuclei/hs3st1___Snap-159097_seg.npy\n",
      "Otsu's threshold: 1344.3880445494403\n"
     ]
    },
    {
     "name": "stderr",
     "output_type": "stream",
     "text": [
      "/tmp/ipykernel_232059/1831746247.py:219: UserWarning: /home/chrism/datasets/tumorcells/classification_otsu_1.00/tumorcell/hs3st1___Snap-159097.czi_001195.png is a low contrast image\n",
      "  io.imsave(png_file_path, im8)\n"
     ]
    },
    {
     "name": "stdout",
     "output_type": "stream",
     "text": [
      "/home/chrism/datasets/tumorcells/nuclei/hs6st1___Snap-159324_seg.npy\n",
      "Otsu's threshold: 1382.2074169796545\n",
      "Otsu correction: 1.0200000000000002\n",
      "/home/chrism/datasets/tumorcells/nuclei/hs3st1___Snap-159094_seg.npy\n",
      "Otsu's threshold: 1467.4906023483732\n"
     ]
    },
    {
     "name": "stderr",
     "output_type": "stream",
     "text": [
      "/tmp/ipykernel_232059/1831746247.py:219: UserWarning: /home/chrism/datasets/tumorcells/classification_otsu_1.02/othercell/hs3st1___Snap-159094.czi_001376.png is a low contrast image\n",
      "  io.imsave(png_file_path, im8)\n"
     ]
    },
    {
     "name": "stdout",
     "output_type": "stream",
     "text": [
      "/home/chrism/datasets/tumorcells/nuclei/ext1___Snap-159094_seg.npy\n",
      "Otsu's threshold: 1403.0713275471528\n"
     ]
    },
    {
     "name": "stderr",
     "output_type": "stream",
     "text": [
      "/tmp/ipykernel_232059/1831746247.py:219: UserWarning: /home/chrism/datasets/tumorcells/classification_otsu_1.02/tumorcell/ext1___Snap-159094.czi_001376.png is a low contrast image\n",
      "  io.imsave(png_file_path, im8)\n"
     ]
    },
    {
     "name": "stdout",
     "output_type": "stream",
     "text": [
      "/home/chrism/datasets/tumorcells/nuclei/ext1___Snap-159095_seg.npy\n",
      "Otsu's threshold: 1744.85752311088\n",
      "/home/chrism/datasets/tumorcells/nuclei/hs3st1___Snap-159279_seg.npy\n",
      "Otsu's threshold: 1359.06089238302\n",
      "/home/chrism/datasets/tumorcells/nuclei/hs6st1___Snap-159326_seg.npy\n",
      "Otsu's threshold: 1409.6382147930196\n",
      "/home/chrism/datasets/tumorcells/nuclei/hs6st1___Snap-159322_seg.npy\n",
      "Otsu's threshold: 1543.0598631658552\n"
     ]
    },
    {
     "name": "stderr",
     "output_type": "stream",
     "text": [
      "/tmp/ipykernel_232059/1831746247.py:219: UserWarning: /home/chrism/datasets/tumorcells/classification_otsu_1.02/othercell/hs6st1___Snap-159322.czi_001342.png is a low contrast image\n",
      "  io.imsave(png_file_path, im8)\n"
     ]
    },
    {
     "name": "stdout",
     "output_type": "stream",
     "text": [
      "/home/chrism/datasets/tumorcells/nuclei/hs6st1___Snap-159319_seg.npy\n",
      "Otsu's threshold: 1187.3376744580312\n"
     ]
    },
    {
     "name": "stderr",
     "output_type": "stream",
     "text": [
      "/tmp/ipykernel_232059/1831746247.py:219: UserWarning: /home/chrism/datasets/tumorcells/classification_otsu_1.02/tumorcell/hs6st1___Snap-159319.czi_001123.png is a low contrast image\n",
      "  io.imsave(png_file_path, im8)\n"
     ]
    },
    {
     "name": "stdout",
     "output_type": "stream",
     "text": [
      "/home/chrism/datasets/tumorcells/nuclei/ext1___Snap-159093_seg.npy\n",
      "Otsu's threshold: 1673.5546030465023\n"
     ]
    },
    {
     "name": "stderr",
     "output_type": "stream",
     "text": [
      "/tmp/ipykernel_232059/1831746247.py:219: UserWarning: /home/chrism/datasets/tumorcells/classification_otsu_1.02/othercell/ext1___Snap-159093.czi_001191.png is a low contrast image\n",
      "  io.imsave(png_file_path, im8)\n"
     ]
    },
    {
     "name": "stdout",
     "output_type": "stream",
     "text": [
      "/home/chrism/datasets/tumorcells/nuclei/hs6st1___Snap-159323_seg.npy\n",
      "Otsu's threshold: 1351.3711509797608\n"
     ]
    },
    {
     "name": "stderr",
     "output_type": "stream",
     "text": [
      "/tmp/ipykernel_232059/1831746247.py:219: UserWarning: /home/chrism/datasets/tumorcells/classification_otsu_1.02/othercell/hs6st1___Snap-159323.czi_000560.png is a low contrast image\n",
      "  io.imsave(png_file_path, im8)\n",
      "/tmp/ipykernel_232059/1831746247.py:219: UserWarning: /home/chrism/datasets/tumorcells/classification_otsu_1.02/othercell/hs6st1___Snap-159323.czi_000732.png is a low contrast image\n",
      "  io.imsave(png_file_path, im8)\n"
     ]
    },
    {
     "name": "stdout",
     "output_type": "stream",
     "text": [
      "/home/chrism/datasets/tumorcells/nuclei/hs3st1___Snap-159095_seg.npy\n",
      "Otsu's threshold: 1780.5701657539123\n",
      "/home/chrism/datasets/tumorcells/nuclei/hs3st1___Snap-159281_seg.npy\n",
      "Otsu's threshold: 1540.8429477272732\n",
      "/home/chrism/datasets/tumorcells/nuclei/hs3st1___Snap-159097_seg.npy\n",
      "Otsu's threshold: 1371.2758054404292\n"
     ]
    },
    {
     "name": "stderr",
     "output_type": "stream",
     "text": [
      "/tmp/ipykernel_232059/1831746247.py:219: UserWarning: /home/chrism/datasets/tumorcells/classification_otsu_1.02/othercell/hs3st1___Snap-159097.czi_001195.png is a low contrast image\n",
      "  io.imsave(png_file_path, im8)\n"
     ]
    },
    {
     "name": "stdout",
     "output_type": "stream",
     "text": [
      "/home/chrism/datasets/tumorcells/nuclei/hs6st1___Snap-159324_seg.npy\n",
      "Otsu's threshold: 1409.8515653192476\n",
      "Otsu correction: 1.0400000000000003\n",
      "/home/chrism/datasets/tumorcells/nuclei/hs3st1___Snap-159094_seg.npy\n",
      "Otsu's threshold: 1496.2649278846159\n"
     ]
    },
    {
     "name": "stderr",
     "output_type": "stream",
     "text": [
      "/tmp/ipykernel_232059/1831746247.py:219: UserWarning: /home/chrism/datasets/tumorcells/classification_otsu_1.04/othercell/hs3st1___Snap-159094.czi_001376.png is a low contrast image\n",
      "  io.imsave(png_file_path, im8)\n"
     ]
    },
    {
     "name": "stdout",
     "output_type": "stream",
     "text": [
      "/home/chrism/datasets/tumorcells/nuclei/ext1___Snap-159094_seg.npy\n",
      "Otsu's threshold: 1430.5825300480774\n"
     ]
    },
    {
     "name": "stderr",
     "output_type": "stream",
     "text": [
      "/tmp/ipykernel_232059/1831746247.py:219: UserWarning: /home/chrism/datasets/tumorcells/classification_otsu_1.04/tumorcell/ext1___Snap-159094.czi_001376.png is a low contrast image\n",
      "  io.imsave(png_file_path, im8)\n"
     ]
    },
    {
     "name": "stdout",
     "output_type": "stream",
     "text": [
      "/home/chrism/datasets/tumorcells/nuclei/ext1___Snap-159095_seg.npy\n",
      "Otsu's threshold: 1779.0704157208972\n",
      "/home/chrism/datasets/tumorcells/nuclei/hs3st1___Snap-159279_seg.npy\n",
      "Otsu's threshold: 1385.709145174844\n",
      "/home/chrism/datasets/tumorcells/nuclei/hs6st1___Snap-159326_seg.npy\n",
      "Otsu's threshold: 1437.278179788961\n",
      "/home/chrism/datasets/tumorcells/nuclei/hs6st1___Snap-159322_seg.npy\n",
      "Otsu's threshold: 1573.3159389142054\n"
     ]
    },
    {
     "name": "stderr",
     "output_type": "stream",
     "text": [
      "/tmp/ipykernel_232059/1831746247.py:219: UserWarning: /home/chrism/datasets/tumorcells/classification_otsu_1.04/othercell/hs6st1___Snap-159322.czi_001342.png is a low contrast image\n",
      "  io.imsave(png_file_path, im8)\n"
     ]
    },
    {
     "name": "stdout",
     "output_type": "stream",
     "text": [
      "/home/chrism/datasets/tumorcells/nuclei/hs6st1___Snap-159319_seg.npy\n",
      "Otsu's threshold: 1210.6188053297572\n"
     ]
    },
    {
     "name": "stderr",
     "output_type": "stream",
     "text": [
      "/tmp/ipykernel_232059/1831746247.py:219: UserWarning: /home/chrism/datasets/tumorcells/classification_otsu_1.04/tumorcell/hs6st1___Snap-159319.czi_001123.png is a low contrast image\n",
      "  io.imsave(png_file_path, im8)\n"
     ]
    },
    {
     "name": "stdout",
     "output_type": "stream",
     "text": [
      "/home/chrism/datasets/tumorcells/nuclei/ext1___Snap-159093_seg.npy\n",
      "Otsu's threshold: 1706.369399184669\n"
     ]
    },
    {
     "name": "stderr",
     "output_type": "stream",
     "text": [
      "/tmp/ipykernel_232059/1831746247.py:219: UserWarning: /home/chrism/datasets/tumorcells/classification_otsu_1.04/othercell/ext1___Snap-159093.czi_001191.png is a low contrast image\n",
      "  io.imsave(png_file_path, im8)\n"
     ]
    },
    {
     "name": "stdout",
     "output_type": "stream",
     "text": [
      "/home/chrism/datasets/tumorcells/nuclei/hs6st1___Snap-159323_seg.npy\n",
      "Otsu's threshold: 1377.8686245283836\n"
     ]
    },
    {
     "name": "stderr",
     "output_type": "stream",
     "text": [
      "/tmp/ipykernel_232059/1831746247.py:219: UserWarning: /home/chrism/datasets/tumorcells/classification_otsu_1.04/othercell/hs6st1___Snap-159323.czi_000560.png is a low contrast image\n",
      "  io.imsave(png_file_path, im8)\n",
      "/tmp/ipykernel_232059/1831746247.py:219: UserWarning: /home/chrism/datasets/tumorcells/classification_otsu_1.04/othercell/hs6st1___Snap-159323.czi_000732.png is a low contrast image\n",
      "  io.imsave(png_file_path, im8)\n"
     ]
    },
    {
     "name": "stdout",
     "output_type": "stream",
     "text": [
      "/home/chrism/datasets/tumorcells/nuclei/hs3st1___Snap-159095_seg.npy\n",
      "Otsu's threshold: 1815.483306258891\n",
      "/home/chrism/datasets/tumorcells/nuclei/hs3st1___Snap-159281_seg.npy\n",
      "Otsu's threshold: 1571.0555545454552\n",
      "/home/chrism/datasets/tumorcells/nuclei/hs3st1___Snap-159097_seg.npy\n",
      "Otsu's threshold: 1398.163566331418\n"
     ]
    },
    {
     "name": "stderr",
     "output_type": "stream",
     "text": [
      "/tmp/ipykernel_232059/1831746247.py:219: UserWarning: /home/chrism/datasets/tumorcells/classification_otsu_1.04/othercell/hs3st1___Snap-159097.czi_001195.png is a low contrast image\n",
      "  io.imsave(png_file_path, im8)\n"
     ]
    },
    {
     "name": "stdout",
     "output_type": "stream",
     "text": [
      "/home/chrism/datasets/tumorcells/nuclei/hs6st1___Snap-159324_seg.npy\n",
      "Otsu's threshold: 1437.4957136588407\n",
      "Otsu correction: 1.0600000000000003\n",
      "/home/chrism/datasets/tumorcells/nuclei/hs3st1___Snap-159094_seg.npy\n",
      "Otsu's threshold: 1525.0392534208584\n"
     ]
    },
    {
     "name": "stderr",
     "output_type": "stream",
     "text": [
      "/tmp/ipykernel_232059/1831746247.py:219: UserWarning: /home/chrism/datasets/tumorcells/classification_otsu_1.06/othercell/hs3st1___Snap-159094.czi_001376.png is a low contrast image\n",
      "  io.imsave(png_file_path, im8)\n"
     ]
    },
    {
     "name": "stdout",
     "output_type": "stream",
     "text": [
      "/home/chrism/datasets/tumorcells/nuclei/ext1___Snap-159094_seg.npy\n",
      "Otsu's threshold: 1458.093732549002\n"
     ]
    },
    {
     "name": "stderr",
     "output_type": "stream",
     "text": [
      "/tmp/ipykernel_232059/1831746247.py:219: UserWarning: /home/chrism/datasets/tumorcells/classification_otsu_1.06/tumorcell/ext1___Snap-159094.czi_001376.png is a low contrast image\n",
      "  io.imsave(png_file_path, im8)\n"
     ]
    },
    {
     "name": "stdout",
     "output_type": "stream",
     "text": [
      "/home/chrism/datasets/tumorcells/nuclei/ext1___Snap-159095_seg.npy\n",
      "Otsu's threshold: 1813.2833083309147\n",
      "/home/chrism/datasets/tumorcells/nuclei/hs3st1___Snap-159279_seg.npy\n",
      "Otsu's threshold: 1412.3573979666678\n",
      "/home/chrism/datasets/tumorcells/nuclei/hs6st1___Snap-159326_seg.npy\n",
      "Otsu's threshold: 1464.9181447849028\n",
      "/home/chrism/datasets/tumorcells/nuclei/hs6st1___Snap-159322_seg.npy\n",
      "Otsu's threshold: 1603.5720146625554\n"
     ]
    },
    {
     "name": "stderr",
     "output_type": "stream",
     "text": [
      "/tmp/ipykernel_232059/1831746247.py:219: UserWarning: /home/chrism/datasets/tumorcells/classification_otsu_1.06/othercell/hs6st1___Snap-159322.czi_001342.png is a low contrast image\n",
      "  io.imsave(png_file_path, im8)\n"
     ]
    },
    {
     "name": "stdout",
     "output_type": "stream",
     "text": [
      "/home/chrism/datasets/tumorcells/nuclei/hs6st1___Snap-159319_seg.npy\n",
      "Otsu's threshold: 1233.8999362014833\n"
     ]
    },
    {
     "name": "stderr",
     "output_type": "stream",
     "text": [
      "/tmp/ipykernel_232059/1831746247.py:219: UserWarning: /home/chrism/datasets/tumorcells/classification_otsu_1.06/tumorcell/hs6st1___Snap-159319.czi_001123.png is a low contrast image\n",
      "  io.imsave(png_file_path, im8)\n"
     ]
    },
    {
     "name": "stdout",
     "output_type": "stream",
     "text": [
      "/home/chrism/datasets/tumorcells/nuclei/ext1___Snap-159093_seg.npy\n",
      "Otsu's threshold: 1739.1841953228356\n"
     ]
    },
    {
     "name": "stderr",
     "output_type": "stream",
     "text": [
      "/tmp/ipykernel_232059/1831746247.py:219: UserWarning: /home/chrism/datasets/tumorcells/classification_otsu_1.06/othercell/ext1___Snap-159093.czi_001191.png is a low contrast image\n",
      "  io.imsave(png_file_path, im8)\n"
     ]
    },
    {
     "name": "stdout",
     "output_type": "stream",
     "text": [
      "/home/chrism/datasets/tumorcells/nuclei/hs6st1___Snap-159323_seg.npy\n",
      "Otsu's threshold: 1404.3660980770064\n"
     ]
    },
    {
     "name": "stderr",
     "output_type": "stream",
     "text": [
      "/tmp/ipykernel_232059/1831746247.py:219: UserWarning: /home/chrism/datasets/tumorcells/classification_otsu_1.06/othercell/hs6st1___Snap-159323.czi_000560.png is a low contrast image\n",
      "  io.imsave(png_file_path, im8)\n",
      "/tmp/ipykernel_232059/1831746247.py:219: UserWarning: /home/chrism/datasets/tumorcells/classification_otsu_1.06/othercell/hs6st1___Snap-159323.czi_000732.png is a low contrast image\n",
      "  io.imsave(png_file_path, im8)\n"
     ]
    },
    {
     "name": "stdout",
     "output_type": "stream",
     "text": [
      "/home/chrism/datasets/tumorcells/nuclei/hs3st1___Snap-159095_seg.npy\n",
      "Otsu's threshold: 1850.3964467638698\n",
      "/home/chrism/datasets/tumorcells/nuclei/hs3st1___Snap-159281_seg.npy\n",
      "Otsu's threshold: 1601.2681613636369\n",
      "/home/chrism/datasets/tumorcells/nuclei/hs3st1___Snap-159097_seg.npy\n",
      "Otsu's threshold: 1425.0513272224068\n"
     ]
    },
    {
     "name": "stderr",
     "output_type": "stream",
     "text": [
      "/tmp/ipykernel_232059/1831746247.py:219: UserWarning: /home/chrism/datasets/tumorcells/classification_otsu_1.06/othercell/hs3st1___Snap-159097.czi_001195.png is a low contrast image\n",
      "  io.imsave(png_file_path, im8)\n"
     ]
    },
    {
     "name": "stdout",
     "output_type": "stream",
     "text": [
      "/home/chrism/datasets/tumorcells/nuclei/hs6st1___Snap-159324_seg.npy\n",
      "Otsu's threshold: 1465.1398619984338\n",
      "Otsu correction: 1.0800000000000003\n",
      "/home/chrism/datasets/tumorcells/nuclei/hs3st1___Snap-159094_seg.npy\n",
      "Otsu's threshold: 1553.813578957101\n"
     ]
    },
    {
     "name": "stderr",
     "output_type": "stream",
     "text": [
      "/tmp/ipykernel_232059/1831746247.py:219: UserWarning: /home/chrism/datasets/tumorcells/classification_otsu_1.08/othercell/hs3st1___Snap-159094.czi_001376.png is a low contrast image\n",
      "  io.imsave(png_file_path, im8)\n"
     ]
    },
    {
     "name": "stdout",
     "output_type": "stream",
     "text": [
      "/home/chrism/datasets/tumorcells/nuclei/ext1___Snap-159094_seg.npy\n",
      "Otsu's threshold: 1485.6049350499266\n"
     ]
    },
    {
     "name": "stderr",
     "output_type": "stream",
     "text": [
      "/tmp/ipykernel_232059/1831746247.py:219: UserWarning: /home/chrism/datasets/tumorcells/classification_otsu_1.08/othercell/ext1___Snap-159094.czi_001376.png is a low contrast image\n",
      "  io.imsave(png_file_path, im8)\n"
     ]
    },
    {
     "name": "stdout",
     "output_type": "stream",
     "text": [
      "/home/chrism/datasets/tumorcells/nuclei/ext1___Snap-159095_seg.npy\n",
      "Otsu's threshold: 1847.4962009409319\n",
      "/home/chrism/datasets/tumorcells/nuclei/hs3st1___Snap-159279_seg.npy\n",
      "Otsu's threshold: 1439.0056507584918\n",
      "/home/chrism/datasets/tumorcells/nuclei/hs6st1___Snap-159326_seg.npy\n",
      "Otsu's threshold: 1492.5581097808445\n",
      "/home/chrism/datasets/tumorcells/nuclei/hs6st1___Snap-159322_seg.npy\n",
      "Otsu's threshold: 1633.8280904109056\n"
     ]
    },
    {
     "name": "stderr",
     "output_type": "stream",
     "text": [
      "/tmp/ipykernel_232059/1831746247.py:219: UserWarning: /home/chrism/datasets/tumorcells/classification_otsu_1.08/othercell/hs6st1___Snap-159322.czi_001342.png is a low contrast image\n",
      "  io.imsave(png_file_path, im8)\n"
     ]
    },
    {
     "name": "stdout",
     "output_type": "stream",
     "text": [
      "/home/chrism/datasets/tumorcells/nuclei/hs6st1___Snap-159319_seg.npy\n",
      "Otsu's threshold: 1257.1810670732095\n"
     ]
    },
    {
     "name": "stderr",
     "output_type": "stream",
     "text": [
      "/tmp/ipykernel_232059/1831746247.py:219: UserWarning: /home/chrism/datasets/tumorcells/classification_otsu_1.08/othercell/hs6st1___Snap-159319.czi_001123.png is a low contrast image\n",
      "  io.imsave(png_file_path, im8)\n"
     ]
    },
    {
     "name": "stdout",
     "output_type": "stream",
     "text": [
      "/home/chrism/datasets/tumorcells/nuclei/ext1___Snap-159093_seg.npy\n",
      "Otsu's threshold: 1771.9989914610023\n"
     ]
    },
    {
     "name": "stderr",
     "output_type": "stream",
     "text": [
      "/tmp/ipykernel_232059/1831746247.py:219: UserWarning: /home/chrism/datasets/tumorcells/classification_otsu_1.08/othercell/ext1___Snap-159093.czi_001191.png is a low contrast image\n",
      "  io.imsave(png_file_path, im8)\n"
     ]
    },
    {
     "name": "stdout",
     "output_type": "stream",
     "text": [
      "/home/chrism/datasets/tumorcells/nuclei/hs6st1___Snap-159323_seg.npy\n",
      "Otsu's threshold: 1430.8635716256292\n"
     ]
    },
    {
     "name": "stderr",
     "output_type": "stream",
     "text": [
      "/tmp/ipykernel_232059/1831746247.py:219: UserWarning: /home/chrism/datasets/tumorcells/classification_otsu_1.08/othercell/hs6st1___Snap-159323.czi_000560.png is a low contrast image\n",
      "  io.imsave(png_file_path, im8)\n",
      "/tmp/ipykernel_232059/1831746247.py:219: UserWarning: /home/chrism/datasets/tumorcells/classification_otsu_1.08/othercell/hs6st1___Snap-159323.czi_000732.png is a low contrast image\n",
      "  io.imsave(png_file_path, im8)\n"
     ]
    },
    {
     "name": "stdout",
     "output_type": "stream",
     "text": [
      "/home/chrism/datasets/tumorcells/nuclei/hs3st1___Snap-159095_seg.npy\n",
      "Otsu's threshold: 1885.3095872688484\n",
      "/home/chrism/datasets/tumorcells/nuclei/hs3st1___Snap-159281_seg.npy\n",
      "Otsu's threshold: 1631.4807681818188\n",
      "/home/chrism/datasets/tumorcells/nuclei/hs3st1___Snap-159097_seg.npy\n",
      "Otsu's threshold: 1451.9390881133957\n"
     ]
    },
    {
     "name": "stderr",
     "output_type": "stream",
     "text": [
      "/tmp/ipykernel_232059/1831746247.py:219: UserWarning: /home/chrism/datasets/tumorcells/classification_otsu_1.08/othercell/hs3st1___Snap-159097.czi_001195.png is a low contrast image\n",
      "  io.imsave(png_file_path, im8)\n"
     ]
    },
    {
     "name": "stdout",
     "output_type": "stream",
     "text": [
      "/home/chrism/datasets/tumorcells/nuclei/hs6st1___Snap-159324_seg.npy\n",
      "Otsu's threshold: 1492.784010338027\n",
      "Otsu correction: 1.1000000000000003\n",
      "/home/chrism/datasets/tumorcells/nuclei/hs3st1___Snap-159094_seg.npy\n",
      "Otsu's threshold: 1582.5879044933438\n"
     ]
    },
    {
     "name": "stderr",
     "output_type": "stream",
     "text": [
      "/tmp/ipykernel_232059/1831746247.py:219: UserWarning: /home/chrism/datasets/tumorcells/classification_otsu_1.10/othercell/hs3st1___Snap-159094.czi_001376.png is a low contrast image\n",
      "  io.imsave(png_file_path, im8)\n"
     ]
    },
    {
     "name": "stdout",
     "output_type": "stream",
     "text": [
      "/home/chrism/datasets/tumorcells/nuclei/ext1___Snap-159094_seg.npy\n",
      "Otsu's threshold: 1513.1161375508511\n"
     ]
    },
    {
     "name": "stderr",
     "output_type": "stream",
     "text": [
      "/tmp/ipykernel_232059/1831746247.py:219: UserWarning: /home/chrism/datasets/tumorcells/classification_otsu_1.10/othercell/ext1___Snap-159094.czi_001376.png is a low contrast image\n",
      "  io.imsave(png_file_path, im8)\n"
     ]
    },
    {
     "name": "stdout",
     "output_type": "stream",
     "text": [
      "/home/chrism/datasets/tumorcells/nuclei/ext1___Snap-159095_seg.npy\n",
      "Otsu's threshold: 1881.709093550949\n",
      "/home/chrism/datasets/tumorcells/nuclei/hs3st1___Snap-159279_seg.npy\n",
      "Otsu's threshold: 1465.6539035503158\n",
      "/home/chrism/datasets/tumorcells/nuclei/hs6st1___Snap-159326_seg.npy\n",
      "Otsu's threshold: 1520.198074776786\n",
      "/home/chrism/datasets/tumorcells/nuclei/hs6st1___Snap-159322_seg.npy\n",
      "Otsu's threshold: 1664.0841661592556\n"
     ]
    },
    {
     "name": "stderr",
     "output_type": "stream",
     "text": [
      "/tmp/ipykernel_232059/1831746247.py:219: UserWarning: /home/chrism/datasets/tumorcells/classification_otsu_1.10/othercell/hs6st1___Snap-159322.czi_001342.png is a low contrast image\n",
      "  io.imsave(png_file_path, im8)\n"
     ]
    },
    {
     "name": "stdout",
     "output_type": "stream",
     "text": [
      "/home/chrism/datasets/tumorcells/nuclei/hs6st1___Snap-159319_seg.npy\n",
      "Otsu's threshold: 1280.4621979449355\n"
     ]
    },
    {
     "name": "stderr",
     "output_type": "stream",
     "text": [
      "/tmp/ipykernel_232059/1831746247.py:219: UserWarning: /home/chrism/datasets/tumorcells/classification_otsu_1.10/othercell/hs6st1___Snap-159319.czi_001123.png is a low contrast image\n",
      "  io.imsave(png_file_path, im8)\n"
     ]
    },
    {
     "name": "stdout",
     "output_type": "stream",
     "text": [
      "/home/chrism/datasets/tumorcells/nuclei/ext1___Snap-159093_seg.npy\n",
      "Otsu's threshold: 1804.8137875991692\n"
     ]
    },
    {
     "name": "stderr",
     "output_type": "stream",
     "text": [
      "/tmp/ipykernel_232059/1831746247.py:219: UserWarning: /home/chrism/datasets/tumorcells/classification_otsu_1.10/othercell/ext1___Snap-159093.czi_001191.png is a low contrast image\n",
      "  io.imsave(png_file_path, im8)\n"
     ]
    },
    {
     "name": "stdout",
     "output_type": "stream",
     "text": [
      "/home/chrism/datasets/tumorcells/nuclei/hs6st1___Snap-159323_seg.npy\n",
      "Otsu's threshold: 1457.361045174252\n"
     ]
    },
    {
     "name": "stderr",
     "output_type": "stream",
     "text": [
      "/tmp/ipykernel_232059/1831746247.py:219: UserWarning: /home/chrism/datasets/tumorcells/classification_otsu_1.10/othercell/hs6st1___Snap-159323.czi_000560.png is a low contrast image\n",
      "  io.imsave(png_file_path, im8)\n",
      "/tmp/ipykernel_232059/1831746247.py:219: UserWarning: /home/chrism/datasets/tumorcells/classification_otsu_1.10/othercell/hs6st1___Snap-159323.czi_000732.png is a low contrast image\n",
      "  io.imsave(png_file_path, im8)\n"
     ]
    },
    {
     "name": "stdout",
     "output_type": "stream",
     "text": [
      "/home/chrism/datasets/tumorcells/nuclei/hs3st1___Snap-159095_seg.npy\n",
      "Otsu's threshold: 1920.222727773827\n",
      "/home/chrism/datasets/tumorcells/nuclei/hs3st1___Snap-159281_seg.npy\n",
      "Otsu's threshold: 1661.6933750000005\n",
      "/home/chrism/datasets/tumorcells/nuclei/hs3st1___Snap-159097_seg.npy\n",
      "Otsu's threshold: 1478.8268490043845\n"
     ]
    },
    {
     "name": "stderr",
     "output_type": "stream",
     "text": [
      "/tmp/ipykernel_232059/1831746247.py:219: UserWarning: /home/chrism/datasets/tumorcells/classification_otsu_1.10/othercell/hs3st1___Snap-159097.czi_001195.png is a low contrast image\n",
      "  io.imsave(png_file_path, im8)\n"
     ]
    },
    {
     "name": "stdout",
     "output_type": "stream",
     "text": [
      "/home/chrism/datasets/tumorcells/nuclei/hs6st1___Snap-159324_seg.npy\n",
      "Otsu's threshold: 1520.42815867762\n",
      "Otsu correction: 1.1200000000000003\n",
      "/home/chrism/datasets/tumorcells/nuclei/hs3st1___Snap-159094_seg.npy\n",
      "Otsu's threshold: 1611.3622300295863\n"
     ]
    },
    {
     "name": "stderr",
     "output_type": "stream",
     "text": [
      "/tmp/ipykernel_232059/1831746247.py:219: UserWarning: /home/chrism/datasets/tumorcells/classification_otsu_1.12/othercell/hs3st1___Snap-159094.czi_001376.png is a low contrast image\n",
      "  io.imsave(png_file_path, im8)\n"
     ]
    },
    {
     "name": "stdout",
     "output_type": "stream",
     "text": [
      "/home/chrism/datasets/tumorcells/nuclei/ext1___Snap-159094_seg.npy\n",
      "Otsu's threshold: 1540.6273400517757\n"
     ]
    },
    {
     "name": "stderr",
     "output_type": "stream",
     "text": [
      "/tmp/ipykernel_232059/1831746247.py:219: UserWarning: /home/chrism/datasets/tumorcells/classification_otsu_1.12/othercell/ext1___Snap-159094.czi_001376.png is a low contrast image\n",
      "  io.imsave(png_file_path, im8)\n"
     ]
    },
    {
     "name": "stdout",
     "output_type": "stream",
     "text": [
      "/home/chrism/datasets/tumorcells/nuclei/ext1___Snap-159095_seg.npy\n",
      "Otsu's threshold: 1915.9219861609665\n",
      "/home/chrism/datasets/tumorcells/nuclei/hs3st1___Snap-159279_seg.npy\n",
      "Otsu's threshold: 1492.3021563421398\n",
      "/home/chrism/datasets/tumorcells/nuclei/hs6st1___Snap-159326_seg.npy\n",
      "Otsu's threshold: 1547.8380397727276\n",
      "/home/chrism/datasets/tumorcells/nuclei/hs6st1___Snap-159322_seg.npy\n",
      "Otsu's threshold: 1694.3402419076058\n"
     ]
    },
    {
     "name": "stderr",
     "output_type": "stream",
     "text": [
      "/tmp/ipykernel_232059/1831746247.py:219: UserWarning: /home/chrism/datasets/tumorcells/classification_otsu_1.12/othercell/hs6st1___Snap-159322.czi_001342.png is a low contrast image\n",
      "  io.imsave(png_file_path, im8)\n"
     ]
    },
    {
     "name": "stdout",
     "output_type": "stream",
     "text": [
      "/home/chrism/datasets/tumorcells/nuclei/hs6st1___Snap-159319_seg.npy\n",
      "Otsu's threshold: 1303.7433288166617\n"
     ]
    },
    {
     "name": "stderr",
     "output_type": "stream",
     "text": [
      "/tmp/ipykernel_232059/1831746247.py:219: UserWarning: /home/chrism/datasets/tumorcells/classification_otsu_1.12/othercell/hs6st1___Snap-159319.czi_001123.png is a low contrast image\n",
      "  io.imsave(png_file_path, im8)\n"
     ]
    },
    {
     "name": "stdout",
     "output_type": "stream",
     "text": [
      "/home/chrism/datasets/tumorcells/nuclei/ext1___Snap-159093_seg.npy\n",
      "Otsu's threshold: 1837.628583737336\n"
     ]
    },
    {
     "name": "stderr",
     "output_type": "stream",
     "text": [
      "/tmp/ipykernel_232059/1831746247.py:219: UserWarning: /home/chrism/datasets/tumorcells/classification_otsu_1.12/othercell/ext1___Snap-159093.czi_001191.png is a low contrast image\n",
      "  io.imsave(png_file_path, im8)\n"
     ]
    },
    {
     "name": "stdout",
     "output_type": "stream",
     "text": [
      "/home/chrism/datasets/tumorcells/nuclei/hs6st1___Snap-159323_seg.npy\n",
      "Otsu's threshold: 1483.8585187228748\n"
     ]
    },
    {
     "name": "stderr",
     "output_type": "stream",
     "text": [
      "/tmp/ipykernel_232059/1831746247.py:219: UserWarning: /home/chrism/datasets/tumorcells/classification_otsu_1.12/othercell/hs6st1___Snap-159323.czi_000560.png is a low contrast image\n",
      "  io.imsave(png_file_path, im8)\n",
      "/tmp/ipykernel_232059/1831746247.py:219: UserWarning: /home/chrism/datasets/tumorcells/classification_otsu_1.12/othercell/hs6st1___Snap-159323.czi_000732.png is a low contrast image\n",
      "  io.imsave(png_file_path, im8)\n"
     ]
    },
    {
     "name": "stdout",
     "output_type": "stream",
     "text": [
      "/home/chrism/datasets/tumorcells/nuclei/hs3st1___Snap-159095_seg.npy\n",
      "Otsu's threshold: 1955.1358682788057\n",
      "/home/chrism/datasets/tumorcells/nuclei/hs3st1___Snap-159281_seg.npy\n",
      "Otsu's threshold: 1691.9059818181825\n",
      "/home/chrism/datasets/tumorcells/nuclei/hs3st1___Snap-159097_seg.npy\n",
      "Otsu's threshold: 1505.7146098953733\n"
     ]
    },
    {
     "name": "stderr",
     "output_type": "stream",
     "text": [
      "/tmp/ipykernel_232059/1831746247.py:219: UserWarning: /home/chrism/datasets/tumorcells/classification_otsu_1.12/othercell/hs3st1___Snap-159097.czi_001195.png is a low contrast image\n",
      "  io.imsave(png_file_path, im8)\n"
     ]
    },
    {
     "name": "stdout",
     "output_type": "stream",
     "text": [
      "/home/chrism/datasets/tumorcells/nuclei/hs6st1___Snap-159324_seg.npy\n",
      "Otsu's threshold: 1548.0723070172132\n",
      "Otsu correction: 1.1400000000000003\n",
      "/home/chrism/datasets/tumorcells/nuclei/hs3st1___Snap-159094_seg.npy\n",
      "Otsu's threshold: 1640.136555565829\n"
     ]
    },
    {
     "name": "stderr",
     "output_type": "stream",
     "text": [
      "/tmp/ipykernel_232059/1831746247.py:219: UserWarning: /home/chrism/datasets/tumorcells/classification_otsu_1.14/othercell/hs3st1___Snap-159094.czi_001376.png is a low contrast image\n",
      "  io.imsave(png_file_path, im8)\n"
     ]
    },
    {
     "name": "stdout",
     "output_type": "stream",
     "text": [
      "/home/chrism/datasets/tumorcells/nuclei/ext1___Snap-159094_seg.npy\n",
      "Otsu's threshold: 1568.1385425527003\n"
     ]
    },
    {
     "name": "stderr",
     "output_type": "stream",
     "text": [
      "/tmp/ipykernel_232059/1831746247.py:219: UserWarning: /home/chrism/datasets/tumorcells/classification_otsu_1.14/othercell/ext1___Snap-159094.czi_001376.png is a low contrast image\n",
      "  io.imsave(png_file_path, im8)\n"
     ]
    },
    {
     "name": "stdout",
     "output_type": "stream",
     "text": [
      "/home/chrism/datasets/tumorcells/nuclei/ext1___Snap-159095_seg.npy\n",
      "Otsu's threshold: 1950.1348787709837\n",
      "/home/chrism/datasets/tumorcells/nuclei/hs3st1___Snap-159279_seg.npy\n",
      "Otsu's threshold: 1518.9504091339636\n",
      "/home/chrism/datasets/tumorcells/nuclei/hs6st1___Snap-159326_seg.npy\n",
      "Otsu's threshold: 1575.478004768669\n",
      "/home/chrism/datasets/tumorcells/nuclei/hs6st1___Snap-159322_seg.npy\n",
      "Otsu's threshold: 1724.596317655956\n"
     ]
    },
    {
     "name": "stderr",
     "output_type": "stream",
     "text": [
      "/tmp/ipykernel_232059/1831746247.py:219: UserWarning: /home/chrism/datasets/tumorcells/classification_otsu_1.14/othercell/hs6st1___Snap-159322.czi_001342.png is a low contrast image\n",
      "  io.imsave(png_file_path, im8)\n"
     ]
    },
    {
     "name": "stdout",
     "output_type": "stream",
     "text": [
      "/home/chrism/datasets/tumorcells/nuclei/hs6st1___Snap-159319_seg.npy\n",
      "Otsu's threshold: 1327.0244596883879\n"
     ]
    },
    {
     "name": "stderr",
     "output_type": "stream",
     "text": [
      "/tmp/ipykernel_232059/1831746247.py:219: UserWarning: /home/chrism/datasets/tumorcells/classification_otsu_1.14/othercell/hs6st1___Snap-159319.czi_001123.png is a low contrast image\n",
      "  io.imsave(png_file_path, im8)\n"
     ]
    },
    {
     "name": "stdout",
     "output_type": "stream",
     "text": [
      "/home/chrism/datasets/tumorcells/nuclei/ext1___Snap-159093_seg.npy\n",
      "Otsu's threshold: 1870.4433798755026\n"
     ]
    },
    {
     "name": "stderr",
     "output_type": "stream",
     "text": [
      "/tmp/ipykernel_232059/1831746247.py:219: UserWarning: /home/chrism/datasets/tumorcells/classification_otsu_1.14/othercell/ext1___Snap-159093.czi_001191.png is a low contrast image\n",
      "  io.imsave(png_file_path, im8)\n"
     ]
    },
    {
     "name": "stdout",
     "output_type": "stream",
     "text": [
      "/home/chrism/datasets/tumorcells/nuclei/hs6st1___Snap-159323_seg.npy\n",
      "Otsu's threshold: 1510.3559922714976\n"
     ]
    },
    {
     "name": "stderr",
     "output_type": "stream",
     "text": [
      "/tmp/ipykernel_232059/1831746247.py:219: UserWarning: /home/chrism/datasets/tumorcells/classification_otsu_1.14/othercell/hs6st1___Snap-159323.czi_000560.png is a low contrast image\n",
      "  io.imsave(png_file_path, im8)\n",
      "/tmp/ipykernel_232059/1831746247.py:219: UserWarning: /home/chrism/datasets/tumorcells/classification_otsu_1.14/othercell/hs6st1___Snap-159323.czi_000732.png is a low contrast image\n",
      "  io.imsave(png_file_path, im8)\n"
     ]
    },
    {
     "name": "stdout",
     "output_type": "stream",
     "text": [
      "/home/chrism/datasets/tumorcells/nuclei/hs3st1___Snap-159095_seg.npy\n",
      "Otsu's threshold: 1990.0490087837845\n",
      "/home/chrism/datasets/tumorcells/nuclei/hs3st1___Snap-159281_seg.npy\n",
      "Otsu's threshold: 1722.1185886363644\n",
      "/home/chrism/datasets/tumorcells/nuclei/hs3st1___Snap-159097_seg.npy\n",
      "Otsu's threshold: 1532.6023707863621\n"
     ]
    },
    {
     "name": "stderr",
     "output_type": "stream",
     "text": [
      "/tmp/ipykernel_232059/1831746247.py:219: UserWarning: /home/chrism/datasets/tumorcells/classification_otsu_1.14/othercell/hs3st1___Snap-159097.czi_001195.png is a low contrast image\n",
      "  io.imsave(png_file_path, im8)\n"
     ]
    },
    {
     "name": "stdout",
     "output_type": "stream",
     "text": [
      "/home/chrism/datasets/tumorcells/nuclei/hs6st1___Snap-159324_seg.npy\n",
      "Otsu's threshold: 1575.7164553568064\n",
      "Otsu correction: 1.1600000000000004\n",
      "/home/chrism/datasets/tumorcells/nuclei/hs3st1___Snap-159094_seg.npy\n",
      "Otsu's threshold: 1668.9108811020715\n"
     ]
    },
    {
     "name": "stderr",
     "output_type": "stream",
     "text": [
      "/tmp/ipykernel_232059/1831746247.py:219: UserWarning: /home/chrism/datasets/tumorcells/classification_otsu_1.16/othercell/hs3st1___Snap-159094.czi_001376.png is a low contrast image\n",
      "  io.imsave(png_file_path, im8)\n"
     ]
    },
    {
     "name": "stdout",
     "output_type": "stream",
     "text": [
      "/home/chrism/datasets/tumorcells/nuclei/ext1___Snap-159094_seg.npy\n",
      "Otsu's threshold: 1595.6497450536249\n"
     ]
    },
    {
     "name": "stderr",
     "output_type": "stream",
     "text": [
      "/tmp/ipykernel_232059/1831746247.py:219: UserWarning: /home/chrism/datasets/tumorcells/classification_otsu_1.16/othercell/ext1___Snap-159094.czi_001376.png is a low contrast image\n",
      "  io.imsave(png_file_path, im8)\n"
     ]
    },
    {
     "name": "stdout",
     "output_type": "stream",
     "text": [
      "/home/chrism/datasets/tumorcells/nuclei/ext1___Snap-159095_seg.npy\n",
      "Otsu's threshold: 1984.347771381001\n",
      "/home/chrism/datasets/tumorcells/nuclei/hs3st1___Snap-159279_seg.npy\n",
      "Otsu's threshold: 1545.5986619257876\n",
      "/home/chrism/datasets/tumorcells/nuclei/hs6st1___Snap-159326_seg.npy\n",
      "Otsu's threshold: 1603.1179697646107\n",
      "/home/chrism/datasets/tumorcells/nuclei/hs6st1___Snap-159322_seg.npy\n",
      "Otsu's threshold: 1754.852393404306\n"
     ]
    },
    {
     "name": "stderr",
     "output_type": "stream",
     "text": [
      "/tmp/ipykernel_232059/1831746247.py:219: UserWarning: /home/chrism/datasets/tumorcells/classification_otsu_1.16/othercell/hs6st1___Snap-159322.czi_001342.png is a low contrast image\n",
      "  io.imsave(png_file_path, im8)\n"
     ]
    },
    {
     "name": "stdout",
     "output_type": "stream",
     "text": [
      "/home/chrism/datasets/tumorcells/nuclei/hs6st1___Snap-159319_seg.npy\n",
      "Otsu's threshold: 1350.305590560114\n"
     ]
    },
    {
     "name": "stderr",
     "output_type": "stream",
     "text": [
      "/tmp/ipykernel_232059/1831746247.py:219: UserWarning: /home/chrism/datasets/tumorcells/classification_otsu_1.16/othercell/hs6st1___Snap-159319.czi_001123.png is a low contrast image\n",
      "  io.imsave(png_file_path, im8)\n"
     ]
    },
    {
     "name": "stdout",
     "output_type": "stream",
     "text": [
      "/home/chrism/datasets/tumorcells/nuclei/ext1___Snap-159093_seg.npy\n",
      "Otsu's threshold: 1903.2581760136693\n"
     ]
    },
    {
     "name": "stderr",
     "output_type": "stream",
     "text": [
      "/tmp/ipykernel_232059/1831746247.py:219: UserWarning: /home/chrism/datasets/tumorcells/classification_otsu_1.16/othercell/ext1___Snap-159093.czi_001191.png is a low contrast image\n",
      "  io.imsave(png_file_path, im8)\n"
     ]
    },
    {
     "name": "stdout",
     "output_type": "stream",
     "text": [
      "/home/chrism/datasets/tumorcells/nuclei/hs6st1___Snap-159323_seg.npy\n",
      "Otsu's threshold: 1536.8534658201204\n"
     ]
    },
    {
     "name": "stderr",
     "output_type": "stream",
     "text": [
      "/tmp/ipykernel_232059/1831746247.py:219: UserWarning: /home/chrism/datasets/tumorcells/classification_otsu_1.16/othercell/hs6st1___Snap-159323.czi_000560.png is a low contrast image\n",
      "  io.imsave(png_file_path, im8)\n",
      "/tmp/ipykernel_232059/1831746247.py:219: UserWarning: /home/chrism/datasets/tumorcells/classification_otsu_1.16/othercell/hs6st1___Snap-159323.czi_000732.png is a low contrast image\n",
      "  io.imsave(png_file_path, im8)\n"
     ]
    },
    {
     "name": "stdout",
     "output_type": "stream",
     "text": [
      "/home/chrism/datasets/tumorcells/nuclei/hs3st1___Snap-159095_seg.npy\n",
      "Otsu's threshold: 2024.9621492887632\n",
      "/home/chrism/datasets/tumorcells/nuclei/hs3st1___Snap-159281_seg.npy\n",
      "Otsu's threshold: 1752.331195454546\n",
      "/home/chrism/datasets/tumorcells/nuclei/hs3st1___Snap-159097_seg.npy\n",
      "Otsu's threshold: 1559.490131677351\n"
     ]
    },
    {
     "name": "stderr",
     "output_type": "stream",
     "text": [
      "/tmp/ipykernel_232059/1831746247.py:219: UserWarning: /home/chrism/datasets/tumorcells/classification_otsu_1.16/othercell/hs3st1___Snap-159097.czi_001195.png is a low contrast image\n",
      "  io.imsave(png_file_path, im8)\n"
     ]
    },
    {
     "name": "stdout",
     "output_type": "stream",
     "text": [
      "/home/chrism/datasets/tumorcells/nuclei/hs6st1___Snap-159324_seg.npy\n",
      "Otsu's threshold: 1603.3606036963995\n",
      "Otsu correction: 1.1800000000000004\n",
      "/home/chrism/datasets/tumorcells/nuclei/hs3st1___Snap-159094_seg.npy\n",
      "Otsu's threshold: 1697.6852066383142\n"
     ]
    },
    {
     "name": "stderr",
     "output_type": "stream",
     "text": [
      "/tmp/ipykernel_232059/1831746247.py:219: UserWarning: /home/chrism/datasets/tumorcells/classification_otsu_1.18/othercell/hs3st1___Snap-159094.czi_001376.png is a low contrast image\n",
      "  io.imsave(png_file_path, im8)\n"
     ]
    },
    {
     "name": "stdout",
     "output_type": "stream",
     "text": [
      "/home/chrism/datasets/tumorcells/nuclei/ext1___Snap-159094_seg.npy\n",
      "Otsu's threshold: 1623.1609475545495\n"
     ]
    },
    {
     "name": "stderr",
     "output_type": "stream",
     "text": [
      "/tmp/ipykernel_232059/1831746247.py:219: UserWarning: /home/chrism/datasets/tumorcells/classification_otsu_1.18/othercell/ext1___Snap-159094.czi_001376.png is a low contrast image\n",
      "  io.imsave(png_file_path, im8)\n"
     ]
    },
    {
     "name": "stdout",
     "output_type": "stream",
     "text": [
      "/home/chrism/datasets/tumorcells/nuclei/ext1___Snap-159095_seg.npy\n",
      "Otsu's threshold: 2018.5606639910181\n",
      "/home/chrism/datasets/tumorcells/nuclei/hs3st1___Snap-159279_seg.npy\n",
      "Otsu's threshold: 1572.2469147176116\n",
      "/home/chrism/datasets/tumorcells/nuclei/hs6st1___Snap-159326_seg.npy\n",
      "Otsu's threshold: 1630.7579347605522\n",
      "/home/chrism/datasets/tumorcells/nuclei/hs6st1___Snap-159322_seg.npy\n",
      "Otsu's threshold: 1785.1084691526562\n"
     ]
    },
    {
     "name": "stderr",
     "output_type": "stream",
     "text": [
      "/tmp/ipykernel_232059/1831746247.py:219: UserWarning: /home/chrism/datasets/tumorcells/classification_otsu_1.18/othercell/hs6st1___Snap-159322.czi_001342.png is a low contrast image\n",
      "  io.imsave(png_file_path, im8)\n"
     ]
    },
    {
     "name": "stdout",
     "output_type": "stream",
     "text": [
      "/home/chrism/datasets/tumorcells/nuclei/hs6st1___Snap-159319_seg.npy\n",
      "Otsu's threshold: 1373.58672143184\n"
     ]
    },
    {
     "name": "stderr",
     "output_type": "stream",
     "text": [
      "/tmp/ipykernel_232059/1831746247.py:219: UserWarning: /home/chrism/datasets/tumorcells/classification_otsu_1.18/othercell/hs6st1___Snap-159319.czi_001123.png is a low contrast image\n",
      "  io.imsave(png_file_path, im8)\n"
     ]
    },
    {
     "name": "stdout",
     "output_type": "stream",
     "text": [
      "/home/chrism/datasets/tumorcells/nuclei/ext1___Snap-159093_seg.npy\n",
      "Otsu's threshold: 1936.072972151836\n"
     ]
    },
    {
     "name": "stderr",
     "output_type": "stream",
     "text": [
      "/tmp/ipykernel_232059/1831746247.py:219: UserWarning: /home/chrism/datasets/tumorcells/classification_otsu_1.18/othercell/ext1___Snap-159093.czi_001191.png is a low contrast image\n",
      "  io.imsave(png_file_path, im8)\n"
     ]
    },
    {
     "name": "stdout",
     "output_type": "stream",
     "text": [
      "/home/chrism/datasets/tumorcells/nuclei/hs6st1___Snap-159323_seg.npy\n",
      "Otsu's threshold: 1563.3509393687432\n"
     ]
    },
    {
     "name": "stderr",
     "output_type": "stream",
     "text": [
      "/tmp/ipykernel_232059/1831746247.py:219: UserWarning: /home/chrism/datasets/tumorcells/classification_otsu_1.18/othercell/hs6st1___Snap-159323.czi_000560.png is a low contrast image\n",
      "  io.imsave(png_file_path, im8)\n",
      "/tmp/ipykernel_232059/1831746247.py:219: UserWarning: /home/chrism/datasets/tumorcells/classification_otsu_1.18/othercell/hs6st1___Snap-159323.czi_000732.png is a low contrast image\n",
      "  io.imsave(png_file_path, im8)\n"
     ]
    },
    {
     "name": "stdout",
     "output_type": "stream",
     "text": [
      "/home/chrism/datasets/tumorcells/nuclei/hs3st1___Snap-159095_seg.npy\n",
      "Otsu's threshold: 2059.875289793742\n",
      "/home/chrism/datasets/tumorcells/nuclei/hs3st1___Snap-159281_seg.npy\n",
      "Otsu's threshold: 1782.543802272728\n",
      "/home/chrism/datasets/tumorcells/nuclei/hs3st1___Snap-159097_seg.npy\n",
      "Otsu's threshold: 1586.3778925683398\n"
     ]
    },
    {
     "name": "stderr",
     "output_type": "stream",
     "text": [
      "/tmp/ipykernel_232059/1831746247.py:219: UserWarning: /home/chrism/datasets/tumorcells/classification_otsu_1.18/othercell/hs3st1___Snap-159097.czi_001195.png is a low contrast image\n",
      "  io.imsave(png_file_path, im8)\n"
     ]
    },
    {
     "name": "stdout",
     "output_type": "stream",
     "text": [
      "/home/chrism/datasets/tumorcells/nuclei/hs6st1___Snap-159324_seg.npy\n",
      "Otsu's threshold: 1631.0047520359926\n",
      "Otsu correction: 1.2000000000000004\n",
      "/home/chrism/datasets/tumorcells/nuclei/hs3st1___Snap-159094_seg.npy\n",
      "Otsu's threshold: 1726.459532174557\n"
     ]
    },
    {
     "name": "stderr",
     "output_type": "stream",
     "text": [
      "/tmp/ipykernel_232059/1831746247.py:219: UserWarning: /home/chrism/datasets/tumorcells/classification_otsu_1.20/othercell/hs3st1___Snap-159094.czi_001376.png is a low contrast image\n",
      "  io.imsave(png_file_path, im8)\n"
     ]
    },
    {
     "name": "stdout",
     "output_type": "stream",
     "text": [
      "/home/chrism/datasets/tumorcells/nuclei/ext1___Snap-159094_seg.npy\n",
      "Otsu's threshold: 1650.672150055474\n"
     ]
    },
    {
     "name": "stderr",
     "output_type": "stream",
     "text": [
      "/tmp/ipykernel_232059/1831746247.py:219: UserWarning: /home/chrism/datasets/tumorcells/classification_otsu_1.20/othercell/ext1___Snap-159094.czi_001376.png is a low contrast image\n",
      "  io.imsave(png_file_path, im8)\n"
     ]
    },
    {
     "name": "stdout",
     "output_type": "stream",
     "text": [
      "/home/chrism/datasets/tumorcells/nuclei/ext1___Snap-159095_seg.npy\n",
      "Otsu's threshold: 2052.7735566010356\n",
      "/home/chrism/datasets/tumorcells/nuclei/hs3st1___Snap-159279_seg.npy\n",
      "Otsu's threshold: 1598.8951675094354\n",
      "/home/chrism/datasets/tumorcells/nuclei/hs6st1___Snap-159326_seg.npy\n",
      "Otsu's threshold: 1658.3978997564939\n",
      "/home/chrism/datasets/tumorcells/nuclei/hs6st1___Snap-159322_seg.npy\n",
      "Otsu's threshold: 1815.3645449010062\n"
     ]
    },
    {
     "name": "stderr",
     "output_type": "stream",
     "text": [
      "/tmp/ipykernel_232059/1831746247.py:219: UserWarning: /home/chrism/datasets/tumorcells/classification_otsu_1.20/othercell/hs6st1___Snap-159322.czi_001342.png is a low contrast image\n",
      "  io.imsave(png_file_path, im8)\n"
     ]
    },
    {
     "name": "stdout",
     "output_type": "stream",
     "text": [
      "/home/chrism/datasets/tumorcells/nuclei/hs6st1___Snap-159319_seg.npy\n",
      "Otsu's threshold: 1396.8678523035662\n"
     ]
    },
    {
     "name": "stderr",
     "output_type": "stream",
     "text": [
      "/tmp/ipykernel_232059/1831746247.py:219: UserWarning: /home/chrism/datasets/tumorcells/classification_otsu_1.20/othercell/hs6st1___Snap-159319.czi_001123.png is a low contrast image\n",
      "  io.imsave(png_file_path, im8)\n"
     ]
    },
    {
     "name": "stdout",
     "output_type": "stream",
     "text": [
      "/home/chrism/datasets/tumorcells/nuclei/ext1___Snap-159093_seg.npy\n",
      "Otsu's threshold: 1968.887768290003\n"
     ]
    },
    {
     "name": "stderr",
     "output_type": "stream",
     "text": [
      "/tmp/ipykernel_232059/1831746247.py:219: UserWarning: /home/chrism/datasets/tumorcells/classification_otsu_1.20/othercell/ext1___Snap-159093.czi_001191.png is a low contrast image\n",
      "  io.imsave(png_file_path, im8)\n"
     ]
    },
    {
     "name": "stdout",
     "output_type": "stream",
     "text": [
      "/home/chrism/datasets/tumorcells/nuclei/hs6st1___Snap-159323_seg.npy\n",
      "Otsu's threshold: 1589.848412917366\n"
     ]
    },
    {
     "name": "stderr",
     "output_type": "stream",
     "text": [
      "/tmp/ipykernel_232059/1831746247.py:219: UserWarning: /home/chrism/datasets/tumorcells/classification_otsu_1.20/othercell/hs6st1___Snap-159323.czi_000560.png is a low contrast image\n",
      "  io.imsave(png_file_path, im8)\n",
      "/tmp/ipykernel_232059/1831746247.py:219: UserWarning: /home/chrism/datasets/tumorcells/classification_otsu_1.20/othercell/hs6st1___Snap-159323.czi_000732.png is a low contrast image\n",
      "  io.imsave(png_file_path, im8)\n"
     ]
    },
    {
     "name": "stdout",
     "output_type": "stream",
     "text": [
      "/home/chrism/datasets/tumorcells/nuclei/hs3st1___Snap-159095_seg.npy\n",
      "Otsu's threshold: 2094.7884302987204\n",
      "/home/chrism/datasets/tumorcells/nuclei/hs3st1___Snap-159281_seg.npy\n",
      "Otsu's threshold: 1812.7564090909098\n",
      "/home/chrism/datasets/tumorcells/nuclei/hs3st1___Snap-159097_seg.npy\n",
      "Otsu's threshold: 1613.2656534593286\n"
     ]
    },
    {
     "name": "stderr",
     "output_type": "stream",
     "text": [
      "/tmp/ipykernel_232059/1831746247.py:219: UserWarning: /home/chrism/datasets/tumorcells/classification_otsu_1.20/othercell/hs3st1___Snap-159097.czi_001195.png is a low contrast image\n",
      "  io.imsave(png_file_path, im8)\n"
     ]
    },
    {
     "name": "stdout",
     "output_type": "stream",
     "text": [
      "/home/chrism/datasets/tumorcells/nuclei/hs6st1___Snap-159324_seg.npy\n",
      "Otsu's threshold: 1658.6489003755855\n",
      "Otsu correction: 1.2200000000000004\n",
      "/home/chrism/datasets/tumorcells/nuclei/hs3st1___Snap-159094_seg.npy\n",
      "Otsu's threshold: 1755.2338577107994\n"
     ]
    },
    {
     "name": "stderr",
     "output_type": "stream",
     "text": [
      "/tmp/ipykernel_232059/1831746247.py:219: UserWarning: /home/chrism/datasets/tumorcells/classification_otsu_1.22/othercell/hs3st1___Snap-159094.czi_001376.png is a low contrast image\n",
      "  io.imsave(png_file_path, im8)\n"
     ]
    },
    {
     "name": "stdout",
     "output_type": "stream",
     "text": [
      "/home/chrism/datasets/tumorcells/nuclei/ext1___Snap-159094_seg.npy\n",
      "Otsu's threshold: 1678.1833525563986\n"
     ]
    },
    {
     "name": "stderr",
     "output_type": "stream",
     "text": [
      "/tmp/ipykernel_232059/1831746247.py:219: UserWarning: /home/chrism/datasets/tumorcells/classification_otsu_1.22/othercell/ext1___Snap-159094.czi_001376.png is a low contrast image\n",
      "  io.imsave(png_file_path, im8)\n"
     ]
    },
    {
     "name": "stdout",
     "output_type": "stream",
     "text": [
      "/home/chrism/datasets/tumorcells/nuclei/ext1___Snap-159095_seg.npy\n",
      "Otsu's threshold: 2086.986449211053\n",
      "/home/chrism/datasets/tumorcells/nuclei/hs3st1___Snap-159279_seg.npy\n",
      "Otsu's threshold: 1625.5434203012594\n",
      "/home/chrism/datasets/tumorcells/nuclei/hs6st1___Snap-159326_seg.npy\n",
      "Otsu's threshold: 1686.0378647524353\n",
      "/home/chrism/datasets/tumorcells/nuclei/hs6st1___Snap-159322_seg.npy\n",
      "Otsu's threshold: 1845.6206206493564\n"
     ]
    },
    {
     "name": "stderr",
     "output_type": "stream",
     "text": [
      "/tmp/ipykernel_232059/1831746247.py:219: UserWarning: /home/chrism/datasets/tumorcells/classification_otsu_1.22/othercell/hs6st1___Snap-159322.czi_001342.png is a low contrast image\n",
      "  io.imsave(png_file_path, im8)\n"
     ]
    },
    {
     "name": "stdout",
     "output_type": "stream",
     "text": [
      "/home/chrism/datasets/tumorcells/nuclei/hs6st1___Snap-159319_seg.npy\n",
      "Otsu's threshold: 1420.1489831752924\n"
     ]
    },
    {
     "name": "stderr",
     "output_type": "stream",
     "text": [
      "/tmp/ipykernel_232059/1831746247.py:219: UserWarning: /home/chrism/datasets/tumorcells/classification_otsu_1.22/othercell/hs6st1___Snap-159319.czi_001123.png is a low contrast image\n",
      "  io.imsave(png_file_path, im8)\n"
     ]
    },
    {
     "name": "stdout",
     "output_type": "stream",
     "text": [
      "/home/chrism/datasets/tumorcells/nuclei/ext1___Snap-159093_seg.npy\n",
      "Otsu's threshold: 2001.7025644281696\n"
     ]
    },
    {
     "name": "stderr",
     "output_type": "stream",
     "text": [
      "/tmp/ipykernel_232059/1831746247.py:219: UserWarning: /home/chrism/datasets/tumorcells/classification_otsu_1.22/othercell/ext1___Snap-159093.czi_001191.png is a low contrast image\n",
      "  io.imsave(png_file_path, im8)\n"
     ]
    },
    {
     "name": "stdout",
     "output_type": "stream",
     "text": [
      "/home/chrism/datasets/tumorcells/nuclei/hs6st1___Snap-159323_seg.npy\n",
      "Otsu's threshold: 1616.3458864659888\n"
     ]
    },
    {
     "name": "stderr",
     "output_type": "stream",
     "text": [
      "/tmp/ipykernel_232059/1831746247.py:219: UserWarning: /home/chrism/datasets/tumorcells/classification_otsu_1.22/othercell/hs6st1___Snap-159323.czi_000560.png is a low contrast image\n",
      "  io.imsave(png_file_path, im8)\n",
      "/tmp/ipykernel_232059/1831746247.py:219: UserWarning: /home/chrism/datasets/tumorcells/classification_otsu_1.22/othercell/hs6st1___Snap-159323.czi_000732.png is a low contrast image\n",
      "  io.imsave(png_file_path, im8)\n"
     ]
    },
    {
     "name": "stdout",
     "output_type": "stream",
     "text": [
      "/home/chrism/datasets/tumorcells/nuclei/hs3st1___Snap-159095_seg.npy\n",
      "Otsu's threshold: 2129.7015708036993\n",
      "/home/chrism/datasets/tumorcells/nuclei/hs3st1___Snap-159281_seg.npy\n",
      "Otsu's threshold: 1842.9690159090917\n",
      "/home/chrism/datasets/tumorcells/nuclei/hs3st1___Snap-159097_seg.npy\n",
      "Otsu's threshold: 1640.1534143503175\n"
     ]
    },
    {
     "name": "stderr",
     "output_type": "stream",
     "text": [
      "/tmp/ipykernel_232059/1831746247.py:219: UserWarning: /home/chrism/datasets/tumorcells/classification_otsu_1.22/othercell/hs3st1___Snap-159097.czi_001195.png is a low contrast image\n",
      "  io.imsave(png_file_path, im8)\n"
     ]
    },
    {
     "name": "stdout",
     "output_type": "stream",
     "text": [
      "/home/chrism/datasets/tumorcells/nuclei/hs6st1___Snap-159324_seg.npy\n",
      "Otsu's threshold: 1686.2930487151787\n",
      "Otsu correction: 1.2400000000000004\n",
      "/home/chrism/datasets/tumorcells/nuclei/hs3st1___Snap-159094_seg.npy\n",
      "Otsu's threshold: 1784.008183247042\n"
     ]
    },
    {
     "name": "stderr",
     "output_type": "stream",
     "text": [
      "/tmp/ipykernel_232059/1831746247.py:219: UserWarning: /home/chrism/datasets/tumorcells/classification_otsu_1.24/othercell/hs3st1___Snap-159094.czi_001376.png is a low contrast image\n",
      "  io.imsave(png_file_path, im8)\n"
     ]
    },
    {
     "name": "stdout",
     "output_type": "stream",
     "text": [
      "/home/chrism/datasets/tumorcells/nuclei/ext1___Snap-159094_seg.npy\n",
      "Otsu's threshold: 1705.6945550573232\n"
     ]
    },
    {
     "name": "stderr",
     "output_type": "stream",
     "text": [
      "/tmp/ipykernel_232059/1831746247.py:219: UserWarning: /home/chrism/datasets/tumorcells/classification_otsu_1.24/othercell/ext1___Snap-159094.czi_001376.png is a low contrast image\n",
      "  io.imsave(png_file_path, im8)\n"
     ]
    },
    {
     "name": "stdout",
     "output_type": "stream",
     "text": [
      "/home/chrism/datasets/tumorcells/nuclei/ext1___Snap-159095_seg.npy\n",
      "Otsu's threshold: 2121.19934182107\n",
      "/home/chrism/datasets/tumorcells/nuclei/hs3st1___Snap-159279_seg.npy\n",
      "Otsu's threshold: 1652.1916730930834\n",
      "/home/chrism/datasets/tumorcells/nuclei/hs6st1___Snap-159326_seg.npy\n",
      "Otsu's threshold: 1713.677829748377\n",
      "/home/chrism/datasets/tumorcells/nuclei/hs6st1___Snap-159322_seg.npy\n",
      "Otsu's threshold: 1875.8766963977066\n"
     ]
    },
    {
     "name": "stderr",
     "output_type": "stream",
     "text": [
      "/tmp/ipykernel_232059/1831746247.py:219: UserWarning: /home/chrism/datasets/tumorcells/classification_otsu_1.24/othercell/hs6st1___Snap-159322.czi_001342.png is a low contrast image\n",
      "  io.imsave(png_file_path, im8)\n"
     ]
    },
    {
     "name": "stdout",
     "output_type": "stream",
     "text": [
      "/home/chrism/datasets/tumorcells/nuclei/hs6st1___Snap-159319_seg.npy\n",
      "Otsu's threshold: 1443.4301140470184\n"
     ]
    },
    {
     "name": "stderr",
     "output_type": "stream",
     "text": [
      "/tmp/ipykernel_232059/1831746247.py:219: UserWarning: /home/chrism/datasets/tumorcells/classification_otsu_1.24/othercell/hs6st1___Snap-159319.czi_001123.png is a low contrast image\n",
      "  io.imsave(png_file_path, im8)\n"
     ]
    },
    {
     "name": "stdout",
     "output_type": "stream",
     "text": [
      "/home/chrism/datasets/tumorcells/nuclei/ext1___Snap-159093_seg.npy\n",
      "Otsu's threshold: 2034.5173605663363\n"
     ]
    },
    {
     "name": "stderr",
     "output_type": "stream",
     "text": [
      "/tmp/ipykernel_232059/1831746247.py:219: UserWarning: /home/chrism/datasets/tumorcells/classification_otsu_1.24/othercell/ext1___Snap-159093.czi_001191.png is a low contrast image\n",
      "  io.imsave(png_file_path, im8)\n"
     ]
    },
    {
     "name": "stdout",
     "output_type": "stream",
     "text": [
      "/home/chrism/datasets/tumorcells/nuclei/hs6st1___Snap-159323_seg.npy\n",
      "Otsu's threshold: 1642.8433600146116\n"
     ]
    },
    {
     "name": "stderr",
     "output_type": "stream",
     "text": [
      "/tmp/ipykernel_232059/1831746247.py:219: UserWarning: /home/chrism/datasets/tumorcells/classification_otsu_1.24/othercell/hs6st1___Snap-159323.czi_000560.png is a low contrast image\n",
      "  io.imsave(png_file_path, im8)\n",
      "/tmp/ipykernel_232059/1831746247.py:219: UserWarning: /home/chrism/datasets/tumorcells/classification_otsu_1.24/othercell/hs6st1___Snap-159323.czi_000732.png is a low contrast image\n",
      "  io.imsave(png_file_path, im8)\n"
     ]
    },
    {
     "name": "stdout",
     "output_type": "stream",
     "text": [
      "/home/chrism/datasets/tumorcells/nuclei/hs3st1___Snap-159095_seg.npy\n",
      "Otsu's threshold: 2164.614711308678\n",
      "/home/chrism/datasets/tumorcells/nuclei/hs3st1___Snap-159281_seg.npy\n",
      "Otsu's threshold: 1873.1816227272736\n",
      "/home/chrism/datasets/tumorcells/nuclei/hs3st1___Snap-159097_seg.npy\n",
      "Otsu's threshold: 1667.0411752413063\n"
     ]
    },
    {
     "name": "stderr",
     "output_type": "stream",
     "text": [
      "/tmp/ipykernel_232059/1831746247.py:219: UserWarning: /home/chrism/datasets/tumorcells/classification_otsu_1.24/othercell/hs3st1___Snap-159097.czi_001195.png is a low contrast image\n",
      "  io.imsave(png_file_path, im8)\n"
     ]
    },
    {
     "name": "stdout",
     "output_type": "stream",
     "text": [
      "/home/chrism/datasets/tumorcells/nuclei/hs6st1___Snap-159324_seg.npy\n",
      "Otsu's threshold: 1713.9371970547718\n",
      "Otsu correction: 1.2600000000000005\n",
      "/home/chrism/datasets/tumorcells/nuclei/hs3st1___Snap-159094_seg.npy\n",
      "Otsu's threshold: 1812.7825087832848\n"
     ]
    },
    {
     "name": "stderr",
     "output_type": "stream",
     "text": [
      "/tmp/ipykernel_232059/1831746247.py:219: UserWarning: /home/chrism/datasets/tumorcells/classification_otsu_1.26/othercell/hs3st1___Snap-159094.czi_001376.png is a low contrast image\n",
      "  io.imsave(png_file_path, im8)\n"
     ]
    },
    {
     "name": "stdout",
     "output_type": "stream",
     "text": [
      "/home/chrism/datasets/tumorcells/nuclei/ext1___Snap-159094_seg.npy\n",
      "Otsu's threshold: 1733.2057575582478\n"
     ]
    },
    {
     "name": "stderr",
     "output_type": "stream",
     "text": [
      "/tmp/ipykernel_232059/1831746247.py:219: UserWarning: /home/chrism/datasets/tumorcells/classification_otsu_1.26/othercell/ext1___Snap-159094.czi_001376.png is a low contrast image\n",
      "  io.imsave(png_file_path, im8)\n"
     ]
    },
    {
     "name": "stdout",
     "output_type": "stream",
     "text": [
      "/home/chrism/datasets/tumorcells/nuclei/ext1___Snap-159095_seg.npy\n",
      "Otsu's threshold: 2155.412234431087\n",
      "/home/chrism/datasets/tumorcells/nuclei/hs3st1___Snap-159279_seg.npy\n",
      "Otsu's threshold: 1678.8399258849072\n",
      "/home/chrism/datasets/tumorcells/nuclei/hs6st1___Snap-159326_seg.npy\n",
      "Otsu's threshold: 1741.3177947443185\n",
      "/home/chrism/datasets/tumorcells/nuclei/hs6st1___Snap-159322_seg.npy\n",
      "Otsu's threshold: 1906.1327721460566\n"
     ]
    },
    {
     "name": "stderr",
     "output_type": "stream",
     "text": [
      "/tmp/ipykernel_232059/1831746247.py:219: UserWarning: /home/chrism/datasets/tumorcells/classification_otsu_1.26/othercell/hs6st1___Snap-159322.czi_001342.png is a low contrast image\n",
      "  io.imsave(png_file_path, im8)\n"
     ]
    },
    {
     "name": "stdout",
     "output_type": "stream",
     "text": [
      "/home/chrism/datasets/tumorcells/nuclei/hs6st1___Snap-159319_seg.npy\n",
      "Otsu's threshold: 1466.7112449187446\n"
     ]
    },
    {
     "name": "stderr",
     "output_type": "stream",
     "text": [
      "/tmp/ipykernel_232059/1831746247.py:219: UserWarning: /home/chrism/datasets/tumorcells/classification_otsu_1.26/othercell/hs6st1___Snap-159319.czi_001123.png is a low contrast image\n",
      "  io.imsave(png_file_path, im8)\n"
     ]
    },
    {
     "name": "stdout",
     "output_type": "stream",
     "text": [
      "/home/chrism/datasets/tumorcells/nuclei/ext1___Snap-159093_seg.npy\n",
      "Otsu's threshold: 2067.332156704503\n"
     ]
    },
    {
     "name": "stderr",
     "output_type": "stream",
     "text": [
      "/tmp/ipykernel_232059/1831746247.py:219: UserWarning: /home/chrism/datasets/tumorcells/classification_otsu_1.26/othercell/ext1___Snap-159093.czi_001191.png is a low contrast image\n",
      "  io.imsave(png_file_path, im8)\n"
     ]
    },
    {
     "name": "stdout",
     "output_type": "stream",
     "text": [
      "/home/chrism/datasets/tumorcells/nuclei/hs6st1___Snap-159323_seg.npy\n",
      "Otsu's threshold: 1669.3408335632344\n"
     ]
    },
    {
     "name": "stderr",
     "output_type": "stream",
     "text": [
      "/tmp/ipykernel_232059/1831746247.py:219: UserWarning: /home/chrism/datasets/tumorcells/classification_otsu_1.26/othercell/hs6st1___Snap-159323.czi_000560.png is a low contrast image\n",
      "  io.imsave(png_file_path, im8)\n",
      "/tmp/ipykernel_232059/1831746247.py:219: UserWarning: /home/chrism/datasets/tumorcells/classification_otsu_1.26/othercell/hs6st1___Snap-159323.czi_000732.png is a low contrast image\n",
      "  io.imsave(png_file_path, im8)\n"
     ]
    },
    {
     "name": "stdout",
     "output_type": "stream",
     "text": [
      "/home/chrism/datasets/tumorcells/nuclei/hs3st1___Snap-159095_seg.npy\n",
      "Otsu's threshold: 2199.5278518136565\n",
      "/home/chrism/datasets/tumorcells/nuclei/hs3st1___Snap-159281_seg.npy\n",
      "Otsu's threshold: 1903.3942295454553\n",
      "/home/chrism/datasets/tumorcells/nuclei/hs3st1___Snap-159097_seg.npy\n",
      "Otsu's threshold: 1693.9289361322951\n"
     ]
    },
    {
     "name": "stderr",
     "output_type": "stream",
     "text": [
      "/tmp/ipykernel_232059/1831746247.py:219: UserWarning: /home/chrism/datasets/tumorcells/classification_otsu_1.26/othercell/hs3st1___Snap-159097.czi_001195.png is a low contrast image\n",
      "  io.imsave(png_file_path, im8)\n"
     ]
    },
    {
     "name": "stdout",
     "output_type": "stream",
     "text": [
      "/home/chrism/datasets/tumorcells/nuclei/hs6st1___Snap-159324_seg.npy\n",
      "Otsu's threshold: 1741.581345394365\n",
      "Otsu correction: 1.2800000000000005\n",
      "/home/chrism/datasets/tumorcells/nuclei/hs3st1___Snap-159094_seg.npy\n",
      "Otsu's threshold: 1841.5568343195273\n"
     ]
    },
    {
     "name": "stderr",
     "output_type": "stream",
     "text": [
      "/tmp/ipykernel_232059/1831746247.py:219: UserWarning: /home/chrism/datasets/tumorcells/classification_otsu_1.28/othercell/hs3st1___Snap-159094.czi_001376.png is a low contrast image\n",
      "  io.imsave(png_file_path, im8)\n"
     ]
    },
    {
     "name": "stdout",
     "output_type": "stream",
     "text": [
      "/home/chrism/datasets/tumorcells/nuclei/ext1___Snap-159094_seg.npy\n",
      "Otsu's threshold: 1760.7169600591724\n"
     ]
    },
    {
     "name": "stderr",
     "output_type": "stream",
     "text": [
      "/tmp/ipykernel_232059/1831746247.py:219: UserWarning: /home/chrism/datasets/tumorcells/classification_otsu_1.28/othercell/ext1___Snap-159094.czi_001376.png is a low contrast image\n",
      "  io.imsave(png_file_path, im8)\n"
     ]
    },
    {
     "name": "stdout",
     "output_type": "stream",
     "text": [
      "/home/chrism/datasets/tumorcells/nuclei/ext1___Snap-159095_seg.npy\n",
      "Otsu's threshold: 2189.625127041105\n",
      "/home/chrism/datasets/tumorcells/nuclei/hs3st1___Snap-159279_seg.npy\n",
      "Otsu's threshold: 1705.4881786767312\n",
      "/home/chrism/datasets/tumorcells/nuclei/hs6st1___Snap-159326_seg.npy\n",
      "Otsu's threshold: 1768.9577597402601\n",
      "/home/chrism/datasets/tumorcells/nuclei/hs6st1___Snap-159322_seg.npy\n",
      "Otsu's threshold: 1936.3888478944068\n"
     ]
    },
    {
     "name": "stderr",
     "output_type": "stream",
     "text": [
      "/tmp/ipykernel_232059/1831746247.py:219: UserWarning: /home/chrism/datasets/tumorcells/classification_otsu_1.28/othercell/hs6st1___Snap-159322.czi_001342.png is a low contrast image\n",
      "  io.imsave(png_file_path, im8)\n"
     ]
    },
    {
     "name": "stdout",
     "output_type": "stream",
     "text": [
      "/home/chrism/datasets/tumorcells/nuclei/hs6st1___Snap-159319_seg.npy\n",
      "Otsu's threshold: 1489.9923757904708\n"
     ]
    },
    {
     "name": "stderr",
     "output_type": "stream",
     "text": [
      "/tmp/ipykernel_232059/1831746247.py:219: UserWarning: /home/chrism/datasets/tumorcells/classification_otsu_1.28/othercell/hs6st1___Snap-159319.czi_001123.png is a low contrast image\n",
      "  io.imsave(png_file_path, im8)\n"
     ]
    },
    {
     "name": "stdout",
     "output_type": "stream",
     "text": [
      "/home/chrism/datasets/tumorcells/nuclei/ext1___Snap-159093_seg.npy\n",
      "Otsu's threshold: 2100.1469528426696\n"
     ]
    },
    {
     "name": "stderr",
     "output_type": "stream",
     "text": [
      "/tmp/ipykernel_232059/1831746247.py:219: UserWarning: /home/chrism/datasets/tumorcells/classification_otsu_1.28/othercell/ext1___Snap-159093.czi_001191.png is a low contrast image\n",
      "  io.imsave(png_file_path, im8)\n"
     ]
    },
    {
     "name": "stdout",
     "output_type": "stream",
     "text": [
      "/home/chrism/datasets/tumorcells/nuclei/hs6st1___Snap-159323_seg.npy\n",
      "Otsu's threshold: 1695.8383071118571\n"
     ]
    },
    {
     "name": "stderr",
     "output_type": "stream",
     "text": [
      "/tmp/ipykernel_232059/1831746247.py:219: UserWarning: /home/chrism/datasets/tumorcells/classification_otsu_1.28/othercell/hs6st1___Snap-159323.czi_000560.png is a low contrast image\n",
      "  io.imsave(png_file_path, im8)\n",
      "/tmp/ipykernel_232059/1831746247.py:219: UserWarning: /home/chrism/datasets/tumorcells/classification_otsu_1.28/othercell/hs6st1___Snap-159323.czi_000732.png is a low contrast image\n",
      "  io.imsave(png_file_path, im8)\n"
     ]
    },
    {
     "name": "stdout",
     "output_type": "stream",
     "text": [
      "/home/chrism/datasets/tumorcells/nuclei/hs3st1___Snap-159095_seg.npy\n",
      "Otsu's threshold: 2234.4409923186354\n",
      "/home/chrism/datasets/tumorcells/nuclei/hs3st1___Snap-159281_seg.npy\n",
      "Otsu's threshold: 1933.6068363636373\n",
      "/home/chrism/datasets/tumorcells/nuclei/hs3st1___Snap-159097_seg.npy\n",
      "Otsu's threshold: 1720.816697023284\n"
     ]
    },
    {
     "name": "stderr",
     "output_type": "stream",
     "text": [
      "/tmp/ipykernel_232059/1831746247.py:219: UserWarning: /home/chrism/datasets/tumorcells/classification_otsu_1.28/othercell/hs3st1___Snap-159097.czi_001195.png is a low contrast image\n",
      "  io.imsave(png_file_path, im8)\n"
     ]
    },
    {
     "name": "stdout",
     "output_type": "stream",
     "text": [
      "/home/chrism/datasets/tumorcells/nuclei/hs6st1___Snap-159324_seg.npy\n",
      "Otsu's threshold: 1769.225493733958\n",
      "Otsu correction: 1.3000000000000005\n",
      "/home/chrism/datasets/tumorcells/nuclei/hs3st1___Snap-159094_seg.npy\n",
      "Otsu's threshold: 1870.33115985577\n"
     ]
    },
    {
     "name": "stderr",
     "output_type": "stream",
     "text": [
      "/tmp/ipykernel_232059/1831746247.py:219: UserWarning: /home/chrism/datasets/tumorcells/classification_otsu_1.30/othercell/hs3st1___Snap-159094.czi_001376.png is a low contrast image\n",
      "  io.imsave(png_file_path, im8)\n"
     ]
    },
    {
     "name": "stdout",
     "output_type": "stream",
     "text": [
      "/home/chrism/datasets/tumorcells/nuclei/ext1___Snap-159094_seg.npy\n",
      "Otsu's threshold: 1788.228162560097\n"
     ]
    },
    {
     "name": "stderr",
     "output_type": "stream",
     "text": [
      "/tmp/ipykernel_232059/1831746247.py:219: UserWarning: /home/chrism/datasets/tumorcells/classification_otsu_1.30/othercell/ext1___Snap-159094.czi_001376.png is a low contrast image\n",
      "  io.imsave(png_file_path, im8)\n"
     ]
    },
    {
     "name": "stdout",
     "output_type": "stream",
     "text": [
      "/home/chrism/datasets/tumorcells/nuclei/ext1___Snap-159095_seg.npy\n",
      "Otsu's threshold: 2223.838019651122\n",
      "/home/chrism/datasets/tumorcells/nuclei/hs3st1___Snap-159279_seg.npy\n",
      "Otsu's threshold: 1732.1364314685552\n",
      "/home/chrism/datasets/tumorcells/nuclei/hs6st1___Snap-159326_seg.npy\n",
      "Otsu's threshold: 1796.5977247362018\n",
      "/home/chrism/datasets/tumorcells/nuclei/hs6st1___Snap-159322_seg.npy\n",
      "Otsu's threshold: 1966.6449236427568\n"
     ]
    },
    {
     "name": "stderr",
     "output_type": "stream",
     "text": [
      "/tmp/ipykernel_232059/1831746247.py:219: UserWarning: /home/chrism/datasets/tumorcells/classification_otsu_1.30/othercell/hs6st1___Snap-159322.czi_001342.png is a low contrast image\n",
      "  io.imsave(png_file_path, im8)\n"
     ]
    },
    {
     "name": "stdout",
     "output_type": "stream",
     "text": [
      "/home/chrism/datasets/tumorcells/nuclei/hs6st1___Snap-159319_seg.npy\n",
      "Otsu's threshold: 1513.2735066621967\n"
     ]
    },
    {
     "name": "stderr",
     "output_type": "stream",
     "text": [
      "/tmp/ipykernel_232059/1831746247.py:219: UserWarning: /home/chrism/datasets/tumorcells/classification_otsu_1.30/othercell/hs6st1___Snap-159319.czi_001123.png is a low contrast image\n",
      "  io.imsave(png_file_path, im8)\n"
     ]
    },
    {
     "name": "stdout",
     "output_type": "stream",
     "text": [
      "/home/chrism/datasets/tumorcells/nuclei/ext1___Snap-159093_seg.npy\n",
      "Otsu's threshold: 2132.9617489808365\n"
     ]
    },
    {
     "name": "stderr",
     "output_type": "stream",
     "text": [
      "/tmp/ipykernel_232059/1831746247.py:219: UserWarning: /home/chrism/datasets/tumorcells/classification_otsu_1.30/othercell/ext1___Snap-159093.czi_001191.png is a low contrast image\n",
      "  io.imsave(png_file_path, im8)\n"
     ]
    },
    {
     "name": "stdout",
     "output_type": "stream",
     "text": [
      "/home/chrism/datasets/tumorcells/nuclei/hs6st1___Snap-159323_seg.npy\n",
      "Otsu's threshold: 1722.3357806604797\n"
     ]
    },
    {
     "name": "stderr",
     "output_type": "stream",
     "text": [
      "/tmp/ipykernel_232059/1831746247.py:219: UserWarning: /home/chrism/datasets/tumorcells/classification_otsu_1.30/othercell/hs6st1___Snap-159323.czi_000560.png is a low contrast image\n",
      "  io.imsave(png_file_path, im8)\n",
      "/tmp/ipykernel_232059/1831746247.py:219: UserWarning: /home/chrism/datasets/tumorcells/classification_otsu_1.30/othercell/hs6st1___Snap-159323.czi_000732.png is a low contrast image\n",
      "  io.imsave(png_file_path, im8)\n"
     ]
    },
    {
     "name": "stdout",
     "output_type": "stream",
     "text": [
      "/home/chrism/datasets/tumorcells/nuclei/hs3st1___Snap-159095_seg.npy\n",
      "Otsu's threshold: 2269.3541328236142\n",
      "/home/chrism/datasets/tumorcells/nuclei/hs3st1___Snap-159281_seg.npy\n",
      "Otsu's threshold: 1963.819443181819\n",
      "/home/chrism/datasets/tumorcells/nuclei/hs3st1___Snap-159097_seg.npy\n",
      "Otsu's threshold: 1747.7044579142728\n"
     ]
    },
    {
     "name": "stderr",
     "output_type": "stream",
     "text": [
      "/tmp/ipykernel_232059/1831746247.py:219: UserWarning: /home/chrism/datasets/tumorcells/classification_otsu_1.30/othercell/hs3st1___Snap-159097.czi_001195.png is a low contrast image\n",
      "  io.imsave(png_file_path, im8)\n"
     ]
    },
    {
     "name": "stdout",
     "output_type": "stream",
     "text": [
      "/home/chrism/datasets/tumorcells/nuclei/hs6st1___Snap-159324_seg.npy\n",
      "Otsu's threshold: 1796.8696420735512\n"
     ]
    }
   ],
   "source": [
    "from skimage.filters import threshold_otsu\n",
    "import shutil\n",
    "\n",
    "# nuclei extration\n",
    "debug = False\n",
    "border = 0\n",
    "\n",
    "data_path = Path('/home/chrism/datasets/dapidl/tumorcell/train')\n",
    "\n",
    "colors_blue = [(0, 0, 0), (0, 0, 1)]\n",
    "cm_blue = LinearSegmentedColormap.from_list(\"Custom\", colors_blue, N=255)\n",
    "\n",
    "colors_red = [(0, 0, 0), (1, 0, 0)]\n",
    "cm_red = LinearSegmentedColormap.from_list(\"Custom\", colors_red, N=255)\n",
    "\n",
    "colors_green = [(0, 0, 0), (0, 1, 0)] \n",
    "cm_green = LinearSegmentedColormap.from_list(\"Custom\", colors_green, N=255)\n",
    "\n",
    "colors_white = [(0, 0, 0), (1, 1, 1)] \n",
    "cm_white = LinearSegmentedColormap.from_list(\"Custom\", colors_white, N=255)\n",
    "\n",
    "for otsu_correction in np.arange(0.7, 1.3, 0.02):\n",
    "    print(f\"Otsu correction: {otsu_correction}\")\n",
    "    area_pixel = 0.512 * 0.512\n",
    "    nuclei_path = data_path / \"nuclei\"\n",
    "    cells_path = data_path / \"cells\"\n",
    "    czi_path = data_path / \"czi\"\n",
    "    exclude_path = data_path / \"exclude\"\n",
    "    debug_path = data_path / \"debug_otsu\"\n",
    "    classification_path = data_path / f\"classification_otsu_{otsu_correction:.2f}\"\n",
    "    nuclei_tumorcells_path = data_path / f\"nuclei_tumorcells_otsu_{otsu_correction:.2f}\"\n",
    "    results = []\n",
    "    \n",
    "    for nuclei_masks_file in nuclei_path.glob(\"**/*.npy\"):\n",
    "        print(nuclei_masks_file)\n",
    "        slide = nuclei_masks_file.parent.parts[-1]\n",
    "        group = nuclei_masks_file.parent.parts[-2]\n",
    "        \n",
    "        exclude_masks = exclude_path / nuclei_masks_file.name\n",
    "        if not exclude_masks.exists():\n",
    "            print(f\"{exclude_masks} does not exist. Skipping ...\")\n",
    "            continue\n",
    "            \n",
    "        czi_file_name = nuclei_masks_file.name[0:-8] + '.czi'\n",
    "        czi_file = czi_path / czi_file_name\n",
    "        if not czi_file.exists():\n",
    "            print(f\"{czi_file} does not exist. Skipping ...\")\n",
    "            continue\n",
    "            \n",
    "        # cells_masks = cells_path / nuclei_masks_file.name\n",
    "        # if not cells_masks.exists():\n",
    "        #     print(f\"{cells_masks} does not exist. Skipping ...\")\n",
    "        #     continue\n",
    "        \n",
    "    \n",
    "        nuclei_seg = np.load(nuclei_masks_file, allow_pickle=True).item()\n",
    "        nuclei_masks = nuclei_seg[\"masks\"]\n",
    "        num_nuclei = nuclei_masks.max()\n",
    "        \n",
    "        exclude_seg = np.load(exclude_masks, allow_pickle=True).item()\n",
    "        exclude_masks = exclude_seg[\"masks\"] > 0\n",
    "    \n",
    "        # cells_seg = np.load(cells_masks, allow_pickle=True).item()\n",
    "        # cells_masks = cells_seg[\"masks\"]\n",
    "        # num_cells = cells_masks.max()\n",
    "        \n",
    "        num_pixels = exclude_masks.shape[0] * exclude_masks.shape[1] - np.count_nonzero(exclude_masks)\n",
    "        area = num_pixels * area_pixel\n",
    "        # print(area)\n",
    "        nuclei_per_um2 = num_nuclei / area\n",
    "        # print(cells_per_um2)\n",
    "    \n",
    "        with pyczi.open_czi(str(czi_file)) as czidoc:\n",
    "            ch0 = czidoc.read(plane={'C': 0})\n",
    "            dapi = ch0[..., 0]\n",
    "            ch1 = czidoc.read(plane={'C': 1})\n",
    "            mrc1 = ch1[..., 0]\n",
    "            # ch2 = czidoc.read(plane={'C': 2})\n",
    "            # vwf = ch2[..., 0]\n",
    "            # ch3 = czidoc.read(plane={'C': 3})\n",
    "            # f480 = ch3[..., 0]\n",
    "    \n",
    "        if debug:\n",
    "            # d_slices = utils.find_objects(masks)\n",
    "            # d_mrc1 = mrc1.copy()\n",
    "            # for i,si in enumerate(slices):\n",
    "            #     if si is not None:\n",
    "            #         sr,sc = si\n",
    "            #         mask = (masks[sr, sc] == (i+1)).astype(np.uint8)\n",
    "            #         contours = cv2.findContours(mask, cv2.RETR_EXTERNAL, cv2.CHAIN_APPROX_NONE)\n",
    "            #         ax.contours(\n",
    "            #         d_mrc1 = cv2.drawContours(d_mrc1, contours, -1, (0, 255, 0), 2)\n",
    "                    \n",
    "            plt.ioff()\n",
    "            fig, ax = plt.subplots(figsize=(13, 10))\n",
    "            ax.imshow(mrc1, cmap=cm_red)\n",
    "    \n",
    "        # cells_slices = utils.find_objects(cells_masks)\n",
    "        # cells_centers = ndimage.center_of_mass(mrc1, cells_masks, index=np.arange(1, num_cells + 1))\n",
    "    \n",
    "        # for i, (si, (row, col)) in enumerate(zip(cells_slices, cells_centers)): \n",
    "        #     if np.any((cells_masks == i+1) & exclude_masks):\n",
    "        #         print(f\"Cell {i+1} intersecting exclude region. Skipping ...\")\n",
    "        #         continue\n",
    "        #     if si is not None:\n",
    "        #         sr, sc = si\n",
    "        #         cell_mask = cells_masks[sr, sc] != (i+1)\n",
    "        #         dapi_ma = ma.masked_array(dapi[sr, sc], mask)\n",
    "    \n",
    "        \n",
    "        slices = utils.find_objects(nuclei_masks)\n",
    "        nuclei_centers = ndimage.center_of_mass(dapi, nuclei_masks, index=np.arange(1, num_nuclei + 1))\n",
    "        \n",
    "        # pass 1 otsu\n",
    "        nucleus_means = []\n",
    "        for i, (si, (row, col)) in enumerate(zip(slices, nuclei_centers)):\n",
    "            sr, sc = si\n",
    "            if sr.start - border >= 0:\n",
    "                sr_start = sr.start - border\n",
    "            else:\n",
    "                sr_start = sr.start\n",
    "            if sr.stop + border < 1040:\n",
    "                sr_stop = sr.stop + border\n",
    "            else:\n",
    "                sr_stop = sr.stop\n",
    "            if sc.start - border >= 0:\n",
    "                sc_start = sc.start - border\n",
    "            else:\n",
    "                sc_start = sc.start\n",
    "            if sc.stop + border < 1388:\n",
    "                sc_stop = sc.stop + border\n",
    "            else:\n",
    "                sc_stop = sc.stop\n",
    "            mask = nuclei_masks[sr_start:sr_stop, sc_start:sc_stop] != (i+1)\n",
    "            dapi_ma = ma.masked_array(dapi[sr_start:sr_stop, sc_start:sc_stop], mask)\n",
    "            mrc1_ma = ma.masked_array(mrc1[sr_start:sr_stop, sc_start:sc_stop], mask)\n",
    "            nucleus_mask = np.ones(nuclei_masks.shape, dtype=bool)\n",
    "            nucleus_mask[sr_start:sr_stop, sc_start:sc_stop] = mask\n",
    "            if np.any((nuclei_masks == i+1) & exclude_masks):\n",
    "                # print(f\"Nucleus {i+1} intersecting exclude region. Skipping ...\")\n",
    "                continue\n",
    "            if si is None:\n",
    "                print(f\"Nucleus {i+1} no si. Skipping ...\")\n",
    "                continue\n",
    "            \n",
    "            # mrc1_ma = ma.masked_array(mrc1[sr, sc], mask)\n",
    "            # vwf_ma = ma.masked_array(vwf[sr, sc], mask)\n",
    "            # f480_ma = ma.masked_array(f480[sr, sc], mask)\n",
    "            # mrc1_f480_ratio = mrc1_ma.sum() / f480_ma.sum()\n",
    "            # f480_mrc1_ratio = f480_ma.sum() / mrc1_ma.sum()\n",
    "            # print(f\"MRC1 F4/80 ratio = {mrc1_f480_ratio}\")\n",
    "            mrc1mean = mrc1_ma.mean()\n",
    "            nucleus_means.append(mrc1mean)\n",
    "        deepred_threshold = threshold_otsu(np.array(nucleus_means)) * otsu_correction\n",
    "        print(\"Otsu's threshold:\", deepred_threshold)\n",
    "    \n",
    "        \n",
    "        # pass 2\n",
    "        for i, (si, (row, col)) in enumerate(zip(slices, nuclei_centers)): \n",
    "            sr, sc = si\n",
    "            if sr.start - border >= 0:\n",
    "                sr_start = sr.start - border\n",
    "            else:\n",
    "                sr_start = sr.start\n",
    "            if sr.stop + border < 1040:\n",
    "                sr_stop = sr.stop + border\n",
    "            else:\n",
    "                sr_stop = sr.stop\n",
    "            if sc.start - border >= 0:\n",
    "                sc_start = sc.start - border\n",
    "            else:\n",
    "                sc_start = sc.start\n",
    "            if sc.stop + border < 1388:\n",
    "                sc_stop = sc.stop + border\n",
    "            else:\n",
    "                sc_stop = sc.stop\n",
    "            mask = nuclei_masks[sr_start:sr_stop, sc_start:sc_stop] != (i+1)\n",
    "            dapi_ma = ma.masked_array(dapi[sr_start:sr_stop, sc_start:sc_stop], mask)\n",
    "            mrc1_ma = ma.masked_array(mrc1[sr_start:sr_stop, sc_start:sc_stop], mask)\n",
    "            nucleus_mask = np.ones(nuclei_masks.shape, dtype=bool)\n",
    "            nucleus_mask[sr_start:sr_stop, sc_start:sc_stop] = mask\n",
    "            if np.any((nuclei_masks == i+1) & exclude_masks):\n",
    "                # print(f\"Nucleus {i+1} intersecting exclude region. Skipping ...\")\n",
    "                nuclei_masks[np.invert(nucleus_mask)] = 0\n",
    "                continue\n",
    "            if si is None:\n",
    "                print(f\"Nucleus {i+1} no si. Skipping ...\")\n",
    "                nuclei_masks[np.invert(nucleus_mask)] = 0\n",
    "                continue\n",
    "            \n",
    "            # mrc1_ma = ma.masked_array(mrc1[sr, sc], mask)\n",
    "            # vwf_ma = ma.masked_array(vwf[sr, sc], mask)\n",
    "            # f480_ma = ma.masked_array(f480[sr, sc], mask)\n",
    "            # mrc1_f480_ratio = mrc1_ma.sum() / f480_ma.sum()\n",
    "            # f480_mrc1_ratio = f480_ma.sum() / mrc1_ma.sum()\n",
    "            # print(f\"MRC1 F4/80 ratio = {mrc1_f480_ratio}\")\n",
    "            mrc1mean = mrc1_ma.mean()\n",
    "            \n",
    "            if mrc1mean > deepred_threshold:\n",
    "                nucleus_class = \"tumorcell\"\n",
    "                nuclei_masks[np.invert(nucleus_mask)] = 1\n",
    "            else:\n",
    "                nucleus_class = \"othercell\"\n",
    "                nuclei_masks[np.invert(nucleus_mask)] = 2\n",
    "            \n",
    "            # print(row, col)\n",
    "            row = round(row)\n",
    "            col = round(col)\n",
    "            \n",
    "            # save image\n",
    "    \n",
    "            im12 = dapi_ma.filled(0)\n",
    "            # im8 = exposure.rescale_intensity(im12, in_range=(0, 2**12), out_range=np.uint8)\n",
    "            im8 = exposure.rescale_intensity(dapi[sr, sc], in_range=(0, 2**12), out_range=np.uint8)\n",
    "            png_file_name = f\"{czi_file_name}_{i:0>6}.png\"\n",
    "            png_file_path = classification_path / nucleus_class / png_file_name\n",
    "            if not png_file_path.parent.exists():\n",
    "                png_file_path.parent.mkdir(parents=True, exist_ok=True)\n",
    "            io.imsave(png_file_path, im8)\n",
    "            results_row = {'czi': czi_file_name, 'nucleus_no': i, 'class': nucleus_class, 'filename': png_file_name, 'mean(dapi)': dapi_ma.mean(), 'mean(deepred)': mrc1mean, 'area nucleus': mask.sum(), 'pos nucleus': f'{row},{col}', 'deepred threshold': deepred_threshold}\n",
    "            results.append(results_row)\n",
    "    \n",
    "            if debug:\n",
    "                ax.text(col, row, str(i), color=\"white\")\n",
    "                ax.scatter(col, row, c=\"yellow\", marker=\".\")\n",
    "                # d_mask = (cell_masks[sr, sc] == (i+1)).astype(np.uint8)\n",
    "                # d_contours, _ = cv2.findContours(d_mask, cv2.RETR_EXTERNAL, cv2.CHAIN_APPROX_NONE)\n",
    "                # d_contours, _ = cv2.findContours(d_mask, cv2.RETR_LIST, cv2.CHAIN_APPROX_NONE)\n",
    "                # d_contour = d_contours[0]\n",
    "                \n",
    "                # M = cv2.moments(d_contour)\n",
    "                # x = int(M[\"m10\"] / M[\"m00\"])\n",
    "                # y = int(M[\"m01\"] / M[\"m00\"])\n",
    "                \n",
    "                # xs = [v[0][0] - x for v in d_contour]\n",
    "                # ys = [-(v[0][1] - y) for v in d_contour]\n",
    "                \n",
    "                # ax.plot(xs, ys, color=\"green\")\n",
    "        \n",
    "        nuclei_seg[\"masks\"] = nuclei_masks\n",
    "        if not nuclei_tumorcells_path.exists():\n",
    "            nuclei_tumorcells_path.mkdir(parents=True, exist_ok=True)\n",
    "        np.save(nuclei_tumorcells_path / nuclei_masks_file.name, nuclei_seg)\n",
    "        nuclei_tif_file_name = nuclei_masks_file.name[:-8] + \".tif\"\n",
    "        \n",
    "        shutil.copy(nuclei_path / nuclei_tif_file_name, nuclei_tumorcells_path / nuclei_tif_file_name)\n",
    "        \n",
    "    \n",
    "        if debug:\n",
    "            debug_file_name = nuclei_masks_file.name + \".png\"\n",
    "            debug_file = debug_path / debug_file_name\n",
    "            debug_file.parent.mkdir(parents=True, exist_ok=True)\n",
    "            fig.savefig(str(debug_file))\n",
    "            plt.close(fig)\n",
    "            plt.ion()\n",
    "            \n",
    "        \n",
    "    df = pd.DataFrame(results)\n",
    "    out_fn = f\"results_nuclei_otsu_{otsu_correction:.2f}.xlsx\"\n",
    "    df.to_excel(data_path / out_fn)"
   ]
  },
  {
   "cell_type": "code",
   "execution_count": null,
   "id": "8b4d3c4a-d43c-4066-a97b-bcdd5e9c9ea9",
   "metadata": {},
   "outputs": [],
   "source": []
  },
  {
   "cell_type": "code",
   "execution_count": 4,
   "id": "91ebbffd-3f2e-4c1c-85a1-72e4ee9a8295",
   "metadata": {
    "ExecuteTime": {
     "end_time": "2024-04-05T05:07:20.068598Z",
     "start_time": "2024-04-05T05:07:19.978046Z"
    }
   },
   "outputs": [
    {
     "data": {
      "text/plain": [
       "<Axes: >"
      ]
     },
     "execution_count": 4,
     "metadata": {},
     "output_type": "execute_result"
    },
    {
     "data": {
      "image/png": "[encoded data removed]",
      "text/plain": [
       "<Figure size 640x480 with 1 Axes>"
      ]
     },
     "metadata": {},
     "output_type": "display_data"
    }
   ],
   "source": [
    "df['mean(deepred)'].hist()"
   ]
  },
  {
   "cell_type": "code",
   "execution_count": 8,
   "id": "925f1fb811033ff2",
   "metadata": {
    "ExecuteTime": {
     "end_time": "2024-04-05T05:09:09.679671Z",
     "start_time": "2024-04-05T05:09:09.601716Z"
    },
    "collapsed": false
   },
   "outputs": [
    {
     "ename": "ValueError",
     "evalue": "operands could not be broadcast together with shapes (2,) (7,18) ",
     "output_type": "error",
     "traceback": [
      "\u001B[0;31m---------------------------------------------------------------------------\u001B[0m",
      "\u001B[0;31mValueError\u001B[0m                                Traceback (most recent call last)",
      "Cell \u001B[0;32mIn[8], line 1\u001B[0m\n\u001B[0;32m----> 1\u001B[0m \u001B[43msi\u001B[49m\u001B[43m \u001B[49m\u001B[38;5;241;43m&\u001B[39;49m\u001B[43m \u001B[49m\u001B[43mmask\u001B[49m\n",
      "\u001B[0;31mValueError\u001B[0m: operands could not be broadcast together with shapes (2,) (7,18) "
     ]
    }
   ],
   "source": [
    "si & mask"
   ]
  },
  {
   "cell_type": "code",
   "execution_count": 16,
   "id": "33418c97-0430-49ca-a603-1affd239acac",
   "metadata": {
    "scrolled": true
   },
   "outputs": [],
   "source": [
    "np.save(\"test.npy\", nuclei_seg, allow_pickle=True)"
   ]
  },
  {
   "cell_type": "code",
   "execution_count": 12,
   "id": "24d6df70-7df9-408b-af9e-6c9a06fc5e85",
   "metadata": {},
   "outputs": [
    {
     "data": {
      "text/plain": [
       "array([[0, 0, 0, 0, 0, 0, 0, 0, 0, 0, 0, 0, 0, 0, 0, 0, 0, 0],\n",
       "       [0, 0, 0, 0, 0, 0, 0, 0, 0, 0, 0, 0, 0, 0, 0, 0, 0, 0],\n",
       "       [0, 0, 0, 0, 0, 0, 0, 0, 0, 0, 0, 0, 0, 0, 0, 0, 0, 0],\n",
       "       [0, 0, 0, 0, 0, 0, 0, 0, 0, 0, 0, 0, 0, 0, 0, 0, 0, 0],\n",
       "       [0, 0, 0, 0, 0, 0, 0, 0, 0, 0, 0, 0, 0, 0, 0, 0, 0, 0],\n",
       "       [0, 0, 0, 0, 0, 0, 0, 0, 0, 0, 0, 0, 0, 0, 0, 0, 0, 0],\n",
       "       [0, 0, 0, 0, 0, 0, 0, 0, 0, 0, 0, 0, 0, 0, 0, 0, 0, 0]],\n",
       "      dtype=uint16)"
      ]
     },
     "execution_count": 12,
     "metadata": {},
     "output_type": "execute_result"
    }
   ],
   "source": [
    "nuclei_masks[si]"
   ]
  },
  {
   "cell_type": "code",
   "execution_count": 34,
   "id": "4a2f73ca9dfaaad2",
   "metadata": {
    "ExecuteTime": {
     "end_time": "2024-04-04T14:06:42.267107Z",
     "start_time": "2024-04-04T14:06:42.265210Z"
    },
    "collapsed": false
   },
   "outputs": [],
   "source": [
    "import matplotlib.pyplot as plt\n",
    "plt.show()"
   ]
  },
  {
   "cell_type": "code",
   "execution_count": null,
   "id": "48e4c562cf87d824",
   "metadata": {
    "collapsed": false
   },
   "outputs": [],
   "source": []
  }
 ],
 "metadata": {
  "kernelspec": {
   "display_name": "Python 3 (ipykernel)",
   "language": "python",
   "name": "python3"
  },
  "language_info": {
   "codemirror_mode": {
    "name": "ipython",
    "version": 3
   },
   "file_extension": ".py",
   "mimetype": "text/x-python",
   "name": "python",
   "nbconvert_exporter": "python",
   "pygments_lexer": "ipython3",
   "version": "3.11.7"
  }
 },
 "nbformat": 4,
 "nbformat_minor": 5
}
